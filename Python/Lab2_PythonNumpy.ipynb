{
 "cells": [
  {
   "cell_type": "markdown",
   "id": "6e0c239c",
   "metadata": {},
   "source": [
    "### Numerical Python (NumPy)"
   ]
  },
  {
   "cell_type": "code",
   "execution_count": 2,
   "id": "34351458",
   "metadata": {},
   "outputs": [],
   "source": [
    "# arrays"
   ]
  },
  {
   "cell_type": "code",
   "execution_count": 5,
   "id": "fd216ee7",
   "metadata": {},
   "outputs": [],
   "source": [
    "#!pip install numpy\n",
    "import numpy as np # IMPORTING THE NUMPY LIBRARY (LOADING)"
   ]
  },
  {
   "cell_type": "code",
   "execution_count": 6,
   "id": "123b824b",
   "metadata": {},
   "outputs": [
    {
     "data": {
      "text/plain": [
       "array([1, 2, 3])"
      ]
     },
     "execution_count": 6,
     "metadata": {},
     "output_type": "execute_result"
    }
   ],
   "source": [
    "n = np.array([1,2,3])\n",
    "n"
   ]
  },
  {
   "cell_type": "markdown",
   "id": "1d9ae68c",
   "metadata": {},
   "source": [
    "#### CREATING MULTIDIMENSIONAL ARRAYS"
   ]
  },
  {
   "cell_type": "code",
   "execution_count": 8,
   "id": "406ddf21",
   "metadata": {},
   "outputs": [
    {
     "data": {
      "text/plain": [
       "array([[1, 2, 3],\n",
       "       [4, 5, 6],\n",
       "       [7, 8, 9]])"
      ]
     },
     "execution_count": 8,
     "metadata": {},
     "output_type": "execute_result"
    }
   ],
   "source": [
    "list_of_lists = np.array([[1,2,3],[4,5,6],[7,8,9]])\n",
    "list_of_lists "
   ]
  },
  {
   "cell_type": "code",
   "execution_count": 9,
   "id": "a8223664",
   "metadata": {},
   "outputs": [
    {
     "data": {
      "text/plain": [
       "(3, 3)"
      ]
     },
     "execution_count": 9,
     "metadata": {},
     "output_type": "execute_result"
    }
   ],
   "source": [
    "list_of_lists.shape"
   ]
  },
  {
   "cell_type": "markdown",
   "id": "0a2a68af",
   "metadata": {},
   "source": [
    "#### NUMPY ARANGE"
   ]
  },
  {
   "cell_type": "code",
   "execution_count": 10,
   "id": "c1fba209",
   "metadata": {},
   "outputs": [
    {
     "data": {
      "text/plain": [
       "array([0, 1, 2, 3, 4, 5, 6, 7, 8, 9])"
      ]
     },
     "execution_count": 10,
     "metadata": {},
     "output_type": "execute_result"
    }
   ],
   "source": [
    "np.arange(10)"
   ]
  },
  {
   "cell_type": "code",
   "execution_count": 11,
   "id": "e665671c",
   "metadata": {},
   "outputs": [
    {
     "data": {
      "text/plain": [
       "array([0. , 0.5, 1. , 1.5, 2. , 2.5, 3. , 3.5, 4. , 4.5, 5. , 5.5, 6. ,\n",
       "       6.5, 7. , 7.5, 8. , 8.5, 9. , 9.5])"
      ]
     },
     "execution_count": 11,
     "metadata": {},
     "output_type": "execute_result"
    }
   ],
   "source": [
    "np.arange(0,10,0.5)"
   ]
  },
  {
   "cell_type": "code",
   "execution_count": 12,
   "id": "200da5d5",
   "metadata": {},
   "outputs": [
    {
     "ename": "TypeError",
     "evalue": "'float' object cannot be interpreted as an integer",
     "output_type": "error",
     "traceback": [
      "\u001b[1;31m---------------------------------------------------------------------------\u001b[0m",
      "\u001b[1;31mTypeError\u001b[0m                                 Traceback (most recent call last)",
      "\u001b[1;32mC:\\Users\\KARTHI~1\\AppData\\Local\\Temp/ipykernel_18180/1541136516.py\u001b[0m in \u001b[0;36m<module>\u001b[1;34m\u001b[0m\n\u001b[1;32m----> 1\u001b[1;33m \u001b[0mrange\u001b[0m\u001b[1;33m(\u001b[0m\u001b[1;36m0\u001b[0m\u001b[1;33m,\u001b[0m\u001b[1;36m10\u001b[0m\u001b[1;33m,\u001b[0m\u001b[1;36m0.5\u001b[0m\u001b[1;33m)\u001b[0m\u001b[1;33m\u001b[0m\u001b[1;33m\u001b[0m\u001b[0m\n\u001b[0m",
      "\u001b[1;31mTypeError\u001b[0m: 'float' object cannot be interpreted as an integer"
     ]
    }
   ],
   "source": [
    "range(0,10,0.5) # The difference between numpy arange and range, the dont accept decimals"
   ]
  },
  {
   "cell_type": "markdown",
   "id": "0094b0c5",
   "metadata": {},
   "source": [
    "#### NUMPY - ZEROS AND ONES"
   ]
  },
  {
   "cell_type": "code",
   "execution_count": 13,
   "id": "4a06f2d9",
   "metadata": {},
   "outputs": [
    {
     "data": {
      "text/plain": [
       "array([0., 0., 0.])"
      ]
     },
     "execution_count": 13,
     "metadata": {},
     "output_type": "execute_result"
    }
   ],
   "source": [
    "zeros = np.zeros(3)\n",
    "zeros"
   ]
  },
  {
   "cell_type": "code",
   "execution_count": 15,
   "id": "a367ebfa",
   "metadata": {},
   "outputs": [
    {
     "data": {
      "text/plain": [
       "array([[0., 0., 0.],\n",
       "       [0., 0., 0.],\n",
       "       [0., 0., 0.]])"
      ]
     },
     "execution_count": 15,
     "metadata": {},
     "output_type": "execute_result"
    }
   ],
   "source": [
    "zeros = np.zeros((3,3))\n",
    "zeros"
   ]
  },
  {
   "cell_type": "code",
   "execution_count": 16,
   "id": "0aa85997",
   "metadata": {},
   "outputs": [
    {
     "data": {
      "text/plain": [
       "array([1., 1., 1.])"
      ]
     },
     "execution_count": 16,
     "metadata": {},
     "output_type": "execute_result"
    }
   ],
   "source": [
    "ones = np.ones(3)\n",
    "ones"
   ]
  },
  {
   "cell_type": "code",
   "execution_count": 17,
   "id": "444af83e",
   "metadata": {},
   "outputs": [
    {
     "data": {
      "text/plain": [
       "array([[1., 1., 1.],\n",
       "       [1., 1., 1.],\n",
       "       [1., 1., 1.]])"
      ]
     },
     "execution_count": 17,
     "metadata": {},
     "output_type": "execute_result"
    }
   ],
   "source": [
    "ones = np.ones((3,3))\n",
    "ones"
   ]
  },
  {
   "cell_type": "code",
   "execution_count": 18,
   "id": "b66788d6",
   "metadata": {},
   "outputs": [
    {
     "data": {
      "text/plain": [
       "array([[1., 0., 0., 0., 0., 0., 0., 0., 0., 0.],\n",
       "       [0., 1., 0., 0., 0., 0., 0., 0., 0., 0.],\n",
       "       [0., 0., 1., 0., 0., 0., 0., 0., 0., 0.],\n",
       "       [0., 0., 0., 1., 0., 0., 0., 0., 0., 0.],\n",
       "       [0., 0., 0., 0., 1., 0., 0., 0., 0., 0.],\n",
       "       [0., 0., 0., 0., 0., 1., 0., 0., 0., 0.],\n",
       "       [0., 0., 0., 0., 0., 0., 1., 0., 0., 0.],\n",
       "       [0., 0., 0., 0., 0., 0., 0., 1., 0., 0.],\n",
       "       [0., 0., 0., 0., 0., 0., 0., 0., 1., 0.],\n",
       "       [0., 0., 0., 0., 0., 0., 0., 0., 0., 1.]])"
      ]
     },
     "execution_count": 18,
     "metadata": {},
     "output_type": "execute_result"
    }
   ],
   "source": [
    "np.eye(10)"
   ]
  },
  {
   "cell_type": "code",
   "execution_count": 26,
   "id": "015ac637",
   "metadata": {},
   "outputs": [
    {
     "data": {
      "text/plain": [
       "array([[0., 1., 0., 0., 0.],\n",
       "       [0., 0., 1., 0., 0.],\n",
       "       [0., 0., 0., 1., 0.],\n",
       "       [0., 0., 0., 0., 1.],\n",
       "       [0., 0., 0., 0., 0.]])"
      ]
     },
     "execution_count": 26,
     "metadata": {},
     "output_type": "execute_result"
    }
   ],
   "source": [
    "np.eye(5,k = 1)"
   ]
  },
  {
   "cell_type": "code",
   "execution_count": 27,
   "id": "223c58e2",
   "metadata": {},
   "outputs": [
    {
     "data": {
      "text/plain": [
       "array([[0., 0., 0., 0., 0.],\n",
       "       [1., 0., 0., 0., 0.],\n",
       "       [0., 1., 0., 0., 0.],\n",
       "       [0., 0., 1., 0., 0.],\n",
       "       [0., 0., 0., 1., 0.]])"
      ]
     },
     "execution_count": 27,
     "metadata": {},
     "output_type": "execute_result"
    }
   ],
   "source": [
    "np.eye(5,k = -1)"
   ]
  },
  {
   "cell_type": "code",
   "execution_count": 28,
   "id": "ffb7834f",
   "metadata": {},
   "outputs": [
    {
     "data": {
      "text/plain": [
       "array([ 0,  1,  2,  3,  4,  5,  6,  7,  8,  9, 10, 11, 12, 13, 14, 15, 16,\n",
       "       17, 18, 19, 20, 21, 22, 23, 24, 25, 26, 27, 28, 29, 30, 31, 32, 33,\n",
       "       34, 35, 36, 37, 38, 39, 40, 41, 42, 43, 44, 45, 46, 47, 48, 49])"
      ]
     },
     "execution_count": 28,
     "metadata": {},
     "output_type": "execute_result"
    }
   ],
   "source": [
    "mn = np.arange(50)\n",
    "\n",
    "mn"
   ]
  },
  {
   "cell_type": "code",
   "execution_count": 29,
   "id": "99c88831",
   "metadata": {},
   "outputs": [
    {
     "data": {
      "text/plain": [
       "50"
      ]
     },
     "execution_count": 29,
     "metadata": {},
     "output_type": "execute_result"
    }
   ],
   "source": [
    "len(mn)"
   ]
  },
  {
   "cell_type": "markdown",
   "id": "7331cc6e",
   "metadata": {},
   "source": [
    "#### NUMPY RESHAPE"
   ]
  },
  {
   "cell_type": "code",
   "execution_count": 33,
   "id": "f0778d91",
   "metadata": {},
   "outputs": [
    {
     "data": {
      "text/plain": [
       "array([1., 1., 1., 1., 1., 1.])"
      ]
     },
     "execution_count": 33,
     "metadata": {},
     "output_type": "execute_result"
    }
   ],
   "source": [
    "np.ones(6)"
   ]
  },
  {
   "cell_type": "code",
   "execution_count": 34,
   "id": "eee3df84",
   "metadata": {},
   "outputs": [
    {
     "data": {
      "text/plain": [
       "array([[1., 1., 1.],\n",
       "       [1., 1., 1.]])"
      ]
     },
     "execution_count": 34,
     "metadata": {},
     "output_type": "execute_result"
    }
   ],
   "source": [
    "np.ones(6).reshape(2,3)"
   ]
  },
  {
   "cell_type": "code",
   "execution_count": 35,
   "id": "f78ac949",
   "metadata": {},
   "outputs": [
    {
     "data": {
      "text/plain": [
       "array([[ 0,  1,  2,  3,  4],\n",
       "       [ 5,  6,  7,  8,  9],\n",
       "       [10, 11, 12, 13, 14],\n",
       "       [15, 16, 17, 18, 19],\n",
       "       [20, 21, 22, 23, 24],\n",
       "       [25, 26, 27, 28, 29],\n",
       "       [30, 31, 32, 33, 34],\n",
       "       [35, 36, 37, 38, 39],\n",
       "       [40, 41, 42, 43, 44],\n",
       "       [45, 46, 47, 48, 49]])"
      ]
     },
     "execution_count": 35,
     "metadata": {},
     "output_type": "execute_result"
    }
   ],
   "source": [
    "mn.reshape(10,5)"
   ]
  },
  {
   "cell_type": "markdown",
   "id": "202f55c1",
   "metadata": {},
   "source": [
    "#### NUMPY LINSPACE"
   ]
  },
  {
   "cell_type": "code",
   "execution_count": 37,
   "id": "35002c37",
   "metadata": {},
   "outputs": [
    {
     "data": {
      "text/plain": [
       "array([ 0.        ,  0.1010101 ,  0.2020202 ,  0.3030303 ,  0.4040404 ,\n",
       "        0.50505051,  0.60606061,  0.70707071,  0.80808081,  0.90909091,\n",
       "        1.01010101,  1.11111111,  1.21212121,  1.31313131,  1.41414141,\n",
       "        1.51515152,  1.61616162,  1.71717172,  1.81818182,  1.91919192,\n",
       "        2.02020202,  2.12121212,  2.22222222,  2.32323232,  2.42424242,\n",
       "        2.52525253,  2.62626263,  2.72727273,  2.82828283,  2.92929293,\n",
       "        3.03030303,  3.13131313,  3.23232323,  3.33333333,  3.43434343,\n",
       "        3.53535354,  3.63636364,  3.73737374,  3.83838384,  3.93939394,\n",
       "        4.04040404,  4.14141414,  4.24242424,  4.34343434,  4.44444444,\n",
       "        4.54545455,  4.64646465,  4.74747475,  4.84848485,  4.94949495,\n",
       "        5.05050505,  5.15151515,  5.25252525,  5.35353535,  5.45454545,\n",
       "        5.55555556,  5.65656566,  5.75757576,  5.85858586,  5.95959596,\n",
       "        6.06060606,  6.16161616,  6.26262626,  6.36363636,  6.46464646,\n",
       "        6.56565657,  6.66666667,  6.76767677,  6.86868687,  6.96969697,\n",
       "        7.07070707,  7.17171717,  7.27272727,  7.37373737,  7.47474747,\n",
       "        7.57575758,  7.67676768,  7.77777778,  7.87878788,  7.97979798,\n",
       "        8.08080808,  8.18181818,  8.28282828,  8.38383838,  8.48484848,\n",
       "        8.58585859,  8.68686869,  8.78787879,  8.88888889,  8.98989899,\n",
       "        9.09090909,  9.19191919,  9.29292929,  9.39393939,  9.49494949,\n",
       "        9.5959596 ,  9.6969697 ,  9.7979798 ,  9.8989899 , 10.        ])"
      ]
     },
     "execution_count": 37,
     "metadata": {},
     "output_type": "execute_result"
    }
   ],
   "source": [
    "np.linspace(0,10,100) # Evenly spaced values"
   ]
  },
  {
   "cell_type": "markdown",
   "id": "a7ed0935",
   "metadata": {},
   "source": [
    "#### RESIZE"
   ]
  },
  {
   "cell_type": "code",
   "execution_count": 38,
   "id": "9ba595b6",
   "metadata": {},
   "outputs": [
    {
     "data": {
      "text/plain": [
       "array([ 0,  1,  2,  3,  4,  5,  6,  7,  8,  9, 10, 11, 12, 13, 14, 15, 16,\n",
       "       17, 18, 19, 20, 21, 22, 23, 24, 25, 26, 27, 28, 29, 30, 31, 32, 33,\n",
       "       34, 35, 36, 37, 38, 39, 40, 41, 42, 43, 44, 45, 46, 47, 48, 49])"
      ]
     },
     "execution_count": 38,
     "metadata": {},
     "output_type": "execute_result"
    }
   ],
   "source": [
    "mn"
   ]
  },
  {
   "cell_type": "code",
   "execution_count": 39,
   "id": "b9b64e9f",
   "metadata": {},
   "outputs": [
    {
     "data": {
      "text/plain": [
       "array([[ 0,  1,  2,  3,  4,  5,  6,  7,  8,  9],\n",
       "       [10, 11, 12, 13, 14, 15, 16, 17, 18, 19],\n",
       "       [20, 21, 22, 23, 24, 25, 26, 27, 28, 29],\n",
       "       [30, 31, 32, 33, 34, 35, 36, 37, 38, 39],\n",
       "       [40, 41, 42, 43, 44, 45, 46, 47, 48, 49]])"
      ]
     },
     "execution_count": 39,
     "metadata": {},
     "output_type": "execute_result"
    }
   ],
   "source": [
    "mn.reshape(5,10)"
   ]
  },
  {
   "cell_type": "code",
   "execution_count": 40,
   "id": "fbbc945e",
   "metadata": {},
   "outputs": [
    {
     "data": {
      "text/plain": [
       "array([ 0,  1,  2,  3,  4,  5,  6,  7,  8,  9, 10, 11, 12, 13, 14, 15, 16,\n",
       "       17, 18, 19, 20, 21, 22, 23, 24, 25, 26, 27, 28, 29, 30, 31, 32, 33,\n",
       "       34, 35, 36, 37, 38, 39, 40, 41, 42, 43, 44, 45, 46, 47, 48, 49])"
      ]
     },
     "execution_count": 40,
     "metadata": {},
     "output_type": "execute_result"
    }
   ],
   "source": [
    "mn"
   ]
  },
  {
   "cell_type": "code",
   "execution_count": 41,
   "id": "8904cc48",
   "metadata": {},
   "outputs": [],
   "source": [
    "mn.resize(5,10)"
   ]
  },
  {
   "cell_type": "code",
   "execution_count": 42,
   "id": "c2808c2f",
   "metadata": {},
   "outputs": [
    {
     "data": {
      "text/plain": [
       "array([[ 0,  1,  2,  3,  4,  5,  6,  7,  8,  9],\n",
       "       [10, 11, 12, 13, 14, 15, 16, 17, 18, 19],\n",
       "       [20, 21, 22, 23, 24, 25, 26, 27, 28, 29],\n",
       "       [30, 31, 32, 33, 34, 35, 36, 37, 38, 39],\n",
       "       [40, 41, 42, 43, 44, 45, 46, 47, 48, 49]])"
      ]
     },
     "execution_count": 42,
     "metadata": {},
     "output_type": "execute_result"
    }
   ],
   "source": [
    "mn"
   ]
  },
  {
   "cell_type": "code",
   "execution_count": 44,
   "id": "6988b745",
   "metadata": {},
   "outputs": [],
   "source": [
    "# Difference between resize and reshape\n",
    "# The lenght of values should be the total values\n",
    "# 1 * 50 values --> 5 * 10 = 50"
   ]
  },
  {
   "cell_type": "markdown",
   "id": "f82aa18f",
   "metadata": {},
   "source": [
    "#### RANDOM VALUES"
   ]
  },
  {
   "cell_type": "code",
   "execution_count": 48,
   "id": "ae0f0abf",
   "metadata": {},
   "outputs": [
    {
     "name": "stdout",
     "output_type": "stream",
     "text": [
      "[[0.45539805 0.16928066]\n",
      " [0.01891289 0.87271432]\n",
      " [0.72909703 0.08087261]]\n"
     ]
    },
    {
     "data": {
      "text/plain": [
       "'Create an array of the given shape and populate it with\\nrandom samples from a uniform distribution\\nover ``[0, 1)``'"
      ]
     },
     "execution_count": 48,
     "metadata": {},
     "output_type": "execute_result"
    }
   ],
   "source": [
    "print(np.random.rand(3,2))\n",
    "\n",
    "\"\"\"Create an array of the given shape and populate it with\n",
    "random samples from a uniform distribution\n",
    "over ``[0, 1)``\"\"\""
   ]
  },
  {
   "cell_type": "code",
   "execution_count": 54,
   "id": "75f4c1d0",
   "metadata": {},
   "outputs": [
    {
     "name": "stdout",
     "output_type": "stream",
     "text": [
      "[ 0.56919913 -2.29979555 -1.02695282 -0.38408192  0.79721989 -0.20170133\n",
      " -1.28894483  0.36691726 -0.71439902  0.08801867]\n"
     ]
    },
    {
     "data": {
      "text/plain": [
       "'Return a sample (or samples) from the \"standard normal\" distribution.'"
      ]
     },
     "execution_count": 54,
     "metadata": {},
     "output_type": "execute_result"
    }
   ],
   "source": [
    "print(np.random.randn(10))\n",
    "\"\"\"Return a sample (or samples) from the \"standard normal\" distribution.\"\"\""
   ]
  },
  {
   "cell_type": "code",
   "execution_count": 52,
   "id": "ff420bad",
   "metadata": {},
   "outputs": [
    {
     "name": "stdout",
     "output_type": "stream",
     "text": [
      "4\n"
     ]
    },
    {
     "data": {
      "text/plain": [
       "'Return random integers from the \"discrete uniform\" distribution of\\nthe specified dtype in the \"half-open\" interval [`low`, `high`). If\\n`high` is None (the default), then results are from [0, `low`).'"
      ]
     },
     "execution_count": 52,
     "metadata": {},
     "output_type": "execute_result"
    }
   ],
   "source": [
    "print(np.random.randint(10))\n",
    "\"\"\"Return random integers from the \"discrete uniform\" distribution of\n",
    "the specified dtype in the \"half-open\" interval [`low`, `high`). If\n",
    "`high` is None (the default), then results are from [0, `low`).\"\"\""
   ]
  },
  {
   "cell_type": "code",
   "execution_count": 55,
   "id": "203ea477",
   "metadata": {},
   "outputs": [
    {
     "name": "stdout",
     "output_type": "stream",
     "text": [
      "[45 88 76 91 19 76 90 46 21 51]\n"
     ]
    }
   ],
   "source": [
    "print(np.random.randint(0,100,10))"
   ]
  },
  {
   "cell_type": "markdown",
   "id": "ca5ff4ea",
   "metadata": {},
   "source": [
    "#### INDEXING AND SLICING"
   ]
  },
  {
   "cell_type": "code",
   "execution_count": 59,
   "id": "73108e94",
   "metadata": {},
   "outputs": [
    {
     "data": {
      "text/plain": [
       "array([[ 0,  1,  2,  3,  4,  5,  6,  7,  8,  9],\n",
       "       [10, 11, 12, 13, 14, 15, 16, 17, 18, 19],\n",
       "       [20, 21, 22, 23, 24, 25, 26, 27, 28, 29],\n",
       "       [30, 31, 32, 33, 34, 35, 36, 37, 38, 39],\n",
       "       [40, 41, 42, 43, 44, 45, 46, 47, 48, 49]])"
      ]
     },
     "execution_count": 59,
     "metadata": {},
     "output_type": "execute_result"
    }
   ],
   "source": [
    "mn"
   ]
  },
  {
   "cell_type": "code",
   "execution_count": 58,
   "id": "087fac25",
   "metadata": {},
   "outputs": [
    {
     "data": {
      "text/plain": [
       "27"
      ]
     },
     "execution_count": 58,
     "metadata": {},
     "output_type": "execute_result"
    }
   ],
   "source": [
    "# find 27\n",
    "\n",
    "mn[2][7]"
   ]
  },
  {
   "cell_type": "code",
   "execution_count": 64,
   "id": "36b7824f",
   "metadata": {},
   "outputs": [
    {
     "data": {
      "text/plain": [
       "array([[27, 28, 29],\n",
       "       [37, 38, 39],\n",
       "       [47, 48, 49]])"
      ]
     },
     "execution_count": 64,
     "metadata": {},
     "output_type": "execute_result"
    }
   ],
   "source": [
    "mn[2:,7:]"
   ]
  },
  {
   "cell_type": "code",
   "execution_count": 67,
   "id": "4e23d772",
   "metadata": {},
   "outputs": [
    {
     "data": {
      "text/plain": [
       "array([26, 27, 28, 29, 30, 31, 32, 33, 34, 35, 36, 37, 38, 39, 40, 41, 42,\n",
       "       43, 44, 45, 46, 47, 48, 49])"
      ]
     },
     "execution_count": 67,
     "metadata": {},
     "output_type": "execute_result"
    }
   ],
   "source": [
    "mn[mn>25]"
   ]
  },
  {
   "cell_type": "markdown",
   "id": "cc058ee9",
   "metadata": {},
   "source": [
    "#### BROADCASTING"
   ]
  },
  {
   "cell_type": "code",
   "execution_count": 69,
   "id": "f43d08ad",
   "metadata": {},
   "outputs": [],
   "source": [
    "mn[mn>25] = 25"
   ]
  },
  {
   "cell_type": "code",
   "execution_count": 70,
   "id": "8c04da00",
   "metadata": {},
   "outputs": [
    {
     "data": {
      "text/plain": [
       "array([[ 0,  1,  2,  3,  4,  5,  6,  7,  8,  9],\n",
       "       [10, 11, 12, 13, 14, 15, 16, 17, 18, 19],\n",
       "       [20, 21, 22, 23, 24, 25, 25, 25, 25, 25],\n",
       "       [25, 25, 25, 25, 25, 25, 25, 25, 25, 25],\n",
       "       [25, 25, 25, 25, 25, 25, 25, 25, 25, 25]])"
      ]
     },
     "execution_count": 70,
     "metadata": {},
     "output_type": "execute_result"
    }
   ],
   "source": [
    "mn"
   ]
  },
  {
   "cell_type": "code",
   "execution_count": 71,
   "id": "833838bc",
   "metadata": {},
   "outputs": [],
   "source": [
    "mn[mn<25] = 0"
   ]
  },
  {
   "cell_type": "code",
   "execution_count": 72,
   "id": "15cfa0f7",
   "metadata": {},
   "outputs": [
    {
     "data": {
      "text/plain": [
       "array([[ 0,  0,  0,  0,  0,  0,  0,  0,  0,  0],\n",
       "       [ 0,  0,  0,  0,  0,  0,  0,  0,  0,  0],\n",
       "       [ 0,  0,  0,  0,  0, 25, 25, 25, 25, 25],\n",
       "       [25, 25, 25, 25, 25, 25, 25, 25, 25, 25],\n",
       "       [25, 25, 25, 25, 25, 25, 25, 25, 25, 25]])"
      ]
     },
     "execution_count": 72,
     "metadata": {},
     "output_type": "execute_result"
    }
   ],
   "source": [
    "mn"
   ]
  },
  {
   "cell_type": "markdown",
   "id": "2d7196fb",
   "metadata": {},
   "source": [
    "#### COPY - DEEP AND SHALLOW"
   ]
  },
  {
   "cell_type": "code",
   "execution_count": 76,
   "id": "805e31bd",
   "metadata": {},
   "outputs": [
    {
     "data": {
      "text/plain": [
       "array([0, 1, 2, 3, 4])"
      ]
     },
     "execution_count": 76,
     "metadata": {},
     "output_type": "execute_result"
    }
   ],
   "source": [
    "true = np.arange(5)\n",
    "true"
   ]
  },
  {
   "cell_type": "code",
   "execution_count": 77,
   "id": "7bd29fb4",
   "metadata": {},
   "outputs": [
    {
     "data": {
      "text/plain": [
       "array([0, 1, 2, 3, 4])"
      ]
     },
     "execution_count": 77,
     "metadata": {},
     "output_type": "execute_result"
    }
   ],
   "source": [
    "deep = true.copy()\n",
    "deep"
   ]
  },
  {
   "cell_type": "code",
   "execution_count": 79,
   "id": "118c9bff",
   "metadata": {},
   "outputs": [],
   "source": [
    "deep[2:] = 0"
   ]
  },
  {
   "cell_type": "code",
   "execution_count": 80,
   "id": "5e85d38c",
   "metadata": {},
   "outputs": [
    {
     "data": {
      "text/plain": [
       "array([0, 1, 0, 0, 0])"
      ]
     },
     "execution_count": 80,
     "metadata": {},
     "output_type": "execute_result"
    }
   ],
   "source": [
    "deep"
   ]
  },
  {
   "cell_type": "code",
   "execution_count": 81,
   "id": "3bed2c7f",
   "metadata": {},
   "outputs": [
    {
     "data": {
      "text/plain": [
       "array([0, 1, 2, 3, 4])"
      ]
     },
     "execution_count": 81,
     "metadata": {},
     "output_type": "execute_result"
    }
   ],
   "source": [
    "true"
   ]
  },
  {
   "cell_type": "code",
   "execution_count": 82,
   "id": "2ade4295",
   "metadata": {},
   "outputs": [
    {
     "data": {
      "text/plain": [
       "array([0, 1, 2, 3, 4])"
      ]
     },
     "execution_count": 82,
     "metadata": {},
     "output_type": "execute_result"
    }
   ],
   "source": [
    "shallow = true\n",
    "shallow"
   ]
  },
  {
   "cell_type": "code",
   "execution_count": 84,
   "id": "2903d150",
   "metadata": {},
   "outputs": [],
   "source": [
    "shallow[2:] = 0"
   ]
  },
  {
   "cell_type": "code",
   "execution_count": 85,
   "id": "fe7f38ef",
   "metadata": {},
   "outputs": [
    {
     "data": {
      "text/plain": [
       "array([0, 1, 0, 0, 0])"
      ]
     },
     "execution_count": 85,
     "metadata": {},
     "output_type": "execute_result"
    }
   ],
   "source": [
    "shallow"
   ]
  },
  {
   "cell_type": "code",
   "execution_count": 86,
   "id": "f105a1ef",
   "metadata": {},
   "outputs": [
    {
     "data": {
      "text/plain": [
       "array([0, 1, 0, 0, 0])"
      ]
     },
     "execution_count": 86,
     "metadata": {},
     "output_type": "execute_result"
    }
   ],
   "source": [
    "true"
   ]
  },
  {
   "cell_type": "code",
   "execution_count": 89,
   "id": "33bfd394",
   "metadata": {},
   "outputs": [],
   "source": [
    "# the changes we do on the deep copy will not reflect on the original but for shallow copy, \n",
    "# the changes will replicate to the original data"
   ]
  },
  {
   "cell_type": "markdown",
   "id": "c5773ce6",
   "metadata": {},
   "source": [
    "#### DATAFRAME INTRODUCTION"
   ]
  },
  {
   "cell_type": "code",
   "execution_count": 90,
   "id": "b19bb604",
   "metadata": {},
   "outputs": [],
   "source": [
    "# pd.read_csv --> Pandas --> Dataframe(multiple columns) and Series(single column)"
   ]
  }
 ],
 "metadata": {
  "kernelspec": {
   "display_name": "Python 3 (ipykernel)",
   "language": "python",
   "name": "python3"
  },
  "language_info": {
   "codemirror_mode": {
    "name": "ipython",
    "version": 3
   },
   "file_extension": ".py",
   "mimetype": "text/x-python",
   "name": "python",
   "nbconvert_exporter": "python",
   "pygments_lexer": "ipython3",
   "version": "3.9.7"
  }
 },
 "nbformat": 4,
 "nbformat_minor": 5
}
