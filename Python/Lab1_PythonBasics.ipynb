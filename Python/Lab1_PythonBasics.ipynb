{
 "cells": [
  {
   "cell_type": "markdown",
   "id": "fa9cdf65",
   "metadata": {},
   "source": [
    "### BASICS OF PYTHON\n",
    "\n",
    "#### KEYWORDS\n",
    "\n",
    "* Python keywords are reserved words in Python\n",
    "* They are case sensitive\n",
    "* Currently there are 36 keywords in Python\n",
    "* All these keywords are written in lower case except True, False and None"
   ]
  },
  {
   "cell_type": "code",
   "execution_count": 2,
   "id": "6104d4ee",
   "metadata": {},
   "outputs": [
    {
     "name": "stdout",
     "output_type": "stream",
     "text": [
      "['False', 'None', 'True', '__peg_parser__', 'and', 'as', 'assert', 'async', 'await', 'break', 'class', 'continue', 'def', 'del', 'elif', 'else', 'except', 'finally', 'for', 'from', 'global', 'if', 'import', 'in', 'is', 'lambda', 'nonlocal', 'not', 'or', 'pass', 'raise', 'return', 'try', 'while', 'with', 'yield']\n",
      "36\n"
     ]
    }
   ],
   "source": [
    "import keyword\n",
    "print(keyword.kwlist)\n",
    "print(len(keyword.kwlist))"
   ]
  },
  {
   "cell_type": "markdown",
   "id": "3d7b4558",
   "metadata": {},
   "source": [
    "#### IDENTIFIERS\n",
    "\n",
    "* An Identifier in Python is a name given to entities like class, variables, functions etc,\n",
    "* Identifiers help to differentiate one entity from another.\n",
    "\n",
    "#### RULES FOR WRITING IDENTIFIERS\n",
    "\n",
    "* Identifiers can be a combination of letters in lowercase (a to z) or uppercase (A to Z) o an underscore _\n",
    "* An Identifier cannot start with a digit.\n",
    "* Keywords cannot be used as Identifiers."
   ]
  },
  {
   "cell_type": "markdown",
   "id": "3f35ac14",
   "metadata": {},
   "source": [
    "#### COMMENTS\n",
    "\n"
   ]
  },
  {
   "cell_type": "code",
   "execution_count": 5,
   "id": "643974d9",
   "metadata": {},
   "outputs": [],
   "source": [
    "# THIS IS A cOMMENT"
   ]
  },
  {
   "cell_type": "code",
   "execution_count": 6,
   "id": "c9efafe9",
   "metadata": {},
   "outputs": [
    {
     "data": {
      "text/plain": [
       "'THIS IS A MULTI LINE COMMENT'"
      ]
     },
     "execution_count": 6,
     "metadata": {},
     "output_type": "execute_result"
    }
   ],
   "source": [
    "'''THIS IS A MULTI LINE COMMENT'''"
   ]
  },
  {
   "cell_type": "code",
   "execution_count": 7,
   "id": "b387d652",
   "metadata": {},
   "outputs": [
    {
     "data": {
      "text/plain": [
       "'THIS IS A MULTI LINE COMMENT'"
      ]
     },
     "execution_count": 7,
     "metadata": {},
     "output_type": "execute_result"
    }
   ],
   "source": [
    "\"\"\"THIS IS A MULTI LINE COMMENT\"\"\""
   ]
  },
  {
   "cell_type": "markdown",
   "id": "6145583c",
   "metadata": {},
   "source": [
    "#### DOCSTRING\n",
    "\n",
    "* DOCSTRING - DOCUMENTATION STRING\n",
    "* It Comes as the definition of a function, method, class or module.\n",
    "* associated with __doc__"
   ]
  },
  {
   "cell_type": "code",
   "execution_count": 9,
   "id": "cc137aca",
   "metadata": {},
   "outputs": [],
   "source": [
    "def Addition(a,b):\n",
    "    \"\"\"Function to add numbers\"\"\"\n",
    "    return a + b"
   ]
  },
  {
   "cell_type": "code",
   "execution_count": 10,
   "id": "d4b1f4cb",
   "metadata": {},
   "outputs": [
    {
     "data": {
      "text/plain": [
       "'Function to add numbers'"
      ]
     },
     "execution_count": 10,
     "metadata": {},
     "output_type": "execute_result"
    }
   ],
   "source": [
    "Addition.__doc__"
   ]
  },
  {
   "cell_type": "markdown",
   "id": "a3e8a3dc",
   "metadata": {},
   "source": [
    "#### VARIABLES\n",
    "\n",
    "* Container to hold data in memory, reserves space in memory.\n",
    "* Case Sensitive"
   ]
  },
  {
   "cell_type": "code",
   "execution_count": 11,
   "id": "92646750",
   "metadata": {},
   "outputs": [],
   "source": [
    "my_var = 27"
   ]
  },
  {
   "cell_type": "code",
   "execution_count": 12,
   "id": "421fe695",
   "metadata": {},
   "outputs": [
    {
     "data": {
      "text/plain": [
       "2636960197744"
      ]
     },
     "execution_count": 12,
     "metadata": {},
     "output_type": "execute_result"
    }
   ],
   "source": [
    "id(my_var)"
   ]
  },
  {
   "cell_type": "code",
   "execution_count": 18,
   "id": "91caae41",
   "metadata": {},
   "outputs": [],
   "source": [
    "a = 1\n",
    "b = 2\n",
    "c = 3"
   ]
  },
  {
   "cell_type": "code",
   "execution_count": 19,
   "id": "39ccf4df",
   "metadata": {},
   "outputs": [
    {
     "name": "stdout",
     "output_type": "stream",
     "text": [
      "1 2 3\n"
     ]
    }
   ],
   "source": [
    "print(a,b,c)"
   ]
  },
  {
   "cell_type": "code",
   "execution_count": 20,
   "id": "a5a94e06",
   "metadata": {},
   "outputs": [],
   "source": [
    "a,b,c = 1,2,3"
   ]
  },
  {
   "cell_type": "code",
   "execution_count": 21,
   "id": "787adf07",
   "metadata": {},
   "outputs": [
    {
     "name": "stdout",
     "output_type": "stream",
     "text": [
      "1 2 3\n"
     ]
    }
   ],
   "source": [
    "print(a,b,c)"
   ]
  },
  {
   "cell_type": "markdown",
   "id": "ababf43f",
   "metadata": {},
   "source": [
    "#### RULES AND NAMING CONVENTIONS\n",
    "\n",
    "* can be a combination of letters in lowercase (a to z) or uppercase (A to Z) o an underscore _\n",
    "* Make sure variable name makes sense\n"
   ]
  },
  {
   "cell_type": "code",
   "execution_count": 22,
   "id": "dac04a44",
   "metadata": {},
   "outputs": [],
   "source": [
    "snake_case = 'I am snake case variable'\n",
    "MACRO_CASE = 'I am MACRO case variable'\n",
    "camelCase = 'I am camel case variable'"
   ]
  },
  {
   "cell_type": "code",
   "execution_count": 23,
   "id": "a6579010",
   "metadata": {},
   "outputs": [],
   "source": [
    "a = ['Red', 'Green', 'Blue'] # NOT LIKE THIS\n",
    "Colors = ['Red', 'Green', 'Blue'] # LIKE THIS"
   ]
  },
  {
   "cell_type": "markdown",
   "id": "e741469c",
   "metadata": {},
   "source": [
    "#### OUTPUT\n",
    "\n",
    "* print()"
   ]
  },
  {
   "cell_type": "code",
   "execution_count": 25,
   "id": "ec7e4927",
   "metadata": {},
   "outputs": [
    {
     "name": "stdout",
     "output_type": "stream",
     "text": [
      "The multiplication is 1500\n"
     ]
    }
   ],
   "source": [
    "number1, number2 = 30,50\n",
    "multiplication = number1 * number2\n",
    "print(f'The multiplication is {multiplication}')"
   ]
  },
  {
   "cell_type": "markdown",
   "id": "1d49f5ed",
   "metadata": {},
   "source": [
    "#### INPUT\n",
    "\n",
    "* input()\n",
    "* Dynamic request which accepts user input or entry"
   ]
  },
  {
   "cell_type": "code",
   "execution_count": 26,
   "id": "20a45ed5",
   "metadata": {},
   "outputs": [
    {
     "name": "stdout",
     "output_type": "stream",
     "text": [
      "Enter the number5\n",
      "This is the number given by user 5\n"
     ]
    }
   ],
   "source": [
    "user_entry = input('Enter the number')\n",
    "print(f'This is the number given by user {user_entry}')"
   ]
  },
  {
   "cell_type": "markdown",
   "id": "a55e025b",
   "metadata": {},
   "source": [
    "#### IMPORT\n",
    "\n",
    "* import"
   ]
  },
  {
   "cell_type": "code",
   "execution_count": 30,
   "id": "b79c4d2d",
   "metadata": {},
   "outputs": [
    {
     "data": {
      "text/plain": [
       "6.125"
      ]
     },
     "execution_count": 30,
     "metadata": {},
     "output_type": "execute_result"
    }
   ],
   "source": [
    "numbers = [2,4,5,6,8,1,9,14]\n",
    "\n",
    "mean= (2+4+5+6+8+1+9+14) / 8 # REGULAR METHOD\n",
    "mean "
   ]
  },
  {
   "cell_type": "code",
   "execution_count": 31,
   "id": "cf94010e",
   "metadata": {},
   "outputs": [
    {
     "data": {
      "text/plain": [
       "6.125"
      ]
     },
     "execution_count": 31,
     "metadata": {},
     "output_type": "execute_result"
    }
   ],
   "source": [
    "import statistics # USING MODULES\n",
    "\n",
    "statistics.mean(numbers)"
   ]
  },
  {
   "cell_type": "markdown",
   "id": "2a2f5fde",
   "metadata": {},
   "source": [
    "### OPERATORS\n",
    "\n",
    "#### ARITHMETIC OPERATORS"
   ]
  },
  {
   "cell_type": "code",
   "execution_count": 1,
   "id": "a780f33d",
   "metadata": {},
   "outputs": [
    {
     "data": {
      "text/plain": [
       "11"
      ]
     },
     "execution_count": 1,
     "metadata": {},
     "output_type": "execute_result"
    }
   ],
   "source": [
    "5+6 # ADDS"
   ]
  },
  {
   "cell_type": "code",
   "execution_count": 2,
   "id": "1cf528d3",
   "metadata": {},
   "outputs": [
    {
     "data": {
      "text/plain": [
       "1"
      ]
     },
     "execution_count": 2,
     "metadata": {},
     "output_type": "execute_result"
    }
   ],
   "source": [
    "6-5 # SUBTRACT"
   ]
  },
  {
   "cell_type": "code",
   "execution_count": 3,
   "id": "816525ec",
   "metadata": {},
   "outputs": [
    {
     "data": {
      "text/plain": [
       "30"
      ]
     },
     "execution_count": 3,
     "metadata": {},
     "output_type": "execute_result"
    }
   ],
   "source": [
    "5*6 # MULTIPLICATION"
   ]
  },
  {
   "cell_type": "code",
   "execution_count": 4,
   "id": "e850317f",
   "metadata": {},
   "outputs": [
    {
     "data": {
      "text/plain": [
       "0.5"
      ]
     },
     "execution_count": 4,
     "metadata": {},
     "output_type": "execute_result"
    }
   ],
   "source": [
    "5/10 # DIVISION"
   ]
  },
  {
   "cell_type": "code",
   "execution_count": 5,
   "id": "f0bf73ef",
   "metadata": {},
   "outputs": [
    {
     "data": {
      "text/plain": [
       "32"
      ]
     },
     "execution_count": 5,
     "metadata": {},
     "output_type": "execute_result"
    }
   ],
   "source": [
    "2**5 # EXPONENENT"
   ]
  },
  {
   "cell_type": "code",
   "execution_count": 6,
   "id": "980d9d67",
   "metadata": {},
   "outputs": [
    {
     "data": {
      "text/plain": [
       "2"
      ]
     },
     "execution_count": 6,
     "metadata": {},
     "output_type": "execute_result"
    }
   ],
   "source": [
    "5//2 # FLOOR DIVISION"
   ]
  },
  {
   "cell_type": "code",
   "execution_count": 7,
   "id": "c56e25f2",
   "metadata": {},
   "outputs": [
    {
     "data": {
      "text/plain": [
       "0"
      ]
     },
     "execution_count": 7,
     "metadata": {},
     "output_type": "execute_result"
    }
   ],
   "source": [
    "10%5 # MODULO DIVISION"
   ]
  },
  {
   "cell_type": "markdown",
   "id": "bdb31e09",
   "metadata": {},
   "source": [
    "#### COMPARISION OPERATORS"
   ]
  },
  {
   "cell_type": "code",
   "execution_count": 8,
   "id": "88475835",
   "metadata": {},
   "outputs": [
    {
     "data": {
      "text/plain": [
       "False"
      ]
     },
     "execution_count": 8,
     "metadata": {},
     "output_type": "execute_result"
    }
   ],
   "source": [
    "5 > 6"
   ]
  },
  {
   "cell_type": "code",
   "execution_count": 9,
   "id": "5921241a",
   "metadata": {},
   "outputs": [
    {
     "data": {
      "text/plain": [
       "True"
      ]
     },
     "execution_count": 9,
     "metadata": {},
     "output_type": "execute_result"
    }
   ],
   "source": [
    "5 < 6 "
   ]
  },
  {
   "cell_type": "code",
   "execution_count": 11,
   "id": "2b49d8b7",
   "metadata": {},
   "outputs": [
    {
     "data": {
      "text/plain": [
       "False"
      ]
     },
     "execution_count": 11,
     "metadata": {},
     "output_type": "execute_result"
    }
   ],
   "source": [
    "10 <= 5"
   ]
  },
  {
   "cell_type": "code",
   "execution_count": 12,
   "id": "bd81f939",
   "metadata": {},
   "outputs": [
    {
     "data": {
      "text/plain": [
       "True"
      ]
     },
     "execution_count": 12,
     "metadata": {},
     "output_type": "execute_result"
    }
   ],
   "source": [
    "10 >= 5"
   ]
  },
  {
   "cell_type": "code",
   "execution_count": 13,
   "id": "ca8a8231",
   "metadata": {},
   "outputs": [
    {
     "data": {
      "text/plain": [
       "True"
      ]
     },
     "execution_count": 13,
     "metadata": {},
     "output_type": "execute_result"
    }
   ],
   "source": [
    "10 == 10 "
   ]
  },
  {
   "cell_type": "code",
   "execution_count": 14,
   "id": "2431056a",
   "metadata": {},
   "outputs": [
    {
     "data": {
      "text/plain": [
       "False"
      ]
     },
     "execution_count": 14,
     "metadata": {},
     "output_type": "execute_result"
    }
   ],
   "source": [
    "10 != 10"
   ]
  },
  {
   "cell_type": "markdown",
   "id": "7206b213",
   "metadata": {},
   "source": [
    "#### LOGICAL OPERATORS"
   ]
  },
  {
   "cell_type": "code",
   "execution_count": 21,
   "id": "35c03a04",
   "metadata": {},
   "outputs": [
    {
     "data": {
      "text/plain": [
       "False"
      ]
     },
     "execution_count": 21,
     "metadata": {},
     "output_type": "execute_result"
    }
   ],
   "source": [
    "(5 > 6) and (6 > 5 )"
   ]
  },
  {
   "cell_type": "code",
   "execution_count": 22,
   "id": "0bab1cf5",
   "metadata": {},
   "outputs": [
    {
     "data": {
      "text/plain": [
       "True"
      ]
     },
     "execution_count": 22,
     "metadata": {},
     "output_type": "execute_result"
    }
   ],
   "source": [
    "(5 > 6) or (6 > 5 )"
   ]
  },
  {
   "cell_type": "code",
   "execution_count": 23,
   "id": "19207639",
   "metadata": {},
   "outputs": [
    {
     "data": {
      "text/plain": [
       "True"
      ]
     },
     "execution_count": 23,
     "metadata": {},
     "output_type": "execute_result"
    }
   ],
   "source": [
    "not (5 > 6)"
   ]
  },
  {
   "cell_type": "markdown",
   "id": "3ebe4fa3",
   "metadata": {},
   "source": [
    "#### BITWISE OPERATORS"
   ]
  },
  {
   "cell_type": "code",
   "execution_count": 28,
   "id": "a6fa8d24",
   "metadata": {},
   "outputs": [],
   "source": [
    "# & | ~ ^ << >>"
   ]
  },
  {
   "cell_type": "markdown",
   "id": "d6b862c4",
   "metadata": {},
   "source": [
    "#### ASSIGNMENT OPERATORS"
   ]
  },
  {
   "cell_type": "code",
   "execution_count": 29,
   "id": "d9b48ab8",
   "metadata": {},
   "outputs": [],
   "source": [
    "# =, +=, -=, *=, /=, %=, //=, *=, &=, |=, ^=, >>=, <<= "
   ]
  },
  {
   "cell_type": "markdown",
   "id": "23886a0c",
   "metadata": {},
   "source": [
    "#### SPECIAL OPERATORS"
   ]
  },
  {
   "cell_type": "code",
   "execution_count": 30,
   "id": "af17c350",
   "metadata": {},
   "outputs": [],
   "source": [
    "# IS \n",
    "# IS NOT"
   ]
  },
  {
   "cell_type": "markdown",
   "id": "93053937",
   "metadata": {},
   "source": [
    "#### MEMBERSHIP OPERATORS"
   ]
  },
  {
   "cell_type": "code",
   "execution_count": 31,
   "id": "16d8deb9",
   "metadata": {},
   "outputs": [],
   "source": [
    "# IN\n",
    "# NOT IN"
   ]
  },
  {
   "cell_type": "markdown",
   "id": "37124fa2",
   "metadata": {},
   "source": [
    "### PYTHON FLOW CONTROL\n",
    "\n",
    "#### IF STATEMENT\n"
   ]
  },
  {
   "cell_type": "code",
   "execution_count": 39,
   "id": "4ab99444",
   "metadata": {},
   "outputs": [
    {
     "name": "stdout",
     "output_type": "stream",
     "text": [
      "True\n"
     ]
    }
   ],
   "source": [
    "a = 5\n",
    "b = 6\n",
    "\n",
    "if (a < b):\n",
    "    print('True')"
   ]
  },
  {
   "cell_type": "markdown",
   "id": "b180d10c",
   "metadata": {},
   "source": [
    "#### IF ELSE STATEMENT\n"
   ]
  },
  {
   "cell_type": "code",
   "execution_count": 40,
   "id": "5a674d0c",
   "metadata": {},
   "outputs": [
    {
     "name": "stdout",
     "output_type": "stream",
     "text": [
      "Not True\n"
     ]
    }
   ],
   "source": [
    "a = 7\n",
    "b = 6\n",
    "\n",
    "if (a < b):\n",
    "    print('True')\n",
    "else:\n",
    "    print('Not True')"
   ]
  },
  {
   "cell_type": "markdown",
   "id": "593bbdfc",
   "metadata": {},
   "source": [
    "#### ELIF STATEMENT"
   ]
  },
  {
   "cell_type": "code",
   "execution_count": 46,
   "id": "427e3fe6",
   "metadata": {},
   "outputs": [
    {
     "name": "stdout",
     "output_type": "stream",
     "text": [
      "Enter a number between 0 and 9: 10\n",
      "Number cannot be accepted\n"
     ]
    }
   ],
   "source": [
    "a = int(input('Enter a number between 0 and 9: '))\n",
    "\n",
    "\n",
    "if (a < 3):\n",
    "    print('Less than 3')\n",
    "elif (a < 5):\n",
    "    print('Less than 5')\n",
    "elif (a < 7):\n",
    "    print('Less than 7')\n",
    "elif (a < 9):\n",
    "    print('Less than 9')\n",
    "else:\n",
    "    print('Number cannot be accepted')"
   ]
  },
  {
   "cell_type": "markdown",
   "id": "45b3d2bd",
   "metadata": {},
   "source": [
    "#### FOR LOOP"
   ]
  },
  {
   "cell_type": "code",
   "execution_count": 47,
   "id": "2961817f",
   "metadata": {},
   "outputs": [
    {
     "name": "stdout",
     "output_type": "stream",
     "text": [
      "0\n",
      "1\n",
      "2\n",
      "3\n",
      "4\n",
      "5\n",
      "6\n",
      "7\n",
      "8\n",
      "9\n"
     ]
    }
   ],
   "source": [
    "for i in range(10):\n",
    "    print(i)"
   ]
  },
  {
   "cell_type": "markdown",
   "id": "1ee9a027",
   "metadata": {},
   "source": [
    "#### WHILE LOOP"
   ]
  },
  {
   "cell_type": "code",
   "execution_count": 49,
   "id": "df30c82d",
   "metadata": {},
   "outputs": [
    {
     "name": "stdout",
     "output_type": "stream",
     "text": [
      "0\n",
      "1\n",
      "2\n",
      "3\n",
      "4\n",
      "5\n",
      "6\n",
      "7\n",
      "8\n",
      "9\n"
     ]
    }
   ],
   "source": [
    "i = 0\n",
    "\n",
    "while i < 10:\n",
    "    print(i)\n",
    "    i += 1"
   ]
  },
  {
   "cell_type": "markdown",
   "id": "8add290a",
   "metadata": {},
   "source": [
    "#### BREAK STATEMENT"
   ]
  },
  {
   "cell_type": "code",
   "execution_count": 58,
   "id": "fe86d429",
   "metadata": {},
   "outputs": [
    {
     "name": "stdout",
     "output_type": "stream",
     "text": [
      "0\n",
      "1\n",
      "2\n",
      "3\n"
     ]
    }
   ],
   "source": [
    "for i in range(10):\n",
    "    print(i)\n",
    "    if i == 3:\n",
    "        break"
   ]
  },
  {
   "cell_type": "markdown",
   "id": "543911cb",
   "metadata": {},
   "source": [
    "#### CONTINUE STATEMENT"
   ]
  },
  {
   "cell_type": "code",
   "execution_count": 59,
   "id": "0ab14918",
   "metadata": {},
   "outputs": [
    {
     "name": "stdout",
     "output_type": "stream",
     "text": [
      "0\n",
      "1\n",
      "2\n",
      "4\n",
      "5\n",
      "6\n",
      "7\n",
      "8\n",
      "9\n"
     ]
    }
   ],
   "source": [
    "for i in range(10):\n",
    "    if i != 3:\n",
    "        print(i)\n",
    "        continue"
   ]
  },
  {
   "cell_type": "markdown",
   "id": "f5bf6242",
   "metadata": {},
   "source": [
    "### PYTHON FUNCTIONS\n",
    "\n",
    "#### USER DEFINED FUNCTIONS"
   ]
  },
  {
   "cell_type": "code",
   "execution_count": 73,
   "id": "bdf4b188",
   "metadata": {},
   "outputs": [],
   "source": [
    "def test_function():\n",
    "    \"\"\"\n",
    "    This is a user defined function\n",
    "    We created for testing purpose\n",
    "    \"\"\"\n",
    "    return 'Test Function'"
   ]
  },
  {
   "cell_type": "code",
   "execution_count": 74,
   "id": "4bd0e14a",
   "metadata": {},
   "outputs": [
    {
     "data": {
      "text/plain": [
       "'Test Function'"
      ]
     },
     "execution_count": 74,
     "metadata": {},
     "output_type": "execute_result"
    }
   ],
   "source": [
    "test_function()"
   ]
  },
  {
   "cell_type": "code",
   "execution_count": 75,
   "id": "17abee85",
   "metadata": {},
   "outputs": [
    {
     "name": "stdout",
     "output_type": "stream",
     "text": [
      "\n",
      "    This is a user defined function\n",
      "    We created for testing purpose\n",
      "    \n"
     ]
    }
   ],
   "source": [
    "print(test_function.__doc__)"
   ]
  },
  {
   "cell_type": "code",
   "execution_count": 77,
   "id": "136808b1",
   "metadata": {},
   "outputs": [],
   "source": [
    "def test_function_addition(a,b):\n",
    "    \"\"\"This is a user defined function\n",
    "    We created for testing purpose\"\"\"\n",
    "    return 'Test Function - '+ str(a + b)  "
   ]
  },
  {
   "cell_type": "code",
   "execution_count": 78,
   "id": "8feb7087",
   "metadata": {},
   "outputs": [
    {
     "data": {
      "text/plain": [
       "'Test Function - 5'"
      ]
     },
     "execution_count": 78,
     "metadata": {},
     "output_type": "execute_result"
    }
   ],
   "source": [
    "test_function_addition(2,3)"
   ]
  },
  {
   "cell_type": "code",
   "execution_count": 79,
   "id": "42d03e71",
   "metadata": {},
   "outputs": [],
   "source": [
    "# CALCULATE SIMPLE INTEREST\n",
    "\n",
    "def SimpleInterestCalculation(P, N , R ):\n",
    "    return ( P * N * R )/ 100"
   ]
  },
  {
   "cell_type": "code",
   "execution_count": 81,
   "id": "0020e75e",
   "metadata": {},
   "outputs": [
    {
     "data": {
      "text/plain": [
       "150000.0"
      ]
     },
     "execution_count": 81,
     "metadata": {},
     "output_type": "execute_result"
    }
   ],
   "source": [
    "SimpleInterestCalculation(200000,5,15)"
   ]
  },
  {
   "cell_type": "code",
   "execution_count": 83,
   "id": "0e8d2ae8",
   "metadata": {},
   "outputs": [],
   "source": [
    "# PRINT EMOJIS\n",
    "\n",
    "def emoji(unicode = None):\n",
    "    print(unicode)"
   ]
  },
  {
   "cell_type": "code",
   "execution_count": 87,
   "id": "83067a97",
   "metadata": {},
   "outputs": [
    {
     "name": "stdout",
     "output_type": "stream",
     "text": [
      "😃\n"
     ]
    }
   ],
   "source": [
    "emoji(\"\\U0001F603\")"
   ]
  },
  {
   "cell_type": "code",
   "execution_count": null,
   "id": "f9506ca5",
   "metadata": {},
   "outputs": [],
   "source": [
    "# Replace the “+” with “000” in any of the Unicodes"
   ]
  },
  {
   "cell_type": "code",
   "execution_count": 88,
   "id": "5421ffdb",
   "metadata": {},
   "outputs": [
    {
     "name": "stdout",
     "output_type": "stream",
     "text": [
      "😊\n"
     ]
    }
   ],
   "source": [
    "emoji(\"\\U0001F60A\")"
   ]
  },
  {
   "cell_type": "markdown",
   "id": "83f174e1",
   "metadata": {},
   "source": [
    "#### ARBITRARY ARGUMENTS"
   ]
  },
  {
   "cell_type": "code",
   "execution_count": 89,
   "id": "3653b59d",
   "metadata": {},
   "outputs": [],
   "source": [
    "def students(*names):\n",
    "    for name in names:\n",
    "        print(f'Welcome {name}')"
   ]
  },
  {
   "cell_type": "code",
   "execution_count": 90,
   "id": "37b66e8b",
   "metadata": {},
   "outputs": [
    {
     "name": "stdout",
     "output_type": "stream",
     "text": [
      "Welcome Karthik\n",
      "Welcome Vishal\n",
      "Welcome Sachin\n"
     ]
    }
   ],
   "source": [
    "students('Karthik','Vishal','Sachin')"
   ]
  },
  {
   "cell_type": "markdown",
   "id": "1f41ac29",
   "metadata": {},
   "source": [
    "#### FUNCTION WITH LOOPS"
   ]
  },
  {
   "cell_type": "code",
   "execution_count": 91,
   "id": "ec5e86a3",
   "metadata": {},
   "outputs": [],
   "source": [
    "# WE WILL NOT KNOW HOW MANY ARGUMENTS THAT WILL BE GIVEN BY USER\n",
    "\n",
    "def my_function(*mm):\n",
    "    for p in mm:\n",
    "        print(p)"
   ]
  },
  {
   "cell_type": "code",
   "execution_count": 92,
   "id": "6fd35790",
   "metadata": {},
   "outputs": [
    {
     "name": "stdout",
     "output_type": "stream",
     "text": [
      "Hi\n",
      "My\n",
      "Name\n",
      "Is\n",
      "Karthikraghavan\n"
     ]
    }
   ],
   "source": [
    "my_function('Hi','My','Name','Is','Karthikraghavan')"
   ]
  },
  {
   "cell_type": "markdown",
   "id": "a73cc0eb",
   "metadata": {},
   "source": [
    "#### LAMBDA FUNCTIONS"
   ]
  },
  {
   "cell_type": "code",
   "execution_count": 94,
   "id": "232eef42",
   "metadata": {},
   "outputs": [
    {
     "name": "stdout",
     "output_type": "stream",
     "text": [
      "15\n"
     ]
    }
   ],
   "source": [
    "# Anonymous function\n",
    "\n",
    "x  = lambda a : a + 10\n",
    "\n",
    "print(x(5))"
   ]
  },
  {
   "cell_type": "code",
   "execution_count": 95,
   "id": "c6b549ad",
   "metadata": {},
   "outputs": [
    {
     "name": "stdout",
     "output_type": "stream",
     "text": [
      "20\n"
     ]
    }
   ],
   "source": [
    "x = lambda m,n : m * n\n",
    "\n",
    "print(x(5,4))"
   ]
  },
  {
   "cell_type": "code",
   "execution_count": 96,
   "id": "cbf16146",
   "metadata": {},
   "outputs": [],
   "source": [
    "def TestingLambda(n):\n",
    "    return lambda c:c*n"
   ]
  },
  {
   "cell_type": "code",
   "execution_count": 98,
   "id": "6e24949b",
   "metadata": {},
   "outputs": [],
   "source": [
    "R = TestingLambda(6)"
   ]
  },
  {
   "cell_type": "code",
   "execution_count": 99,
   "id": "1042fa23",
   "metadata": {},
   "outputs": [
    {
     "data": {
      "text/plain": [
       "30"
      ]
     },
     "execution_count": 99,
     "metadata": {},
     "output_type": "execute_result"
    }
   ],
   "source": [
    "R(5)"
   ]
  },
  {
   "cell_type": "markdown",
   "id": "3ed56905",
   "metadata": {},
   "source": [
    "#### BUILT IN FUNCTIONS\n"
   ]
  },
  {
   "cell_type": "markdown",
   "id": "8e828549",
   "metadata": {},
   "source": [
    "https://docs.python.org/3/library/functions.html"
   ]
  },
  {
   "cell_type": "markdown",
   "id": "0e7ed30f",
   "metadata": {},
   "source": [
    "#### GLOBAL AND LOCAL VARIABLES"
   ]
  },
  {
   "cell_type": "code",
   "execution_count": 114,
   "id": "9cc44661",
   "metadata": {},
   "outputs": [],
   "source": [
    "a = 5 # Global variable\n",
    "def LocalVariable():\n",
    "    z = 20\n",
    "    return z # Local variable"
   ]
  },
  {
   "cell_type": "code",
   "execution_count": 112,
   "id": "175d8b0e",
   "metadata": {},
   "outputs": [
    {
     "data": {
      "text/plain": [
       "5"
      ]
     },
     "execution_count": 112,
     "metadata": {},
     "output_type": "execute_result"
    }
   ],
   "source": [
    "a"
   ]
  },
  {
   "cell_type": "code",
   "execution_count": 117,
   "id": "134c0d3e",
   "metadata": {},
   "outputs": [
    {
     "data": {
      "text/plain": [
       "20"
      ]
     },
     "execution_count": 117,
     "metadata": {},
     "output_type": "execute_result"
    }
   ],
   "source": [
    "LocalVariable()"
   ]
  },
  {
   "cell_type": "code",
   "execution_count": 118,
   "id": "ddf3cfda",
   "metadata": {},
   "outputs": [
    {
     "ename": "NameError",
     "evalue": "name 'z' is not defined",
     "output_type": "error",
     "traceback": [
      "\u001b[1;31m---------------------------------------------------------------------------\u001b[0m",
      "\u001b[1;31mNameError\u001b[0m                                 Traceback (most recent call last)",
      "\u001b[1;32mC:\\Users\\KARTHI~1\\AppData\\Local\\Temp/ipykernel_4684/1705769632.py\u001b[0m in \u001b[0;36m<module>\u001b[1;34m\u001b[0m\n\u001b[1;32m----> 1\u001b[1;33m \u001b[0mz\u001b[0m\u001b[1;33m\u001b[0m\u001b[1;33m\u001b[0m\u001b[0m\n\u001b[0m",
      "\u001b[1;31mNameError\u001b[0m: name 'z' is not defined"
     ]
    }
   ],
   "source": [
    "z"
   ]
  },
  {
   "cell_type": "markdown",
   "id": "e51d7ee7",
   "metadata": {},
   "source": [
    "### WORKING WITH FILES"
   ]
  },
  {
   "cell_type": "code",
   "execution_count": 8,
   "id": "e0c7946e",
   "metadata": {},
   "outputs": [],
   "source": [
    "file = open('cognizant.txt') # load file"
   ]
  },
  {
   "cell_type": "code",
   "execution_count": 9,
   "id": "a31f7f87",
   "metadata": {},
   "outputs": [
    {
     "data": {
      "text/plain": [
       "'Cognizant is an American multinational information technology services and consulting company. It is headquartered in Teaneck, New Jersey, United States. Cognizant is part of the NASDAQ-100 and trades under CTSH. It was founded as an in-house technology unit of Dun & Bradstreet in 1994, and started serving external clients in 1996.\\n\\nAfter a series of corporate re-organizations there was an initial public offering in 1998.\\n\\nCognizant had a period of fast growth during the 2000s and became a Fortune 500 company in 2011; as of 2021, it is ranked 185.'"
      ]
     },
     "execution_count": 9,
     "metadata": {},
     "output_type": "execute_result"
    }
   ],
   "source": [
    "file.read() # to read the file"
   ]
  },
  {
   "cell_type": "code",
   "execution_count": 13,
   "id": "344fcd2e",
   "metadata": {},
   "outputs": [
    {
     "data": {
      "text/plain": [
       "0"
      ]
     },
     "execution_count": 13,
     "metadata": {},
     "output_type": "execute_result"
    }
   ],
   "source": [
    "file.seek(0)"
   ]
  },
  {
   "cell_type": "code",
   "execution_count": 12,
   "id": "6991dc16",
   "metadata": {},
   "outputs": [
    {
     "data": {
      "text/plain": [
       "['Cognizant is an American multinational information technology services and consulting company. It is headquartered in Teaneck, New Jersey, United States. Cognizant is part of the NASDAQ-100 and trades under CTSH. It was founded as an in-house technology unit of Dun & Bradstreet in 1994, and started serving external clients in 1996.\\n',\n",
       " '\\n',\n",
       " 'After a series of corporate re-organizations there was an initial public offering in 1998.\\n',\n",
       " '\\n',\n",
       " 'Cognizant had a period of fast growth during the 2000s and became a Fortune 500 company in 2011; as of 2021, it is ranked 185.']"
      ]
     },
     "execution_count": 12,
     "metadata": {},
     "output_type": "execute_result"
    }
   ],
   "source": [
    "file.readlines()"
   ]
  },
  {
   "cell_type": "code",
   "execution_count": null,
   "id": "321f6808",
   "metadata": {},
   "outputs": [],
   "source": [
    "file = open('cognizant.txt','r') # load file in read mode\n",
    "file = open('cognizant.txt','w') # load file in write mode"
   ]
  },
  {
   "cell_type": "code",
   "execution_count": null,
   "id": "fb3062fa",
   "metadata": {},
   "outputs": [],
   "source": [
    "# by default, python uses 'utf-8' for windows\n",
    "# by default, python uses 'cp1252' for linux"
   ]
  },
  {
   "cell_type": "code",
   "execution_count": 14,
   "id": "2110cde8",
   "metadata": {},
   "outputs": [
    {
     "data": {
      "text/plain": [
       "<_io.TextIOWrapper name='cognizant.txt' mode='r' encoding='cp1252'>"
      ]
     },
     "execution_count": 14,
     "metadata": {},
     "output_type": "execute_result"
    }
   ],
   "source": [
    "file"
   ]
  },
  {
   "cell_type": "code",
   "execution_count": 15,
   "id": "d555ad61",
   "metadata": {},
   "outputs": [],
   "source": [
    "file.close() # Close the file"
   ]
  },
  {
   "cell_type": "code",
   "execution_count": 17,
   "id": "1e63b318",
   "metadata": {},
   "outputs": [
    {
     "ename": "ValueError",
     "evalue": "I/O operation on closed file.",
     "output_type": "error",
     "traceback": [
      "\u001b[1;31m---------------------------------------------------------------------------\u001b[0m",
      "\u001b[1;31mValueError\u001b[0m                                Traceback (most recent call last)",
      "\u001b[1;32mC:\\Users\\KARTHI~1\\AppData\\Local\\Temp/ipykernel_17552/1202031121.py\u001b[0m in \u001b[0;36m<module>\u001b[1;34m\u001b[0m\n\u001b[1;32m----> 1\u001b[1;33m \u001b[0mfile\u001b[0m\u001b[1;33m.\u001b[0m\u001b[0mreadlines\u001b[0m\u001b[1;33m(\u001b[0m\u001b[1;33m)\u001b[0m\u001b[1;33m\u001b[0m\u001b[1;33m\u001b[0m\u001b[0m\n\u001b[0m",
      "\u001b[1;31mValueError\u001b[0m: I/O operation on closed file."
     ]
    }
   ],
   "source": [
    "file.readlines() # we cannot perform operations on the file after it closed."
   ]
  },
  {
   "cell_type": "markdown",
   "id": "89c3caeb",
   "metadata": {},
   "source": [
    "#### USING WITH STATEMENT"
   ]
  },
  {
   "cell_type": "code",
   "execution_count": null,
   "id": "814c8d8f",
   "metadata": {},
   "outputs": [],
   "source": [
    "# with open(<filename>, <access mode>) as <file pointer>:"
   ]
  },
  {
   "cell_type": "code",
   "execution_count": 20,
   "id": "15329fd6",
   "metadata": {},
   "outputs": [
    {
     "name": "stdout",
     "output_type": "stream",
     "text": [
      "['Cognizant is an American multinational information technology services and consulting company. It is headquartered in Teaneck, New Jersey, United States. Cognizant is part of the NASDAQ-100 and trades under CTSH. It was founded as an in-house technology unit of Dun & Bradstreet in 1994, and started serving external clients in 1996.\\n', '\\n', 'After a series of corporate re-organizations there was an initial public offering in 1998.\\n', '\\n', 'Cognizant had a period of fast growth during the 2000s and became a Fortune 500 company in 2011; as of 2021, it is ranked 185.']\n"
     ]
    }
   ],
   "source": [
    "with open('cognizant.txt','r') as CognizantFile:\n",
    "    print(CognizantFile.readlines())"
   ]
  },
  {
   "cell_type": "code",
   "execution_count": 21,
   "id": "1a58a294",
   "metadata": {},
   "outputs": [
    {
     "ename": "ValueError",
     "evalue": "I/O operation on closed file.",
     "output_type": "error",
     "traceback": [
      "\u001b[1;31m---------------------------------------------------------------------------\u001b[0m",
      "\u001b[1;31mValueError\u001b[0m                                Traceback (most recent call last)",
      "\u001b[1;32mC:\\Users\\KARTHI~1\\AppData\\Local\\Temp/ipykernel_17552/900326912.py\u001b[0m in \u001b[0;36m<module>\u001b[1;34m\u001b[0m\n\u001b[1;32m----> 1\u001b[1;33m \u001b[0mCognizantFile\u001b[0m\u001b[1;33m.\u001b[0m\u001b[0mread\u001b[0m\u001b[1;33m(\u001b[0m\u001b[1;33m)\u001b[0m\u001b[1;33m\u001b[0m\u001b[1;33m\u001b[0m\u001b[0m\n\u001b[0m",
      "\u001b[1;31mValueError\u001b[0m: I/O operation on closed file."
     ]
    }
   ],
   "source": [
    "CognizantFile.read()"
   ]
  },
  {
   "cell_type": "code",
   "execution_count": null,
   "id": "f688bab2",
   "metadata": {},
   "outputs": [],
   "source": [
    "# if we use with, we dont have to close the file manually"
   ]
  },
  {
   "cell_type": "code",
   "execution_count": null,
   "id": "a21809da",
   "metadata": {},
   "outputs": [],
   "source": [
    "# w - create and write\n",
    "# a - append\n",
    "# r - read"
   ]
  },
  {
   "cell_type": "markdown",
   "id": "0db909f9",
   "metadata": {},
   "source": [
    "### PYTHON MODULES"
   ]
  },
  {
   "cell_type": "code",
   "execution_count": 22,
   "id": "abf3d2c9",
   "metadata": {},
   "outputs": [
    {
     "data": {
      "text/plain": [
       "['Counter',\n",
       " 'Decimal',\n",
       " 'Fraction',\n",
       " 'NormalDist',\n",
       " 'StatisticsError',\n",
       " '__all__',\n",
       " '__builtins__',\n",
       " '__cached__',\n",
       " '__doc__',\n",
       " '__file__',\n",
       " '__loader__',\n",
       " '__name__',\n",
       " '__package__',\n",
       " '__spec__',\n",
       " '_coerce',\n",
       " '_convert',\n",
       " '_exact_ratio',\n",
       " '_fail_neg',\n",
       " '_find_lteq',\n",
       " '_find_rteq',\n",
       " '_isfinite',\n",
       " '_normal_dist_inv_cdf',\n",
       " '_ss',\n",
       " '_sum',\n",
       " 'bisect_left',\n",
       " 'bisect_right',\n",
       " 'erf',\n",
       " 'exp',\n",
       " 'fabs',\n",
       " 'fmean',\n",
       " 'fsum',\n",
       " 'geometric_mean',\n",
       " 'groupby',\n",
       " 'harmonic_mean',\n",
       " 'hypot',\n",
       " 'itemgetter',\n",
       " 'log',\n",
       " 'math',\n",
       " 'mean',\n",
       " 'median',\n",
       " 'median_grouped',\n",
       " 'median_high',\n",
       " 'median_low',\n",
       " 'mode',\n",
       " 'multimode',\n",
       " 'numbers',\n",
       " 'pstdev',\n",
       " 'pvariance',\n",
       " 'quantiles',\n",
       " 'random',\n",
       " 'sqrt',\n",
       " 'stdev',\n",
       " 'tau',\n",
       " 'variance']"
      ]
     },
     "execution_count": 22,
     "metadata": {},
     "output_type": "execute_result"
    }
   ],
   "source": [
    "import statistics\n",
    "dir(statistics)"
   ]
  },
  {
   "cell_type": "code",
   "execution_count": 23,
   "id": "ca49ea32",
   "metadata": {},
   "outputs": [
    {
     "data": {
      "text/plain": [
       "['__doc__',\n",
       " '__loader__',\n",
       " '__name__',\n",
       " '__package__',\n",
       " '__spec__',\n",
       " 'acos',\n",
       " 'acosh',\n",
       " 'asin',\n",
       " 'asinh',\n",
       " 'atan',\n",
       " 'atan2',\n",
       " 'atanh',\n",
       " 'ceil',\n",
       " 'comb',\n",
       " 'copysign',\n",
       " 'cos',\n",
       " 'cosh',\n",
       " 'degrees',\n",
       " 'dist',\n",
       " 'e',\n",
       " 'erf',\n",
       " 'erfc',\n",
       " 'exp',\n",
       " 'expm1',\n",
       " 'fabs',\n",
       " 'factorial',\n",
       " 'floor',\n",
       " 'fmod',\n",
       " 'frexp',\n",
       " 'fsum',\n",
       " 'gamma',\n",
       " 'gcd',\n",
       " 'hypot',\n",
       " 'inf',\n",
       " 'isclose',\n",
       " 'isfinite',\n",
       " 'isinf',\n",
       " 'isnan',\n",
       " 'isqrt',\n",
       " 'lcm',\n",
       " 'ldexp',\n",
       " 'lgamma',\n",
       " 'log',\n",
       " 'log10',\n",
       " 'log1p',\n",
       " 'log2',\n",
       " 'modf',\n",
       " 'nan',\n",
       " 'nextafter',\n",
       " 'perm',\n",
       " 'pi',\n",
       " 'pow',\n",
       " 'prod',\n",
       " 'radians',\n",
       " 'remainder',\n",
       " 'sin',\n",
       " 'sinh',\n",
       " 'sqrt',\n",
       " 'tan',\n",
       " 'tanh',\n",
       " 'tau',\n",
       " 'trunc',\n",
       " 'ulp']"
      ]
     },
     "execution_count": 23,
     "metadata": {},
     "output_type": "execute_result"
    }
   ],
   "source": [
    "import math\n",
    "dir(math)"
   ]
  },
  {
   "cell_type": "markdown",
   "id": "7a29c8c3",
   "metadata": {},
   "source": [
    "#### RENAMING MODULES"
   ]
  },
  {
   "cell_type": "code",
   "execution_count": 24,
   "id": "a99ab4a1",
   "metadata": {},
   "outputs": [],
   "source": [
    "import statistics as stats"
   ]
  },
  {
   "cell_type": "code",
   "execution_count": 25,
   "id": "69e8c61f",
   "metadata": {},
   "outputs": [
    {
     "data": {
      "text/plain": [
       "4.333333333333333"
      ]
     },
     "execution_count": 25,
     "metadata": {},
     "output_type": "execute_result"
    }
   ],
   "source": [
    "stats.mean([2,6,5])"
   ]
  },
  {
   "cell_type": "markdown",
   "id": "44e83082",
   "metadata": {},
   "source": [
    "#### FROM ... IMPORT STATEMENT"
   ]
  },
  {
   "cell_type": "code",
   "execution_count": 26,
   "id": "49d50d44",
   "metadata": {},
   "outputs": [],
   "source": [
    "from pandas import read_csv\n",
    "\n",
    "# To import specific names and not the entire module "
   ]
  },
  {
   "cell_type": "code",
   "execution_count": 27,
   "id": "00e8b7d7",
   "metadata": {},
   "outputs": [],
   "source": [
    "from pandas import * \n",
    "\n",
    "# import everything"
   ]
  },
  {
   "cell_type": "markdown",
   "id": "447d5e69",
   "metadata": {},
   "source": [
    "### PYTHON PACKAGES AND LIBRARIES"
   ]
  },
  {
   "cell_type": "code",
   "execution_count": null,
   "id": "b25b944c",
   "metadata": {},
   "outputs": [],
   "source": [
    "# https://total-data-science.teachable.com/courses/1656277/lectures/37722252"
   ]
  },
  {
   "cell_type": "code",
   "execution_count": null,
   "id": "b2f0e208",
   "metadata": {},
   "outputs": [],
   "source": [
    "# !pip install pip"
   ]
  },
  {
   "cell_type": "code",
   "execution_count": 28,
   "id": "fbce0a95",
   "metadata": {},
   "outputs": [
    {
     "name": "stdout",
     "output_type": "stream",
     "text": [
      "pip 22.3 from C:\\ProgramData\\Anaconda3\\lib\\site-packages\\pip (python 3.9)\n",
      "\n",
      "Note: you may need to restart the kernel to use updated packages.\n"
     ]
    }
   ],
   "source": [
    "pip --version"
   ]
  },
  {
   "cell_type": "markdown",
   "id": "ff32e989",
   "metadata": {},
   "source": [
    "UPGRADING PIP\n",
    "\n",
    "* UNIX/MAXOS - python -m pip install -U pip\n",
    "* WINDOWS - py -m pip install -U pip"
   ]
  },
  {
   "cell_type": "code",
   "execution_count": 29,
   "id": "7e8a51b7",
   "metadata": {},
   "outputs": [],
   "source": [
    "# pip install numpy --> installing library\n",
    "# import numpy as np --> importing library for use"
   ]
  },
  {
   "cell_type": "markdown",
   "id": "1b23fa11",
   "metadata": {},
   "source": [
    "### DATATYPES IN PYTHON"
   ]
  },
  {
   "cell_type": "markdown",
   "id": "38beae45",
   "metadata": {},
   "source": [
    "* Integers\n",
    "* Floating point numbers\n",
    "* Complex\n",
    "* String\n",
    "* List\n",
    "* Tuple\n",
    "* Dictionary\n",
    "* Set"
   ]
  }
 ],
 "metadata": {
  "kernelspec": {
   "display_name": "Python 3 (ipykernel)",
   "language": "python",
   "name": "python3"
  },
  "language_info": {
   "codemirror_mode": {
    "name": "ipython",
    "version": 3
   },
   "file_extension": ".py",
   "mimetype": "text/x-python",
   "name": "python",
   "nbconvert_exporter": "python",
   "pygments_lexer": "ipython3",
   "version": "3.9.7"
  }
 },
 "nbformat": 4,
 "nbformat_minor": 5
}
