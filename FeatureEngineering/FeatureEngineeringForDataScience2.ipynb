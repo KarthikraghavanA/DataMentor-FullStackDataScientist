{
 "cells": [
  {
   "cell_type": "markdown",
   "id": "0c338a45",
   "metadata": {},
   "source": [
    "## Automated Feature Engineering Tools"
   ]
  },
  {
   "cell_type": "code",
   "execution_count": 1,
   "id": "736ccbbe",
   "metadata": {},
   "outputs": [],
   "source": [
    "# So far we have considered feature Engineering and some of the techniques used in feature engineering such as dealing with outliers, missing values, date and time, feature transformation, feature scaling, categorical encoding.\n",
    "# In this tutorial, we will learn how to use Automated Featuring Tools to perform feature engineering."
   ]
  },
  {
   "cell_type": "code",
   "execution_count": 2,
   "id": "6b7bbade",
   "metadata": {},
   "outputs": [],
   "source": [
    "# FeatureSelector\n",
    "# RFECV\n",
    "# Featuretools\n",
    "# AutoFeat"
   ]
  },
  {
   "cell_type": "markdown",
   "id": "778da28b",
   "metadata": {},
   "source": [
    "## FeatureSelector"
   ]
  },
  {
   "cell_type": "code",
   "execution_count": 3,
   "id": "95e003a5",
   "metadata": {},
   "outputs": [],
   "source": [
    "# Feature selection involves the process of finding and selecting the most useful features in the dataset.\n",
    "# Unnecessary features hurt our model and we must try as much as possible to get rid of them.\n",
    "# Feature Selection is actually one of the tedious work to do for any data analyst or scientist.\n",
    "# likely, Feature Selector does most of the dirty work for us so we dont have to do it.\n",
    "\n",
    "\n",
    "# Feature Selector contains most of the common feature selection methods such as \n",
    "\n",
    "    # Features with high percentage of missing values\n",
    "    # Features with a single unique value\n",
    "    # Collinear (highly correalated) features\n",
    "    # Featues with low importance\n",
    "    # Features with zero importance in a tree based model"
   ]
  },
  {
   "cell_type": "code",
   "execution_count": 4,
   "id": "4e461d91",
   "metadata": {},
   "outputs": [],
   "source": [
    "#!pip install feature_selector\n",
    "#https://stackoverflow.com/questions/60592800/how-do-you-resolve-egg-info-error-when-installing-feature-selector-in-jupyter-no"
   ]
  },
  {
   "cell_type": "code",
   "execution_count": 5,
   "id": "7dfc9633",
   "metadata": {},
   "outputs": [],
   "source": [
    "from feature_selector import FeatureSelector\n",
    "import pandas as pd\n",
    "%matplotlib inline"
   ]
  },
  {
   "cell_type": "code",
   "execution_count": 6,
   "id": "71008ec7",
   "metadata": {},
   "outputs": [
    {
     "data": {
      "text/html": [
       "<div>\n",
       "<style scoped>\n",
       "    .dataframe tbody tr th:only-of-type {\n",
       "        vertical-align: middle;\n",
       "    }\n",
       "\n",
       "    .dataframe tbody tr th {\n",
       "        vertical-align: top;\n",
       "    }\n",
       "\n",
       "    .dataframe thead th {\n",
       "        text-align: right;\n",
       "    }\n",
       "</style>\n",
       "<table border=\"1\" class=\"dataframe\">\n",
       "  <thead>\n",
       "    <tr style=\"text-align: right;\">\n",
       "      <th></th>\n",
       "      <th>SK_ID_CURR</th>\n",
       "      <th>TARGET</th>\n",
       "      <th>NAME_CONTRACT_TYPE</th>\n",
       "      <th>CODE_GENDER</th>\n",
       "      <th>FLAG_OWN_CAR</th>\n",
       "      <th>FLAG_OWN_REALTY</th>\n",
       "      <th>CNT_CHILDREN</th>\n",
       "      <th>AMT_INCOME_TOTAL</th>\n",
       "      <th>AMT_CREDIT</th>\n",
       "      <th>AMT_ANNUITY</th>\n",
       "      <th>...</th>\n",
       "      <th>FLAG_DOCUMENT_18</th>\n",
       "      <th>FLAG_DOCUMENT_19</th>\n",
       "      <th>FLAG_DOCUMENT_20</th>\n",
       "      <th>FLAG_DOCUMENT_21</th>\n",
       "      <th>AMT_REQ_CREDIT_BUREAU_HOUR</th>\n",
       "      <th>AMT_REQ_CREDIT_BUREAU_DAY</th>\n",
       "      <th>AMT_REQ_CREDIT_BUREAU_WEEK</th>\n",
       "      <th>AMT_REQ_CREDIT_BUREAU_MON</th>\n",
       "      <th>AMT_REQ_CREDIT_BUREAU_QRT</th>\n",
       "      <th>AMT_REQ_CREDIT_BUREAU_YEAR</th>\n",
       "    </tr>\n",
       "  </thead>\n",
       "  <tbody>\n",
       "    <tr>\n",
       "      <th>0</th>\n",
       "      <td>247408</td>\n",
       "      <td>0</td>\n",
       "      <td>Cash loans</td>\n",
       "      <td>F</td>\n",
       "      <td>Y</td>\n",
       "      <td>N</td>\n",
       "      <td>2</td>\n",
       "      <td>108000.0</td>\n",
       "      <td>172512.0</td>\n",
       "      <td>13477.5</td>\n",
       "      <td>...</td>\n",
       "      <td>0</td>\n",
       "      <td>0</td>\n",
       "      <td>0</td>\n",
       "      <td>0</td>\n",
       "      <td>0.0</td>\n",
       "      <td>0.0</td>\n",
       "      <td>0.0</td>\n",
       "      <td>0.0</td>\n",
       "      <td>0.0</td>\n",
       "      <td>1.0</td>\n",
       "    </tr>\n",
       "    <tr>\n",
       "      <th>1</th>\n",
       "      <td>153916</td>\n",
       "      <td>0</td>\n",
       "      <td>Revolving loans</td>\n",
       "      <td>F</td>\n",
       "      <td>Y</td>\n",
       "      <td>Y</td>\n",
       "      <td>2</td>\n",
       "      <td>135000.0</td>\n",
       "      <td>180000.0</td>\n",
       "      <td>9000.0</td>\n",
       "      <td>...</td>\n",
       "      <td>0</td>\n",
       "      <td>0</td>\n",
       "      <td>0</td>\n",
       "      <td>0</td>\n",
       "      <td>0.0</td>\n",
       "      <td>0.0</td>\n",
       "      <td>0.0</td>\n",
       "      <td>0.0</td>\n",
       "      <td>0.0</td>\n",
       "      <td>0.0</td>\n",
       "    </tr>\n",
       "    <tr>\n",
       "      <th>2</th>\n",
       "      <td>229065</td>\n",
       "      <td>0</td>\n",
       "      <td>Cash loans</td>\n",
       "      <td>F</td>\n",
       "      <td>N</td>\n",
       "      <td>Y</td>\n",
       "      <td>0</td>\n",
       "      <td>112500.0</td>\n",
       "      <td>463500.0</td>\n",
       "      <td>20547.0</td>\n",
       "      <td>...</td>\n",
       "      <td>0</td>\n",
       "      <td>0</td>\n",
       "      <td>0</td>\n",
       "      <td>0</td>\n",
       "      <td>0.0</td>\n",
       "      <td>0.0</td>\n",
       "      <td>1.0</td>\n",
       "      <td>0.0</td>\n",
       "      <td>0.0</td>\n",
       "      <td>7.0</td>\n",
       "    </tr>\n",
       "    <tr>\n",
       "      <th>3</th>\n",
       "      <td>282013</td>\n",
       "      <td>0</td>\n",
       "      <td>Cash loans</td>\n",
       "      <td>F</td>\n",
       "      <td>N</td>\n",
       "      <td>Y</td>\n",
       "      <td>0</td>\n",
       "      <td>135000.0</td>\n",
       "      <td>549882.0</td>\n",
       "      <td>17739.0</td>\n",
       "      <td>...</td>\n",
       "      <td>0</td>\n",
       "      <td>0</td>\n",
       "      <td>0</td>\n",
       "      <td>0</td>\n",
       "      <td>0.0</td>\n",
       "      <td>0.0</td>\n",
       "      <td>0.0</td>\n",
       "      <td>0.0</td>\n",
       "      <td>0.0</td>\n",
       "      <td>1.0</td>\n",
       "    </tr>\n",
       "    <tr>\n",
       "      <th>4</th>\n",
       "      <td>142266</td>\n",
       "      <td>0</td>\n",
       "      <td>Cash loans</td>\n",
       "      <td>F</td>\n",
       "      <td>N</td>\n",
       "      <td>Y</td>\n",
       "      <td>0</td>\n",
       "      <td>90000.0</td>\n",
       "      <td>518562.0</td>\n",
       "      <td>20695.5</td>\n",
       "      <td>...</td>\n",
       "      <td>0</td>\n",
       "      <td>0</td>\n",
       "      <td>0</td>\n",
       "      <td>0</td>\n",
       "      <td>0.0</td>\n",
       "      <td>0.0</td>\n",
       "      <td>0.0</td>\n",
       "      <td>0.0</td>\n",
       "      <td>1.0</td>\n",
       "      <td>1.0</td>\n",
       "    </tr>\n",
       "  </tbody>\n",
       "</table>\n",
       "<p>5 rows × 122 columns</p>\n",
       "</div>"
      ],
      "text/plain": [
       "   SK_ID_CURR  TARGET NAME_CONTRACT_TYPE CODE_GENDER FLAG_OWN_CAR  \\\n",
       "0      247408       0         Cash loans           F            Y   \n",
       "1      153916       0    Revolving loans           F            Y   \n",
       "2      229065       0         Cash loans           F            N   \n",
       "3      282013       0         Cash loans           F            N   \n",
       "4      142266       0         Cash loans           F            N   \n",
       "\n",
       "  FLAG_OWN_REALTY  CNT_CHILDREN  AMT_INCOME_TOTAL  AMT_CREDIT  AMT_ANNUITY  \\\n",
       "0               N             2          108000.0    172512.0      13477.5   \n",
       "1               Y             2          135000.0    180000.0       9000.0   \n",
       "2               Y             0          112500.0    463500.0      20547.0   \n",
       "3               Y             0          135000.0    549882.0      17739.0   \n",
       "4               Y             0           90000.0    518562.0      20695.5   \n",
       "\n",
       "   ...  FLAG_DOCUMENT_18 FLAG_DOCUMENT_19 FLAG_DOCUMENT_20 FLAG_DOCUMENT_21  \\\n",
       "0  ...                 0                0                0                0   \n",
       "1  ...                 0                0                0                0   \n",
       "2  ...                 0                0                0                0   \n",
       "3  ...                 0                0                0                0   \n",
       "4  ...                 0                0                0                0   \n",
       "\n",
       "  AMT_REQ_CREDIT_BUREAU_HOUR AMT_REQ_CREDIT_BUREAU_DAY  \\\n",
       "0                        0.0                       0.0   \n",
       "1                        0.0                       0.0   \n",
       "2                        0.0                       0.0   \n",
       "3                        0.0                       0.0   \n",
       "4                        0.0                       0.0   \n",
       "\n",
       "   AMT_REQ_CREDIT_BUREAU_WEEK  AMT_REQ_CREDIT_BUREAU_MON  \\\n",
       "0                         0.0                        0.0   \n",
       "1                         0.0                        0.0   \n",
       "2                         1.0                        0.0   \n",
       "3                         0.0                        0.0   \n",
       "4                         0.0                        0.0   \n",
       "\n",
       "   AMT_REQ_CREDIT_BUREAU_QRT  AMT_REQ_CREDIT_BUREAU_YEAR  \n",
       "0                        0.0                         1.0  \n",
       "1                        0.0                         0.0  \n",
       "2                        0.0                         7.0  \n",
       "3                        0.0                         1.0  \n",
       "4                        1.0                         1.0  \n",
       "\n",
       "[5 rows x 122 columns]"
      ]
     },
     "execution_count": 6,
     "metadata": {},
     "output_type": "execute_result"
    }
   ],
   "source": [
    "df = pd.read_csv('credit_example.csv')\n",
    "df.head()"
   ]
  },
  {
   "cell_type": "code",
   "execution_count": 7,
   "id": "97bfdd80",
   "metadata": {},
   "outputs": [],
   "source": [
    "train_labels = df['TARGET']\n",
    "df.drop('TARGET',axis=1,inplace=True)"
   ]
  },
  {
   "cell_type": "code",
   "execution_count": 8,
   "id": "dc0913fe",
   "metadata": {},
   "outputs": [],
   "source": [
    "fs = FeatureSelector(df,labels=train_labels)"
   ]
  },
  {
   "cell_type": "code",
   "execution_count": 9,
   "id": "0208f430",
   "metadata": {},
   "outputs": [
    {
     "name": "stdout",
     "output_type": "stream",
     "text": [
      "44 features with greater than 0.50 missing values.\n",
      "\n"
     ]
    }
   ],
   "source": [
    "fs.identify_missing(0.50)"
   ]
  },
  {
   "cell_type": "code",
   "execution_count": 10,
   "id": "d0605c71",
   "metadata": {},
   "outputs": [
    {
     "data": {
      "text/plain": [
       "(10000, 121)"
      ]
     },
     "execution_count": 10,
     "metadata": {},
     "output_type": "execute_result"
    }
   ],
   "source": [
    "df.shape"
   ]
  },
  {
   "cell_type": "code",
   "execution_count": 11,
   "id": "c23c7af8",
   "metadata": {},
   "outputs": [
    {
     "data": {
      "text/plain": [
       "44"
      ]
     },
     "execution_count": 11,
     "metadata": {},
     "output_type": "execute_result"
    }
   ],
   "source": [
    "MissingFeatures = fs.ops['missing']\n",
    "len(MissingFeatures)"
   ]
  },
  {
   "cell_type": "code",
   "execution_count": 12,
   "id": "48a107d9",
   "metadata": {},
   "outputs": [
    {
     "data": {
      "text/html": [
       "<div>\n",
       "<style scoped>\n",
       "    .dataframe tbody tr th:only-of-type {\n",
       "        vertical-align: middle;\n",
       "    }\n",
       "\n",
       "    .dataframe tbody tr th {\n",
       "        vertical-align: top;\n",
       "    }\n",
       "\n",
       "    .dataframe thead th {\n",
       "        text-align: right;\n",
       "    }\n",
       "</style>\n",
       "<table border=\"1\" class=\"dataframe\">\n",
       "  <thead>\n",
       "    <tr style=\"text-align: right;\">\n",
       "      <th></th>\n",
       "      <th>missing_fraction</th>\n",
       "    </tr>\n",
       "  </thead>\n",
       "  <tbody>\n",
       "    <tr>\n",
       "      <th>COMMONAREA_AVG</th>\n",
       "      <td>0.6953</td>\n",
       "    </tr>\n",
       "    <tr>\n",
       "      <th>COMMONAREA_MODE</th>\n",
       "      <td>0.6953</td>\n",
       "    </tr>\n",
       "    <tr>\n",
       "      <th>COMMONAREA_MEDI</th>\n",
       "      <td>0.6953</td>\n",
       "    </tr>\n",
       "    <tr>\n",
       "      <th>NONLIVINGAPARTMENTS_AVG</th>\n",
       "      <td>0.6945</td>\n",
       "    </tr>\n",
       "    <tr>\n",
       "      <th>NONLIVINGAPARTMENTS_MODE</th>\n",
       "      <td>0.6945</td>\n",
       "    </tr>\n",
       "  </tbody>\n",
       "</table>\n",
       "</div>"
      ],
      "text/plain": [
       "                          missing_fraction\n",
       "COMMONAREA_AVG                      0.6953\n",
       "COMMONAREA_MODE                     0.6953\n",
       "COMMONAREA_MEDI                     0.6953\n",
       "NONLIVINGAPARTMENTS_AVG             0.6945\n",
       "NONLIVINGAPARTMENTS_MODE            0.6945"
      ]
     },
     "execution_count": 12,
     "metadata": {},
     "output_type": "execute_result"
    }
   ],
   "source": [
    "fs.missing_stats.head()"
   ]
  },
  {
   "cell_type": "code",
   "execution_count": 13,
   "id": "3851bcc7",
   "metadata": {},
   "outputs": [
    {
     "data": {
      "image/png": "[encoded data removed]",
      "text/plain": [
       "<Figure size 504x360 with 1 Axes>"
      ]
     },
     "metadata": {},
     "output_type": "display_data"
    }
   ],
   "source": [
    "fs.plot_missing()"
   ]
  },
  {
   "cell_type": "code",
   "execution_count": 14,
   "id": "c190ad42",
   "metadata": {},
   "outputs": [
    {
     "name": "stderr",
     "output_type": "stream",
     "text": [
      "c:\\users\\karthikraghavan\\feature-selector\\feature_selector\\feature_selector.py:192: FutureWarning: The default value of numeric_only in DataFrame.corr is deprecated. In a future version, it will default to False. Select only valid columns or specify the value of numeric_only to silence this warning.\n",
      "  corr_matrix = self.data.corr()\n"
     ]
    },
    {
     "name": "stdout",
     "output_type": "stream",
     "text": [
      "35 features with a correlation magnitude greater than 0.90.\n",
      "\n"
     ]
    },
    {
     "name": "stderr",
     "output_type": "stream",
     "text": [
      "c:\\users\\karthikraghavan\\feature-selector\\feature_selector\\feature_selector.py:222: FutureWarning: The frame.append method is deprecated and will be removed from pandas in a future version. Use pandas.concat instead.\n",
      "  record_collinear = record_collinear.append(temp_df, ignore_index = True)\n"
     ]
    }
   ],
   "source": [
    "fs.identify_collinear(0.9)"
   ]
  },
  {
   "cell_type": "code",
   "execution_count": 15,
   "id": "8d6a5cdc",
   "metadata": {},
   "outputs": [
    {
     "data": {
      "text/plain": [
       "['AMT_GOODS_PRICE',\n",
       " 'FLAG_EMP_PHONE',\n",
       " 'REGION_RATING_CLIENT_W_CITY',\n",
       " 'LIVINGAPARTMENTS_AVG',\n",
       " 'LIVINGAREA_AVG',\n",
       " 'APARTMENTS_MODE',\n",
       " 'BASEMENTAREA_MODE',\n",
       " 'YEARS_BEGINEXPLUATATION_MODE',\n",
       " 'YEARS_BUILD_MODE',\n",
       " 'COMMONAREA_MODE',\n",
       " 'ELEVATORS_MODE',\n",
       " 'ENTRANCES_MODE',\n",
       " 'FLOORSMAX_MODE',\n",
       " 'FLOORSMIN_MODE',\n",
       " 'LANDAREA_MODE',\n",
       " 'LIVINGAPARTMENTS_MODE',\n",
       " 'LIVINGAREA_MODE',\n",
       " 'NONLIVINGAPARTMENTS_MODE',\n",
       " 'NONLIVINGAREA_MODE',\n",
       " 'APARTMENTS_MEDI',\n",
       " 'BASEMENTAREA_MEDI',\n",
       " 'YEARS_BEGINEXPLUATATION_MEDI',\n",
       " 'YEARS_BUILD_MEDI',\n",
       " 'COMMONAREA_MEDI',\n",
       " 'ELEVATORS_MEDI',\n",
       " 'ENTRANCES_MEDI',\n",
       " 'FLOORSMAX_MEDI',\n",
       " 'FLOORSMIN_MEDI',\n",
       " 'LANDAREA_MEDI',\n",
       " 'LIVINGAPARTMENTS_MEDI',\n",
       " 'LIVINGAREA_MEDI',\n",
       " 'NONLIVINGAPARTMENTS_MEDI',\n",
       " 'NONLIVINGAREA_MEDI',\n",
       " 'TOTALAREA_MODE',\n",
       " 'OBS_60_CNT_SOCIAL_CIRCLE']"
      ]
     },
     "execution_count": 15,
     "metadata": {},
     "output_type": "execute_result"
    }
   ],
   "source": [
    "CollinearFeatures = fs.ops['collinear']\n",
    "CollinearFeatures"
   ]
  },
  {
   "cell_type": "code",
   "execution_count": 16,
   "id": "f9de67fb",
   "metadata": {},
   "outputs": [
    {
     "data": {
      "image/png": "[encoded data removed]",
      "text/plain": [
       "<Figure size 720x576 with 2 Axes>"
      ]
     },
     "metadata": {},
     "output_type": "display_data"
    }
   ],
   "source": [
    "# plotting Collinear Features\n",
    "\n",
    "fs.plot_collinear()"
   ]
  },
  {
   "cell_type": "code",
   "execution_count": 17,
   "id": "1e7de8f8",
   "metadata": {},
   "outputs": [
    {
     "data": {
      "text/html": [
       "<div>\n",
       "<style scoped>\n",
       "    .dataframe tbody tr th:only-of-type {\n",
       "        vertical-align: middle;\n",
       "    }\n",
       "\n",
       "    .dataframe tbody tr th {\n",
       "        vertical-align: top;\n",
       "    }\n",
       "\n",
       "    .dataframe thead th {\n",
       "        text-align: right;\n",
       "    }\n",
       "</style>\n",
       "<table border=\"1\" class=\"dataframe\">\n",
       "  <thead>\n",
       "    <tr style=\"text-align: right;\">\n",
       "      <th></th>\n",
       "      <th>drop_feature</th>\n",
       "      <th>corr_feature</th>\n",
       "      <th>corr_value</th>\n",
       "    </tr>\n",
       "  </thead>\n",
       "  <tbody>\n",
       "    <tr>\n",
       "      <th>0</th>\n",
       "      <td>AMT_GOODS_PRICE</td>\n",
       "      <td>AMT_CREDIT</td>\n",
       "      <td>0.987232</td>\n",
       "    </tr>\n",
       "    <tr>\n",
       "      <th>1</th>\n",
       "      <td>FLAG_EMP_PHONE</td>\n",
       "      <td>DAYS_EMPLOYED</td>\n",
       "      <td>-0.999533</td>\n",
       "    </tr>\n",
       "    <tr>\n",
       "      <th>2</th>\n",
       "      <td>REGION_RATING_CLIENT_W_CITY</td>\n",
       "      <td>REGION_RATING_CLIENT</td>\n",
       "      <td>0.952982</td>\n",
       "    </tr>\n",
       "    <tr>\n",
       "      <th>3</th>\n",
       "      <td>LIVINGAPARTMENTS_AVG</td>\n",
       "      <td>APARTMENTS_AVG</td>\n",
       "      <td>0.947899</td>\n",
       "    </tr>\n",
       "    <tr>\n",
       "      <th>4</th>\n",
       "      <td>LIVINGAREA_AVG</td>\n",
       "      <td>APARTMENTS_AVG</td>\n",
       "      <td>0.916539</td>\n",
       "    </tr>\n",
       "    <tr>\n",
       "      <th>...</th>\n",
       "      <td>...</td>\n",
       "      <td>...</td>\n",
       "      <td>...</td>\n",
       "    </tr>\n",
       "    <tr>\n",
       "      <th>59</th>\n",
       "      <td>NONLIVINGAREA_MEDI</td>\n",
       "      <td>NONLIVINGAREA_MODE</td>\n",
       "      <td>0.978754</td>\n",
       "    </tr>\n",
       "    <tr>\n",
       "      <th>60</th>\n",
       "      <td>TOTALAREA_MODE</td>\n",
       "      <td>LIVINGAREA_AVG</td>\n",
       "      <td>0.930656</td>\n",
       "    </tr>\n",
       "    <tr>\n",
       "      <th>61</th>\n",
       "      <td>TOTALAREA_MODE</td>\n",
       "      <td>LIVINGAREA_MODE</td>\n",
       "      <td>0.908783</td>\n",
       "    </tr>\n",
       "    <tr>\n",
       "      <th>62</th>\n",
       "      <td>TOTALAREA_MODE</td>\n",
       "      <td>LIVINGAREA_MEDI</td>\n",
       "      <td>0.923316</td>\n",
       "    </tr>\n",
       "    <tr>\n",
       "      <th>63</th>\n",
       "      <td>OBS_60_CNT_SOCIAL_CIRCLE</td>\n",
       "      <td>OBS_30_CNT_SOCIAL_CIRCLE</td>\n",
       "      <td>0.998404</td>\n",
       "    </tr>\n",
       "  </tbody>\n",
       "</table>\n",
       "<p>64 rows × 3 columns</p>\n",
       "</div>"
      ],
      "text/plain": [
       "                   drop_feature              corr_feature  corr_value\n",
       "0               AMT_GOODS_PRICE                AMT_CREDIT    0.987232\n",
       "1                FLAG_EMP_PHONE             DAYS_EMPLOYED   -0.999533\n",
       "2   REGION_RATING_CLIENT_W_CITY      REGION_RATING_CLIENT    0.952982\n",
       "3          LIVINGAPARTMENTS_AVG            APARTMENTS_AVG    0.947899\n",
       "4                LIVINGAREA_AVG            APARTMENTS_AVG    0.916539\n",
       "..                          ...                       ...         ...\n",
       "59           NONLIVINGAREA_MEDI        NONLIVINGAREA_MODE    0.978754\n",
       "60               TOTALAREA_MODE            LIVINGAREA_AVG    0.930656\n",
       "61               TOTALAREA_MODE           LIVINGAREA_MODE    0.908783\n",
       "62               TOTALAREA_MODE           LIVINGAREA_MEDI    0.923316\n",
       "63     OBS_60_CNT_SOCIAL_CIRCLE  OBS_30_CNT_SOCIAL_CIRCLE    0.998404\n",
       "\n",
       "[64 rows x 3 columns]"
      ]
     },
     "execution_count": 17,
     "metadata": {},
     "output_type": "execute_result"
    }
   ],
   "source": [
    "fs.record_collinear"
   ]
  },
  {
   "cell_type": "code",
   "execution_count": 18,
   "id": "0226aa89",
   "metadata": {},
   "outputs": [
    {
     "name": "stdout",
     "output_type": "stream",
     "text": [
      "Training Gradient Boosting Model\n",
      "\n",
      "Training until validation scores don't improve for 100 rounds\n",
      "Early stopping, best iteration is:\n",
      "[62]\tvalid_0's auc: 0.755182\tvalid_0's binary_logloss: 0.250536\n",
      "Training until validation scores don't improve for 100 rounds\n",
      "Early stopping, best iteration is:\n",
      "[74]\tvalid_0's auc: 0.746562\tvalid_0's binary_logloss: 0.250733\n",
      "Training until validation scores don't improve for 100 rounds\n",
      "Early stopping, best iteration is:\n",
      "[19]\tvalid_0's auc: 0.733428\tvalid_0's binary_logloss: 0.261813\n",
      "Training until validation scores don't improve for 100 rounds\n",
      "Early stopping, best iteration is:\n",
      "[53]\tvalid_0's auc: 0.740369\tvalid_0's binary_logloss: 0.256783\n",
      "Training until validation scores don't improve for 100 rounds\n",
      "Early stopping, best iteration is:\n",
      "[90]\tvalid_0's auc: 0.744992\tvalid_0's binary_logloss: 0.251829\n",
      "Training until validation scores don't improve for 100 rounds\n",
      "Early stopping, best iteration is:\n",
      "[119]\tvalid_0's auc: 0.723459\tvalid_0's binary_logloss: 0.260673\n",
      "Training until validation scores don't improve for 100 rounds\n",
      "Early stopping, best iteration is:\n",
      "[37]\tvalid_0's auc: 0.724755\tvalid_0's binary_logloss: 0.259388\n",
      "Training until validation scores don't improve for 100 rounds\n",
      "Early stopping, best iteration is:\n",
      "[44]\tvalid_0's auc: 0.741313\tvalid_0's binary_logloss: 0.257678\n",
      "Training until validation scores don't improve for 100 rounds\n",
      "Early stopping, best iteration is:\n",
      "[60]\tvalid_0's auc: 0.720767\tvalid_0's binary_logloss: 0.262204\n",
      "Training until validation scores don't improve for 100 rounds\n",
      "Early stopping, best iteration is:\n",
      "[47]\tvalid_0's auc: 0.742358\tvalid_0's binary_logloss: 0.253524\n",
      "\n",
      "75 features with zero importance after one-hot encoding.\n",
      "\n"
     ]
    }
   ],
   "source": [
    "## Zero Importance Features\n",
    "\n",
    "fs.identify_zero_importance('classification','auc',)"
   ]
  },
  {
   "cell_type": "code",
   "execution_count": 19,
   "id": "2a0020b5",
   "metadata": {},
   "outputs": [
    {
     "data": {
      "text/html": [
       "<div>\n",
       "<style scoped>\n",
       "    .dataframe tbody tr th:only-of-type {\n",
       "        vertical-align: middle;\n",
       "    }\n",
       "\n",
       "    .dataframe tbody tr th {\n",
       "        vertical-align: top;\n",
       "    }\n",
       "\n",
       "    .dataframe thead th {\n",
       "        text-align: right;\n",
       "    }\n",
       "</style>\n",
       "<table border=\"1\" class=\"dataframe\">\n",
       "  <thead>\n",
       "    <tr style=\"text-align: right;\">\n",
       "      <th></th>\n",
       "      <th>NAME_CONTRACT_TYPE_Cash loans</th>\n",
       "      <th>NAME_CONTRACT_TYPE_Revolving loans</th>\n",
       "      <th>CODE_GENDER_F</th>\n",
       "      <th>CODE_GENDER_M</th>\n",
       "      <th>CODE_GENDER_XNA</th>\n",
       "      <th>FLAG_OWN_CAR_N</th>\n",
       "      <th>FLAG_OWN_CAR_Y</th>\n",
       "      <th>FLAG_OWN_REALTY_N</th>\n",
       "      <th>FLAG_OWN_REALTY_Y</th>\n",
       "      <th>NAME_TYPE_SUITE_Children</th>\n",
       "      <th>...</th>\n",
       "      <th>FLAG_DOCUMENT_18</th>\n",
       "      <th>FLAG_DOCUMENT_19</th>\n",
       "      <th>FLAG_DOCUMENT_20</th>\n",
       "      <th>FLAG_DOCUMENT_21</th>\n",
       "      <th>AMT_REQ_CREDIT_BUREAU_HOUR</th>\n",
       "      <th>AMT_REQ_CREDIT_BUREAU_DAY</th>\n",
       "      <th>AMT_REQ_CREDIT_BUREAU_WEEK</th>\n",
       "      <th>AMT_REQ_CREDIT_BUREAU_MON</th>\n",
       "      <th>AMT_REQ_CREDIT_BUREAU_QRT</th>\n",
       "      <th>AMT_REQ_CREDIT_BUREAU_YEAR</th>\n",
       "    </tr>\n",
       "  </thead>\n",
       "  <tbody>\n",
       "    <tr>\n",
       "      <th>0</th>\n",
       "      <td>1</td>\n",
       "      <td>0</td>\n",
       "      <td>1</td>\n",
       "      <td>0</td>\n",
       "      <td>0</td>\n",
       "      <td>0</td>\n",
       "      <td>1</td>\n",
       "      <td>1</td>\n",
       "      <td>0</td>\n",
       "      <td>0</td>\n",
       "      <td>...</td>\n",
       "      <td>0</td>\n",
       "      <td>0</td>\n",
       "      <td>0</td>\n",
       "      <td>0</td>\n",
       "      <td>0.0</td>\n",
       "      <td>0.0</td>\n",
       "      <td>0.0</td>\n",
       "      <td>0.0</td>\n",
       "      <td>0.0</td>\n",
       "      <td>1.0</td>\n",
       "    </tr>\n",
       "    <tr>\n",
       "      <th>1</th>\n",
       "      <td>0</td>\n",
       "      <td>1</td>\n",
       "      <td>1</td>\n",
       "      <td>0</td>\n",
       "      <td>0</td>\n",
       "      <td>0</td>\n",
       "      <td>1</td>\n",
       "      <td>0</td>\n",
       "      <td>1</td>\n",
       "      <td>0</td>\n",
       "      <td>...</td>\n",
       "      <td>0</td>\n",
       "      <td>0</td>\n",
       "      <td>0</td>\n",
       "      <td>0</td>\n",
       "      <td>0.0</td>\n",
       "      <td>0.0</td>\n",
       "      <td>0.0</td>\n",
       "      <td>0.0</td>\n",
       "      <td>0.0</td>\n",
       "      <td>0.0</td>\n",
       "    </tr>\n",
       "    <tr>\n",
       "      <th>2</th>\n",
       "      <td>1</td>\n",
       "      <td>0</td>\n",
       "      <td>1</td>\n",
       "      <td>0</td>\n",
       "      <td>0</td>\n",
       "      <td>1</td>\n",
       "      <td>0</td>\n",
       "      <td>0</td>\n",
       "      <td>1</td>\n",
       "      <td>0</td>\n",
       "      <td>...</td>\n",
       "      <td>0</td>\n",
       "      <td>0</td>\n",
       "      <td>0</td>\n",
       "      <td>0</td>\n",
       "      <td>0.0</td>\n",
       "      <td>0.0</td>\n",
       "      <td>1.0</td>\n",
       "      <td>0.0</td>\n",
       "      <td>0.0</td>\n",
       "      <td>7.0</td>\n",
       "    </tr>\n",
       "    <tr>\n",
       "      <th>3</th>\n",
       "      <td>1</td>\n",
       "      <td>0</td>\n",
       "      <td>1</td>\n",
       "      <td>0</td>\n",
       "      <td>0</td>\n",
       "      <td>1</td>\n",
       "      <td>0</td>\n",
       "      <td>0</td>\n",
       "      <td>1</td>\n",
       "      <td>0</td>\n",
       "      <td>...</td>\n",
       "      <td>0</td>\n",
       "      <td>0</td>\n",
       "      <td>0</td>\n",
       "      <td>0</td>\n",
       "      <td>0.0</td>\n",
       "      <td>0.0</td>\n",
       "      <td>0.0</td>\n",
       "      <td>0.0</td>\n",
       "      <td>0.0</td>\n",
       "      <td>1.0</td>\n",
       "    </tr>\n",
       "    <tr>\n",
       "      <th>4</th>\n",
       "      <td>1</td>\n",
       "      <td>0</td>\n",
       "      <td>1</td>\n",
       "      <td>0</td>\n",
       "      <td>0</td>\n",
       "      <td>1</td>\n",
       "      <td>0</td>\n",
       "      <td>0</td>\n",
       "      <td>1</td>\n",
       "      <td>0</td>\n",
       "      <td>...</td>\n",
       "      <td>0</td>\n",
       "      <td>0</td>\n",
       "      <td>0</td>\n",
       "      <td>0</td>\n",
       "      <td>0.0</td>\n",
       "      <td>0.0</td>\n",
       "      <td>0.0</td>\n",
       "      <td>0.0</td>\n",
       "      <td>1.0</td>\n",
       "      <td>1.0</td>\n",
       "    </tr>\n",
       "    <tr>\n",
       "      <th>...</th>\n",
       "      <td>...</td>\n",
       "      <td>...</td>\n",
       "      <td>...</td>\n",
       "      <td>...</td>\n",
       "      <td>...</td>\n",
       "      <td>...</td>\n",
       "      <td>...</td>\n",
       "      <td>...</td>\n",
       "      <td>...</td>\n",
       "      <td>...</td>\n",
       "      <td>...</td>\n",
       "      <td>...</td>\n",
       "      <td>...</td>\n",
       "      <td>...</td>\n",
       "      <td>...</td>\n",
       "      <td>...</td>\n",
       "      <td>...</td>\n",
       "      <td>...</td>\n",
       "      <td>...</td>\n",
       "      <td>...</td>\n",
       "      <td>...</td>\n",
       "    </tr>\n",
       "    <tr>\n",
       "      <th>9995</th>\n",
       "      <td>1</td>\n",
       "      <td>0</td>\n",
       "      <td>0</td>\n",
       "      <td>1</td>\n",
       "      <td>0</td>\n",
       "      <td>0</td>\n",
       "      <td>1</td>\n",
       "      <td>0</td>\n",
       "      <td>1</td>\n",
       "      <td>0</td>\n",
       "      <td>...</td>\n",
       "      <td>0</td>\n",
       "      <td>0</td>\n",
       "      <td>0</td>\n",
       "      <td>0</td>\n",
       "      <td>0.0</td>\n",
       "      <td>0.0</td>\n",
       "      <td>0.0</td>\n",
       "      <td>0.0</td>\n",
       "      <td>0.0</td>\n",
       "      <td>3.0</td>\n",
       "    </tr>\n",
       "    <tr>\n",
       "      <th>9996</th>\n",
       "      <td>1</td>\n",
       "      <td>0</td>\n",
       "      <td>0</td>\n",
       "      <td>1</td>\n",
       "      <td>0</td>\n",
       "      <td>0</td>\n",
       "      <td>1</td>\n",
       "      <td>0</td>\n",
       "      <td>1</td>\n",
       "      <td>0</td>\n",
       "      <td>...</td>\n",
       "      <td>0</td>\n",
       "      <td>0</td>\n",
       "      <td>0</td>\n",
       "      <td>0</td>\n",
       "      <td>0.0</td>\n",
       "      <td>0.0</td>\n",
       "      <td>1.0</td>\n",
       "      <td>1.0</td>\n",
       "      <td>0.0</td>\n",
       "      <td>2.0</td>\n",
       "    </tr>\n",
       "    <tr>\n",
       "      <th>9997</th>\n",
       "      <td>1</td>\n",
       "      <td>0</td>\n",
       "      <td>1</td>\n",
       "      <td>0</td>\n",
       "      <td>0</td>\n",
       "      <td>1</td>\n",
       "      <td>0</td>\n",
       "      <td>0</td>\n",
       "      <td>1</td>\n",
       "      <td>0</td>\n",
       "      <td>...</td>\n",
       "      <td>0</td>\n",
       "      <td>0</td>\n",
       "      <td>0</td>\n",
       "      <td>0</td>\n",
       "      <td>0.0</td>\n",
       "      <td>0.0</td>\n",
       "      <td>0.0</td>\n",
       "      <td>0.0</td>\n",
       "      <td>0.0</td>\n",
       "      <td>1.0</td>\n",
       "    </tr>\n",
       "    <tr>\n",
       "      <th>9998</th>\n",
       "      <td>1</td>\n",
       "      <td>0</td>\n",
       "      <td>1</td>\n",
       "      <td>0</td>\n",
       "      <td>0</td>\n",
       "      <td>0</td>\n",
       "      <td>1</td>\n",
       "      <td>0</td>\n",
       "      <td>1</td>\n",
       "      <td>0</td>\n",
       "      <td>...</td>\n",
       "      <td>0</td>\n",
       "      <td>0</td>\n",
       "      <td>0</td>\n",
       "      <td>0</td>\n",
       "      <td>0.0</td>\n",
       "      <td>0.0</td>\n",
       "      <td>0.0</td>\n",
       "      <td>0.0</td>\n",
       "      <td>3.0</td>\n",
       "      <td>9.0</td>\n",
       "    </tr>\n",
       "    <tr>\n",
       "      <th>9999</th>\n",
       "      <td>0</td>\n",
       "      <td>1</td>\n",
       "      <td>1</td>\n",
       "      <td>0</td>\n",
       "      <td>0</td>\n",
       "      <td>1</td>\n",
       "      <td>0</td>\n",
       "      <td>0</td>\n",
       "      <td>1</td>\n",
       "      <td>0</td>\n",
       "      <td>...</td>\n",
       "      <td>0</td>\n",
       "      <td>0</td>\n",
       "      <td>0</td>\n",
       "      <td>0</td>\n",
       "      <td>0.0</td>\n",
       "      <td>0.0</td>\n",
       "      <td>0.0</td>\n",
       "      <td>0.0</td>\n",
       "      <td>0.0</td>\n",
       "      <td>2.0</td>\n",
       "    </tr>\n",
       "  </tbody>\n",
       "</table>\n",
       "<p>10000 rows × 255 columns</p>\n",
       "</div>"
      ],
      "text/plain": [
       "      NAME_CONTRACT_TYPE_Cash loans  NAME_CONTRACT_TYPE_Revolving loans  \\\n",
       "0                                 1                                   0   \n",
       "1                                 0                                   1   \n",
       "2                                 1                                   0   \n",
       "3                                 1                                   0   \n",
       "4                                 1                                   0   \n",
       "...                             ...                                 ...   \n",
       "9995                              1                                   0   \n",
       "9996                              1                                   0   \n",
       "9997                              1                                   0   \n",
       "9998                              1                                   0   \n",
       "9999                              0                                   1   \n",
       "\n",
       "      CODE_GENDER_F  CODE_GENDER_M  CODE_GENDER_XNA  FLAG_OWN_CAR_N  \\\n",
       "0                 1              0                0               0   \n",
       "1                 1              0                0               0   \n",
       "2                 1              0                0               1   \n",
       "3                 1              0                0               1   \n",
       "4                 1              0                0               1   \n",
       "...             ...            ...              ...             ...   \n",
       "9995              0              1                0               0   \n",
       "9996              0              1                0               0   \n",
       "9997              1              0                0               1   \n",
       "9998              1              0                0               0   \n",
       "9999              1              0                0               1   \n",
       "\n",
       "      FLAG_OWN_CAR_Y  FLAG_OWN_REALTY_N  FLAG_OWN_REALTY_Y  \\\n",
       "0                  1                  1                  0   \n",
       "1                  1                  0                  1   \n",
       "2                  0                  0                  1   \n",
       "3                  0                  0                  1   \n",
       "4                  0                  0                  1   \n",
       "...              ...                ...                ...   \n",
       "9995               1                  0                  1   \n",
       "9996               1                  0                  1   \n",
       "9997               0                  0                  1   \n",
       "9998               1                  0                  1   \n",
       "9999               0                  0                  1   \n",
       "\n",
       "      NAME_TYPE_SUITE_Children  ...  FLAG_DOCUMENT_18  FLAG_DOCUMENT_19  \\\n",
       "0                            0  ...                 0                 0   \n",
       "1                            0  ...                 0                 0   \n",
       "2                            0  ...                 0                 0   \n",
       "3                            0  ...                 0                 0   \n",
       "4                            0  ...                 0                 0   \n",
       "...                        ...  ...               ...               ...   \n",
       "9995                         0  ...                 0                 0   \n",
       "9996                         0  ...                 0                 0   \n",
       "9997                         0  ...                 0                 0   \n",
       "9998                         0  ...                 0                 0   \n",
       "9999                         0  ...                 0                 0   \n",
       "\n",
       "      FLAG_DOCUMENT_20  FLAG_DOCUMENT_21  AMT_REQ_CREDIT_BUREAU_HOUR  \\\n",
       "0                    0                 0                         0.0   \n",
       "1                    0                 0                         0.0   \n",
       "2                    0                 0                         0.0   \n",
       "3                    0                 0                         0.0   \n",
       "4                    0                 0                         0.0   \n",
       "...                ...               ...                         ...   \n",
       "9995                 0                 0                         0.0   \n",
       "9996                 0                 0                         0.0   \n",
       "9997                 0                 0                         0.0   \n",
       "9998                 0                 0                         0.0   \n",
       "9999                 0                 0                         0.0   \n",
       "\n",
       "      AMT_REQ_CREDIT_BUREAU_DAY  AMT_REQ_CREDIT_BUREAU_WEEK  \\\n",
       "0                           0.0                         0.0   \n",
       "1                           0.0                         0.0   \n",
       "2                           0.0                         1.0   \n",
       "3                           0.0                         0.0   \n",
       "4                           0.0                         0.0   \n",
       "...                         ...                         ...   \n",
       "9995                        0.0                         0.0   \n",
       "9996                        0.0                         1.0   \n",
       "9997                        0.0                         0.0   \n",
       "9998                        0.0                         0.0   \n",
       "9999                        0.0                         0.0   \n",
       "\n",
       "      AMT_REQ_CREDIT_BUREAU_MON  AMT_REQ_CREDIT_BUREAU_QRT  \\\n",
       "0                           0.0                        0.0   \n",
       "1                           0.0                        0.0   \n",
       "2                           0.0                        0.0   \n",
       "3                           0.0                        0.0   \n",
       "4                           0.0                        1.0   \n",
       "...                         ...                        ...   \n",
       "9995                        0.0                        0.0   \n",
       "9996                        1.0                        0.0   \n",
       "9997                        0.0                        0.0   \n",
       "9998                        0.0                        3.0   \n",
       "9999                        0.0                        0.0   \n",
       "\n",
       "      AMT_REQ_CREDIT_BUREAU_YEAR  \n",
       "0                            1.0  \n",
       "1                            0.0  \n",
       "2                            7.0  \n",
       "3                            1.0  \n",
       "4                            1.0  \n",
       "...                          ...  \n",
       "9995                         3.0  \n",
       "9996                         2.0  \n",
       "9997                         1.0  \n",
       "9998                         9.0  \n",
       "9999                         2.0  \n",
       "\n",
       "[10000 rows x 255 columns]"
      ]
     },
     "execution_count": 19,
     "metadata": {},
     "output_type": "execute_result"
    }
   ],
   "source": [
    "fs.data_all"
   ]
  },
  {
   "cell_type": "code",
   "execution_count": 20,
   "id": "a2506012",
   "metadata": {},
   "outputs": [
    {
     "data": {
      "text/plain": [
       "['ORGANIZATION_TYPE_Trade: type 1',\n",
       " 'ORGANIZATION_TYPE_Mobile',\n",
       " 'ORGANIZATION_TYPE_Telecom',\n",
       " 'ORGANIZATION_TYPE_Services',\n",
       " 'FLAG_DOCUMENT_4',\n",
       " 'ORGANIZATION_TYPE_Police',\n",
       " 'ORGANIZATION_TYPE_Security',\n",
       " 'FLAG_DOCUMENT_7',\n",
       " 'FLAG_DOCUMENT_10',\n",
       " 'ORGANIZATION_TYPE_Trade: type 2',\n",
       " 'ORGANIZATION_TYPE_Religion',\n",
       " 'ORGANIZATION_TYPE_Realtor',\n",
       " 'ORGANIZATION_TYPE_Postal',\n",
       " 'FLAG_DOCUMENT_9',\n",
       " 'FLAG_DOCUMENT_2',\n",
       " 'ORGANIZATION_TYPE_Trade: type 5',\n",
       " 'HOUSETYPE_MODE_specific housing',\n",
       " 'EMERGENCYSTATE_MODE_No',\n",
       " 'FLAG_MOBIL',\n",
       " 'FLAG_EMP_PHONE',\n",
       " 'WALLSMATERIAL_MODE_Others',\n",
       " 'WALLSMATERIAL_MODE_Monolithic',\n",
       " 'HOUSETYPE_MODE_terraced house',\n",
       " 'FLAG_CONT_MOBILE',\n",
       " 'ORGANIZATION_TYPE_Trade: type 6',\n",
       " 'FONDKAPREMONT_MODE_not specified',\n",
       " 'ORGANIZATION_TYPE_XNA',\n",
       " 'ORGANIZATION_TYPE_University',\n",
       " 'ORGANIZATION_TYPE_Transport: type 3',\n",
       " 'ORGANIZATION_TYPE_Transport: type 2',\n",
       " 'ORGANIZATION_TYPE_Transport: type 1',\n",
       " 'ORGANIZATION_TYPE_Military',\n",
       " 'ORGANIZATION_TYPE_Industry: type 8',\n",
       " 'ORGANIZATION_TYPE_Legal Services',\n",
       " 'NAME_TYPE_SUITE_Group of people',\n",
       " 'FLAG_DOCUMENT_19',\n",
       " 'FLAG_DOCUMENT_20',\n",
       " 'ORGANIZATION_TYPE_Advertising',\n",
       " 'FLAG_DOCUMENT_21',\n",
       " 'AMT_REQ_CREDIT_BUREAU_DAY',\n",
       " 'CODE_GENDER_XNA',\n",
       " 'NAME_TYPE_SUITE_Children',\n",
       " 'OCCUPATION_TYPE_Waiters/barmen staff',\n",
       " 'OCCUPATION_TYPE_Secretaries',\n",
       " 'ORGANIZATION_TYPE_Kindergarten',\n",
       " 'NAME_TYPE_SUITE_Other_A',\n",
       " 'OCCUPATION_TYPE_Realty agents',\n",
       " 'OCCUPATION_TYPE_Private service staff',\n",
       " 'NAME_INCOME_TYPE_Pensioner',\n",
       " 'NAME_EDUCATION_TYPE_Academic degree',\n",
       " 'OCCUPATION_TYPE_IT staff',\n",
       " 'OCCUPATION_TYPE_HR staff',\n",
       " 'NAME_HOUSING_TYPE_Co-op apartment',\n",
       " 'FLAG_DOCUMENT_18',\n",
       " 'FLAG_DOCUMENT_17',\n",
       " 'ORGANIZATION_TYPE_Cleaning',\n",
       " 'FLAG_DOCUMENT_15',\n",
       " 'ORGANIZATION_TYPE_Insurance',\n",
       " 'ORGANIZATION_TYPE_Industry: type 7',\n",
       " 'ORGANIZATION_TYPE_Industry: type 6',\n",
       " 'ORGANIZATION_TYPE_Industry: type 5',\n",
       " 'ORGANIZATION_TYPE_Industry: type 4',\n",
       " 'ORGANIZATION_TYPE_Industry: type 3',\n",
       " 'ORGANIZATION_TYPE_Industry: type 2',\n",
       " 'ORGANIZATION_TYPE_Industry: type 13',\n",
       " 'ORGANIZATION_TYPE_Industry: type 12',\n",
       " 'FLAG_DOCUMENT_12',\n",
       " 'ORGANIZATION_TYPE_Industry: type 10',\n",
       " 'FLAG_DOCUMENT_13',\n",
       " 'ORGANIZATION_TYPE_Housing',\n",
       " 'ORGANIZATION_TYPE_Hotel',\n",
       " 'FLAG_DOCUMENT_14',\n",
       " 'ORGANIZATION_TYPE_Emergency',\n",
       " 'ORGANIZATION_TYPE_Culture',\n",
       " 'EMERGENCYSTATE_MODE_Yes']"
      ]
     },
     "execution_count": 20,
     "metadata": {},
     "output_type": "execute_result"
    }
   ],
   "source": [
    "# Feature importance\n",
    "\n",
    "fs.ops['zero_importance']"
   ]
  },
  {
   "cell_type": "code",
   "execution_count": 21,
   "id": "b4ade13c",
   "metadata": {},
   "outputs": [
    {
     "data": {
      "image/png": "[encoded data removed]",
      "text/plain": [
       "<Figure size 720x432 with 1 Axes>"
      ]
     },
     "metadata": {},
     "output_type": "display_data"
    },
    {
     "data": {
      "image/png": "[encoded data removed]",
      "text/plain": [
       "<Figure size 432x288 with 1 Axes>"
      ]
     },
     "metadata": {},
     "output_type": "display_data"
    },
    {
     "name": "stdout",
     "output_type": "stream",
     "text": [
      "121 features required for 0.99 of cumulative importance\n"
     ]
    }
   ],
   "source": [
    "fs.plot_feature_importances(threshold=0.99,plot_n = 12)"
   ]
  },
  {
   "cell_type": "code",
   "execution_count": 22,
   "id": "14e5692c",
   "metadata": {},
   "outputs": [
    {
     "data": {
      "text/html": [
       "<div>\n",
       "<style scoped>\n",
       "    .dataframe tbody tr th:only-of-type {\n",
       "        vertical-align: middle;\n",
       "    }\n",
       "\n",
       "    .dataframe tbody tr th {\n",
       "        vertical-align: top;\n",
       "    }\n",
       "\n",
       "    .dataframe thead th {\n",
       "        text-align: right;\n",
       "    }\n",
       "</style>\n",
       "<table border=\"1\" class=\"dataframe\">\n",
       "  <thead>\n",
       "    <tr style=\"text-align: right;\">\n",
       "      <th></th>\n",
       "      <th>feature</th>\n",
       "      <th>importance</th>\n",
       "      <th>normalized_importance</th>\n",
       "      <th>cumulative_importance</th>\n",
       "    </tr>\n",
       "  </thead>\n",
       "  <tbody>\n",
       "    <tr>\n",
       "      <th>0</th>\n",
       "      <td>EXT_SOURCE_2</td>\n",
       "      <td>158.3</td>\n",
       "      <td>0.087218</td>\n",
       "      <td>0.087218</td>\n",
       "    </tr>\n",
       "    <tr>\n",
       "      <th>1</th>\n",
       "      <td>EXT_SOURCE_3</td>\n",
       "      <td>140.3</td>\n",
       "      <td>0.077300</td>\n",
       "      <td>0.164518</td>\n",
       "    </tr>\n",
       "    <tr>\n",
       "      <th>2</th>\n",
       "      <td>EXT_SOURCE_1</td>\n",
       "      <td>101.4</td>\n",
       "      <td>0.055868</td>\n",
       "      <td>0.220386</td>\n",
       "    </tr>\n",
       "    <tr>\n",
       "      <th>3</th>\n",
       "      <td>DAYS_BIRTH</td>\n",
       "      <td>81.1</td>\n",
       "      <td>0.044683</td>\n",
       "      <td>0.265069</td>\n",
       "    </tr>\n",
       "    <tr>\n",
       "      <th>4</th>\n",
       "      <td>DAYS_ID_PUBLISH</td>\n",
       "      <td>75.9</td>\n",
       "      <td>0.041818</td>\n",
       "      <td>0.306887</td>\n",
       "    </tr>\n",
       "    <tr>\n",
       "      <th>5</th>\n",
       "      <td>DAYS_REGISTRATION</td>\n",
       "      <td>74.8</td>\n",
       "      <td>0.041212</td>\n",
       "      <td>0.348099</td>\n",
       "    </tr>\n",
       "    <tr>\n",
       "      <th>6</th>\n",
       "      <td>SK_ID_CURR</td>\n",
       "      <td>74.3</td>\n",
       "      <td>0.040937</td>\n",
       "      <td>0.389036</td>\n",
       "    </tr>\n",
       "    <tr>\n",
       "      <th>7</th>\n",
       "      <td>DAYS_LAST_PHONE_CHANGE</td>\n",
       "      <td>63.1</td>\n",
       "      <td>0.034766</td>\n",
       "      <td>0.423802</td>\n",
       "    </tr>\n",
       "    <tr>\n",
       "      <th>8</th>\n",
       "      <td>DAYS_EMPLOYED</td>\n",
       "      <td>56.8</td>\n",
       "      <td>0.031295</td>\n",
       "      <td>0.455096</td>\n",
       "    </tr>\n",
       "    <tr>\n",
       "      <th>9</th>\n",
       "      <td>REGION_POPULATION_RELATIVE</td>\n",
       "      <td>54.2</td>\n",
       "      <td>0.029862</td>\n",
       "      <td>0.484959</td>\n",
       "    </tr>\n",
       "  </tbody>\n",
       "</table>\n",
       "</div>"
      ],
      "text/plain": [
       "                      feature  importance  normalized_importance  \\\n",
       "0                EXT_SOURCE_2       158.3               0.087218   \n",
       "1                EXT_SOURCE_3       140.3               0.077300   \n",
       "2                EXT_SOURCE_1       101.4               0.055868   \n",
       "3                  DAYS_BIRTH        81.1               0.044683   \n",
       "4             DAYS_ID_PUBLISH        75.9               0.041818   \n",
       "5           DAYS_REGISTRATION        74.8               0.041212   \n",
       "6                  SK_ID_CURR        74.3               0.040937   \n",
       "7      DAYS_LAST_PHONE_CHANGE        63.1               0.034766   \n",
       "8               DAYS_EMPLOYED        56.8               0.031295   \n",
       "9  REGION_POPULATION_RELATIVE        54.2               0.029862   \n",
       "\n",
       "   cumulative_importance  \n",
       "0               0.087218  \n",
       "1               0.164518  \n",
       "2               0.220386  \n",
       "3               0.265069  \n",
       "4               0.306887  \n",
       "5               0.348099  \n",
       "6               0.389036  \n",
       "7               0.423802  \n",
       "8               0.455096  \n",
       "9               0.484959  "
      ]
     },
     "execution_count": 22,
     "metadata": {},
     "output_type": "execute_result"
    }
   ],
   "source": [
    "fs.feature_importances.head(10)"
   ]
  },
  {
   "cell_type": "code",
   "execution_count": 23,
   "id": "54022736",
   "metadata": {},
   "outputs": [
    {
     "name": "stdout",
     "output_type": "stream",
     "text": [
      "120 features required for cumulative importance of 0.99 after one hot encoding.\n",
      "119 features do not contribute to cumulative importance of 0.99.\n",
      "\n"
     ]
    }
   ],
   "source": [
    "## Low Importance Features\n",
    "\n",
    "fs.identify_low_importance(0.99)"
   ]
  },
  {
   "cell_type": "code",
   "execution_count": 24,
   "id": "06b260cb",
   "metadata": {},
   "outputs": [
    {
     "data": {
      "text/plain": [
       "['ORGANIZATION_TYPE_Medicine',\n",
       " 'WEEKDAY_APPR_PROCESS_START_SUNDAY',\n",
       " 'OCCUPATION_TYPE_Drivers',\n",
       " 'ORGANIZATION_TYPE_Restaurant',\n",
       " 'NAME_HOUSING_TYPE_Rented apartment',\n",
       " 'FONDKAPREMONT_MODE_reg oper spec account',\n",
       " 'ENTRANCES_MEDI',\n",
       " 'FLOORSMAX_MEDI',\n",
       " 'NAME_EDUCATION_TYPE_Incomplete higher',\n",
       " 'NAME_EDUCATION_TYPE_Lower secondary']"
      ]
     },
     "execution_count": 24,
     "metadata": {},
     "output_type": "execute_result"
    }
   ],
   "source": [
    "fs.ops['low_importance'][:10]"
   ]
  },
  {
   "cell_type": "code",
   "execution_count": 25,
   "id": "dbf8a3bd",
   "metadata": {},
   "outputs": [
    {
     "name": "stdout",
     "output_type": "stream",
     "text": [
      "Total of 166 features identified for removal\n"
     ]
    },
    {
     "data": {
      "text/plain": [
       "['ELEVATORS_MODE',\n",
       " 'ORGANIZATION_TYPE_Transport: type 3',\n",
       " 'NONLIVINGAPARTMENTS_MEDI',\n",
       " 'NAME_CONTRACT_TYPE_Revolving loans',\n",
       " 'APARTMENTS_MEDI',\n",
       " 'NONLIVINGAREA_MEDI',\n",
       " 'ORGANIZATION_TYPE_Industry: type 4',\n",
       " 'WEEKDAY_APPR_PROCESS_START_SUNDAY',\n",
       " 'ORGANIZATION_TYPE_Security Ministries',\n",
       " 'TOTALAREA_MODE',\n",
       " 'WALLSMATERIAL_MODE_Mixed',\n",
       " 'HOUSETYPE_MODE',\n",
       " 'ELEVATORS_AVG',\n",
       " 'LIVINGAPARTMENTS_MEDI',\n",
       " 'ORGANIZATION_TYPE_Trade: type 1',\n",
       " 'HOUSETYPE_MODE_specific housing',\n",
       " 'NAME_EDUCATION_TYPE_Incomplete higher',\n",
       " 'ORGANIZATION_TYPE_Realtor',\n",
       " 'BASEMENTAREA_AVG',\n",
       " 'NAME_EDUCATION_TYPE_Lower secondary',\n",
       " 'LANDAREA_MEDI',\n",
       " 'OCCUPATION_TYPE_Waiters/barmen staff',\n",
       " 'NONLIVINGAPARTMENTS_AVG',\n",
       " 'LIVE_REGION_NOT_WORK_REGION',\n",
       " 'BASEMENTAREA_MODE',\n",
       " 'AMT_GOODS_PRICE',\n",
       " 'ORGANIZATION_TYPE_Industry: type 11',\n",
       " 'ORGANIZATION_TYPE_Industry: type 12',\n",
       " 'LIVINGAREA_AVG',\n",
       " 'FLOORSMIN_AVG',\n",
       " 'FLAG_DOCUMENT_15',\n",
       " 'NAME_TYPE_SUITE_Group of people',\n",
       " 'ORGANIZATION_TYPE_Industry: type 5',\n",
       " 'FLAG_OWN_CAR_N',\n",
       " 'YEARS_BEGINEXPLUATATION_MEDI',\n",
       " 'ORGANIZATION_TYPE_XNA',\n",
       " 'FLOORSMAX_AVG',\n",
       " 'ORGANIZATION_TYPE_Insurance',\n",
       " 'NAME_HOUSING_TYPE_With parents',\n",
       " 'ORGANIZATION_TYPE_Transport: type 1',\n",
       " 'ORGANIZATION_TYPE_Advertising',\n",
       " 'NAME_HOUSING_TYPE_Co-op apartment',\n",
       " 'FLAG_DOCUMENT_13',\n",
       " 'WALLSMATERIAL_MODE_Others',\n",
       " 'ORGANIZATION_TYPE_Trade: type 3',\n",
       " 'YEARS_BUILD_MODE',\n",
       " 'ORGANIZATION_TYPE_Industry: type 10',\n",
       " 'ORGANIZATION_TYPE_Industry: type 13',\n",
       " 'ORGANIZATION_TYPE_Trade: type 5',\n",
       " 'ORGANIZATION_TYPE_Mobile',\n",
       " 'WALLSMATERIAL_MODE_Block',\n",
       " 'COMMONAREA_MODE',\n",
       " 'NAME_HOUSING_TYPE_Rented apartment',\n",
       " 'WALLSMATERIAL_MODE',\n",
       " 'NAME_FAMILY_STATUS_Separated',\n",
       " 'ORGANIZATION_TYPE_Medicine',\n",
       " 'ORGANIZATION_TYPE_Telecom',\n",
       " 'AMT_REQ_CREDIT_BUREAU_DAY',\n",
       " 'FLOORSMAX_MODE',\n",
       " 'ORGANIZATION_TYPE_Security',\n",
       " 'NAME_FAMILY_STATUS_Civil marriage',\n",
       " 'OCCUPATION_TYPE_Accountants',\n",
       " 'ENTRANCES_MODE',\n",
       " 'YEARS_BUILD_AVG',\n",
       " 'ORGANIZATION_TYPE_Kindergarten',\n",
       " 'ORGANIZATION_TYPE_Hotel',\n",
       " 'ORGANIZATION_TYPE_Other',\n",
       " 'COMMONAREA_AVG',\n",
       " 'FLAG_OWN_CAR_Y',\n",
       " 'OWN_CAR_AGE',\n",
       " 'NAME_INCOME_TYPE_Pensioner',\n",
       " 'LIVINGAREA_MEDI',\n",
       " 'FLAG_DOCUMENT_12',\n",
       " 'OCCUPATION_TYPE_High skill tech staff',\n",
       " 'EXT_SOURCE_1',\n",
       " 'ORGANIZATION_TYPE_Culture',\n",
       " 'ORGANIZATION_TYPE_Cleaning',\n",
       " 'ORGANIZATION_TYPE_Restaurant',\n",
       " 'LANDAREA_MODE',\n",
       " 'ENTRANCES_AVG',\n",
       " 'FLAG_MOBIL',\n",
       " 'ORGANIZATION_TYPE_Postal',\n",
       " 'ORGANIZATION_TYPE_Emergency',\n",
       " 'FLAG_DOCUMENT_21',\n",
       " 'WALLSMATERIAL_MODE_Monolithic',\n",
       " 'FLAG_DOCUMENT_17',\n",
       " 'NAME_TYPE_SUITE_Children',\n",
       " 'LIVINGAPARTMENTS_AVG',\n",
       " 'FLAG_DOCUMENT_20',\n",
       " 'FLAG_CONT_MOBILE',\n",
       " 'HOUSETYPE_MODE_block of flats',\n",
       " 'NONLIVINGAPARTMENTS_MODE',\n",
       " 'ORGANIZATION_TYPE_Transport: type 4',\n",
       " 'NAME_TYPE_SUITE_Spouse, partner',\n",
       " 'COMMONAREA_MEDI',\n",
       " 'ORGANIZATION_TYPE_Services',\n",
       " 'YEARS_BEGINEXPLUATATION_MODE',\n",
       " 'FONDKAPREMONT_MODE',\n",
       " 'ORGANIZATION_TYPE_Electricity',\n",
       " 'NONLIVINGAREA_AVG',\n",
       " 'OCCUPATION_TYPE_HR staff',\n",
       " 'FLOORSMIN_MODE',\n",
       " 'AMT_REQ_CREDIT_BUREAU_HOUR',\n",
       " 'FLAG_DOCUMENT_19',\n",
       " 'ORGANIZATION_TYPE_Industry: type 3',\n",
       " 'FLAG_EMAIL',\n",
       " 'FLAG_DOCUMENT_7',\n",
       " 'FLAG_DOCUMENT_18',\n",
       " 'ORGANIZATION_TYPE_Industry: type 6',\n",
       " 'OCCUPATION_TYPE_Realty agents',\n",
       " 'LANDAREA_AVG',\n",
       " 'APARTMENTS_MODE',\n",
       " 'ORGANIZATION_TYPE_Business Entity Type 1',\n",
       " 'ORGANIZATION_TYPE_Religion',\n",
       " 'FLAG_DOCUMENT_10',\n",
       " 'OCCUPATION_TYPE_Drivers',\n",
       " 'OCCUPATION_TYPE_IT staff',\n",
       " 'ELEVATORS_MEDI',\n",
       " 'ORGANIZATION_TYPE_Trade: type 7',\n",
       " 'ORGANIZATION_TYPE_Bank',\n",
       " 'BASEMENTAREA_MEDI',\n",
       " 'NAME_EDUCATION_TYPE_Academic degree',\n",
       " 'ORGANIZATION_TYPE_Trade: type 6',\n",
       " 'HOUSETYPE_MODE_terraced house',\n",
       " 'FLAG_DOCUMENT_14',\n",
       " 'FLAG_DOCUMENT_11',\n",
       " 'REGION_RATING_CLIENT_W_CITY',\n",
       " 'FLAG_DOCUMENT_4',\n",
       " 'EMERGENCYSTATE_MODE_Yes',\n",
       " 'CODE_GENDER_XNA',\n",
       " 'APARTMENTS_AVG',\n",
       " 'EMERGENCYSTATE_MODE_No',\n",
       " 'OBS_60_CNT_SOCIAL_CIRCLE',\n",
       " 'FONDKAPREMONT_MODE_not specified',\n",
       " 'ORGANIZATION_TYPE_Legal Services',\n",
       " 'FLOORSMIN_MEDI',\n",
       " 'FLAG_DOCUMENT_9',\n",
       " 'ORGANIZATION_TYPE_Police',\n",
       " 'ORGANIZATION_TYPE_Industry: type 8',\n",
       " 'ORGANIZATION_TYPE_Industry: type 7',\n",
       " 'ORGANIZATION_TYPE_Military',\n",
       " 'ORGANIZATION_TYPE_Industry: type 2',\n",
       " 'OCCUPATION_TYPE_Secretaries',\n",
       " 'ORGANIZATION_TYPE_Trade: type 2',\n",
       " 'NAME_TYPE_SUITE_Other_A',\n",
       " 'OCCUPATION_TYPE_Security staff',\n",
       " 'OCCUPATION_TYPE_Cleaning staff',\n",
       " 'OCCUPATION_TYPE_Low-skill Laborers',\n",
       " 'FONDKAPREMONT_MODE_reg oper spec account',\n",
       " 'NONLIVINGAREA_MODE',\n",
       " 'FLAG_DOCUMENT_2',\n",
       " 'OCCUPATION_TYPE_Private service staff',\n",
       " 'LIVINGAREA_MODE',\n",
       " 'ORGANIZATION_TYPE_Transport: type 2',\n",
       " 'ENTRANCES_MEDI',\n",
       " 'LIVINGAPARTMENTS_MODE',\n",
       " 'ORGANIZATION_TYPE_Industry: type 9',\n",
       " 'FLAG_EMP_PHONE',\n",
       " 'FONDKAPREMONT_MODE_reg oper account',\n",
       " 'FLAG_DOCUMENT_6',\n",
       " 'YEARS_BUILD_MEDI',\n",
       " 'FLOORSMAX_MEDI',\n",
       " 'OCCUPATION_TYPE_Medicine staff',\n",
       " 'ORGANIZATION_TYPE_Housing',\n",
       " 'WALLSMATERIAL_MODE_Wooden',\n",
       " 'ORGANIZATION_TYPE_University']"
      ]
     },
     "execution_count": 25,
     "metadata": {},
     "output_type": "execute_result"
    }
   ],
   "source": [
    "## Removing Features\n",
    "\n",
    "fs.check_removal()"
   ]
  },
  {
   "cell_type": "code",
   "execution_count": 26,
   "id": "590cd1c3",
   "metadata": {},
   "outputs": [
    {
     "name": "stdout",
     "output_type": "stream",
     "text": [
      "['missing', 'collinear', 'zero_importance', 'low_importance'] methods have been run\n",
      "\n",
      "Removed 166 features.\n"
     ]
    },
    {
     "data": {
      "text/html": [
       "<div>\n",
       "<style scoped>\n",
       "    .dataframe tbody tr th:only-of-type {\n",
       "        vertical-align: middle;\n",
       "    }\n",
       "\n",
       "    .dataframe tbody tr th {\n",
       "        vertical-align: top;\n",
       "    }\n",
       "\n",
       "    .dataframe thead th {\n",
       "        text-align: right;\n",
       "    }\n",
       "</style>\n",
       "<table border=\"1\" class=\"dataframe\">\n",
       "  <thead>\n",
       "    <tr style=\"text-align: right;\">\n",
       "      <th></th>\n",
       "      <th>NAME_CONTRACT_TYPE_Cash loans</th>\n",
       "      <th>CODE_GENDER_F</th>\n",
       "      <th>CODE_GENDER_M</th>\n",
       "      <th>FLAG_OWN_REALTY_N</th>\n",
       "      <th>FLAG_OWN_REALTY_Y</th>\n",
       "      <th>NAME_TYPE_SUITE_Family</th>\n",
       "      <th>NAME_TYPE_SUITE_Other_B</th>\n",
       "      <th>NAME_TYPE_SUITE_Unaccompanied</th>\n",
       "      <th>NAME_INCOME_TYPE_Commercial associate</th>\n",
       "      <th>NAME_INCOME_TYPE_State servant</th>\n",
       "      <th>...</th>\n",
       "      <th>DEF_60_CNT_SOCIAL_CIRCLE</th>\n",
       "      <th>DAYS_LAST_PHONE_CHANGE</th>\n",
       "      <th>FLAG_DOCUMENT_3</th>\n",
       "      <th>FLAG_DOCUMENT_5</th>\n",
       "      <th>FLAG_DOCUMENT_8</th>\n",
       "      <th>FLAG_DOCUMENT_16</th>\n",
       "      <th>AMT_REQ_CREDIT_BUREAU_WEEK</th>\n",
       "      <th>AMT_REQ_CREDIT_BUREAU_MON</th>\n",
       "      <th>AMT_REQ_CREDIT_BUREAU_QRT</th>\n",
       "      <th>AMT_REQ_CREDIT_BUREAU_YEAR</th>\n",
       "    </tr>\n",
       "  </thead>\n",
       "  <tbody>\n",
       "    <tr>\n",
       "      <th>0</th>\n",
       "      <td>1</td>\n",
       "      <td>1</td>\n",
       "      <td>0</td>\n",
       "      <td>1</td>\n",
       "      <td>0</td>\n",
       "      <td>0</td>\n",
       "      <td>0</td>\n",
       "      <td>1</td>\n",
       "      <td>0</td>\n",
       "      <td>0</td>\n",
       "      <td>...</td>\n",
       "      <td>1.0</td>\n",
       "      <td>-2622.0</td>\n",
       "      <td>1</td>\n",
       "      <td>0</td>\n",
       "      <td>0</td>\n",
       "      <td>0</td>\n",
       "      <td>0.0</td>\n",
       "      <td>0.0</td>\n",
       "      <td>0.0</td>\n",
       "      <td>1.0</td>\n",
       "    </tr>\n",
       "    <tr>\n",
       "      <th>1</th>\n",
       "      <td>0</td>\n",
       "      <td>1</td>\n",
       "      <td>0</td>\n",
       "      <td>0</td>\n",
       "      <td>1</td>\n",
       "      <td>0</td>\n",
       "      <td>0</td>\n",
       "      <td>1</td>\n",
       "      <td>0</td>\n",
       "      <td>0</td>\n",
       "      <td>...</td>\n",
       "      <td>0.0</td>\n",
       "      <td>-520.0</td>\n",
       "      <td>0</td>\n",
       "      <td>0</td>\n",
       "      <td>0</td>\n",
       "      <td>0</td>\n",
       "      <td>0.0</td>\n",
       "      <td>0.0</td>\n",
       "      <td>0.0</td>\n",
       "      <td>0.0</td>\n",
       "    </tr>\n",
       "    <tr>\n",
       "      <th>2</th>\n",
       "      <td>1</td>\n",
       "      <td>1</td>\n",
       "      <td>0</td>\n",
       "      <td>0</td>\n",
       "      <td>1</td>\n",
       "      <td>1</td>\n",
       "      <td>0</td>\n",
       "      <td>0</td>\n",
       "      <td>0</td>\n",
       "      <td>0</td>\n",
       "      <td>...</td>\n",
       "      <td>0.0</td>\n",
       "      <td>-1285.0</td>\n",
       "      <td>1</td>\n",
       "      <td>0</td>\n",
       "      <td>0</td>\n",
       "      <td>0</td>\n",
       "      <td>1.0</td>\n",
       "      <td>0.0</td>\n",
       "      <td>0.0</td>\n",
       "      <td>7.0</td>\n",
       "    </tr>\n",
       "    <tr>\n",
       "      <th>3</th>\n",
       "      <td>1</td>\n",
       "      <td>1</td>\n",
       "      <td>0</td>\n",
       "      <td>0</td>\n",
       "      <td>1</td>\n",
       "      <td>0</td>\n",
       "      <td>0</td>\n",
       "      <td>1</td>\n",
       "      <td>0</td>\n",
       "      <td>0</td>\n",
       "      <td>...</td>\n",
       "      <td>0.0</td>\n",
       "      <td>-177.0</td>\n",
       "      <td>0</td>\n",
       "      <td>0</td>\n",
       "      <td>0</td>\n",
       "      <td>0</td>\n",
       "      <td>0.0</td>\n",
       "      <td>0.0</td>\n",
       "      <td>0.0</td>\n",
       "      <td>1.0</td>\n",
       "    </tr>\n",
       "    <tr>\n",
       "      <th>4</th>\n",
       "      <td>1</td>\n",
       "      <td>1</td>\n",
       "      <td>0</td>\n",
       "      <td>0</td>\n",
       "      <td>1</td>\n",
       "      <td>0</td>\n",
       "      <td>0</td>\n",
       "      <td>1</td>\n",
       "      <td>0</td>\n",
       "      <td>0</td>\n",
       "      <td>...</td>\n",
       "      <td>0.0</td>\n",
       "      <td>-718.0</td>\n",
       "      <td>1</td>\n",
       "      <td>0</td>\n",
       "      <td>0</td>\n",
       "      <td>0</td>\n",
       "      <td>0.0</td>\n",
       "      <td>0.0</td>\n",
       "      <td>1.0</td>\n",
       "      <td>1.0</td>\n",
       "    </tr>\n",
       "    <tr>\n",
       "      <th>...</th>\n",
       "      <td>...</td>\n",
       "      <td>...</td>\n",
       "      <td>...</td>\n",
       "      <td>...</td>\n",
       "      <td>...</td>\n",
       "      <td>...</td>\n",
       "      <td>...</td>\n",
       "      <td>...</td>\n",
       "      <td>...</td>\n",
       "      <td>...</td>\n",
       "      <td>...</td>\n",
       "      <td>...</td>\n",
       "      <td>...</td>\n",
       "      <td>...</td>\n",
       "      <td>...</td>\n",
       "      <td>...</td>\n",
       "      <td>...</td>\n",
       "      <td>...</td>\n",
       "      <td>...</td>\n",
       "      <td>...</td>\n",
       "      <td>...</td>\n",
       "    </tr>\n",
       "    <tr>\n",
       "      <th>9995</th>\n",
       "      <td>1</td>\n",
       "      <td>0</td>\n",
       "      <td>1</td>\n",
       "      <td>0</td>\n",
       "      <td>1</td>\n",
       "      <td>0</td>\n",
       "      <td>0</td>\n",
       "      <td>1</td>\n",
       "      <td>0</td>\n",
       "      <td>0</td>\n",
       "      <td>...</td>\n",
       "      <td>0.0</td>\n",
       "      <td>-1460.0</td>\n",
       "      <td>0</td>\n",
       "      <td>0</td>\n",
       "      <td>1</td>\n",
       "      <td>0</td>\n",
       "      <td>0.0</td>\n",
       "      <td>0.0</td>\n",
       "      <td>0.0</td>\n",
       "      <td>3.0</td>\n",
       "    </tr>\n",
       "    <tr>\n",
       "      <th>9996</th>\n",
       "      <td>1</td>\n",
       "      <td>0</td>\n",
       "      <td>1</td>\n",
       "      <td>0</td>\n",
       "      <td>1</td>\n",
       "      <td>0</td>\n",
       "      <td>0</td>\n",
       "      <td>1</td>\n",
       "      <td>0</td>\n",
       "      <td>0</td>\n",
       "      <td>...</td>\n",
       "      <td>0.0</td>\n",
       "      <td>-88.0</td>\n",
       "      <td>1</td>\n",
       "      <td>0</td>\n",
       "      <td>0</td>\n",
       "      <td>0</td>\n",
       "      <td>1.0</td>\n",
       "      <td>1.0</td>\n",
       "      <td>0.0</td>\n",
       "      <td>2.0</td>\n",
       "    </tr>\n",
       "    <tr>\n",
       "      <th>9997</th>\n",
       "      <td>1</td>\n",
       "      <td>1</td>\n",
       "      <td>0</td>\n",
       "      <td>0</td>\n",
       "      <td>1</td>\n",
       "      <td>0</td>\n",
       "      <td>0</td>\n",
       "      <td>1</td>\n",
       "      <td>1</td>\n",
       "      <td>0</td>\n",
       "      <td>...</td>\n",
       "      <td>0.0</td>\n",
       "      <td>-2802.0</td>\n",
       "      <td>1</td>\n",
       "      <td>0</td>\n",
       "      <td>0</td>\n",
       "      <td>0</td>\n",
       "      <td>0.0</td>\n",
       "      <td>0.0</td>\n",
       "      <td>0.0</td>\n",
       "      <td>1.0</td>\n",
       "    </tr>\n",
       "    <tr>\n",
       "      <th>9998</th>\n",
       "      <td>1</td>\n",
       "      <td>1</td>\n",
       "      <td>0</td>\n",
       "      <td>0</td>\n",
       "      <td>1</td>\n",
       "      <td>1</td>\n",
       "      <td>0</td>\n",
       "      <td>0</td>\n",
       "      <td>0</td>\n",
       "      <td>0</td>\n",
       "      <td>...</td>\n",
       "      <td>0.0</td>\n",
       "      <td>-1594.0</td>\n",
       "      <td>1</td>\n",
       "      <td>0</td>\n",
       "      <td>0</td>\n",
       "      <td>0</td>\n",
       "      <td>0.0</td>\n",
       "      <td>0.0</td>\n",
       "      <td>3.0</td>\n",
       "      <td>9.0</td>\n",
       "    </tr>\n",
       "    <tr>\n",
       "      <th>9999</th>\n",
       "      <td>0</td>\n",
       "      <td>1</td>\n",
       "      <td>0</td>\n",
       "      <td>0</td>\n",
       "      <td>1</td>\n",
       "      <td>1</td>\n",
       "      <td>0</td>\n",
       "      <td>0</td>\n",
       "      <td>0</td>\n",
       "      <td>0</td>\n",
       "      <td>...</td>\n",
       "      <td>0.0</td>\n",
       "      <td>-592.0</td>\n",
       "      <td>0</td>\n",
       "      <td>0</td>\n",
       "      <td>0</td>\n",
       "      <td>0</td>\n",
       "      <td>0.0</td>\n",
       "      <td>0.0</td>\n",
       "      <td>0.0</td>\n",
       "      <td>2.0</td>\n",
       "    </tr>\n",
       "  </tbody>\n",
       "</table>\n",
       "<p>10000 rows × 89 columns</p>\n",
       "</div>"
      ],
      "text/plain": [
       "      NAME_CONTRACT_TYPE_Cash loans  CODE_GENDER_F  CODE_GENDER_M  \\\n",
       "0                                 1              1              0   \n",
       "1                                 0              1              0   \n",
       "2                                 1              1              0   \n",
       "3                                 1              1              0   \n",
       "4                                 1              1              0   \n",
       "...                             ...            ...            ...   \n",
       "9995                              1              0              1   \n",
       "9996                              1              0              1   \n",
       "9997                              1              1              0   \n",
       "9998                              1              1              0   \n",
       "9999                              0              1              0   \n",
       "\n",
       "      FLAG_OWN_REALTY_N  FLAG_OWN_REALTY_Y  NAME_TYPE_SUITE_Family  \\\n",
       "0                     1                  0                       0   \n",
       "1                     0                  1                       0   \n",
       "2                     0                  1                       1   \n",
       "3                     0                  1                       0   \n",
       "4                     0                  1                       0   \n",
       "...                 ...                ...                     ...   \n",
       "9995                  0                  1                       0   \n",
       "9996                  0                  1                       0   \n",
       "9997                  0                  1                       0   \n",
       "9998                  0                  1                       1   \n",
       "9999                  0                  1                       1   \n",
       "\n",
       "      NAME_TYPE_SUITE_Other_B  NAME_TYPE_SUITE_Unaccompanied  \\\n",
       "0                           0                              1   \n",
       "1                           0                              1   \n",
       "2                           0                              0   \n",
       "3                           0                              1   \n",
       "4                           0                              1   \n",
       "...                       ...                            ...   \n",
       "9995                        0                              1   \n",
       "9996                        0                              1   \n",
       "9997                        0                              1   \n",
       "9998                        0                              0   \n",
       "9999                        0                              0   \n",
       "\n",
       "      NAME_INCOME_TYPE_Commercial associate  NAME_INCOME_TYPE_State servant  \\\n",
       "0                                         0                               0   \n",
       "1                                         0                               0   \n",
       "2                                         0                               0   \n",
       "3                                         0                               0   \n",
       "4                                         0                               0   \n",
       "...                                     ...                             ...   \n",
       "9995                                      0                               0   \n",
       "9996                                      0                               0   \n",
       "9997                                      1                               0   \n",
       "9998                                      0                               0   \n",
       "9999                                      0                               0   \n",
       "\n",
       "      ...  DEF_60_CNT_SOCIAL_CIRCLE  DAYS_LAST_PHONE_CHANGE  FLAG_DOCUMENT_3  \\\n",
       "0     ...                       1.0                 -2622.0                1   \n",
       "1     ...                       0.0                  -520.0                0   \n",
       "2     ...                       0.0                 -1285.0                1   \n",
       "3     ...                       0.0                  -177.0                0   \n",
       "4     ...                       0.0                  -718.0                1   \n",
       "...   ...                       ...                     ...              ...   \n",
       "9995  ...                       0.0                 -1460.0                0   \n",
       "9996  ...                       0.0                   -88.0                1   \n",
       "9997  ...                       0.0                 -2802.0                1   \n",
       "9998  ...                       0.0                 -1594.0                1   \n",
       "9999  ...                       0.0                  -592.0                0   \n",
       "\n",
       "      FLAG_DOCUMENT_5  FLAG_DOCUMENT_8  FLAG_DOCUMENT_16  \\\n",
       "0                   0                0                 0   \n",
       "1                   0                0                 0   \n",
       "2                   0                0                 0   \n",
       "3                   0                0                 0   \n",
       "4                   0                0                 0   \n",
       "...               ...              ...               ...   \n",
       "9995                0                1                 0   \n",
       "9996                0                0                 0   \n",
       "9997                0                0                 0   \n",
       "9998                0                0                 0   \n",
       "9999                0                0                 0   \n",
       "\n",
       "      AMT_REQ_CREDIT_BUREAU_WEEK  AMT_REQ_CREDIT_BUREAU_MON  \\\n",
       "0                            0.0                        0.0   \n",
       "1                            0.0                        0.0   \n",
       "2                            1.0                        0.0   \n",
       "3                            0.0                        0.0   \n",
       "4                            0.0                        0.0   \n",
       "...                          ...                        ...   \n",
       "9995                         0.0                        0.0   \n",
       "9996                         1.0                        1.0   \n",
       "9997                         0.0                        0.0   \n",
       "9998                         0.0                        0.0   \n",
       "9999                         0.0                        0.0   \n",
       "\n",
       "      AMT_REQ_CREDIT_BUREAU_QRT  AMT_REQ_CREDIT_BUREAU_YEAR  \n",
       "0                           0.0                         1.0  \n",
       "1                           0.0                         0.0  \n",
       "2                           0.0                         7.0  \n",
       "3                           0.0                         1.0  \n",
       "4                           1.0                         1.0  \n",
       "...                         ...                         ...  \n",
       "9995                        0.0                         3.0  \n",
       "9996                        0.0                         2.0  \n",
       "9997                        0.0                         1.0  \n",
       "9998                        3.0                         9.0  \n",
       "9999                        0.0                         2.0  \n",
       "\n",
       "[10000 rows x 89 columns]"
      ]
     },
     "execution_count": 26,
     "metadata": {},
     "output_type": "execute_result"
    }
   ],
   "source": [
    "fs.remove(methods='all')"
   ]
  },
  {
   "cell_type": "code",
   "execution_count": 27,
   "id": "a8fe93d9",
   "metadata": {},
   "outputs": [
    {
     "data": {
      "text/plain": [
       "['NAME_CONTRACT_TYPE_Cash loans',\n",
       " 'NAME_CONTRACT_TYPE_Revolving loans',\n",
       " 'CODE_GENDER_F',\n",
       " 'CODE_GENDER_M',\n",
       " 'CODE_GENDER_XNA',\n",
       " 'FLAG_OWN_CAR_N',\n",
       " 'FLAG_OWN_CAR_Y',\n",
       " 'FLAG_OWN_REALTY_N',\n",
       " 'FLAG_OWN_REALTY_Y',\n",
       " 'NAME_TYPE_SUITE_Children',\n",
       " 'NAME_TYPE_SUITE_Family',\n",
       " 'NAME_TYPE_SUITE_Group of people',\n",
       " 'NAME_TYPE_SUITE_Other_A',\n",
       " 'NAME_TYPE_SUITE_Other_B',\n",
       " 'NAME_TYPE_SUITE_Spouse, partner',\n",
       " 'NAME_TYPE_SUITE_Unaccompanied',\n",
       " 'NAME_INCOME_TYPE_Commercial associate',\n",
       " 'NAME_INCOME_TYPE_Pensioner',\n",
       " 'NAME_INCOME_TYPE_State servant',\n",
       " 'NAME_INCOME_TYPE_Working',\n",
       " 'NAME_EDUCATION_TYPE_Academic degree',\n",
       " 'NAME_EDUCATION_TYPE_Higher education',\n",
       " 'NAME_EDUCATION_TYPE_Incomplete higher',\n",
       " 'NAME_EDUCATION_TYPE_Lower secondary',\n",
       " 'NAME_EDUCATION_TYPE_Secondary / secondary special',\n",
       " 'NAME_FAMILY_STATUS_Civil marriage',\n",
       " 'NAME_FAMILY_STATUS_Married',\n",
       " 'NAME_FAMILY_STATUS_Separated',\n",
       " 'NAME_FAMILY_STATUS_Single / not married',\n",
       " 'NAME_FAMILY_STATUS_Widow',\n",
       " 'NAME_HOUSING_TYPE_Co-op apartment',\n",
       " 'NAME_HOUSING_TYPE_House / apartment',\n",
       " 'NAME_HOUSING_TYPE_Municipal apartment',\n",
       " 'NAME_HOUSING_TYPE_Office apartment',\n",
       " 'NAME_HOUSING_TYPE_Rented apartment',\n",
       " 'NAME_HOUSING_TYPE_With parents',\n",
       " 'OCCUPATION_TYPE_Accountants',\n",
       " 'OCCUPATION_TYPE_Cleaning staff',\n",
       " 'OCCUPATION_TYPE_Cooking staff',\n",
       " 'OCCUPATION_TYPE_Core staff',\n",
       " 'OCCUPATION_TYPE_Drivers',\n",
       " 'OCCUPATION_TYPE_HR staff',\n",
       " 'OCCUPATION_TYPE_High skill tech staff',\n",
       " 'OCCUPATION_TYPE_IT staff',\n",
       " 'OCCUPATION_TYPE_Laborers',\n",
       " 'OCCUPATION_TYPE_Low-skill Laborers',\n",
       " 'OCCUPATION_TYPE_Managers',\n",
       " 'OCCUPATION_TYPE_Medicine staff',\n",
       " 'OCCUPATION_TYPE_Private service staff',\n",
       " 'OCCUPATION_TYPE_Realty agents',\n",
       " 'OCCUPATION_TYPE_Sales staff',\n",
       " 'OCCUPATION_TYPE_Secretaries',\n",
       " 'OCCUPATION_TYPE_Security staff',\n",
       " 'OCCUPATION_TYPE_Waiters/barmen staff',\n",
       " 'WEEKDAY_APPR_PROCESS_START_FRIDAY',\n",
       " 'WEEKDAY_APPR_PROCESS_START_MONDAY',\n",
       " 'WEEKDAY_APPR_PROCESS_START_SATURDAY',\n",
       " 'WEEKDAY_APPR_PROCESS_START_SUNDAY',\n",
       " 'WEEKDAY_APPR_PROCESS_START_THURSDAY',\n",
       " 'WEEKDAY_APPR_PROCESS_START_TUESDAY',\n",
       " 'WEEKDAY_APPR_PROCESS_START_WEDNESDAY',\n",
       " 'ORGANIZATION_TYPE_Advertising',\n",
       " 'ORGANIZATION_TYPE_Agriculture',\n",
       " 'ORGANIZATION_TYPE_Bank',\n",
       " 'ORGANIZATION_TYPE_Business Entity Type 1',\n",
       " 'ORGANIZATION_TYPE_Business Entity Type 2',\n",
       " 'ORGANIZATION_TYPE_Business Entity Type 3',\n",
       " 'ORGANIZATION_TYPE_Cleaning',\n",
       " 'ORGANIZATION_TYPE_Construction',\n",
       " 'ORGANIZATION_TYPE_Culture',\n",
       " 'ORGANIZATION_TYPE_Electricity',\n",
       " 'ORGANIZATION_TYPE_Emergency',\n",
       " 'ORGANIZATION_TYPE_Government',\n",
       " 'ORGANIZATION_TYPE_Hotel',\n",
       " 'ORGANIZATION_TYPE_Housing',\n",
       " 'ORGANIZATION_TYPE_Industry: type 1',\n",
       " 'ORGANIZATION_TYPE_Industry: type 10',\n",
       " 'ORGANIZATION_TYPE_Industry: type 11',\n",
       " 'ORGANIZATION_TYPE_Industry: type 12',\n",
       " 'ORGANIZATION_TYPE_Industry: type 13',\n",
       " 'ORGANIZATION_TYPE_Industry: type 2',\n",
       " 'ORGANIZATION_TYPE_Industry: type 3',\n",
       " 'ORGANIZATION_TYPE_Industry: type 4',\n",
       " 'ORGANIZATION_TYPE_Industry: type 5',\n",
       " 'ORGANIZATION_TYPE_Industry: type 6',\n",
       " 'ORGANIZATION_TYPE_Industry: type 7',\n",
       " 'ORGANIZATION_TYPE_Industry: type 8',\n",
       " 'ORGANIZATION_TYPE_Industry: type 9',\n",
       " 'ORGANIZATION_TYPE_Insurance',\n",
       " 'ORGANIZATION_TYPE_Kindergarten',\n",
       " 'ORGANIZATION_TYPE_Legal Services',\n",
       " 'ORGANIZATION_TYPE_Medicine',\n",
       " 'ORGANIZATION_TYPE_Military',\n",
       " 'ORGANIZATION_TYPE_Mobile',\n",
       " 'ORGANIZATION_TYPE_Other',\n",
       " 'ORGANIZATION_TYPE_Police',\n",
       " 'ORGANIZATION_TYPE_Postal',\n",
       " 'ORGANIZATION_TYPE_Realtor',\n",
       " 'ORGANIZATION_TYPE_Religion',\n",
       " 'ORGANIZATION_TYPE_Restaurant',\n",
       " 'ORGANIZATION_TYPE_School',\n",
       " 'ORGANIZATION_TYPE_Security',\n",
       " 'ORGANIZATION_TYPE_Security Ministries',\n",
       " 'ORGANIZATION_TYPE_Self-employed',\n",
       " 'ORGANIZATION_TYPE_Services',\n",
       " 'ORGANIZATION_TYPE_Telecom',\n",
       " 'ORGANIZATION_TYPE_Trade: type 1',\n",
       " 'ORGANIZATION_TYPE_Trade: type 2',\n",
       " 'ORGANIZATION_TYPE_Trade: type 3',\n",
       " 'ORGANIZATION_TYPE_Trade: type 5',\n",
       " 'ORGANIZATION_TYPE_Trade: type 6',\n",
       " 'ORGANIZATION_TYPE_Trade: type 7',\n",
       " 'ORGANIZATION_TYPE_Transport: type 1',\n",
       " 'ORGANIZATION_TYPE_Transport: type 2',\n",
       " 'ORGANIZATION_TYPE_Transport: type 3',\n",
       " 'ORGANIZATION_TYPE_Transport: type 4',\n",
       " 'ORGANIZATION_TYPE_University',\n",
       " 'ORGANIZATION_TYPE_XNA',\n",
       " 'FONDKAPREMONT_MODE_not specified',\n",
       " 'FONDKAPREMONT_MODE_org spec account',\n",
       " 'FONDKAPREMONT_MODE_reg oper account',\n",
       " 'FONDKAPREMONT_MODE_reg oper spec account',\n",
       " 'HOUSETYPE_MODE_block of flats',\n",
       " 'HOUSETYPE_MODE_specific housing',\n",
       " 'HOUSETYPE_MODE_terraced house',\n",
       " 'WALLSMATERIAL_MODE_Block',\n",
       " 'WALLSMATERIAL_MODE_Mixed',\n",
       " 'WALLSMATERIAL_MODE_Monolithic',\n",
       " 'WALLSMATERIAL_MODE_Others',\n",
       " 'WALLSMATERIAL_MODE_Panel',\n",
       " 'WALLSMATERIAL_MODE_Stone, brick',\n",
       " 'WALLSMATERIAL_MODE_Wooden',\n",
       " 'EMERGENCYSTATE_MODE_No',\n",
       " 'EMERGENCYSTATE_MODE_Yes']"
      ]
     },
     "execution_count": 27,
     "metadata": {},
     "output_type": "execute_result"
    }
   ],
   "source": [
    "fs.one_hot_features"
   ]
  },
  {
   "cell_type": "code",
   "execution_count": 28,
   "id": "0ef54776",
   "metadata": {},
   "outputs": [],
   "source": [
    "# fs.remove(methods='all',keep_one_hot=True)"
   ]
  },
  {
   "cell_type": "code",
   "execution_count": 29,
   "id": "5591ca31",
   "metadata": {},
   "outputs": [
    {
     "name": "stdout",
     "output_type": "stream",
     "text": [
      "17 features with greater than 0.60 missing values.\n",
      "\n",
      "4 features with a single unique value.\n",
      "\n"
     ]
    },
    {
     "name": "stderr",
     "output_type": "stream",
     "text": [
      "c:\\users\\karthikraghavan\\feature-selector\\feature_selector\\feature_selector.py:192: FutureWarning: The default value of numeric_only in DataFrame.corr is deprecated. In a future version, it will default to False. Select only valid columns or specify the value of numeric_only to silence this warning.\n",
      "  corr_matrix = self.data.corr()\n",
      "c:\\users\\karthikraghavan\\feature-selector\\feature_selector\\feature_selector.py:222: FutureWarning: The frame.append method is deprecated and will be removed from pandas in a future version. Use pandas.concat instead.\n",
      "  record_collinear = record_collinear.append(temp_df, ignore_index = True)\n"
     ]
    },
    {
     "name": "stdout",
     "output_type": "stream",
     "text": [
      "21 features with a correlation magnitude greater than 0.98.\n",
      "\n",
      "Training Gradient Boosting Model\n",
      "\n",
      "Training until validation scores don't improve for 100 rounds\n",
      "Early stopping, best iteration is:\n",
      "[119]\tvalid_0's auc: 0.730509\tvalid_0's binary_logloss: 0.256658\n",
      "Training until validation scores don't improve for 100 rounds\n",
      "Early stopping, best iteration is:\n",
      "[67]\tvalid_0's auc: 0.742211\tvalid_0's binary_logloss: 0.252834\n",
      "Training until validation scores don't improve for 100 rounds\n",
      "Early stopping, best iteration is:\n",
      "[59]\tvalid_0's auc: 0.736555\tvalid_0's binary_logloss: 0.257008\n",
      "Training until validation scores don't improve for 100 rounds\n",
      "Early stopping, best iteration is:\n",
      "[54]\tvalid_0's auc: 0.755424\tvalid_0's binary_logloss: 0.253006\n",
      "Training until validation scores don't improve for 100 rounds\n",
      "Early stopping, best iteration is:\n",
      "[22]\tvalid_0's auc: 0.759085\tvalid_0's binary_logloss: 0.250897\n",
      "Training until validation scores don't improve for 100 rounds\n",
      "Early stopping, best iteration is:\n",
      "[57]\tvalid_0's auc: 0.758211\tvalid_0's binary_logloss: 0.24829\n",
      "Training until validation scores don't improve for 100 rounds\n",
      "Early stopping, best iteration is:\n",
      "[73]\tvalid_0's auc: 0.734754\tvalid_0's binary_logloss: 0.256986\n",
      "Training until validation scores don't improve for 100 rounds\n",
      "Early stopping, best iteration is:\n",
      "[55]\tvalid_0's auc: 0.756676\tvalid_0's binary_logloss: 0.251973\n",
      "Training until validation scores don't improve for 100 rounds\n",
      "Early stopping, best iteration is:\n",
      "[60]\tvalid_0's auc: 0.76731\tvalid_0's binary_logloss: 0.244746\n",
      "Training until validation scores don't improve for 100 rounds\n",
      "Early stopping, best iteration is:\n",
      "[68]\tvalid_0's auc: 0.735203\tvalid_0's binary_logloss: 0.258022\n",
      "\n",
      "76 features with zero importance after one-hot encoding.\n",
      "\n",
      "121 features required for cumulative importance of 0.99 after one hot encoding.\n",
      "118 features do not contribute to cumulative importance of 0.99.\n",
      "\n",
      "145 total features out of 255 identified for removal after one-hot encoding.\n",
      "\n"
     ]
    }
   ],
   "source": [
    "## Running All Methods at once\n",
    "\n",
    "from feature_selector import FeatureSelector\n",
    "import pandas as pd\n",
    "%matplotlib inline\n",
    "\n",
    "df = pd.read_csv('credit_example.csv')\n",
    "\n",
    "train_labels = df['TARGET']\n",
    "df.drop('TARGET',axis=1,inplace=True)\n",
    "\n",
    "fs = FeatureSelector(df,labels=train_labels)\n",
    "\n",
    "fs.identify_all(selection_params={'missing_threshold':0.6,'correlation_threshold':0.98,\n",
    "                                 'task':'classification','eval_metric':'auc',\n",
    "                                 'cumulative_importance':0.99})"
   ]
  },
  {
   "cell_type": "code",
   "execution_count": 30,
   "id": "a81b22ec",
   "metadata": {},
   "outputs": [
    {
     "name": "stdout",
     "output_type": "stream",
     "text": [
      "['missing', 'single_unique', 'collinear', 'zero_importance', 'low_importance'] methods have been run\n",
      "\n",
      "Removed 145 features.\n"
     ]
    }
   ],
   "source": [
    "TrainRemoveAllOnce = fs.remove(methods='all',keep_one_hot=True)"
   ]
  },
  {
   "cell_type": "code",
   "execution_count": 31,
   "id": "2305cf05",
   "metadata": {},
   "outputs": [
    {
     "data": {
      "text/html": [
       "<div>\n",
       "<style scoped>\n",
       "    .dataframe tbody tr th:only-of-type {\n",
       "        vertical-align: middle;\n",
       "    }\n",
       "\n",
       "    .dataframe tbody tr th {\n",
       "        vertical-align: top;\n",
       "    }\n",
       "\n",
       "    .dataframe thead th {\n",
       "        text-align: right;\n",
       "    }\n",
       "</style>\n",
       "<table border=\"1\" class=\"dataframe\">\n",
       "  <thead>\n",
       "    <tr style=\"text-align: right;\">\n",
       "      <th></th>\n",
       "      <th>NAME_CONTRACT_TYPE_Cash loans</th>\n",
       "      <th>CODE_GENDER_F</th>\n",
       "      <th>CODE_GENDER_M</th>\n",
       "      <th>FLAG_OWN_REALTY_N</th>\n",
       "      <th>FLAG_OWN_REALTY_Y</th>\n",
       "      <th>NAME_TYPE_SUITE_Family</th>\n",
       "      <th>NAME_TYPE_SUITE_Other_B</th>\n",
       "      <th>NAME_TYPE_SUITE_Unaccompanied</th>\n",
       "      <th>NAME_INCOME_TYPE_Commercial associate</th>\n",
       "      <th>NAME_INCOME_TYPE_State servant</th>\n",
       "      <th>...</th>\n",
       "      <th>EMERGENCYSTATE_MODE</th>\n",
       "      <th>OBS_30_CNT_SOCIAL_CIRCLE</th>\n",
       "      <th>DEF_30_CNT_SOCIAL_CIRCLE</th>\n",
       "      <th>DEF_60_CNT_SOCIAL_CIRCLE</th>\n",
       "      <th>DAYS_LAST_PHONE_CHANGE</th>\n",
       "      <th>FLAG_DOCUMENT_3</th>\n",
       "      <th>AMT_REQ_CREDIT_BUREAU_WEEK</th>\n",
       "      <th>AMT_REQ_CREDIT_BUREAU_MON</th>\n",
       "      <th>AMT_REQ_CREDIT_BUREAU_QRT</th>\n",
       "      <th>AMT_REQ_CREDIT_BUREAU_YEAR</th>\n",
       "    </tr>\n",
       "  </thead>\n",
       "  <tbody>\n",
       "    <tr>\n",
       "      <th>0</th>\n",
       "      <td>1</td>\n",
       "      <td>1</td>\n",
       "      <td>0</td>\n",
       "      <td>1</td>\n",
       "      <td>0</td>\n",
       "      <td>0</td>\n",
       "      <td>0</td>\n",
       "      <td>1</td>\n",
       "      <td>0</td>\n",
       "      <td>0</td>\n",
       "      <td>...</td>\n",
       "      <td>No</td>\n",
       "      <td>1.0</td>\n",
       "      <td>1.0</td>\n",
       "      <td>1.0</td>\n",
       "      <td>-2622.0</td>\n",
       "      <td>1</td>\n",
       "      <td>0.0</td>\n",
       "      <td>0.0</td>\n",
       "      <td>0.0</td>\n",
       "      <td>1.0</td>\n",
       "    </tr>\n",
       "    <tr>\n",
       "      <th>1</th>\n",
       "      <td>0</td>\n",
       "      <td>1</td>\n",
       "      <td>0</td>\n",
       "      <td>0</td>\n",
       "      <td>1</td>\n",
       "      <td>0</td>\n",
       "      <td>0</td>\n",
       "      <td>1</td>\n",
       "      <td>0</td>\n",
       "      <td>0</td>\n",
       "      <td>...</td>\n",
       "      <td>NaN</td>\n",
       "      <td>0.0</td>\n",
       "      <td>0.0</td>\n",
       "      <td>0.0</td>\n",
       "      <td>-520.0</td>\n",
       "      <td>0</td>\n",
       "      <td>0.0</td>\n",
       "      <td>0.0</td>\n",
       "      <td>0.0</td>\n",
       "      <td>0.0</td>\n",
       "    </tr>\n",
       "    <tr>\n",
       "      <th>2</th>\n",
       "      <td>1</td>\n",
       "      <td>1</td>\n",
       "      <td>0</td>\n",
       "      <td>0</td>\n",
       "      <td>1</td>\n",
       "      <td>1</td>\n",
       "      <td>0</td>\n",
       "      <td>0</td>\n",
       "      <td>0</td>\n",
       "      <td>0</td>\n",
       "      <td>...</td>\n",
       "      <td>NaN</td>\n",
       "      <td>2.0</td>\n",
       "      <td>0.0</td>\n",
       "      <td>0.0</td>\n",
       "      <td>-1285.0</td>\n",
       "      <td>1</td>\n",
       "      <td>1.0</td>\n",
       "      <td>0.0</td>\n",
       "      <td>0.0</td>\n",
       "      <td>7.0</td>\n",
       "    </tr>\n",
       "    <tr>\n",
       "      <th>3</th>\n",
       "      <td>1</td>\n",
       "      <td>1</td>\n",
       "      <td>0</td>\n",
       "      <td>0</td>\n",
       "      <td>1</td>\n",
       "      <td>0</td>\n",
       "      <td>0</td>\n",
       "      <td>1</td>\n",
       "      <td>0</td>\n",
       "      <td>0</td>\n",
       "      <td>...</td>\n",
       "      <td>No</td>\n",
       "      <td>5.0</td>\n",
       "      <td>1.0</td>\n",
       "      <td>0.0</td>\n",
       "      <td>-177.0</td>\n",
       "      <td>0</td>\n",
       "      <td>0.0</td>\n",
       "      <td>0.0</td>\n",
       "      <td>0.0</td>\n",
       "      <td>1.0</td>\n",
       "    </tr>\n",
       "    <tr>\n",
       "      <th>4</th>\n",
       "      <td>1</td>\n",
       "      <td>1</td>\n",
       "      <td>0</td>\n",
       "      <td>0</td>\n",
       "      <td>1</td>\n",
       "      <td>0</td>\n",
       "      <td>0</td>\n",
       "      <td>1</td>\n",
       "      <td>0</td>\n",
       "      <td>0</td>\n",
       "      <td>...</td>\n",
       "      <td>No</td>\n",
       "      <td>0.0</td>\n",
       "      <td>0.0</td>\n",
       "      <td>0.0</td>\n",
       "      <td>-718.0</td>\n",
       "      <td>1</td>\n",
       "      <td>0.0</td>\n",
       "      <td>0.0</td>\n",
       "      <td>1.0</td>\n",
       "      <td>1.0</td>\n",
       "    </tr>\n",
       "    <tr>\n",
       "      <th>...</th>\n",
       "      <td>...</td>\n",
       "      <td>...</td>\n",
       "      <td>...</td>\n",
       "      <td>...</td>\n",
       "      <td>...</td>\n",
       "      <td>...</td>\n",
       "      <td>...</td>\n",
       "      <td>...</td>\n",
       "      <td>...</td>\n",
       "      <td>...</td>\n",
       "      <td>...</td>\n",
       "      <td>...</td>\n",
       "      <td>...</td>\n",
       "      <td>...</td>\n",
       "      <td>...</td>\n",
       "      <td>...</td>\n",
       "      <td>...</td>\n",
       "      <td>...</td>\n",
       "      <td>...</td>\n",
       "      <td>...</td>\n",
       "      <td>...</td>\n",
       "    </tr>\n",
       "    <tr>\n",
       "      <th>9995</th>\n",
       "      <td>1</td>\n",
       "      <td>0</td>\n",
       "      <td>1</td>\n",
       "      <td>0</td>\n",
       "      <td>1</td>\n",
       "      <td>0</td>\n",
       "      <td>0</td>\n",
       "      <td>1</td>\n",
       "      <td>0</td>\n",
       "      <td>0</td>\n",
       "      <td>...</td>\n",
       "      <td>NaN</td>\n",
       "      <td>13.0</td>\n",
       "      <td>0.0</td>\n",
       "      <td>0.0</td>\n",
       "      <td>-1460.0</td>\n",
       "      <td>0</td>\n",
       "      <td>0.0</td>\n",
       "      <td>0.0</td>\n",
       "      <td>0.0</td>\n",
       "      <td>3.0</td>\n",
       "    </tr>\n",
       "    <tr>\n",
       "      <th>9996</th>\n",
       "      <td>1</td>\n",
       "      <td>0</td>\n",
       "      <td>1</td>\n",
       "      <td>0</td>\n",
       "      <td>1</td>\n",
       "      <td>0</td>\n",
       "      <td>0</td>\n",
       "      <td>1</td>\n",
       "      <td>0</td>\n",
       "      <td>0</td>\n",
       "      <td>...</td>\n",
       "      <td>NaN</td>\n",
       "      <td>0.0</td>\n",
       "      <td>0.0</td>\n",
       "      <td>0.0</td>\n",
       "      <td>-88.0</td>\n",
       "      <td>1</td>\n",
       "      <td>1.0</td>\n",
       "      <td>1.0</td>\n",
       "      <td>0.0</td>\n",
       "      <td>2.0</td>\n",
       "    </tr>\n",
       "    <tr>\n",
       "      <th>9997</th>\n",
       "      <td>1</td>\n",
       "      <td>1</td>\n",
       "      <td>0</td>\n",
       "      <td>0</td>\n",
       "      <td>1</td>\n",
       "      <td>0</td>\n",
       "      <td>0</td>\n",
       "      <td>1</td>\n",
       "      <td>1</td>\n",
       "      <td>0</td>\n",
       "      <td>...</td>\n",
       "      <td>No</td>\n",
       "      <td>0.0</td>\n",
       "      <td>0.0</td>\n",
       "      <td>0.0</td>\n",
       "      <td>-2802.0</td>\n",
       "      <td>1</td>\n",
       "      <td>0.0</td>\n",
       "      <td>0.0</td>\n",
       "      <td>0.0</td>\n",
       "      <td>1.0</td>\n",
       "    </tr>\n",
       "    <tr>\n",
       "      <th>9998</th>\n",
       "      <td>1</td>\n",
       "      <td>1</td>\n",
       "      <td>0</td>\n",
       "      <td>0</td>\n",
       "      <td>1</td>\n",
       "      <td>1</td>\n",
       "      <td>0</td>\n",
       "      <td>0</td>\n",
       "      <td>0</td>\n",
       "      <td>0</td>\n",
       "      <td>...</td>\n",
       "      <td>No</td>\n",
       "      <td>0.0</td>\n",
       "      <td>0.0</td>\n",
       "      <td>0.0</td>\n",
       "      <td>-1594.0</td>\n",
       "      <td>1</td>\n",
       "      <td>0.0</td>\n",
       "      <td>0.0</td>\n",
       "      <td>3.0</td>\n",
       "      <td>9.0</td>\n",
       "    </tr>\n",
       "    <tr>\n",
       "      <th>9999</th>\n",
       "      <td>0</td>\n",
       "      <td>1</td>\n",
       "      <td>0</td>\n",
       "      <td>0</td>\n",
       "      <td>1</td>\n",
       "      <td>1</td>\n",
       "      <td>0</td>\n",
       "      <td>0</td>\n",
       "      <td>0</td>\n",
       "      <td>0</td>\n",
       "      <td>...</td>\n",
       "      <td>No</td>\n",
       "      <td>0.0</td>\n",
       "      <td>0.0</td>\n",
       "      <td>0.0</td>\n",
       "      <td>-592.0</td>\n",
       "      <td>0</td>\n",
       "      <td>0.0</td>\n",
       "      <td>0.0</td>\n",
       "      <td>0.0</td>\n",
       "      <td>2.0</td>\n",
       "    </tr>\n",
       "  </tbody>\n",
       "</table>\n",
       "<p>10000 rows × 110 columns</p>\n",
       "</div>"
      ],
      "text/plain": [
       "      NAME_CONTRACT_TYPE_Cash loans  CODE_GENDER_F  CODE_GENDER_M  \\\n",
       "0                                 1              1              0   \n",
       "1                                 0              1              0   \n",
       "2                                 1              1              0   \n",
       "3                                 1              1              0   \n",
       "4                                 1              1              0   \n",
       "...                             ...            ...            ...   \n",
       "9995                              1              0              1   \n",
       "9996                              1              0              1   \n",
       "9997                              1              1              0   \n",
       "9998                              1              1              0   \n",
       "9999                              0              1              0   \n",
       "\n",
       "      FLAG_OWN_REALTY_N  FLAG_OWN_REALTY_Y  NAME_TYPE_SUITE_Family  \\\n",
       "0                     1                  0                       0   \n",
       "1                     0                  1                       0   \n",
       "2                     0                  1                       1   \n",
       "3                     0                  1                       0   \n",
       "4                     0                  1                       0   \n",
       "...                 ...                ...                     ...   \n",
       "9995                  0                  1                       0   \n",
       "9996                  0                  1                       0   \n",
       "9997                  0                  1                       0   \n",
       "9998                  0                  1                       1   \n",
       "9999                  0                  1                       1   \n",
       "\n",
       "      NAME_TYPE_SUITE_Other_B  NAME_TYPE_SUITE_Unaccompanied  \\\n",
       "0                           0                              1   \n",
       "1                           0                              1   \n",
       "2                           0                              0   \n",
       "3                           0                              1   \n",
       "4                           0                              1   \n",
       "...                       ...                            ...   \n",
       "9995                        0                              1   \n",
       "9996                        0                              1   \n",
       "9997                        0                              1   \n",
       "9998                        0                              0   \n",
       "9999                        0                              0   \n",
       "\n",
       "      NAME_INCOME_TYPE_Commercial associate  NAME_INCOME_TYPE_State servant  \\\n",
       "0                                         0                               0   \n",
       "1                                         0                               0   \n",
       "2                                         0                               0   \n",
       "3                                         0                               0   \n",
       "4                                         0                               0   \n",
       "...                                     ...                             ...   \n",
       "9995                                      0                               0   \n",
       "9996                                      0                               0   \n",
       "9997                                      1                               0   \n",
       "9998                                      0                               0   \n",
       "9999                                      0                               0   \n",
       "\n",
       "      ...  EMERGENCYSTATE_MODE  OBS_30_CNT_SOCIAL_CIRCLE  \\\n",
       "0     ...                   No                       1.0   \n",
       "1     ...                  NaN                       0.0   \n",
       "2     ...                  NaN                       2.0   \n",
       "3     ...                   No                       5.0   \n",
       "4     ...                   No                       0.0   \n",
       "...   ...                  ...                       ...   \n",
       "9995  ...                  NaN                      13.0   \n",
       "9996  ...                  NaN                       0.0   \n",
       "9997  ...                   No                       0.0   \n",
       "9998  ...                   No                       0.0   \n",
       "9999  ...                   No                       0.0   \n",
       "\n",
       "      DEF_30_CNT_SOCIAL_CIRCLE  DEF_60_CNT_SOCIAL_CIRCLE  \\\n",
       "0                          1.0                       1.0   \n",
       "1                          0.0                       0.0   \n",
       "2                          0.0                       0.0   \n",
       "3                          1.0                       0.0   \n",
       "4                          0.0                       0.0   \n",
       "...                        ...                       ...   \n",
       "9995                       0.0                       0.0   \n",
       "9996                       0.0                       0.0   \n",
       "9997                       0.0                       0.0   \n",
       "9998                       0.0                       0.0   \n",
       "9999                       0.0                       0.0   \n",
       "\n",
       "      DAYS_LAST_PHONE_CHANGE  FLAG_DOCUMENT_3  AMT_REQ_CREDIT_BUREAU_WEEK  \\\n",
       "0                    -2622.0                1                         0.0   \n",
       "1                     -520.0                0                         0.0   \n",
       "2                    -1285.0                1                         1.0   \n",
       "3                     -177.0                0                         0.0   \n",
       "4                     -718.0                1                         0.0   \n",
       "...                      ...              ...                         ...   \n",
       "9995                 -1460.0                0                         0.0   \n",
       "9996                   -88.0                1                         1.0   \n",
       "9997                 -2802.0                1                         0.0   \n",
       "9998                 -1594.0                1                         0.0   \n",
       "9999                  -592.0                0                         0.0   \n",
       "\n",
       "      AMT_REQ_CREDIT_BUREAU_MON  AMT_REQ_CREDIT_BUREAU_QRT  \\\n",
       "0                           0.0                        0.0   \n",
       "1                           0.0                        0.0   \n",
       "2                           0.0                        0.0   \n",
       "3                           0.0                        0.0   \n",
       "4                           0.0                        1.0   \n",
       "...                         ...                        ...   \n",
       "9995                        0.0                        0.0   \n",
       "9996                        1.0                        0.0   \n",
       "9997                        0.0                        0.0   \n",
       "9998                        0.0                        3.0   \n",
       "9999                        0.0                        0.0   \n",
       "\n",
       "      AMT_REQ_CREDIT_BUREAU_YEAR  \n",
       "0                            1.0  \n",
       "1                            0.0  \n",
       "2                            7.0  \n",
       "3                            1.0  \n",
       "4                            1.0  \n",
       "...                          ...  \n",
       "9995                         3.0  \n",
       "9996                         2.0  \n",
       "9997                         1.0  \n",
       "9998                         9.0  \n",
       "9999                         2.0  \n",
       "\n",
       "[10000 rows x 110 columns]"
      ]
     },
     "execution_count": 31,
     "metadata": {},
     "output_type": "execute_result"
    }
   ],
   "source": [
    "TrainRemoveAllOnce"
   ]
  },
  {
   "cell_type": "markdown",
   "id": "cafbd8e2",
   "metadata": {},
   "source": [
    "## RFECV"
   ]
  },
  {
   "cell_type": "code",
   "execution_count": 32,
   "id": "6c09588a",
   "metadata": {},
   "outputs": [],
   "source": [
    "# RFE - Recursive Feature Elimination\n",
    "# CV - Cross Validation"
   ]
  },
  {
   "cell_type": "code",
   "execution_count": 33,
   "id": "0cf054bb",
   "metadata": {},
   "outputs": [
    {
     "data": {
      "text/html": [
       "<div>\n",
       "<style scoped>\n",
       "    .dataframe tbody tr th:only-of-type {\n",
       "        vertical-align: middle;\n",
       "    }\n",
       "\n",
       "    .dataframe tbody tr th {\n",
       "        vertical-align: top;\n",
       "    }\n",
       "\n",
       "    .dataframe thead th {\n",
       "        text-align: right;\n",
       "    }\n",
       "</style>\n",
       "<table border=\"1\" class=\"dataframe\">\n",
       "  <thead>\n",
       "    <tr style=\"text-align: right;\">\n",
       "      <th></th>\n",
       "      <th>PassengerId</th>\n",
       "      <th>Survived</th>\n",
       "      <th>Pclass</th>\n",
       "      <th>Name</th>\n",
       "      <th>Sex</th>\n",
       "      <th>Age</th>\n",
       "      <th>SibSp</th>\n",
       "      <th>Parch</th>\n",
       "      <th>Ticket</th>\n",
       "      <th>Fare</th>\n",
       "      <th>Cabin</th>\n",
       "      <th>Embarked</th>\n",
       "    </tr>\n",
       "  </thead>\n",
       "  <tbody>\n",
       "    <tr>\n",
       "      <th>0</th>\n",
       "      <td>1</td>\n",
       "      <td>0</td>\n",
       "      <td>3</td>\n",
       "      <td>Braund, Mr. Owen Harris</td>\n",
       "      <td>male</td>\n",
       "      <td>22.0</td>\n",
       "      <td>1</td>\n",
       "      <td>0</td>\n",
       "      <td>A/5 21171</td>\n",
       "      <td>7.2500</td>\n",
       "      <td>NaN</td>\n",
       "      <td>S</td>\n",
       "    </tr>\n",
       "    <tr>\n",
       "      <th>1</th>\n",
       "      <td>2</td>\n",
       "      <td>1</td>\n",
       "      <td>1</td>\n",
       "      <td>Cumings, Mrs. John Bradley (Florence Briggs Th...</td>\n",
       "      <td>female</td>\n",
       "      <td>38.0</td>\n",
       "      <td>1</td>\n",
       "      <td>0</td>\n",
       "      <td>PC 17599</td>\n",
       "      <td>71.2833</td>\n",
       "      <td>C85</td>\n",
       "      <td>C</td>\n",
       "    </tr>\n",
       "    <tr>\n",
       "      <th>2</th>\n",
       "      <td>3</td>\n",
       "      <td>1</td>\n",
       "      <td>3</td>\n",
       "      <td>Heikkinen, Miss. Laina</td>\n",
       "      <td>female</td>\n",
       "      <td>26.0</td>\n",
       "      <td>0</td>\n",
       "      <td>0</td>\n",
       "      <td>STON/O2. 3101282</td>\n",
       "      <td>7.9250</td>\n",
       "      <td>NaN</td>\n",
       "      <td>S</td>\n",
       "    </tr>\n",
       "    <tr>\n",
       "      <th>3</th>\n",
       "      <td>4</td>\n",
       "      <td>1</td>\n",
       "      <td>1</td>\n",
       "      <td>Futrelle, Mrs. Jacques Heath (Lily May Peel)</td>\n",
       "      <td>female</td>\n",
       "      <td>35.0</td>\n",
       "      <td>1</td>\n",
       "      <td>0</td>\n",
       "      <td>113803</td>\n",
       "      <td>53.1000</td>\n",
       "      <td>C123</td>\n",
       "      <td>S</td>\n",
       "    </tr>\n",
       "    <tr>\n",
       "      <th>4</th>\n",
       "      <td>5</td>\n",
       "      <td>0</td>\n",
       "      <td>3</td>\n",
       "      <td>Allen, Mr. William Henry</td>\n",
       "      <td>male</td>\n",
       "      <td>35.0</td>\n",
       "      <td>0</td>\n",
       "      <td>0</td>\n",
       "      <td>373450</td>\n",
       "      <td>8.0500</td>\n",
       "      <td>NaN</td>\n",
       "      <td>S</td>\n",
       "    </tr>\n",
       "  </tbody>\n",
       "</table>\n",
       "</div>"
      ],
      "text/plain": [
       "   PassengerId  Survived  Pclass  \\\n",
       "0            1         0       3   \n",
       "1            2         1       1   \n",
       "2            3         1       3   \n",
       "3            4         1       1   \n",
       "4            5         0       3   \n",
       "\n",
       "                                                Name     Sex   Age  SibSp  \\\n",
       "0                            Braund, Mr. Owen Harris    male  22.0      1   \n",
       "1  Cumings, Mrs. John Bradley (Florence Briggs Th...  female  38.0      1   \n",
       "2                             Heikkinen, Miss. Laina  female  26.0      0   \n",
       "3       Futrelle, Mrs. Jacques Heath (Lily May Peel)  female  35.0      1   \n",
       "4                           Allen, Mr. William Henry    male  35.0      0   \n",
       "\n",
       "   Parch            Ticket     Fare Cabin Embarked  \n",
       "0      0         A/5 21171   7.2500   NaN        S  \n",
       "1      0          PC 17599  71.2833   C85        C  \n",
       "2      0  STON/O2. 3101282   7.9250   NaN        S  \n",
       "3      0            113803  53.1000  C123        S  \n",
       "4      0            373450   8.0500   NaN        S  "
      ]
     },
     "execution_count": 33,
     "metadata": {},
     "output_type": "execute_result"
    }
   ],
   "source": [
    "titanic = pd.read_csv('https://gist.githubusercontent.com/balmasi/0e65f72c48f2a3498ceb36ffc216f5eb/raw/fa71405126017e6a37bea592440b4bee94bf7b9e/titanic.csv')\n",
    "titanic.head()"
   ]
  },
  {
   "cell_type": "code",
   "execution_count": 34,
   "id": "e9013b76",
   "metadata": {},
   "outputs": [],
   "source": [
    "titanic.drop(['PassengerId','Name','Ticket'],axis = 1,inplace=True)"
   ]
  },
  {
   "cell_type": "code",
   "execution_count": 35,
   "id": "81326209",
   "metadata": {},
   "outputs": [],
   "source": [
    "GenderMapper = {'male':0,'female':1}\n",
    "titanic['Sex'] = titanic['Sex'].map(GenderMapper)\n",
    "# titanic['Sex'].replace(GenderMapper,inplace=True)"
   ]
  },
  {
   "cell_type": "code",
   "execution_count": 36,
   "id": "3b42271e",
   "metadata": {},
   "outputs": [],
   "source": [
    "titanic['CabinKnown'] = [0 if str(x) =='nan' else 1 for x in titanic['Cabin']]\n",
    "titanic.drop('Cabin',axis=1,inplace=True)"
   ]
  },
  {
   "cell_type": "code",
   "execution_count": 37,
   "id": "3524f388",
   "metadata": {},
   "outputs": [],
   "source": [
    "titanic['Age'].fillna(int(titanic.Age.mean()),inplace=True)"
   ]
  },
  {
   "cell_type": "code",
   "execution_count": 38,
   "id": "75a4e1a7",
   "metadata": {},
   "outputs": [],
   "source": [
    "EmbarkDummies = pd.get_dummies(titanic['Embarked'],prefix='Embarked',drop_first=True)\n",
    "titanic.drop('Embarked',axis = 1,inplace = True)"
   ]
  },
  {
   "cell_type": "code",
   "execution_count": 39,
   "id": "5dcdd646",
   "metadata": {},
   "outputs": [],
   "source": [
    "titanic = pd.concat([titanic,EmbarkDummies],axis = 1)"
   ]
  },
  {
   "cell_type": "code",
   "execution_count": 40,
   "id": "52507388",
   "metadata": {},
   "outputs": [],
   "source": [
    "# Creating REFCV Estimator\n",
    "\n",
    "from sklearn.feature_selection import RFECV\n",
    "from sklearn.ensemble import RandomForestClassifier"
   ]
  },
  {
   "cell_type": "code",
   "execution_count": 41,
   "id": "e3c9b3a5",
   "metadata": {},
   "outputs": [
    {
     "data": {
      "text/html": [
       "<style>#sk-container-id-1 {color: black;background-color: white;}#sk-container-id-1 pre{padding: 0;}#sk-container-id-1 div.sk-toggleable {background-color: white;}#sk-container-id-1 label.sk-toggleable__label {cursor: pointer;display: block;width: 100%;margin-bottom: 0;padding: 0.3em;box-sizing: border-box;text-align: center;}#sk-container-id-1 label.sk-toggleable__label-arrow:before {content: \"▸\";float: left;margin-right: 0.25em;color: #696969;}#sk-container-id-1 label.sk-toggleable__label-arrow:hover:before {color: black;}#sk-container-id-1 div.sk-estimator:hover label.sk-toggleable__label-arrow:before {color: black;}#sk-container-id-1 div.sk-toggleable__content {max-height: 0;max-width: 0;overflow: hidden;text-align: left;background-color: #f0f8ff;}#sk-container-id-1 div.sk-toggleable__content pre {margin: 0.2em;color: black;border-radius: 0.25em;background-color: #f0f8ff;}#sk-container-id-1 input.sk-toggleable__control:checked~div.sk-toggleable__content {max-height: 200px;max-width: 100%;overflow: auto;}#sk-container-id-1 input.sk-toggleable__control:checked~label.sk-toggleable__label-arrow:before {content: \"▾\";}#sk-container-id-1 div.sk-estimator input.sk-toggleable__control:checked~label.sk-toggleable__label {background-color: #d4ebff;}#sk-container-id-1 div.sk-label input.sk-toggleable__control:checked~label.sk-toggleable__label {background-color: #d4ebff;}#sk-container-id-1 input.sk-hidden--visually {border: 0;clip: rect(1px 1px 1px 1px);clip: rect(1px, 1px, 1px, 1px);height: 1px;margin: -1px;overflow: hidden;padding: 0;position: absolute;width: 1px;}#sk-container-id-1 div.sk-estimator {font-family: monospace;background-color: #f0f8ff;border: 1px dotted black;border-radius: 0.25em;box-sizing: border-box;margin-bottom: 0.5em;}#sk-container-id-1 div.sk-estimator:hover {background-color: #d4ebff;}#sk-container-id-1 div.sk-parallel-item::after {content: \"\";width: 100%;border-bottom: 1px solid gray;flex-grow: 1;}#sk-container-id-1 div.sk-label:hover label.sk-toggleable__label {background-color: #d4ebff;}#sk-container-id-1 div.sk-serial::before {content: \"\";position: absolute;border-left: 1px solid gray;box-sizing: border-box;top: 0;bottom: 0;left: 50%;z-index: 0;}#sk-container-id-1 div.sk-serial {display: flex;flex-direction: column;align-items: center;background-color: white;padding-right: 0.2em;padding-left: 0.2em;position: relative;}#sk-container-id-1 div.sk-item {position: relative;z-index: 1;}#sk-container-id-1 div.sk-parallel {display: flex;align-items: stretch;justify-content: center;background-color: white;position: relative;}#sk-container-id-1 div.sk-item::before, #sk-container-id-1 div.sk-parallel-item::before {content: \"\";position: absolute;border-left: 1px solid gray;box-sizing: border-box;top: 0;bottom: 0;left: 50%;z-index: -1;}#sk-container-id-1 div.sk-parallel-item {display: flex;flex-direction: column;z-index: 1;position: relative;background-color: white;}#sk-container-id-1 div.sk-parallel-item:first-child::after {align-self: flex-end;width: 50%;}#sk-container-id-1 div.sk-parallel-item:last-child::after {align-self: flex-start;width: 50%;}#sk-container-id-1 div.sk-parallel-item:only-child::after {width: 0;}#sk-container-id-1 div.sk-dashed-wrapped {border: 1px dashed gray;margin: 0 0.4em 0.5em 0.4em;box-sizing: border-box;padding-bottom: 0.4em;background-color: white;}#sk-container-id-1 div.sk-label label {font-family: monospace;font-weight: bold;display: inline-block;line-height: 1.2em;}#sk-container-id-1 div.sk-label-container {text-align: center;}#sk-container-id-1 div.sk-container {/* jupyter's `normalize.less` sets `[hidden] { display: none; }` but bootstrap.min.css set `[hidden] { display: none !important; }` so we also need the `!important` here to be able to override the default hidden behavior on the sphinx rendered scikit-learn.org. See: https://github.com/scikit-learn/scikit-learn/issues/21755 */display: inline-block !important;position: relative;}#sk-container-id-1 div.sk-text-repr-fallback {display: none;}</style><div id=\"sk-container-id-1\" class=\"sk-top-container\"><div class=\"sk-text-repr-fallback\"><pre>RFECV(cv=10, estimator=RandomForestClassifier(random_state=1),\n",
       "      scoring=&#x27;accuracy&#x27;)</pre><b>In a Jupyter environment, please rerun this cell to show the HTML representation or trust the notebook. <br />On GitHub, the HTML representation is unable to render, please try loading this page with nbviewer.org.</b></div><div class=\"sk-container\" hidden><div class=\"sk-item sk-dashed-wrapped\"><div class=\"sk-label-container\"><div class=\"sk-label sk-toggleable\"><input class=\"sk-toggleable__control sk-hidden--visually\" id=\"sk-estimator-id-1\" type=\"checkbox\" ><label for=\"sk-estimator-id-1\" class=\"sk-toggleable__label sk-toggleable__label-arrow\">RFECV</label><div class=\"sk-toggleable__content\"><pre>RFECV(cv=10, estimator=RandomForestClassifier(random_state=1),\n",
       "      scoring=&#x27;accuracy&#x27;)</pre></div></div></div><div class=\"sk-parallel\"><div class=\"sk-parallel-item\"><div class=\"sk-item\"><div class=\"sk-label-container\"><div class=\"sk-label sk-toggleable\"><input class=\"sk-toggleable__control sk-hidden--visually\" id=\"sk-estimator-id-2\" type=\"checkbox\" ><label for=\"sk-estimator-id-2\" class=\"sk-toggleable__label sk-toggleable__label-arrow\">estimator: RandomForestClassifier</label><div class=\"sk-toggleable__content\"><pre>RandomForestClassifier(random_state=1)</pre></div></div></div><div class=\"sk-serial\"><div class=\"sk-item\"><div class=\"sk-estimator sk-toggleable\"><input class=\"sk-toggleable__control sk-hidden--visually\" id=\"sk-estimator-id-3\" type=\"checkbox\" ><label for=\"sk-estimator-id-3\" class=\"sk-toggleable__label sk-toggleable__label-arrow\">RandomForestClassifier</label><div class=\"sk-toggleable__content\"><pre>RandomForestClassifier(random_state=1)</pre></div></div></div></div></div></div></div></div></div></div>"
      ],
      "text/plain": [
       "RFECV(cv=10, estimator=RandomForestClassifier(random_state=1),\n",
       "      scoring='accuracy')"
      ]
     },
     "execution_count": 41,
     "metadata": {},
     "output_type": "execute_result"
    }
   ],
   "source": [
    "from sklearn.ensemble import RandomForestClassifier\n",
    "from sklearn.feature_selection import RFECV\n",
    "\n",
    "X = titanic.drop('Survived', axis=1)\n",
    "target =titanic['Survived']\n",
    "\n",
    "rfc = RandomForestClassifier(random_state=1)\n",
    "rfecv = RFECV(estimator=rfc, step=1, cv=10, scoring='accuracy')\n",
    "rfecv.fit(X, target)"
   ]
  },
  {
   "cell_type": "code",
   "execution_count": 42,
   "id": "46076832",
   "metadata": {},
   "outputs": [
    {
     "data": {
      "text/plain": [
       "4"
      ]
     },
     "execution_count": 42,
     "metadata": {},
     "output_type": "execute_result"
    }
   ],
   "source": [
    "## Optimal Number of Features\n",
    "\n",
    "rfecv.n_features_"
   ]
  },
  {
   "cell_type": "code",
   "execution_count": 43,
   "id": "1dc6e2b4",
   "metadata": {},
   "outputs": [
    {
     "name": "stderr",
     "output_type": "stream",
     "text": [
      "C:\\ProgramData\\Anaconda3\\lib\\site-packages\\sklearn\\utils\\deprecation.py:103: FutureWarning: The `grid_scores_` attribute is deprecated in version 1.0 in favor of `cv_results_` and will be removed in version 1.2.\n",
      "  warnings.warn(msg, category=FutureWarning)\n"
     ]
    },
    {
     "data": {
      "image/png": "[encoded data removed]",
      "text/plain": [
       "<Figure size 1152x648 with 1 Axes>"
      ]
     },
     "metadata": {
      "needs_background": "light"
     },
     "output_type": "display_data"
    }
   ],
   "source": [
    "# Optimal Features Curve\n",
    "\n",
    "import matplotlib.pyplot as plt\n",
    "\n",
    "plt.figure(figsize=(16, 9))\n",
    "plt.title('Recursive Feature Elimination with Cross-Validation', fontsize=18, fontweight='bold')\n",
    "plt.xlabel('Number of features selected', fontsize=14, labelpad=20)\n",
    "plt.ylabel('% Correct Classification', fontsize=14, labelpad=20)\n",
    "plt.plot(range(1, len(rfecv.grid_scores_) + 1), rfecv.cv_results_['mean_test_score'], color='#303F9F', linewidth=3)\n",
    "\n",
    "plt.show()"
   ]
  },
  {
   "cell_type": "code",
   "execution_count": 44,
   "id": "b235beb2",
   "metadata": {},
   "outputs": [
    {
     "data": {
      "text/plain": [
       "array([0.6947191 , 0.68245943, 0.7811985 , 0.82496879, 0.82054931,\n",
       "       0.81826467, 0.80931336, 0.80143571, 0.81827715])"
      ]
     },
     "execution_count": 44,
     "metadata": {},
     "output_type": "execute_result"
    }
   ],
   "source": [
    "rfecv.cv_results_['mean_test_score']"
   ]
  },
  {
   "cell_type": "code",
   "execution_count": 45,
   "id": "a5629f93",
   "metadata": {},
   "outputs": [
    {
     "data": {
      "text/plain": [
       "array([3, 4, 6, 7, 8], dtype=int64)"
      ]
     },
     "execution_count": 45,
     "metadata": {},
     "output_type": "execute_result"
    }
   ],
   "source": [
    "## identifying which features are important\n",
    "import numpy as np\n",
    "np.where(rfecv.support_ == False)[0]"
   ]
  },
  {
   "cell_type": "code",
   "execution_count": 46,
   "id": "f10b9175",
   "metadata": {},
   "outputs": [],
   "source": [
    "X.drop(X.columns[np.where(rfecv.support_ == False)[0]],axis=1,inplace=True)"
   ]
  },
  {
   "cell_type": "code",
   "execution_count": 47,
   "id": "fb234f8c",
   "metadata": {},
   "outputs": [
    {
     "data": {
      "text/html": [
       "<div>\n",
       "<style scoped>\n",
       "    .dataframe tbody tr th:only-of-type {\n",
       "        vertical-align: middle;\n",
       "    }\n",
       "\n",
       "    .dataframe tbody tr th {\n",
       "        vertical-align: top;\n",
       "    }\n",
       "\n",
       "    .dataframe thead th {\n",
       "        text-align: right;\n",
       "    }\n",
       "</style>\n",
       "<table border=\"1\" class=\"dataframe\">\n",
       "  <thead>\n",
       "    <tr style=\"text-align: right;\">\n",
       "      <th></th>\n",
       "      <th>Pclass</th>\n",
       "      <th>Sex</th>\n",
       "      <th>Age</th>\n",
       "      <th>Fare</th>\n",
       "    </tr>\n",
       "  </thead>\n",
       "  <tbody>\n",
       "    <tr>\n",
       "      <th>0</th>\n",
       "      <td>3</td>\n",
       "      <td>0</td>\n",
       "      <td>22.0</td>\n",
       "      <td>7.2500</td>\n",
       "    </tr>\n",
       "    <tr>\n",
       "      <th>1</th>\n",
       "      <td>1</td>\n",
       "      <td>1</td>\n",
       "      <td>38.0</td>\n",
       "      <td>71.2833</td>\n",
       "    </tr>\n",
       "    <tr>\n",
       "      <th>2</th>\n",
       "      <td>3</td>\n",
       "      <td>1</td>\n",
       "      <td>26.0</td>\n",
       "      <td>7.9250</td>\n",
       "    </tr>\n",
       "    <tr>\n",
       "      <th>3</th>\n",
       "      <td>1</td>\n",
       "      <td>1</td>\n",
       "      <td>35.0</td>\n",
       "      <td>53.1000</td>\n",
       "    </tr>\n",
       "    <tr>\n",
       "      <th>4</th>\n",
       "      <td>3</td>\n",
       "      <td>0</td>\n",
       "      <td>35.0</td>\n",
       "      <td>8.0500</td>\n",
       "    </tr>\n",
       "    <tr>\n",
       "      <th>...</th>\n",
       "      <td>...</td>\n",
       "      <td>...</td>\n",
       "      <td>...</td>\n",
       "      <td>...</td>\n",
       "    </tr>\n",
       "    <tr>\n",
       "      <th>886</th>\n",
       "      <td>2</td>\n",
       "      <td>0</td>\n",
       "      <td>27.0</td>\n",
       "      <td>13.0000</td>\n",
       "    </tr>\n",
       "    <tr>\n",
       "      <th>887</th>\n",
       "      <td>1</td>\n",
       "      <td>1</td>\n",
       "      <td>19.0</td>\n",
       "      <td>30.0000</td>\n",
       "    </tr>\n",
       "    <tr>\n",
       "      <th>888</th>\n",
       "      <td>3</td>\n",
       "      <td>1</td>\n",
       "      <td>29.0</td>\n",
       "      <td>23.4500</td>\n",
       "    </tr>\n",
       "    <tr>\n",
       "      <th>889</th>\n",
       "      <td>1</td>\n",
       "      <td>0</td>\n",
       "      <td>26.0</td>\n",
       "      <td>30.0000</td>\n",
       "    </tr>\n",
       "    <tr>\n",
       "      <th>890</th>\n",
       "      <td>3</td>\n",
       "      <td>0</td>\n",
       "      <td>32.0</td>\n",
       "      <td>7.7500</td>\n",
       "    </tr>\n",
       "  </tbody>\n",
       "</table>\n",
       "<p>891 rows × 4 columns</p>\n",
       "</div>"
      ],
      "text/plain": [
       "     Pclass  Sex   Age     Fare\n",
       "0         3    0  22.0   7.2500\n",
       "1         1    1  38.0  71.2833\n",
       "2         3    1  26.0   7.9250\n",
       "3         1    1  35.0  53.1000\n",
       "4         3    0  35.0   8.0500\n",
       "..      ...  ...   ...      ...\n",
       "886       2    0  27.0  13.0000\n",
       "887       1    1  19.0  30.0000\n",
       "888       3    1  29.0  23.4500\n",
       "889       1    0  26.0  30.0000\n",
       "890       3    0  32.0   7.7500\n",
       "\n",
       "[891 rows x 4 columns]"
      ]
     },
     "execution_count": 47,
     "metadata": {},
     "output_type": "execute_result"
    }
   ],
   "source": [
    "X"
   ]
  },
  {
   "cell_type": "code",
   "execution_count": 48,
   "id": "7a0f73d0",
   "metadata": {},
   "outputs": [
    {
     "data": {
      "text/plain": [
       "Index(['Pclass', 'Sex', 'Age', 'Fare'], dtype='object')"
      ]
     },
     "execution_count": 48,
     "metadata": {},
     "output_type": "execute_result"
    }
   ],
   "source": [
    "titanic.columns[1:][rfecv.support_]"
   ]
  },
  {
   "cell_type": "code",
   "execution_count": 49,
   "id": "3fe5482c",
   "metadata": {},
   "outputs": [
    {
     "data": {
      "text/plain": [
       "array([0.10189403, 0.29004814, 0.28123856, 0.32681928])"
      ]
     },
     "execution_count": 49,
     "metadata": {},
     "output_type": "execute_result"
    }
   ],
   "source": [
    "## Feature Importance\n",
    "\n",
    "rfecv.estimator_.feature_importances_"
   ]
  },
  {
   "cell_type": "code",
   "execution_count": 50,
   "id": "9829a225",
   "metadata": {},
   "outputs": [
    {
     "data": {
      "text/plain": [
       "<BarContainer object of 4 artists>"
      ]
     },
     "execution_count": 50,
     "metadata": {},
     "output_type": "execute_result"
    },
    {
     "data": {
      "image/png": "[encoded data removed]",
      "text/plain": [
       "<Figure size 432x288 with 1 Axes>"
      ]
     },
     "metadata": {
      "needs_background": "light"
     },
     "output_type": "display_data"
    }
   ],
   "source": [
    "# plotting and Visualing Feature importance\n",
    "\n",
    "dframe = pd.DataFrame()\n",
    "dframe['attr'] = X.columns\n",
    "dframe['importance'] = rfecv.estimator_.feature_importances_\n",
    "\n",
    "dframe.sort_values(by='importance',ascending=True,inplace=True)\n",
    "\n",
    "plt.barh(y = dframe['attr'],width = dframe['importance'])"
   ]
  },
  {
   "cell_type": "markdown",
   "id": "e0bf9b31",
   "metadata": {},
   "source": [
    "## Feature Tools"
   ]
  },
  {
   "cell_type": "code",
   "execution_count": 139,
   "id": "39b4454b",
   "metadata": {},
   "outputs": [],
   "source": [
    "# Deep Feature Synthesis\n",
    "# Creates many features from the existing features\n",
    "# It stacks multiple transformation and aggregation operations which are feature primitives\n",
    "\n",
    "# https://featuretools.alteryx.com/en/stable/install.html\n",
    "# https://featuretools.alteryx.com/en/stable/getting_started/using_entitysets.html"
   ]
  },
  {
   "cell_type": "code",
   "execution_count": 52,
   "id": "110c594b",
   "metadata": {},
   "outputs": [],
   "source": [
    "# The main issue with feature engineering is being able to take different sets of data which are often distributed across multiple tables and combine them into a single table that can be used for training a machine learning model.\n",
    "# Feature Tools creates many new candidate features with minimal effort and then combining them into a single table that can be passed to our model"
   ]
  },
  {
   "cell_type": "code",
   "execution_count": 74,
   "id": "d63de47d",
   "metadata": {},
   "outputs": [],
   "source": [
    "import pandas as pd\n",
    "import numpy as np\n",
    "\n",
    "import warnings\n",
    "warnings.filterwarnings('ignore')"
   ]
  },
  {
   "cell_type": "code",
   "execution_count": 118,
   "id": "709afed6",
   "metadata": {},
   "outputs": [
    {
     "data": {
      "text/html": [
       "<div>\n",
       "<style scoped>\n",
       "    .dataframe tbody tr th:only-of-type {\n",
       "        vertical-align: middle;\n",
       "    }\n",
       "\n",
       "    .dataframe tbody tr th {\n",
       "        vertical-align: top;\n",
       "    }\n",
       "\n",
       "    .dataframe thead th {\n",
       "        text-align: right;\n",
       "    }\n",
       "</style>\n",
       "<table border=\"1\" class=\"dataframe\">\n",
       "  <thead>\n",
       "    <tr style=\"text-align: right;\">\n",
       "      <th></th>\n",
       "      <th>client_id</th>\n",
       "      <th>joined</th>\n",
       "      <th>income</th>\n",
       "      <th>credit_score</th>\n",
       "    </tr>\n",
       "  </thead>\n",
       "  <tbody>\n",
       "    <tr>\n",
       "      <th>0</th>\n",
       "      <td>46109</td>\n",
       "      <td>2002-04-16</td>\n",
       "      <td>172677</td>\n",
       "      <td>527</td>\n",
       "    </tr>\n",
       "    <tr>\n",
       "      <th>1</th>\n",
       "      <td>49545</td>\n",
       "      <td>2007-11-14</td>\n",
       "      <td>104564</td>\n",
       "      <td>770</td>\n",
       "    </tr>\n",
       "    <tr>\n",
       "      <th>2</th>\n",
       "      <td>41480</td>\n",
       "      <td>2013-03-11</td>\n",
       "      <td>122607</td>\n",
       "      <td>585</td>\n",
       "    </tr>\n",
       "    <tr>\n",
       "      <th>3</th>\n",
       "      <td>46180</td>\n",
       "      <td>2001-11-06</td>\n",
       "      <td>43851</td>\n",
       "      <td>562</td>\n",
       "    </tr>\n",
       "    <tr>\n",
       "      <th>4</th>\n",
       "      <td>25707</td>\n",
       "      <td>2006-10-06</td>\n",
       "      <td>211422</td>\n",
       "      <td>621</td>\n",
       "    </tr>\n",
       "  </tbody>\n",
       "</table>\n",
       "</div>"
      ],
      "text/plain": [
       "   client_id     joined  income  credit_score\n",
       "0      46109 2002-04-16  172677           527\n",
       "1      49545 2007-11-14  104564           770\n",
       "2      41480 2013-03-11  122607           585\n",
       "3      46180 2001-11-06   43851           562\n",
       "4      25707 2006-10-06  211422           621"
      ]
     },
     "execution_count": 118,
     "metadata": {},
     "output_type": "execute_result"
    }
   ],
   "source": [
    "clients_df = pd.read_csv('clients.txt',parse_dates=['joined'])\n",
    "clients_df.head()"
   ]
  },
  {
   "cell_type": "code",
   "execution_count": 119,
   "id": "8cd46ede",
   "metadata": {},
   "outputs": [
    {
     "data": {
      "text/html": [
       "<div>\n",
       "<style scoped>\n",
       "    .dataframe tbody tr th:only-of-type {\n",
       "        vertical-align: middle;\n",
       "    }\n",
       "\n",
       "    .dataframe tbody tr th {\n",
       "        vertical-align: top;\n",
       "    }\n",
       "\n",
       "    .dataframe thead th {\n",
       "        text-align: right;\n",
       "    }\n",
       "</style>\n",
       "<table border=\"1\" class=\"dataframe\">\n",
       "  <thead>\n",
       "    <tr style=\"text-align: right;\">\n",
       "      <th></th>\n",
       "      <th>client_id</th>\n",
       "      <th>loan_type</th>\n",
       "      <th>loan_amount</th>\n",
       "      <th>repaid</th>\n",
       "      <th>loan_id</th>\n",
       "      <th>loan_start</th>\n",
       "      <th>loan_end</th>\n",
       "      <th>rate</th>\n",
       "    </tr>\n",
       "  </thead>\n",
       "  <tbody>\n",
       "    <tr>\n",
       "      <th>0</th>\n",
       "      <td>46109</td>\n",
       "      <td>home</td>\n",
       "      <td>13672</td>\n",
       "      <td>0</td>\n",
       "      <td>10243</td>\n",
       "      <td>2002-04-16</td>\n",
       "      <td>2003-12-20</td>\n",
       "      <td>2.15</td>\n",
       "    </tr>\n",
       "    <tr>\n",
       "      <th>1</th>\n",
       "      <td>46109</td>\n",
       "      <td>credit</td>\n",
       "      <td>9794</td>\n",
       "      <td>0</td>\n",
       "      <td>10984</td>\n",
       "      <td>2003-10-21</td>\n",
       "      <td>2005-07-17</td>\n",
       "      <td>1.25</td>\n",
       "    </tr>\n",
       "    <tr>\n",
       "      <th>2</th>\n",
       "      <td>46109</td>\n",
       "      <td>home</td>\n",
       "      <td>12734</td>\n",
       "      <td>1</td>\n",
       "      <td>10990</td>\n",
       "      <td>2006-02-01</td>\n",
       "      <td>2007-07-05</td>\n",
       "      <td>0.68</td>\n",
       "    </tr>\n",
       "    <tr>\n",
       "      <th>3</th>\n",
       "      <td>46109</td>\n",
       "      <td>cash</td>\n",
       "      <td>12518</td>\n",
       "      <td>1</td>\n",
       "      <td>10596</td>\n",
       "      <td>2010-12-08</td>\n",
       "      <td>2013-05-05</td>\n",
       "      <td>1.24</td>\n",
       "    </tr>\n",
       "    <tr>\n",
       "      <th>4</th>\n",
       "      <td>46109</td>\n",
       "      <td>credit</td>\n",
       "      <td>14049</td>\n",
       "      <td>1</td>\n",
       "      <td>11415</td>\n",
       "      <td>2010-07-07</td>\n",
       "      <td>2012-05-21</td>\n",
       "      <td>3.13</td>\n",
       "    </tr>\n",
       "  </tbody>\n",
       "</table>\n",
       "</div>"
      ],
      "text/plain": [
       "   client_id loan_type  loan_amount  repaid  loan_id loan_start   loan_end  \\\n",
       "0      46109      home        13672       0    10243 2002-04-16 2003-12-20   \n",
       "1      46109    credit         9794       0    10984 2003-10-21 2005-07-17   \n",
       "2      46109      home        12734       1    10990 2006-02-01 2007-07-05   \n",
       "3      46109      cash        12518       1    10596 2010-12-08 2013-05-05   \n",
       "4      46109    credit        14049       1    11415 2010-07-07 2012-05-21   \n",
       "\n",
       "   rate  \n",
       "0  2.15  \n",
       "1  1.25  \n",
       "2  0.68  \n",
       "3  1.24  \n",
       "4  3.13  "
      ]
     },
     "execution_count": 119,
     "metadata": {},
     "output_type": "execute_result"
    }
   ],
   "source": [
    "loans_df = pd.read_csv('loans.txt',parse_dates=['loan_start','loan_end'])\n",
    "loans_df.head()"
   ]
  },
  {
   "cell_type": "code",
   "execution_count": 120,
   "id": "20437314",
   "metadata": {},
   "outputs": [
    {
     "data": {
      "text/html": [
       "<div>\n",
       "<style scoped>\n",
       "    .dataframe tbody tr th:only-of-type {\n",
       "        vertical-align: middle;\n",
       "    }\n",
       "\n",
       "    .dataframe tbody tr th {\n",
       "        vertical-align: top;\n",
       "    }\n",
       "\n",
       "    .dataframe thead th {\n",
       "        text-align: right;\n",
       "    }\n",
       "</style>\n",
       "<table border=\"1\" class=\"dataframe\">\n",
       "  <thead>\n",
       "    <tr style=\"text-align: right;\">\n",
       "      <th></th>\n",
       "      <th>loan_id</th>\n",
       "      <th>payment_amount</th>\n",
       "      <th>payment_date</th>\n",
       "      <th>missed</th>\n",
       "    </tr>\n",
       "  </thead>\n",
       "  <tbody>\n",
       "    <tr>\n",
       "      <th>0</th>\n",
       "      <td>10243</td>\n",
       "      <td>2369</td>\n",
       "      <td>2002-05-31</td>\n",
       "      <td>1</td>\n",
       "    </tr>\n",
       "    <tr>\n",
       "      <th>1</th>\n",
       "      <td>10243</td>\n",
       "      <td>2439</td>\n",
       "      <td>2002-06-18</td>\n",
       "      <td>1</td>\n",
       "    </tr>\n",
       "    <tr>\n",
       "      <th>2</th>\n",
       "      <td>10243</td>\n",
       "      <td>2662</td>\n",
       "      <td>2002-06-29</td>\n",
       "      <td>0</td>\n",
       "    </tr>\n",
       "    <tr>\n",
       "      <th>3</th>\n",
       "      <td>10243</td>\n",
       "      <td>2268</td>\n",
       "      <td>2002-07-20</td>\n",
       "      <td>0</td>\n",
       "    </tr>\n",
       "    <tr>\n",
       "      <th>4</th>\n",
       "      <td>10243</td>\n",
       "      <td>2027</td>\n",
       "      <td>2002-07-31</td>\n",
       "      <td>1</td>\n",
       "    </tr>\n",
       "  </tbody>\n",
       "</table>\n",
       "</div>"
      ],
      "text/plain": [
       "   loan_id  payment_amount payment_date  missed\n",
       "0    10243            2369   2002-05-31       1\n",
       "1    10243            2439   2002-06-18       1\n",
       "2    10243            2662   2002-06-29       0\n",
       "3    10243            2268   2002-07-20       0\n",
       "4    10243            2027   2002-07-31       1"
      ]
     },
     "execution_count": 120,
     "metadata": {},
     "output_type": "execute_result"
    }
   ],
   "source": [
    "payments_df = pd.read_csv('payments.txt',parse_dates=['payment_date'])\n",
    "payments_df.head()"
   ]
  },
  {
   "cell_type": "code",
   "execution_count": 78,
   "id": "ca2871b4",
   "metadata": {},
   "outputs": [],
   "source": [
    "# Entity vs EntitySet\n",
    "# Relationships between tables\n",
    "# Feature primitives: aggregations and transformations\n",
    "# Deep Feature Synthesis"
   ]
  },
  {
   "cell_type": "code",
   "execution_count": 79,
   "id": "cf49e1c6",
   "metadata": {},
   "outputs": [],
   "source": [
    "## Entity vs EntitySet\n",
    "\n",
    "# Entity --> Table we loaded\n",
    "# EntitySet --> Combinations of Entities"
   ]
  },
  {
   "cell_type": "code",
   "execution_count": 80,
   "id": "e2a83f18",
   "metadata": {},
   "outputs": [],
   "source": [
    "## Installing\n",
    "\n",
    "#!pip install featuretools"
   ]
  },
  {
   "cell_type": "code",
   "execution_count": 122,
   "id": "4d2755bb",
   "metadata": {},
   "outputs": [],
   "source": [
    "## Creating Entity Sets\n",
    "\n",
    "import featuretools as ft\n",
    "from woodwork.logical_types import Categorical, PostalCode"
   ]
  },
  {
   "cell_type": "code",
   "execution_count": 82,
   "id": "01895b95",
   "metadata": {},
   "outputs": [],
   "source": [
    "# https://featuretools.alteryx.com/en/stable/install.html\n",
    "# install from source"
   ]
  },
  {
   "cell_type": "code",
   "execution_count": 104,
   "id": "568e4713",
   "metadata": {},
   "outputs": [],
   "source": [
    "# https://stackoverflow.com/questions/69665765/featuretoolsentityset-object-has-no-attribute-entity-from-dataframe"
   ]
  },
  {
   "cell_type": "code",
   "execution_count": 123,
   "id": "be0d80a9",
   "metadata": {},
   "outputs": [],
   "source": [
    "es = ft.EntitySet(id=\"client_loan_payment_data\")"
   ]
  },
  {
   "cell_type": "code",
   "execution_count": 125,
   "id": "2bacadf6",
   "metadata": {},
   "outputs": [
    {
     "data": {
      "text/plain": [
       "Entityset: client_loan_payment_data\n",
       "  DataFrames:\n",
       "    clients [Rows: 25, Columns: 4]\n",
       "  Relationships:\n",
       "    No relationships"
      ]
     },
     "execution_count": 125,
     "metadata": {},
     "output_type": "execute_result"
    }
   ],
   "source": [
    "es = es.add_dataframe(\n",
    "    dataframe_name=\"clients\",\n",
    "    dataframe=clients_df,\n",
    "    index=\"client_id\",\n",
    "    time_index=\"joined\"\n",
    ")\n",
    "\n",
    "es"
   ]
  },
  {
   "cell_type": "code",
   "execution_count": 128,
   "id": "4fac7c65",
   "metadata": {},
   "outputs": [
    {
     "data": {
      "text/plain": [
       "Entityset: client_loan_payment_data\n",
       "  DataFrames:\n",
       "    clients [Rows: 25, Columns: 4]\n",
       "    loans [Rows: 443, Columns: 8]\n",
       "  Relationships:\n",
       "    No relationships"
      ]
     },
     "execution_count": 128,
     "metadata": {},
     "output_type": "execute_result"
    }
   ],
   "source": [
    "es = es.add_dataframe(\n",
    "    dataframe_name=\"loans\",\n",
    "    dataframe=loans_df,\n",
    "    index=\"loan_id\",\n",
    "    time_index=\"loan_start\",\n",
    "    logical_types = {\"repaid\":Categorical}\n",
    ")\n",
    "\n",
    "es"
   ]
  },
  {
   "cell_type": "code",
   "execution_count": 129,
   "id": "4742d8ee",
   "metadata": {},
   "outputs": [
    {
     "data": {
      "text/html": [
       "<div>\n",
       "<style scoped>\n",
       "    .dataframe tbody tr th:only-of-type {\n",
       "        vertical-align: middle;\n",
       "    }\n",
       "\n",
       "    .dataframe tbody tr th {\n",
       "        vertical-align: top;\n",
       "    }\n",
       "\n",
       "    .dataframe thead th {\n",
       "        text-align: right;\n",
       "    }\n",
       "</style>\n",
       "<table border=\"1\" class=\"dataframe\">\n",
       "  <thead>\n",
       "    <tr style=\"text-align: right;\">\n",
       "      <th></th>\n",
       "      <th>loan_id</th>\n",
       "      <th>payment_amount</th>\n",
       "      <th>payment_date</th>\n",
       "      <th>missed</th>\n",
       "    </tr>\n",
       "  </thead>\n",
       "  <tbody>\n",
       "    <tr>\n",
       "      <th>0</th>\n",
       "      <td>10243</td>\n",
       "      <td>2369</td>\n",
       "      <td>2002-05-31</td>\n",
       "      <td>1</td>\n",
       "    </tr>\n",
       "  </tbody>\n",
       "</table>\n",
       "</div>"
      ],
      "text/plain": [
       "   loan_id  payment_amount payment_date  missed\n",
       "0    10243            2369   2002-05-31       1"
      ]
     },
     "execution_count": 129,
     "metadata": {},
     "output_type": "execute_result"
    }
   ],
   "source": [
    "payments_df.head(1)"
   ]
  },
  {
   "cell_type": "code",
   "execution_count": 131,
   "id": "e70a0169",
   "metadata": {},
   "outputs": [
    {
     "data": {
      "text/plain": [
       "Entityset: client_loan_payment_data\n",
       "  DataFrames:\n",
       "    clients [Rows: 25, Columns: 4]\n",
       "    loans [Rows: 443, Columns: 8]\n",
       "    payments [Rows: 3456, Columns: 5]\n",
       "  Relationships:\n",
       "    No relationships"
      ]
     },
     "execution_count": 131,
     "metadata": {},
     "output_type": "execute_result"
    }
   ],
   "source": [
    "es = es.add_dataframe(\n",
    "    dataframe_name=\"payments\",\n",
    "    dataframe=payments_df,\n",
    "    index=\"payment_id\",\n",
    "    make_index = True,\n",
    "    time_index=\"payment_date\",\n",
    "    logical_types={\n",
    "        \"missed\": Categorical\n",
    "    }\n",
    ")\n",
    "\n",
    "es"
   ]
  },
  {
   "cell_type": "code",
   "execution_count": 135,
   "id": "6c51cdee",
   "metadata": {},
   "outputs": [
    {
     "data": {
      "text/html": [
       "<table border=\"1\" class=\"dataframe\">\n",
       "  <thead>\n",
       "    <tr style=\"text-align: right;\">\n",
       "      <th></th>\n",
       "      <th>Logical Type</th>\n",
       "      <th>Semantic Tag(s)</th>\n",
       "    </tr>\n",
       "    <tr>\n",
       "      <th>Column</th>\n",
       "      <th></th>\n",
       "      <th></th>\n",
       "    </tr>\n",
       "  </thead>\n",
       "  <tbody>\n",
       "    <tr>\n",
       "      <th>client_id</th>\n",
       "      <td>Integer</td>\n",
       "      <td>['numeric']</td>\n",
       "    </tr>\n",
       "    <tr>\n",
       "      <th>loan_type</th>\n",
       "      <td>Categorical</td>\n",
       "      <td>['category']</td>\n",
       "    </tr>\n",
       "    <tr>\n",
       "      <th>loan_amount</th>\n",
       "      <td>Integer</td>\n",
       "      <td>['numeric']</td>\n",
       "    </tr>\n",
       "    <tr>\n",
       "      <th>repaid</th>\n",
       "      <td>Categorical</td>\n",
       "      <td>['category']</td>\n",
       "    </tr>\n",
       "    <tr>\n",
       "      <th>loan_id</th>\n",
       "      <td>Integer</td>\n",
       "      <td>['index']</td>\n",
       "    </tr>\n",
       "    <tr>\n",
       "      <th>loan_start</th>\n",
       "      <td>Datetime</td>\n",
       "      <td>['time_index']</td>\n",
       "    </tr>\n",
       "    <tr>\n",
       "      <th>loan_end</th>\n",
       "      <td>Datetime</td>\n",
       "      <td>[]</td>\n",
       "    </tr>\n",
       "    <tr>\n",
       "      <th>rate</th>\n",
       "      <td>Double</td>\n",
       "      <td>['numeric']</td>\n",
       "    </tr>\n",
       "  </tbody>\n",
       "</table>"
      ],
      "text/plain": [
       "            Logical Type Semantic Tag(s)\n",
       "Column                                  \n",
       "client_id        Integer     ['numeric']\n",
       "loan_type    Categorical    ['category']\n",
       "loan_amount      Integer     ['numeric']\n",
       "repaid       Categorical    ['category']\n",
       "loan_id          Integer       ['index']\n",
       "loan_start      Datetime  ['time_index']\n",
       "loan_end        Datetime              []\n",
       "rate              Double     ['numeric']"
      ]
     },
     "execution_count": 135,
     "metadata": {},
     "output_type": "execute_result"
    }
   ],
   "source": [
    "es['loans'].ww.schema "
   ]
  },
  {
   "cell_type": "code",
   "execution_count": 136,
   "id": "77b0afa1",
   "metadata": {},
   "outputs": [
    {
     "data": {
      "text/html": [
       "<table border=\"1\" class=\"dataframe\">\n",
       "  <thead>\n",
       "    <tr style=\"text-align: right;\">\n",
       "      <th></th>\n",
       "      <th>Logical Type</th>\n",
       "      <th>Semantic Tag(s)</th>\n",
       "    </tr>\n",
       "    <tr>\n",
       "      <th>Column</th>\n",
       "      <th></th>\n",
       "      <th></th>\n",
       "    </tr>\n",
       "  </thead>\n",
       "  <tbody>\n",
       "    <tr>\n",
       "      <th>payment_id</th>\n",
       "      <td>Integer</td>\n",
       "      <td>['index']</td>\n",
       "    </tr>\n",
       "    <tr>\n",
       "      <th>loan_id</th>\n",
       "      <td>Integer</td>\n",
       "      <td>['numeric']</td>\n",
       "    </tr>\n",
       "    <tr>\n",
       "      <th>payment_amount</th>\n",
       "      <td>Integer</td>\n",
       "      <td>['numeric']</td>\n",
       "    </tr>\n",
       "    <tr>\n",
       "      <th>payment_date</th>\n",
       "      <td>Datetime</td>\n",
       "      <td>['time_index']</td>\n",
       "    </tr>\n",
       "    <tr>\n",
       "      <th>missed</th>\n",
       "      <td>Categorical</td>\n",
       "      <td>['category']</td>\n",
       "    </tr>\n",
       "  </tbody>\n",
       "</table>"
      ],
      "text/plain": [
       "               Logical Type Semantic Tag(s)\n",
       "Column                                     \n",
       "payment_id          Integer       ['index']\n",
       "loan_id             Integer     ['numeric']\n",
       "payment_amount      Integer     ['numeric']\n",
       "payment_date       Datetime  ['time_index']\n",
       "missed          Categorical    ['category']"
      ]
     },
     "execution_count": 136,
     "metadata": {},
     "output_type": "execute_result"
    }
   ],
   "source": [
    "es['payments'].ww.schema"
   ]
  },
  {
   "cell_type": "code",
   "execution_count": 137,
   "id": "bf006582",
   "metadata": {},
   "outputs": [
    {
     "data": {
      "text/html": [
       "<table border=\"1\" class=\"dataframe\">\n",
       "  <thead>\n",
       "    <tr style=\"text-align: right;\">\n",
       "      <th></th>\n",
       "      <th>Logical Type</th>\n",
       "      <th>Semantic Tag(s)</th>\n",
       "    </tr>\n",
       "    <tr>\n",
       "      <th>Column</th>\n",
       "      <th></th>\n",
       "      <th></th>\n",
       "    </tr>\n",
       "  </thead>\n",
       "  <tbody>\n",
       "    <tr>\n",
       "      <th>client_id</th>\n",
       "      <td>Integer</td>\n",
       "      <td>['index']</td>\n",
       "    </tr>\n",
       "    <tr>\n",
       "      <th>joined</th>\n",
       "      <td>Datetime</td>\n",
       "      <td>['time_index']</td>\n",
       "    </tr>\n",
       "    <tr>\n",
       "      <th>income</th>\n",
       "      <td>Integer</td>\n",
       "      <td>['numeric']</td>\n",
       "    </tr>\n",
       "    <tr>\n",
       "      <th>credit_score</th>\n",
       "      <td>Integer</td>\n",
       "      <td>['numeric']</td>\n",
       "    </tr>\n",
       "  </tbody>\n",
       "</table>"
      ],
      "text/plain": [
       "             Logical Type Semantic Tag(s)\n",
       "Column                                   \n",
       "client_id         Integer       ['index']\n",
       "joined           Datetime  ['time_index']\n",
       "income            Integer     ['numeric']\n",
       "credit_score      Integer     ['numeric']"
      ]
     },
     "execution_count": 137,
     "metadata": {},
     "output_type": "execute_result"
    }
   ],
   "source": [
    "es['clients'].ww.schema"
   ]
  },
  {
   "cell_type": "code",
   "execution_count": 138,
   "id": "2f5441f5",
   "metadata": {},
   "outputs": [],
   "source": [
    "## Relationships between tables\n",
    "\n",
    "# one to many relationships\n",
    "# 1 parent - many child "
   ]
  },
  {
   "cell_type": "code",
   "execution_count": 140,
   "id": "ad2a767b",
   "metadata": {},
   "outputs": [
    {
     "data": {
      "text/plain": [
       "Entityset: client_loan_payment_data\n",
       "  DataFrames:\n",
       "    clients [Rows: 25, Columns: 4]\n",
       "    loans [Rows: 443, Columns: 8]\n",
       "    payments [Rows: 3456, Columns: 5]\n",
       "  Relationships:\n",
       "    loans.client_id -> clients.client_id"
      ]
     },
     "execution_count": 140,
     "metadata": {},
     "output_type": "execute_result"
    }
   ],
   "source": [
    "# Adding a Relationship\n",
    "\n",
    "es = es.add_relationship(\"clients\", \"client_id\", \"loans\", \"client_id\")\n",
    "es"
   ]
  },
  {
   "cell_type": "code",
   "execution_count": 141,
   "id": "e88dfe7b",
   "metadata": {},
   "outputs": [
    {
     "data": {
      "text/plain": [
       "Entityset: client_loan_payment_data\n",
       "  DataFrames:\n",
       "    clients [Rows: 25, Columns: 4]\n",
       "    loans [Rows: 443, Columns: 8]\n",
       "    payments [Rows: 3456, Columns: 5]\n",
       "  Relationships:\n",
       "    loans.client_id -> clients.client_id\n",
       "    payments.loan_id -> loans.loan_id"
      ]
     },
     "execution_count": 141,
     "metadata": {},
     "output_type": "execute_result"
    }
   ],
   "source": [
    "es = es.add_relationship(\"loans\", \"loan_id\",\"payments\",\"loan_id\")\n",
    "es"
   ]
  },
  {
   "cell_type": "code",
   "execution_count": null,
   "id": "c9925721",
   "metadata": {},
   "outputs": [],
   "source": [
    "## Feature primitives: aggregations and transformations"
   ]
  },
  {
   "cell_type": "code",
   "execution_count": 145,
   "id": "faf8edcb",
   "metadata": {},
   "outputs": [],
   "source": [
    "primitives = ft.list_primitives()"
   ]
  },
  {
   "cell_type": "code",
   "execution_count": 149,
   "id": "fe1c705f",
   "metadata": {},
   "outputs": [
    {
     "data": {
      "text/html": [
       "<div>\n",
       "<style scoped>\n",
       "    .dataframe tbody tr th:only-of-type {\n",
       "        vertical-align: middle;\n",
       "    }\n",
       "\n",
       "    .dataframe tbody tr th {\n",
       "        vertical-align: top;\n",
       "    }\n",
       "\n",
       "    .dataframe thead th {\n",
       "        text-align: right;\n",
       "    }\n",
       "</style>\n",
       "<table border=\"1\" class=\"dataframe\">\n",
       "  <thead>\n",
       "    <tr style=\"text-align: right;\">\n",
       "      <th></th>\n",
       "      <th>name</th>\n",
       "      <th>type</th>\n",
       "      <th>dask_compatible</th>\n",
       "      <th>spark_compatible</th>\n",
       "      <th>description</th>\n",
       "      <th>valid_inputs</th>\n",
       "      <th>return_type</th>\n",
       "    </tr>\n",
       "  </thead>\n",
       "  <tbody>\n",
       "    <tr>\n",
       "      <th>0</th>\n",
       "      <td>num_unique</td>\n",
       "      <td>aggregation</td>\n",
       "      <td>True</td>\n",
       "      <td>True</td>\n",
       "      <td>Determines the number of distinct values, ignoring `NaN` values.</td>\n",
       "      <td>&lt;ColumnSchema (Semantic Tags = ['category'])&gt;</td>\n",
       "      <td>&lt;ColumnSchema (Logical Type = IntegerNullable) (Semantic Tags = ['numeric'])&gt;</td>\n",
       "    </tr>\n",
       "    <tr>\n",
       "      <th>1</th>\n",
       "      <td>num_true</td>\n",
       "      <td>aggregation</td>\n",
       "      <td>True</td>\n",
       "      <td>False</td>\n",
       "      <td>Counts the number of `True` values.</td>\n",
       "      <td>&lt;ColumnSchema (Logical Type = BooleanNullable)&gt;, &lt;ColumnSchema (Logical Type...</td>\n",
       "      <td>&lt;ColumnSchema (Logical Type = IntegerNullable) (Semantic Tags = ['numeric'])&gt;</td>\n",
       "    </tr>\n",
       "    <tr>\n",
       "      <th>2</th>\n",
       "      <td>last</td>\n",
       "      <td>aggregation</td>\n",
       "      <td>False</td>\n",
       "      <td>False</td>\n",
       "      <td>Determines the last value in a list.</td>\n",
       "      <td>&lt;ColumnSchema&gt;</td>\n",
       "      <td>None</td>\n",
       "    </tr>\n",
       "    <tr>\n",
       "      <th>3</th>\n",
       "      <td>mean</td>\n",
       "      <td>aggregation</td>\n",
       "      <td>True</td>\n",
       "      <td>True</td>\n",
       "      <td>Computes the average for a list of values.</td>\n",
       "      <td>&lt;ColumnSchema (Semantic Tags = ['numeric'])&gt;</td>\n",
       "      <td>&lt;ColumnSchema (Semantic Tags = ['numeric'])&gt;</td>\n",
       "    </tr>\n",
       "    <tr>\n",
       "      <th>4</th>\n",
       "      <td>n_most_common</td>\n",
       "      <td>aggregation</td>\n",
       "      <td>False</td>\n",
       "      <td>False</td>\n",
       "      <td>Determines the `n` most common elements.</td>\n",
       "      <td>&lt;ColumnSchema (Semantic Tags = ['category'])&gt;</td>\n",
       "      <td>None</td>\n",
       "    </tr>\n",
       "    <tr>\n",
       "      <th>5</th>\n",
       "      <td>min</td>\n",
       "      <td>aggregation</td>\n",
       "      <td>True</td>\n",
       "      <td>True</td>\n",
       "      <td>Calculates the smallest value, ignoring `NaN` values.</td>\n",
       "      <td>&lt;ColumnSchema (Semantic Tags = ['numeric'])&gt;</td>\n",
       "      <td>&lt;ColumnSchema (Semantic Tags = ['numeric'])&gt;</td>\n",
       "    </tr>\n",
       "    <tr>\n",
       "      <th>6</th>\n",
       "      <td>sum</td>\n",
       "      <td>aggregation</td>\n",
       "      <td>True</td>\n",
       "      <td>True</td>\n",
       "      <td>Calculates the total addition, ignoring `NaN`.</td>\n",
       "      <td>&lt;ColumnSchema (Semantic Tags = ['numeric'])&gt;</td>\n",
       "      <td>&lt;ColumnSchema (Semantic Tags = ['numeric'])&gt;</td>\n",
       "    </tr>\n",
       "    <tr>\n",
       "      <th>7</th>\n",
       "      <td>mode</td>\n",
       "      <td>aggregation</td>\n",
       "      <td>False</td>\n",
       "      <td>False</td>\n",
       "      <td>Determines the most commonly repeated value.</td>\n",
       "      <td>&lt;ColumnSchema (Semantic Tags = ['category'])&gt;</td>\n",
       "      <td>None</td>\n",
       "    </tr>\n",
       "    <tr>\n",
       "      <th>8</th>\n",
       "      <td>std</td>\n",
       "      <td>aggregation</td>\n",
       "      <td>True</td>\n",
       "      <td>True</td>\n",
       "      <td>Computes the dispersion relative to the mean value, ignoring `NaN`.</td>\n",
       "      <td>&lt;ColumnSchema (Semantic Tags = ['numeric'])&gt;</td>\n",
       "      <td>&lt;ColumnSchema (Semantic Tags = ['numeric'])&gt;</td>\n",
       "    </tr>\n",
       "    <tr>\n",
       "      <th>9</th>\n",
       "      <td>max</td>\n",
       "      <td>aggregation</td>\n",
       "      <td>True</td>\n",
       "      <td>True</td>\n",
       "      <td>Calculates the highest value, ignoring `NaN` values.</td>\n",
       "      <td>&lt;ColumnSchema (Semantic Tags = ['numeric'])&gt;</td>\n",
       "      <td>&lt;ColumnSchema (Semantic Tags = ['numeric'])&gt;</td>\n",
       "    </tr>\n",
       "    <tr>\n",
       "      <th>10</th>\n",
       "      <td>count</td>\n",
       "      <td>aggregation</td>\n",
       "      <td>True</td>\n",
       "      <td>True</td>\n",
       "      <td>Determines the total number of values, excluding `NaN`.</td>\n",
       "      <td>&lt;ColumnSchema (Semantic Tags = ['index'])&gt;</td>\n",
       "      <td>&lt;ColumnSchema (Logical Type = IntegerNullable) (Semantic Tags = ['numeric'])&gt;</td>\n",
       "    </tr>\n",
       "    <tr>\n",
       "      <th>11</th>\n",
       "      <td>trend</td>\n",
       "      <td>aggregation</td>\n",
       "      <td>False</td>\n",
       "      <td>False</td>\n",
       "      <td>Calculates the trend of a column over time.</td>\n",
       "      <td>&lt;ColumnSchema (Semantic Tags = ['numeric'])&gt;, &lt;ColumnSchema (Logical Type = ...</td>\n",
       "      <td>&lt;ColumnSchema (Semantic Tags = ['numeric'])&gt;</td>\n",
       "    </tr>\n",
       "    <tr>\n",
       "      <th>12</th>\n",
       "      <td>all</td>\n",
       "      <td>aggregation</td>\n",
       "      <td>True</td>\n",
       "      <td>False</td>\n",
       "      <td>Calculates if all values are 'True' in a list.</td>\n",
       "      <td>&lt;ColumnSchema (Logical Type = BooleanNullable)&gt;, &lt;ColumnSchema (Logical Type...</td>\n",
       "      <td>&lt;ColumnSchema (Logical Type = Boolean)&gt;</td>\n",
       "    </tr>\n",
       "    <tr>\n",
       "      <th>13</th>\n",
       "      <td>any</td>\n",
       "      <td>aggregation</td>\n",
       "      <td>True</td>\n",
       "      <td>False</td>\n",
       "      <td>Determines if any value is 'True' in a list.</td>\n",
       "      <td>&lt;ColumnSchema (Logical Type = BooleanNullable)&gt;, &lt;ColumnSchema (Logical Type...</td>\n",
       "      <td>&lt;ColumnSchema (Logical Type = Boolean)&gt;</td>\n",
       "    </tr>\n",
       "    <tr>\n",
       "      <th>14</th>\n",
       "      <td>first</td>\n",
       "      <td>aggregation</td>\n",
       "      <td>False</td>\n",
       "      <td>False</td>\n",
       "      <td>Determines the first value in a list.</td>\n",
       "      <td>&lt;ColumnSchema&gt;</td>\n",
       "      <td>None</td>\n",
       "    </tr>\n",
       "    <tr>\n",
       "      <th>15</th>\n",
       "      <td>avg_time_between</td>\n",
       "      <td>aggregation</td>\n",
       "      <td>False</td>\n",
       "      <td>False</td>\n",
       "      <td>Computes the average number of seconds between consecutive events.</td>\n",
       "      <td>&lt;ColumnSchema (Logical Type = Datetime) (Semantic Tags = ['time_index'])&gt;</td>\n",
       "      <td>&lt;ColumnSchema (Logical Type = Double) (Semantic Tags = ['numeric'])&gt;</td>\n",
       "    </tr>\n",
       "    <tr>\n",
       "      <th>16</th>\n",
       "      <td>entropy</td>\n",
       "      <td>aggregation</td>\n",
       "      <td>False</td>\n",
       "      <td>False</td>\n",
       "      <td>Calculates the entropy for a categorical column</td>\n",
       "      <td>&lt;ColumnSchema (Semantic Tags = ['category'])&gt;</td>\n",
       "      <td>&lt;ColumnSchema (Semantic Tags = ['numeric'])&gt;</td>\n",
       "    </tr>\n",
       "    <tr>\n",
       "      <th>17</th>\n",
       "      <td>time_since_first</td>\n",
       "      <td>aggregation</td>\n",
       "      <td>False</td>\n",
       "      <td>False</td>\n",
       "      <td>Calculates the time elapsed since the first datetime (in seconds).</td>\n",
       "      <td>&lt;ColumnSchema (Logical Type = Datetime) (Semantic Tags = ['time_index'])&gt;</td>\n",
       "      <td>&lt;ColumnSchema (Logical Type = Double) (Semantic Tags = ['numeric'])&gt;</td>\n",
       "    </tr>\n",
       "    <tr>\n",
       "      <th>18</th>\n",
       "      <td>percent_true</td>\n",
       "      <td>aggregation</td>\n",
       "      <td>True</td>\n",
       "      <td>False</td>\n",
       "      <td>Determines the percent of `True` values.</td>\n",
       "      <td>&lt;ColumnSchema (Logical Type = BooleanNullable)&gt;, &lt;ColumnSchema (Logical Type...</td>\n",
       "      <td>&lt;ColumnSchema (Logical Type = Double) (Semantic Tags = ['numeric'])&gt;</td>\n",
       "    </tr>\n",
       "    <tr>\n",
       "      <th>19</th>\n",
       "      <td>skew</td>\n",
       "      <td>aggregation</td>\n",
       "      <td>False</td>\n",
       "      <td>False</td>\n",
       "      <td>Computes the extent to which a distribution differs from a normal distribution.</td>\n",
       "      <td>&lt;ColumnSchema (Semantic Tags = ['numeric'])&gt;</td>\n",
       "      <td>&lt;ColumnSchema (Semantic Tags = ['numeric'])&gt;</td>\n",
       "    </tr>\n",
       "    <tr>\n",
       "      <th>20</th>\n",
       "      <td>median</td>\n",
       "      <td>aggregation</td>\n",
       "      <td>False</td>\n",
       "      <td>False</td>\n",
       "      <td>Determines the middlemost number in a list of values.</td>\n",
       "      <td>&lt;ColumnSchema (Semantic Tags = ['numeric'])&gt;</td>\n",
       "      <td>&lt;ColumnSchema (Semantic Tags = ['numeric'])&gt;</td>\n",
       "    </tr>\n",
       "    <tr>\n",
       "      <th>21</th>\n",
       "      <td>time_since_last</td>\n",
       "      <td>aggregation</td>\n",
       "      <td>False</td>\n",
       "      <td>False</td>\n",
       "      <td>Calculates the time elapsed since the last datetime (default in seconds).</td>\n",
       "      <td>&lt;ColumnSchema (Logical Type = Datetime) (Semantic Tags = ['time_index'])&gt;</td>\n",
       "      <td>&lt;ColumnSchema (Logical Type = Double) (Semantic Tags = ['numeric'])&gt;</td>\n",
       "    </tr>\n",
       "  </tbody>\n",
       "</table>\n",
       "</div>"
      ],
      "text/plain": [
       "                name         type  dask_compatible  spark_compatible  \\\n",
       "0         num_unique  aggregation             True              True   \n",
       "1           num_true  aggregation             True             False   \n",
       "2               last  aggregation            False             False   \n",
       "3               mean  aggregation             True              True   \n",
       "4      n_most_common  aggregation            False             False   \n",
       "5                min  aggregation             True              True   \n",
       "6                sum  aggregation             True              True   \n",
       "7               mode  aggregation            False             False   \n",
       "8                std  aggregation             True              True   \n",
       "9                max  aggregation             True              True   \n",
       "10             count  aggregation             True              True   \n",
       "11             trend  aggregation            False             False   \n",
       "12               all  aggregation             True             False   \n",
       "13               any  aggregation             True             False   \n",
       "14             first  aggregation            False             False   \n",
       "15  avg_time_between  aggregation            False             False   \n",
       "16           entropy  aggregation            False             False   \n",
       "17  time_since_first  aggregation            False             False   \n",
       "18      percent_true  aggregation             True             False   \n",
       "19              skew  aggregation            False             False   \n",
       "20            median  aggregation            False             False   \n",
       "21   time_since_last  aggregation            False             False   \n",
       "\n",
       "                                                                        description  \\\n",
       "0                  Determines the number of distinct values, ignoring `NaN` values.   \n",
       "1                                               Counts the number of `True` values.   \n",
       "2                                              Determines the last value in a list.   \n",
       "3                                        Computes the average for a list of values.   \n",
       "4                                          Determines the `n` most common elements.   \n",
       "5                             Calculates the smallest value, ignoring `NaN` values.   \n",
       "6                                    Calculates the total addition, ignoring `NaN`.   \n",
       "7                                      Determines the most commonly repeated value.   \n",
       "8               Computes the dispersion relative to the mean value, ignoring `NaN`.   \n",
       "9                              Calculates the highest value, ignoring `NaN` values.   \n",
       "10                          Determines the total number of values, excluding `NaN`.   \n",
       "11                                      Calculates the trend of a column over time.   \n",
       "12                                   Calculates if all values are 'True' in a list.   \n",
       "13                                     Determines if any value is 'True' in a list.   \n",
       "14                                            Determines the first value in a list.   \n",
       "15               Computes the average number of seconds between consecutive events.   \n",
       "16                                  Calculates the entropy for a categorical column   \n",
       "17               Calculates the time elapsed since the first datetime (in seconds).   \n",
       "18                                         Determines the percent of `True` values.   \n",
       "19  Computes the extent to which a distribution differs from a normal distribution.   \n",
       "20                            Determines the middlemost number in a list of values.   \n",
       "21        Calculates the time elapsed since the last datetime (default in seconds).   \n",
       "\n",
       "                                                                       valid_inputs  \\\n",
       "0                                     <ColumnSchema (Semantic Tags = ['category'])>   \n",
       "1   <ColumnSchema (Logical Type = BooleanNullable)>, <ColumnSchema (Logical Type...   \n",
       "2                                                                    <ColumnSchema>   \n",
       "3                                      <ColumnSchema (Semantic Tags = ['numeric'])>   \n",
       "4                                     <ColumnSchema (Semantic Tags = ['category'])>   \n",
       "5                                      <ColumnSchema (Semantic Tags = ['numeric'])>   \n",
       "6                                      <ColumnSchema (Semantic Tags = ['numeric'])>   \n",
       "7                                     <ColumnSchema (Semantic Tags = ['category'])>   \n",
       "8                                      <ColumnSchema (Semantic Tags = ['numeric'])>   \n",
       "9                                      <ColumnSchema (Semantic Tags = ['numeric'])>   \n",
       "10                                       <ColumnSchema (Semantic Tags = ['index'])>   \n",
       "11  <ColumnSchema (Semantic Tags = ['numeric'])>, <ColumnSchema (Logical Type = ...   \n",
       "12  <ColumnSchema (Logical Type = BooleanNullable)>, <ColumnSchema (Logical Type...   \n",
       "13  <ColumnSchema (Logical Type = BooleanNullable)>, <ColumnSchema (Logical Type...   \n",
       "14                                                                   <ColumnSchema>   \n",
       "15        <ColumnSchema (Logical Type = Datetime) (Semantic Tags = ['time_index'])>   \n",
       "16                                    <ColumnSchema (Semantic Tags = ['category'])>   \n",
       "17        <ColumnSchema (Logical Type = Datetime) (Semantic Tags = ['time_index'])>   \n",
       "18  <ColumnSchema (Logical Type = BooleanNullable)>, <ColumnSchema (Logical Type...   \n",
       "19                                     <ColumnSchema (Semantic Tags = ['numeric'])>   \n",
       "20                                     <ColumnSchema (Semantic Tags = ['numeric'])>   \n",
       "21        <ColumnSchema (Logical Type = Datetime) (Semantic Tags = ['time_index'])>   \n",
       "\n",
       "                                                                      return_type  \n",
       "0   <ColumnSchema (Logical Type = IntegerNullable) (Semantic Tags = ['numeric'])>  \n",
       "1   <ColumnSchema (Logical Type = IntegerNullable) (Semantic Tags = ['numeric'])>  \n",
       "2                                                                            None  \n",
       "3                                    <ColumnSchema (Semantic Tags = ['numeric'])>  \n",
       "4                                                                            None  \n",
       "5                                    <ColumnSchema (Semantic Tags = ['numeric'])>  \n",
       "6                                    <ColumnSchema (Semantic Tags = ['numeric'])>  \n",
       "7                                                                            None  \n",
       "8                                    <ColumnSchema (Semantic Tags = ['numeric'])>  \n",
       "9                                    <ColumnSchema (Semantic Tags = ['numeric'])>  \n",
       "10  <ColumnSchema (Logical Type = IntegerNullable) (Semantic Tags = ['numeric'])>  \n",
       "11                                   <ColumnSchema (Semantic Tags = ['numeric'])>  \n",
       "12                                        <ColumnSchema (Logical Type = Boolean)>  \n",
       "13                                        <ColumnSchema (Logical Type = Boolean)>  \n",
       "14                                                                           None  \n",
       "15           <ColumnSchema (Logical Type = Double) (Semantic Tags = ['numeric'])>  \n",
       "16                                   <ColumnSchema (Semantic Tags = ['numeric'])>  \n",
       "17           <ColumnSchema (Logical Type = Double) (Semantic Tags = ['numeric'])>  \n",
       "18           <ColumnSchema (Logical Type = Double) (Semantic Tags = ['numeric'])>  \n",
       "19                                   <ColumnSchema (Semantic Tags = ['numeric'])>  \n",
       "20                                   <ColumnSchema (Semantic Tags = ['numeric'])>  \n",
       "21           <ColumnSchema (Logical Type = Double) (Semantic Tags = ['numeric'])>  "
      ]
     },
     "execution_count": 149,
     "metadata": {},
     "output_type": "execute_result"
    }
   ],
   "source": [
    "pd.options.display.max_colwidth = 80\n",
    "primitives[primitives['type'] == 'aggregation']"
   ]
  },
  {
   "cell_type": "code",
   "execution_count": 150,
   "id": "035c8678",
   "metadata": {},
   "outputs": [
    {
     "data": {
      "text/html": [
       "<div>\n",
       "<style scoped>\n",
       "    .dataframe tbody tr th:only-of-type {\n",
       "        vertical-align: middle;\n",
       "    }\n",
       "\n",
       "    .dataframe tbody tr th {\n",
       "        vertical-align: top;\n",
       "    }\n",
       "\n",
       "    .dataframe thead th {\n",
       "        text-align: right;\n",
       "    }\n",
       "</style>\n",
       "<table border=\"1\" class=\"dataframe\">\n",
       "  <thead>\n",
       "    <tr style=\"text-align: right;\">\n",
       "      <th></th>\n",
       "      <th>name</th>\n",
       "      <th>type</th>\n",
       "      <th>dask_compatible</th>\n",
       "      <th>spark_compatible</th>\n",
       "      <th>description</th>\n",
       "      <th>valid_inputs</th>\n",
       "      <th>return_type</th>\n",
       "    </tr>\n",
       "  </thead>\n",
       "  <tbody>\n",
       "    <tr>\n",
       "      <th>22</th>\n",
       "      <td>email_address_to_domain</td>\n",
       "      <td>transform</td>\n",
       "      <td>False</td>\n",
       "      <td>False</td>\n",
       "      <td>Determines the domain of an email</td>\n",
       "      <td>&lt;ColumnSchema (Logical Type = EmailAddress)&gt;</td>\n",
       "      <td>&lt;ColumnSchema (Logical Type = Categorical) (Semantic Tags = ['category'])&gt;</td>\n",
       "    </tr>\n",
       "    <tr>\n",
       "      <th>23</th>\n",
       "      <td>number_of_unique_words</td>\n",
       "      <td>transform</td>\n",
       "      <td>False</td>\n",
       "      <td>False</td>\n",
       "      <td>Determines the number of unique words in a string.</td>\n",
       "      <td>&lt;ColumnSchema (Logical Type = NaturalLanguage)&gt;</td>\n",
       "      <td>&lt;ColumnSchema (Logical Type = IntegerNullable) (Semantic Tags = ['numeric'])&gt;</td>\n",
       "    </tr>\n",
       "    <tr>\n",
       "      <th>24</th>\n",
       "      <td>count_string</td>\n",
       "      <td>transform</td>\n",
       "      <td>False</td>\n",
       "      <td>False</td>\n",
       "      <td>Determines how many times a given string shows up in a text field.</td>\n",
       "      <td>&lt;ColumnSchema (Logical Type = NaturalLanguage)&gt;</td>\n",
       "      <td>&lt;ColumnSchema (Logical Type = IntegerNullable) (Semantic Tags = ['numeric'])&gt;</td>\n",
       "    </tr>\n",
       "    <tr>\n",
       "      <th>25</th>\n",
       "      <td>month</td>\n",
       "      <td>transform</td>\n",
       "      <td>True</td>\n",
       "      <td>True</td>\n",
       "      <td>Determines the month value of a datetime.</td>\n",
       "      <td>&lt;ColumnSchema (Logical Type = Datetime)&gt;</td>\n",
       "      <td>&lt;ColumnSchema (Logical Type = Ordinal: [1, 2, 3, 4, 5, 6, 7, 8, 9, 10, 11, 1...</td>\n",
       "    </tr>\n",
       "    <tr>\n",
       "      <th>26</th>\n",
       "      <td>modulo_by_feature</td>\n",
       "      <td>transform</td>\n",
       "      <td>True</td>\n",
       "      <td>True</td>\n",
       "      <td>Computes the modulo of a scalar by each element in a list.</td>\n",
       "      <td>&lt;ColumnSchema (Semantic Tags = ['numeric'])&gt;</td>\n",
       "      <td>&lt;ColumnSchema (Semantic Tags = ['numeric'])&gt;</td>\n",
       "    </tr>\n",
       "    <tr>\n",
       "      <th>...</th>\n",
       "      <td>...</td>\n",
       "      <td>...</td>\n",
       "      <td>...</td>\n",
       "      <td>...</td>\n",
       "      <td>...</td>\n",
       "      <td>...</td>\n",
       "      <td>...</td>\n",
       "    </tr>\n",
       "    <tr>\n",
       "      <th>131</th>\n",
       "      <td>less_than_equal_to_scalar</td>\n",
       "      <td>transform</td>\n",
       "      <td>True</td>\n",
       "      <td>True</td>\n",
       "      <td>Determines if values are less than or equal to a given scalar.</td>\n",
       "      <td>&lt;ColumnSchema (Semantic Tags = ['numeric'])&gt;, &lt;ColumnSchema (Logical Type = ...</td>\n",
       "      <td>&lt;ColumnSchema (Logical Type = BooleanNullable)&gt;</td>\n",
       "    </tr>\n",
       "    <tr>\n",
       "      <th>132</th>\n",
       "      <td>sine</td>\n",
       "      <td>transform</td>\n",
       "      <td>True</td>\n",
       "      <td>True</td>\n",
       "      <td>Computes the sine of a number.</td>\n",
       "      <td>&lt;ColumnSchema (Semantic Tags = ['numeric'])&gt;</td>\n",
       "      <td>&lt;ColumnSchema (Logical Type = Double) (Semantic Tags = ['numeric'])&gt;</td>\n",
       "    </tr>\n",
       "    <tr>\n",
       "      <th>133</th>\n",
       "      <td>geomidpoint</td>\n",
       "      <td>transform</td>\n",
       "      <td>False</td>\n",
       "      <td>False</td>\n",
       "      <td>Determines the geographic center of two coordinates.</td>\n",
       "      <td>&lt;ColumnSchema (Logical Type = LatLong)&gt;</td>\n",
       "      <td>&lt;ColumnSchema (Logical Type = LatLong)&gt;</td>\n",
       "    </tr>\n",
       "    <tr>\n",
       "      <th>134</th>\n",
       "      <td>greater_than_equal_to</td>\n",
       "      <td>transform</td>\n",
       "      <td>True</td>\n",
       "      <td>True</td>\n",
       "      <td>Determines if values in one list are greater than or equal to another list.</td>\n",
       "      <td>&lt;ColumnSchema (Semantic Tags = ['numeric'])&gt;, &lt;ColumnSchema (Logical Type = ...</td>\n",
       "      <td>&lt;ColumnSchema (Logical Type = BooleanNullable)&gt;</td>\n",
       "    </tr>\n",
       "    <tr>\n",
       "      <th>135</th>\n",
       "      <td>subtract_numeric_scalar</td>\n",
       "      <td>transform</td>\n",
       "      <td>True</td>\n",
       "      <td>True</td>\n",
       "      <td>Subtracts a scalar from each element in the list.</td>\n",
       "      <td>&lt;ColumnSchema (Semantic Tags = ['numeric'])&gt;</td>\n",
       "      <td>&lt;ColumnSchema (Semantic Tags = ['numeric'])&gt;</td>\n",
       "    </tr>\n",
       "  </tbody>\n",
       "</table>\n",
       "<p>114 rows × 7 columns</p>\n",
       "</div>"
      ],
      "text/plain": [
       "                          name       type  dask_compatible  spark_compatible  \\\n",
       "22     email_address_to_domain  transform            False             False   \n",
       "23      number_of_unique_words  transform            False             False   \n",
       "24                count_string  transform            False             False   \n",
       "25                       month  transform             True              True   \n",
       "26           modulo_by_feature  transform             True              True   \n",
       "..                         ...        ...              ...               ...   \n",
       "131  less_than_equal_to_scalar  transform             True              True   \n",
       "132                       sine  transform             True              True   \n",
       "133                geomidpoint  transform            False             False   \n",
       "134      greater_than_equal_to  transform             True              True   \n",
       "135    subtract_numeric_scalar  transform             True              True   \n",
       "\n",
       "                                                                     description  \\\n",
       "22                                             Determines the domain of an email   \n",
       "23                            Determines the number of unique words in a string.   \n",
       "24            Determines how many times a given string shows up in a text field.   \n",
       "25                                     Determines the month value of a datetime.   \n",
       "26                    Computes the modulo of a scalar by each element in a list.   \n",
       "..                                                                           ...   \n",
       "131               Determines if values are less than or equal to a given scalar.   \n",
       "132                                               Computes the sine of a number.   \n",
       "133                         Determines the geographic center of two coordinates.   \n",
       "134  Determines if values in one list are greater than or equal to another list.   \n",
       "135                            Subtracts a scalar from each element in the list.   \n",
       "\n",
       "                                                                        valid_inputs  \\\n",
       "22                                      <ColumnSchema (Logical Type = EmailAddress)>   \n",
       "23                                   <ColumnSchema (Logical Type = NaturalLanguage)>   \n",
       "24                                   <ColumnSchema (Logical Type = NaturalLanguage)>   \n",
       "25                                          <ColumnSchema (Logical Type = Datetime)>   \n",
       "26                                      <ColumnSchema (Semantic Tags = ['numeric'])>   \n",
       "..                                                                               ...   \n",
       "131  <ColumnSchema (Semantic Tags = ['numeric'])>, <ColumnSchema (Logical Type = ...   \n",
       "132                                     <ColumnSchema (Semantic Tags = ['numeric'])>   \n",
       "133                                          <ColumnSchema (Logical Type = LatLong)>   \n",
       "134  <ColumnSchema (Semantic Tags = ['numeric'])>, <ColumnSchema (Logical Type = ...   \n",
       "135                                     <ColumnSchema (Semantic Tags = ['numeric'])>   \n",
       "\n",
       "                                                                         return_type  \n",
       "22        <ColumnSchema (Logical Type = Categorical) (Semantic Tags = ['category'])>  \n",
       "23     <ColumnSchema (Logical Type = IntegerNullable) (Semantic Tags = ['numeric'])>  \n",
       "24     <ColumnSchema (Logical Type = IntegerNullable) (Semantic Tags = ['numeric'])>  \n",
       "25   <ColumnSchema (Logical Type = Ordinal: [1, 2, 3, 4, 5, 6, 7, 8, 9, 10, 11, 1...  \n",
       "26                                      <ColumnSchema (Semantic Tags = ['numeric'])>  \n",
       "..                                                                               ...  \n",
       "131                                  <ColumnSchema (Logical Type = BooleanNullable)>  \n",
       "132             <ColumnSchema (Logical Type = Double) (Semantic Tags = ['numeric'])>  \n",
       "133                                          <ColumnSchema (Logical Type = LatLong)>  \n",
       "134                                  <ColumnSchema (Logical Type = BooleanNullable)>  \n",
       "135                                     <ColumnSchema (Semantic Tags = ['numeric'])>  \n",
       "\n",
       "[114 rows x 7 columns]"
      ]
     },
     "execution_count": 150,
     "metadata": {},
     "output_type": "execute_result"
    }
   ],
   "source": [
    "primitives[primitives['type'] != 'aggregation']"
   ]
  },
  {
   "cell_type": "code",
   "execution_count": 151,
   "id": "031c3b75",
   "metadata": {},
   "outputs": [],
   "source": [
    "# Create new features using specified primitives\n",
    "\n",
    "features, feature_names = ft.dfs(entityset=es, target_dataframe_name='clients',\n",
    "                                    agg_primitives=[\"mean\",\"sum\",\"max\",\"percent_true\",\"count\",\"last\"],\n",
    "                                    trans_primitives=[\"day\",\"year\",\"month\",\"weekday\"])"
   ]
  },
  {
   "cell_type": "code",
   "execution_count": 153,
   "id": "032cedd8",
   "metadata": {},
   "outputs": [
    {
     "data": {
      "text/html": [
       "<div>\n",
       "<style scoped>\n",
       "    .dataframe tbody tr th:only-of-type {\n",
       "        vertical-align: middle;\n",
       "    }\n",
       "\n",
       "    .dataframe tbody tr th {\n",
       "        vertical-align: top;\n",
       "    }\n",
       "\n",
       "    .dataframe thead th {\n",
       "        text-align: right;\n",
       "    }\n",
       "</style>\n",
       "<table border=\"1\" class=\"dataframe\">\n",
       "  <thead>\n",
       "    <tr style=\"text-align: right;\">\n",
       "      <th></th>\n",
       "      <th>income</th>\n",
       "      <th>credit_score</th>\n",
       "      <th>COUNT(loans)</th>\n",
       "      <th>LAST(loans.loan_amount)</th>\n",
       "      <th>LAST(loans.loan_id)</th>\n",
       "      <th>LAST(loans.loan_type)</th>\n",
       "      <th>LAST(loans.rate)</th>\n",
       "      <th>LAST(loans.repaid)</th>\n",
       "      <th>MAX(loans.loan_amount)</th>\n",
       "      <th>MAX(loans.rate)</th>\n",
       "      <th>...</th>\n",
       "      <th>DAY(LAST(payments.payment_date))</th>\n",
       "      <th>MONTH(LAST(loans.loan_end))</th>\n",
       "      <th>MONTH(LAST(loans.loan_start))</th>\n",
       "      <th>MONTH(LAST(payments.payment_date))</th>\n",
       "      <th>WEEKDAY(LAST(loans.loan_end))</th>\n",
       "      <th>WEEKDAY(LAST(loans.loan_start))</th>\n",
       "      <th>WEEKDAY(LAST(payments.payment_date))</th>\n",
       "      <th>YEAR(LAST(loans.loan_end))</th>\n",
       "      <th>YEAR(LAST(loans.loan_start))</th>\n",
       "      <th>YEAR(LAST(payments.payment_date))</th>\n",
       "    </tr>\n",
       "    <tr>\n",
       "      <th>client_id</th>\n",
       "      <th></th>\n",
       "      <th></th>\n",
       "      <th></th>\n",
       "      <th></th>\n",
       "      <th></th>\n",
       "      <th></th>\n",
       "      <th></th>\n",
       "      <th></th>\n",
       "      <th></th>\n",
       "      <th></th>\n",
       "      <th></th>\n",
       "      <th></th>\n",
       "      <th></th>\n",
       "      <th></th>\n",
       "      <th></th>\n",
       "      <th></th>\n",
       "      <th></th>\n",
       "      <th></th>\n",
       "      <th></th>\n",
       "      <th></th>\n",
       "      <th></th>\n",
       "    </tr>\n",
       "  </thead>\n",
       "  <tbody>\n",
       "    <tr>\n",
       "      <th>42320</th>\n",
       "      <td>229481</td>\n",
       "      <td>563</td>\n",
       "      <td>15</td>\n",
       "      <td>8090</td>\n",
       "      <td>10156</td>\n",
       "      <td>home</td>\n",
       "      <td>3.18</td>\n",
       "      <td>0</td>\n",
       "      <td>13887.0</td>\n",
       "      <td>6.74</td>\n",
       "      <td>...</td>\n",
       "      <td>12</td>\n",
       "      <td>4</td>\n",
       "      <td>9</td>\n",
       "      <td>4</td>\n",
       "      <td>4</td>\n",
       "      <td>5</td>\n",
       "      <td>4</td>\n",
       "      <td>2015</td>\n",
       "      <td>2012</td>\n",
       "      <td>2013</td>\n",
       "    </tr>\n",
       "    <tr>\n",
       "      <th>39384</th>\n",
       "      <td>191204</td>\n",
       "      <td>617</td>\n",
       "      <td>19</td>\n",
       "      <td>14654</td>\n",
       "      <td>11735</td>\n",
       "      <td>other</td>\n",
       "      <td>2.26</td>\n",
       "      <td>0</td>\n",
       "      <td>14654.0</td>\n",
       "      <td>9.23</td>\n",
       "      <td>...</td>\n",
       "      <td>13</td>\n",
       "      <td>3</td>\n",
       "      <td>7</td>\n",
       "      <td>3</td>\n",
       "      <td>6</td>\n",
       "      <td>0</td>\n",
       "      <td>4</td>\n",
       "      <td>2016</td>\n",
       "      <td>2014</td>\n",
       "      <td>2015</td>\n",
       "    </tr>\n",
       "    <tr>\n",
       "      <th>26945</th>\n",
       "      <td>214516</td>\n",
       "      <td>806</td>\n",
       "      <td>15</td>\n",
       "      <td>9249</td>\n",
       "      <td>11482</td>\n",
       "      <td>cash</td>\n",
       "      <td>2.86</td>\n",
       "      <td>1</td>\n",
       "      <td>14593.0</td>\n",
       "      <td>5.65</td>\n",
       "      <td>...</td>\n",
       "      <td>30</td>\n",
       "      <td>5</td>\n",
       "      <td>12</td>\n",
       "      <td>7</td>\n",
       "      <td>2</td>\n",
       "      <td>1</td>\n",
       "      <td>2</td>\n",
       "      <td>2016</td>\n",
       "      <td>2013</td>\n",
       "      <td>2014</td>\n",
       "    </tr>\n",
       "    <tr>\n",
       "      <th>41472</th>\n",
       "      <td>152214</td>\n",
       "      <td>638</td>\n",
       "      <td>16</td>\n",
       "      <td>10122</td>\n",
       "      <td>11936</td>\n",
       "      <td>cash</td>\n",
       "      <td>1.03</td>\n",
       "      <td>0</td>\n",
       "      <td>13657.0</td>\n",
       "      <td>9.82</td>\n",
       "      <td>...</td>\n",
       "      <td>21</td>\n",
       "      <td>6</td>\n",
       "      <td>8</td>\n",
       "      <td>3</td>\n",
       "      <td>2</td>\n",
       "      <td>2</td>\n",
       "      <td>5</td>\n",
       "      <td>2016</td>\n",
       "      <td>2014</td>\n",
       "      <td>2015</td>\n",
       "    </tr>\n",
       "    <tr>\n",
       "      <th>46180</th>\n",
       "      <td>43851</td>\n",
       "      <td>562</td>\n",
       "      <td>20</td>\n",
       "      <td>3834</td>\n",
       "      <td>10887</td>\n",
       "      <td>other</td>\n",
       "      <td>1.38</td>\n",
       "      <td>0</td>\n",
       "      <td>14081.0</td>\n",
       "      <td>9.26</td>\n",
       "      <td>...</td>\n",
       "      <td>2</td>\n",
       "      <td>2</td>\n",
       "      <td>5</td>\n",
       "      <td>2</td>\n",
       "      <td>2</td>\n",
       "      <td>5</td>\n",
       "      <td>0</td>\n",
       "      <td>2016</td>\n",
       "      <td>2014</td>\n",
       "      <td>2015</td>\n",
       "    </tr>\n",
       "  </tbody>\n",
       "</table>\n",
       "<p>5 rows × 74 columns</p>\n",
       "</div>"
      ],
      "text/plain": [
       "           income  credit_score  COUNT(loans)  LAST(loans.loan_amount)  \\\n",
       "client_id                                                                \n",
       "42320      229481           563            15                     8090   \n",
       "39384      191204           617            19                    14654   \n",
       "26945      214516           806            15                     9249   \n",
       "41472      152214           638            16                    10122   \n",
       "46180       43851           562            20                     3834   \n",
       "\n",
       "           LAST(loans.loan_id) LAST(loans.loan_type)  LAST(loans.rate)  \\\n",
       "client_id                                                                \n",
       "42320                    10156                  home              3.18   \n",
       "39384                    11735                 other              2.26   \n",
       "26945                    11482                  cash              2.86   \n",
       "41472                    11936                  cash              1.03   \n",
       "46180                    10887                 other              1.38   \n",
       "\n",
       "          LAST(loans.repaid)  MAX(loans.loan_amount)  MAX(loans.rate)  ...  \\\n",
       "client_id                                                              ...   \n",
       "42320                      0                 13887.0             6.74  ...   \n",
       "39384                      0                 14654.0             9.23  ...   \n",
       "26945                      1                 14593.0             5.65  ...   \n",
       "41472                      0                 13657.0             9.82  ...   \n",
       "46180                      0                 14081.0             9.26  ...   \n",
       "\n",
       "           DAY(LAST(payments.payment_date))  MONTH(LAST(loans.loan_end))  \\\n",
       "client_id                                                                  \n",
       "42320                                    12                            4   \n",
       "39384                                    13                            3   \n",
       "26945                                    30                            5   \n",
       "41472                                    21                            6   \n",
       "46180                                     2                            2   \n",
       "\n",
       "           MONTH(LAST(loans.loan_start))  MONTH(LAST(payments.payment_date))  \\\n",
       "client_id                                                                      \n",
       "42320                                  9                                   4   \n",
       "39384                                  7                                   3   \n",
       "26945                                 12                                   7   \n",
       "41472                                  8                                   3   \n",
       "46180                                  5                                   2   \n",
       "\n",
       "           WEEKDAY(LAST(loans.loan_end)) WEEKDAY(LAST(loans.loan_start))  \\\n",
       "client_id                                                                  \n",
       "42320                                  4                               5   \n",
       "39384                                  6                               0   \n",
       "26945                                  2                               1   \n",
       "41472                                  2                               2   \n",
       "46180                                  2                               5   \n",
       "\n",
       "           WEEKDAY(LAST(payments.payment_date))  YEAR(LAST(loans.loan_end))  \\\n",
       "client_id                                                                     \n",
       "42320                                         4                        2015   \n",
       "39384                                         4                        2016   \n",
       "26945                                         2                        2016   \n",
       "41472                                         5                        2016   \n",
       "46180                                         0                        2016   \n",
       "\n",
       "           YEAR(LAST(loans.loan_start))  YEAR(LAST(payments.payment_date))  \n",
       "client_id                                                                   \n",
       "42320                              2012                               2013  \n",
       "39384                              2014                               2015  \n",
       "26945                              2013                               2014  \n",
       "41472                              2014                               2015  \n",
       "46180                              2014                               2015  \n",
       "\n",
       "[5 rows x 74 columns]"
      ]
     },
     "execution_count": 153,
     "metadata": {},
     "output_type": "execute_result"
    }
   ],
   "source": [
    "features.head()"
   ]
  },
  {
   "cell_type": "code",
   "execution_count": 154,
   "id": "454f3efe",
   "metadata": {},
   "outputs": [
    {
     "data": {
      "text/plain": [
       "[<Feature: income>,\n",
       " <Feature: credit_score>,\n",
       " <Feature: COUNT(loans)>,\n",
       " <Feature: LAST(loans.loan_amount)>,\n",
       " <Feature: LAST(loans.loan_id)>,\n",
       " <Feature: LAST(loans.loan_type)>,\n",
       " <Feature: LAST(loans.rate)>,\n",
       " <Feature: LAST(loans.repaid)>,\n",
       " <Feature: MAX(loans.loan_amount)>,\n",
       " <Feature: MAX(loans.rate)>,\n",
       " <Feature: MEAN(loans.loan_amount)>,\n",
       " <Feature: MEAN(loans.rate)>,\n",
       " <Feature: SUM(loans.loan_amount)>,\n",
       " <Feature: SUM(loans.rate)>,\n",
       " <Feature: COUNT(payments)>,\n",
       " <Feature: LAST(payments.missed)>,\n",
       " <Feature: LAST(payments.payment_amount)>,\n",
       " <Feature: LAST(payments.payment_id)>,\n",
       " <Feature: MAX(payments.payment_amount)>,\n",
       " <Feature: MEAN(payments.payment_amount)>,\n",
       " <Feature: SUM(payments.payment_amount)>,\n",
       " <Feature: DAY(joined)>,\n",
       " <Feature: MONTH(joined)>,\n",
       " <Feature: WEEKDAY(joined)>,\n",
       " <Feature: YEAR(joined)>,\n",
       " <Feature: LAST(loans.COUNT(payments))>,\n",
       " <Feature: LAST(loans.DAY(loan_end))>,\n",
       " <Feature: LAST(loans.DAY(loan_start))>,\n",
       " <Feature: LAST(loans.MAX(payments.payment_amount))>,\n",
       " <Feature: LAST(loans.MEAN(payments.payment_amount))>,\n",
       " <Feature: LAST(loans.MONTH(loan_end))>,\n",
       " <Feature: LAST(loans.MONTH(loan_start))>,\n",
       " <Feature: LAST(loans.SUM(payments.payment_amount))>,\n",
       " <Feature: LAST(loans.WEEKDAY(loan_end))>,\n",
       " <Feature: LAST(loans.WEEKDAY(loan_start))>,\n",
       " <Feature: LAST(loans.YEAR(loan_end))>,\n",
       " <Feature: LAST(loans.YEAR(loan_start))>,\n",
       " <Feature: MAX(loans.COUNT(payments))>,\n",
       " <Feature: MAX(loans.LAST(payments.payment_amount))>,\n",
       " <Feature: MAX(loans.LAST(payments.payment_id))>,\n",
       " <Feature: MAX(loans.MEAN(payments.payment_amount))>,\n",
       " <Feature: MAX(loans.SUM(payments.payment_amount))>,\n",
       " <Feature: MEAN(loans.COUNT(payments))>,\n",
       " <Feature: MEAN(loans.LAST(payments.payment_amount))>,\n",
       " <Feature: MEAN(loans.LAST(payments.payment_id))>,\n",
       " <Feature: MEAN(loans.MAX(payments.payment_amount))>,\n",
       " <Feature: MEAN(loans.MEAN(payments.payment_amount))>,\n",
       " <Feature: MEAN(loans.SUM(payments.payment_amount))>,\n",
       " <Feature: SUM(loans.LAST(payments.payment_amount))>,\n",
       " <Feature: SUM(loans.LAST(payments.payment_id))>,\n",
       " <Feature: SUM(loans.MAX(payments.payment_amount))>,\n",
       " <Feature: SUM(loans.MEAN(payments.payment_amount))>,\n",
       " <Feature: LAST(payments.loans.loan_amount)>,\n",
       " <Feature: LAST(payments.loans.loan_type)>,\n",
       " <Feature: LAST(payments.loans.rate)>,\n",
       " <Feature: LAST(payments.loans.repaid)>,\n",
       " <Feature: MAX(payments.loans.loan_amount)>,\n",
       " <Feature: MAX(payments.loans.rate)>,\n",
       " <Feature: MEAN(payments.loans.loan_amount)>,\n",
       " <Feature: MEAN(payments.loans.rate)>,\n",
       " <Feature: SUM(payments.loans.loan_amount)>,\n",
       " <Feature: SUM(payments.loans.rate)>,\n",
       " <Feature: DAY(LAST(loans.loan_end))>,\n",
       " <Feature: DAY(LAST(loans.loan_start))>,\n",
       " <Feature: DAY(LAST(payments.payment_date))>,\n",
       " <Feature: MONTH(LAST(loans.loan_end))>,\n",
       " <Feature: MONTH(LAST(loans.loan_start))>,\n",
       " <Feature: MONTH(LAST(payments.payment_date))>,\n",
       " <Feature: WEEKDAY(LAST(loans.loan_end))>,\n",
       " <Feature: WEEKDAY(LAST(loans.loan_start))>,\n",
       " <Feature: WEEKDAY(LAST(payments.payment_date))>,\n",
       " <Feature: YEAR(LAST(loans.loan_end))>,\n",
       " <Feature: YEAR(LAST(loans.loan_start))>,\n",
       " <Feature: YEAR(LAST(payments.payment_date))>]"
      ]
     },
     "execution_count": 154,
     "metadata": {},
     "output_type": "execute_result"
    }
   ],
   "source": [
    "feature_names"
   ]
  },
  {
   "cell_type": "code",
   "execution_count": 155,
   "id": "38fb4b9f",
   "metadata": {},
   "outputs": [],
   "source": [
    "## Deep Feature Synthesis\n",
    "\n",
    "# Deep Feature Synthesis (DFS) is an automated method for performing feature engineering on relational and temporal data.\n",
    "# combining 2 or more features is called deep feature synthesis if only 1 is used, then it is called feature synthesis "
   ]
  },
  {
   "cell_type": "code",
   "execution_count": 157,
   "id": "3afaadad",
   "metadata": {},
   "outputs": [],
   "source": [
    "## Automated Deep Feature Synthesis\n",
    "\n",
    "# Feature Tools can automatically generate many new features for us without us specifying the primitives\n",
    "# we have to specify 'max_depth' parameter "
   ]
  },
  {
   "cell_type": "code",
   "execution_count": 159,
   "id": "d18096ff",
   "metadata": {},
   "outputs": [],
   "source": [
    "features, feature_names = ft.dfs(entityset=es, target_dataframe_name='clients',max_depth=4)"
   ]
  },
  {
   "cell_type": "code",
   "execution_count": 160,
   "id": "2c195152",
   "metadata": {},
   "outputs": [
    {
     "data": {
      "text/html": [
       "<div>\n",
       "<style scoped>\n",
       "    .dataframe tbody tr th:only-of-type {\n",
       "        vertical-align: middle;\n",
       "    }\n",
       "\n",
       "    .dataframe tbody tr th {\n",
       "        vertical-align: top;\n",
       "    }\n",
       "\n",
       "    .dataframe thead th {\n",
       "        text-align: right;\n",
       "    }\n",
       "</style>\n",
       "<table border=\"1\" class=\"dataframe\">\n",
       "  <thead>\n",
       "    <tr style=\"text-align: right;\">\n",
       "      <th></th>\n",
       "      <th>income</th>\n",
       "      <th>credit_score</th>\n",
       "      <th>COUNT(loans)</th>\n",
       "      <th>MAX(loans.loan_amount)</th>\n",
       "      <th>MAX(loans.rate)</th>\n",
       "      <th>MEAN(loans.loan_amount)</th>\n",
       "      <th>MEAN(loans.rate)</th>\n",
       "      <th>MIN(loans.loan_amount)</th>\n",
       "      <th>MIN(loans.rate)</th>\n",
       "      <th>MODE(loans.loan_type)</th>\n",
       "      <th>...</th>\n",
       "      <th>SKEW(loans.NUM_UNIQUE(payments.WEEKDAY(payment_date)))</th>\n",
       "      <th>SKEW(loans.NUM_UNIQUE(payments.YEAR(payment_date)))</th>\n",
       "      <th>STD(loans.NUM_UNIQUE(payments.DAY(payment_date)))</th>\n",
       "      <th>STD(loans.NUM_UNIQUE(payments.MONTH(payment_date)))</th>\n",
       "      <th>STD(loans.NUM_UNIQUE(payments.WEEKDAY(payment_date)))</th>\n",
       "      <th>STD(loans.NUM_UNIQUE(payments.YEAR(payment_date)))</th>\n",
       "      <th>SUM(loans.NUM_UNIQUE(payments.DAY(payment_date)))</th>\n",
       "      <th>SUM(loans.NUM_UNIQUE(payments.MONTH(payment_date)))</th>\n",
       "      <th>SUM(loans.NUM_UNIQUE(payments.WEEKDAY(payment_date)))</th>\n",
       "      <th>SUM(loans.NUM_UNIQUE(payments.YEAR(payment_date)))</th>\n",
       "    </tr>\n",
       "    <tr>\n",
       "      <th>client_id</th>\n",
       "      <th></th>\n",
       "      <th></th>\n",
       "      <th></th>\n",
       "      <th></th>\n",
       "      <th></th>\n",
       "      <th></th>\n",
       "      <th></th>\n",
       "      <th></th>\n",
       "      <th></th>\n",
       "      <th></th>\n",
       "      <th></th>\n",
       "      <th></th>\n",
       "      <th></th>\n",
       "      <th></th>\n",
       "      <th></th>\n",
       "      <th></th>\n",
       "      <th></th>\n",
       "      <th></th>\n",
       "      <th></th>\n",
       "      <th></th>\n",
       "      <th></th>\n",
       "    </tr>\n",
       "  </thead>\n",
       "  <tbody>\n",
       "    <tr>\n",
       "      <th>42320</th>\n",
       "      <td>229481</td>\n",
       "      <td>563</td>\n",
       "      <td>15</td>\n",
       "      <td>13887.0</td>\n",
       "      <td>6.74</td>\n",
       "      <td>7062.066667</td>\n",
       "      <td>2.457333</td>\n",
       "      <td>1070.0</td>\n",
       "      <td>0.38</td>\n",
       "      <td>home</td>\n",
       "      <td>...</td>\n",
       "      <td>-0.378644</td>\n",
       "      <td>0.547317</td>\n",
       "      <td>2.225395</td>\n",
       "      <td>1.846490</td>\n",
       "      <td>1.355764</td>\n",
       "      <td>0.632456</td>\n",
       "      <td>100.0</td>\n",
       "      <td>98.0</td>\n",
       "      <td>68.0</td>\n",
       "      <td>24.0</td>\n",
       "    </tr>\n",
       "    <tr>\n",
       "      <th>39384</th>\n",
       "      <td>191204</td>\n",
       "      <td>617</td>\n",
       "      <td>19</td>\n",
       "      <td>14654.0</td>\n",
       "      <td>9.23</td>\n",
       "      <td>7865.473684</td>\n",
       "      <td>3.538421</td>\n",
       "      <td>1770.0</td>\n",
       "      <td>0.43</td>\n",
       "      <td>credit</td>\n",
       "      <td>...</td>\n",
       "      <td>0.002498</td>\n",
       "      <td>1.603463</td>\n",
       "      <td>2.043389</td>\n",
       "      <td>1.559727</td>\n",
       "      <td>1.182227</td>\n",
       "      <td>0.945905</td>\n",
       "      <td>129.0</td>\n",
       "      <td>116.0</td>\n",
       "      <td>91.0</td>\n",
       "      <td>32.0</td>\n",
       "    </tr>\n",
       "    <tr>\n",
       "      <th>26945</th>\n",
       "      <td>214516</td>\n",
       "      <td>806</td>\n",
       "      <td>15</td>\n",
       "      <td>14593.0</td>\n",
       "      <td>5.65</td>\n",
       "      <td>7125.933333</td>\n",
       "      <td>2.855333</td>\n",
       "      <td>653.0</td>\n",
       "      <td>0.13</td>\n",
       "      <td>credit</td>\n",
       "      <td>...</td>\n",
       "      <td>0.726471</td>\n",
       "      <td>0.547317</td>\n",
       "      <td>1.549193</td>\n",
       "      <td>1.889822</td>\n",
       "      <td>1.245946</td>\n",
       "      <td>0.632456</td>\n",
       "      <td>99.0</td>\n",
       "      <td>90.0</td>\n",
       "      <td>67.0</td>\n",
       "      <td>24.0</td>\n",
       "    </tr>\n",
       "    <tr>\n",
       "      <th>41472</th>\n",
       "      <td>152214</td>\n",
       "      <td>638</td>\n",
       "      <td>16</td>\n",
       "      <td>13657.0</td>\n",
       "      <td>9.82</td>\n",
       "      <td>7510.812500</td>\n",
       "      <td>3.981250</td>\n",
       "      <td>986.0</td>\n",
       "      <td>0.01</td>\n",
       "      <td>cash</td>\n",
       "      <td>...</td>\n",
       "      <td>0.705987</td>\n",
       "      <td>-0.895257</td>\n",
       "      <td>1.360147</td>\n",
       "      <td>1.258306</td>\n",
       "      <td>1.093542</td>\n",
       "      <td>0.478714</td>\n",
       "      <td>94.0</td>\n",
       "      <td>90.0</td>\n",
       "      <td>71.0</td>\n",
       "      <td>27.0</td>\n",
       "    </tr>\n",
       "    <tr>\n",
       "      <th>46180</th>\n",
       "      <td>43851</td>\n",
       "      <td>562</td>\n",
       "      <td>20</td>\n",
       "      <td>14081.0</td>\n",
       "      <td>9.26</td>\n",
       "      <td>7700.850000</td>\n",
       "      <td>3.502500</td>\n",
       "      <td>1607.0</td>\n",
       "      <td>0.57</td>\n",
       "      <td>other</td>\n",
       "      <td>...</td>\n",
       "      <td>-0.683319</td>\n",
       "      <td>0.784528</td>\n",
       "      <td>2.183069</td>\n",
       "      <td>1.281447</td>\n",
       "      <td>1.095445</td>\n",
       "      <td>0.606977</td>\n",
       "      <td>133.0</td>\n",
       "      <td>116.0</td>\n",
       "      <td>92.0</td>\n",
       "      <td>30.0</td>\n",
       "    </tr>\n",
       "    <tr>\n",
       "      <th>46109</th>\n",
       "      <td>172677</td>\n",
       "      <td>527</td>\n",
       "      <td>20</td>\n",
       "      <td>14049.0</td>\n",
       "      <td>9.48</td>\n",
       "      <td>8951.600000</td>\n",
       "      <td>3.152500</td>\n",
       "      <td>559.0</td>\n",
       "      <td>0.50</td>\n",
       "      <td>credit</td>\n",
       "      <td>...</td>\n",
       "      <td>0.227619</td>\n",
       "      <td>-0.217687</td>\n",
       "      <td>1.496487</td>\n",
       "      <td>1.490320</td>\n",
       "      <td>1.019546</td>\n",
       "      <td>0.510418</td>\n",
       "      <td>123.0</td>\n",
       "      <td>114.0</td>\n",
       "      <td>95.0</td>\n",
       "      <td>31.0</td>\n",
       "    </tr>\n",
       "    <tr>\n",
       "      <th>32885</th>\n",
       "      <td>58955</td>\n",
       "      <td>642</td>\n",
       "      <td>15</td>\n",
       "      <td>14162.0</td>\n",
       "      <td>9.11</td>\n",
       "      <td>9920.400000</td>\n",
       "      <td>2.436000</td>\n",
       "      <td>3704.0</td>\n",
       "      <td>0.10</td>\n",
       "      <td>cash</td>\n",
       "      <td>...</td>\n",
       "      <td>0.100583</td>\n",
       "      <td>0.433026</td>\n",
       "      <td>1.684665</td>\n",
       "      <td>2.065591</td>\n",
       "      <td>0.899735</td>\n",
       "      <td>0.703732</td>\n",
       "      <td>103.0</td>\n",
       "      <td>92.0</td>\n",
       "      <td>70.0</td>\n",
       "      <td>26.0</td>\n",
       "    </tr>\n",
       "    <tr>\n",
       "      <th>29841</th>\n",
       "      <td>38354</td>\n",
       "      <td>523</td>\n",
       "      <td>18</td>\n",
       "      <td>14837.0</td>\n",
       "      <td>6.76</td>\n",
       "      <td>9813.000000</td>\n",
       "      <td>3.445000</td>\n",
       "      <td>2778.0</td>\n",
       "      <td>0.26</td>\n",
       "      <td>home</td>\n",
       "      <td>...</td>\n",
       "      <td>-0.411033</td>\n",
       "      <td>-0.773082</td>\n",
       "      <td>1.855041</td>\n",
       "      <td>1.830211</td>\n",
       "      <td>1.109967</td>\n",
       "      <td>0.485071</td>\n",
       "      <td>129.0</td>\n",
       "      <td>125.0</td>\n",
       "      <td>91.0</td>\n",
       "      <td>30.0</td>\n",
       "    </tr>\n",
       "    <tr>\n",
       "      <th>38537</th>\n",
       "      <td>127183</td>\n",
       "      <td>643</td>\n",
       "      <td>17</td>\n",
       "      <td>14804.0</td>\n",
       "      <td>8.01</td>\n",
       "      <td>8986.352941</td>\n",
       "      <td>2.389412</td>\n",
       "      <td>2396.0</td>\n",
       "      <td>0.35</td>\n",
       "      <td>credit</td>\n",
       "      <td>...</td>\n",
       "      <td>-0.070970</td>\n",
       "      <td>-1.372252</td>\n",
       "      <td>1.178858</td>\n",
       "      <td>1.212678</td>\n",
       "      <td>1.358524</td>\n",
       "      <td>0.437237</td>\n",
       "      <td>111.0</td>\n",
       "      <td>107.0</td>\n",
       "      <td>80.0</td>\n",
       "      <td>30.0</td>\n",
       "    </tr>\n",
       "    <tr>\n",
       "      <th>35214</th>\n",
       "      <td>95849</td>\n",
       "      <td>696</td>\n",
       "      <td>18</td>\n",
       "      <td>14767.0</td>\n",
       "      <td>8.44</td>\n",
       "      <td>7173.555556</td>\n",
       "      <td>3.108333</td>\n",
       "      <td>667.0</td>\n",
       "      <td>0.16</td>\n",
       "      <td>home</td>\n",
       "      <td>...</td>\n",
       "      <td>-0.404599</td>\n",
       "      <td>1.610400</td>\n",
       "      <td>2.915476</td>\n",
       "      <td>1.996729</td>\n",
       "      <td>1.392088</td>\n",
       "      <td>1.131833</td>\n",
       "      <td>147.0</td>\n",
       "      <td>128.0</td>\n",
       "      <td>91.0</td>\n",
       "      <td>34.0</td>\n",
       "    </tr>\n",
       "    <tr>\n",
       "      <th>49068</th>\n",
       "      <td>128813</td>\n",
       "      <td>603</td>\n",
       "      <td>18</td>\n",
       "      <td>13910.0</td>\n",
       "      <td>6.78</td>\n",
       "      <td>7617.888889</td>\n",
       "      <td>3.095556</td>\n",
       "      <td>1447.0</td>\n",
       "      <td>0.02</td>\n",
       "      <td>cash</td>\n",
       "      <td>...</td>\n",
       "      <td>-0.159358</td>\n",
       "      <td>1.284769</td>\n",
       "      <td>2.556550</td>\n",
       "      <td>2.226548</td>\n",
       "      <td>1.150447</td>\n",
       "      <td>1.003263</td>\n",
       "      <td>140.0</td>\n",
       "      <td>115.0</td>\n",
       "      <td>87.0</td>\n",
       "      <td>32.0</td>\n",
       "    </tr>\n",
       "    <tr>\n",
       "      <th>26326</th>\n",
       "      <td>227920</td>\n",
       "      <td>633</td>\n",
       "      <td>16</td>\n",
       "      <td>13464.0</td>\n",
       "      <td>6.73</td>\n",
       "      <td>7270.062500</td>\n",
       "      <td>2.517500</td>\n",
       "      <td>1164.0</td>\n",
       "      <td>0.50</td>\n",
       "      <td>other</td>\n",
       "      <td>...</td>\n",
       "      <td>-0.185047</td>\n",
       "      <td>-0.571429</td>\n",
       "      <td>1.515201</td>\n",
       "      <td>1.691892</td>\n",
       "      <td>1.123610</td>\n",
       "      <td>0.500000</td>\n",
       "      <td>115.0</td>\n",
       "      <td>111.0</td>\n",
       "      <td>79.0</td>\n",
       "      <td>26.0</td>\n",
       "    </tr>\n",
       "    <tr>\n",
       "      <th>26695</th>\n",
       "      <td>174532</td>\n",
       "      <td>680</td>\n",
       "      <td>18</td>\n",
       "      <td>14865.0</td>\n",
       "      <td>6.51</td>\n",
       "      <td>7824.722222</td>\n",
       "      <td>2.466111</td>\n",
       "      <td>2389.0</td>\n",
       "      <td>0.22</td>\n",
       "      <td>home</td>\n",
       "      <td>...</td>\n",
       "      <td>0.031196</td>\n",
       "      <td>0.229509</td>\n",
       "      <td>2.092626</td>\n",
       "      <td>2.121320</td>\n",
       "      <td>1.414214</td>\n",
       "      <td>0.646762</td>\n",
       "      <td>118.0</td>\n",
       "      <td>111.0</td>\n",
       "      <td>78.0</td>\n",
       "      <td>32.0</td>\n",
       "    </tr>\n",
       "    <tr>\n",
       "      <th>44601</th>\n",
       "      <td>156341</td>\n",
       "      <td>518</td>\n",
       "      <td>20</td>\n",
       "      <td>14104.0</td>\n",
       "      <td>9.22</td>\n",
       "      <td>6869.250000</td>\n",
       "      <td>4.151000</td>\n",
       "      <td>1221.0</td>\n",
       "      <td>0.07</td>\n",
       "      <td>home</td>\n",
       "      <td>...</td>\n",
       "      <td>0.000000</td>\n",
       "      <td>0.120331</td>\n",
       "      <td>2.314144</td>\n",
       "      <td>1.755443</td>\n",
       "      <td>0.945905</td>\n",
       "      <td>0.615587</td>\n",
       "      <td>135.0</td>\n",
       "      <td>123.0</td>\n",
       "      <td>90.0</td>\n",
       "      <td>36.0</td>\n",
       "    </tr>\n",
       "    <tr>\n",
       "      <th>32726</th>\n",
       "      <td>235705</td>\n",
       "      <td>730</td>\n",
       "      <td>19</td>\n",
       "      <td>14802.0</td>\n",
       "      <td>9.10</td>\n",
       "      <td>6633.263158</td>\n",
       "      <td>3.058947</td>\n",
       "      <td>851.0</td>\n",
       "      <td>0.31</td>\n",
       "      <td>other</td>\n",
       "      <td>...</td>\n",
       "      <td>0.118690</td>\n",
       "      <td>1.358609</td>\n",
       "      <td>2.272387</td>\n",
       "      <td>2.060489</td>\n",
       "      <td>1.263523</td>\n",
       "      <td>0.991189</td>\n",
       "      <td>134.0</td>\n",
       "      <td>121.0</td>\n",
       "      <td>86.0</td>\n",
       "      <td>33.0</td>\n",
       "    </tr>\n",
       "    <tr>\n",
       "      <th>25707</th>\n",
       "      <td>211422</td>\n",
       "      <td>621</td>\n",
       "      <td>20</td>\n",
       "      <td>13913.0</td>\n",
       "      <td>9.44</td>\n",
       "      <td>7963.950000</td>\n",
       "      <td>3.477000</td>\n",
       "      <td>1212.0</td>\n",
       "      <td>0.33</td>\n",
       "      <td>credit</td>\n",
       "      <td>...</td>\n",
       "      <td>-0.027566</td>\n",
       "      <td>1.016512</td>\n",
       "      <td>1.663066</td>\n",
       "      <td>1.625455</td>\n",
       "      <td>1.151658</td>\n",
       "      <td>0.759155</td>\n",
       "      <td>143.0</td>\n",
       "      <td>126.0</td>\n",
       "      <td>96.0</td>\n",
       "      <td>31.0</td>\n",
       "    </tr>\n",
       "    <tr>\n",
       "      <th>49545</th>\n",
       "      <td>104564</td>\n",
       "      <td>770</td>\n",
       "      <td>20</td>\n",
       "      <td>14971.0</td>\n",
       "      <td>6.52</td>\n",
       "      <td>10289.300000</td>\n",
       "      <td>2.684000</td>\n",
       "      <td>3851.0</td>\n",
       "      <td>0.05</td>\n",
       "      <td>other</td>\n",
       "      <td>...</td>\n",
       "      <td>0.004098</td>\n",
       "      <td>1.582845</td>\n",
       "      <td>3.153528</td>\n",
       "      <td>2.178846</td>\n",
       "      <td>1.538112</td>\n",
       "      <td>1.268028</td>\n",
       "      <td>161.0</td>\n",
       "      <td>134.0</td>\n",
       "      <td>101.0</td>\n",
       "      <td>43.0</td>\n",
       "    </tr>\n",
       "    <tr>\n",
       "      <th>48177</th>\n",
       "      <td>190632</td>\n",
       "      <td>769</td>\n",
       "      <td>19</td>\n",
       "      <td>14740.0</td>\n",
       "      <td>10.89</td>\n",
       "      <td>7424.368421</td>\n",
       "      <td>3.938947</td>\n",
       "      <td>659.0</td>\n",
       "      <td>0.52</td>\n",
       "      <td>cash</td>\n",
       "      <td>...</td>\n",
       "      <td>0.007106</td>\n",
       "      <td>0.000000</td>\n",
       "      <td>2.033348</td>\n",
       "      <td>1.997074</td>\n",
       "      <td>0.955134</td>\n",
       "      <td>0.666667</td>\n",
       "      <td>140.0</td>\n",
       "      <td>131.0</td>\n",
       "      <td>88.0</td>\n",
       "      <td>38.0</td>\n",
       "    </tr>\n",
       "    <tr>\n",
       "      <th>32961</th>\n",
       "      <td>230341</td>\n",
       "      <td>714</td>\n",
       "      <td>17</td>\n",
       "      <td>14784.0</td>\n",
       "      <td>9.14</td>\n",
       "      <td>7882.235294</td>\n",
       "      <td>3.930588</td>\n",
       "      <td>1693.0</td>\n",
       "      <td>0.01</td>\n",
       "      <td>cash</td>\n",
       "      <td>...</td>\n",
       "      <td>0.634059</td>\n",
       "      <td>0.591894</td>\n",
       "      <td>2.342070</td>\n",
       "      <td>2.176073</td>\n",
       "      <td>1.263166</td>\n",
       "      <td>0.771744</td>\n",
       "      <td>117.0</td>\n",
       "      <td>104.0</td>\n",
       "      <td>73.0</td>\n",
       "      <td>29.0</td>\n",
       "    </tr>\n",
       "    <tr>\n",
       "      <th>44387</th>\n",
       "      <td>151903</td>\n",
       "      <td>781</td>\n",
       "      <td>15</td>\n",
       "      <td>14900.0</td>\n",
       "      <td>5.97</td>\n",
       "      <td>7387.733333</td>\n",
       "      <td>2.806667</td>\n",
       "      <td>765.0</td>\n",
       "      <td>0.03</td>\n",
       "      <td>cash</td>\n",
       "      <td>...</td>\n",
       "      <td>0.774548</td>\n",
       "      <td>1.626027</td>\n",
       "      <td>1.632993</td>\n",
       "      <td>1.624221</td>\n",
       "      <td>1.146423</td>\n",
       "      <td>0.910259</td>\n",
       "      <td>95.0</td>\n",
       "      <td>86.0</td>\n",
       "      <td>72.0</td>\n",
       "      <td>24.0</td>\n",
       "    </tr>\n",
       "    <tr>\n",
       "      <th>35089</th>\n",
       "      <td>131176</td>\n",
       "      <td>771</td>\n",
       "      <td>20</td>\n",
       "      <td>13194.0</td>\n",
       "      <td>7.63</td>\n",
       "      <td>6939.200000</td>\n",
       "      <td>3.513500</td>\n",
       "      <td>773.0</td>\n",
       "      <td>0.66</td>\n",
       "      <td>home</td>\n",
       "      <td>...</td>\n",
       "      <td>-0.548443</td>\n",
       "      <td>0.212354</td>\n",
       "      <td>2.543826</td>\n",
       "      <td>1.700619</td>\n",
       "      <td>1.251315</td>\n",
       "      <td>0.587143</td>\n",
       "      <td>141.0</td>\n",
       "      <td>131.0</td>\n",
       "      <td>95.0</td>\n",
       "      <td>33.0</td>\n",
       "    </tr>\n",
       "    <tr>\n",
       "      <th>46958</th>\n",
       "      <td>225709</td>\n",
       "      <td>644</td>\n",
       "      <td>13</td>\n",
       "      <td>14942.0</td>\n",
       "      <td>6.17</td>\n",
       "      <td>9378.384615</td>\n",
       "      <td>3.153846</td>\n",
       "      <td>2390.0</td>\n",
       "      <td>0.32</td>\n",
       "      <td>other</td>\n",
       "      <td>...</td>\n",
       "      <td>0.300592</td>\n",
       "      <td>0.571765</td>\n",
       "      <td>2.142369</td>\n",
       "      <td>2.166174</td>\n",
       "      <td>0.877058</td>\n",
       "      <td>0.650444</td>\n",
       "      <td>86.0</td>\n",
       "      <td>81.0</td>\n",
       "      <td>59.0</td>\n",
       "      <td>21.0</td>\n",
       "    </tr>\n",
       "    <tr>\n",
       "      <th>39505</th>\n",
       "      <td>153873</td>\n",
       "      <td>610</td>\n",
       "      <td>20</td>\n",
       "      <td>14575.0</td>\n",
       "      <td>9.91</td>\n",
       "      <td>7424.050000</td>\n",
       "      <td>3.190500</td>\n",
       "      <td>904.0</td>\n",
       "      <td>0.19</td>\n",
       "      <td>cash</td>\n",
       "      <td>...</td>\n",
       "      <td>0.432347</td>\n",
       "      <td>1.670245</td>\n",
       "      <td>1.904980</td>\n",
       "      <td>1.843195</td>\n",
       "      <td>1.234376</td>\n",
       "      <td>0.753937</td>\n",
       "      <td>131.0</td>\n",
       "      <td>117.0</td>\n",
       "      <td>91.0</td>\n",
       "      <td>32.0</td>\n",
       "    </tr>\n",
       "    <tr>\n",
       "      <th>49624</th>\n",
       "      <td>49036</td>\n",
       "      <td>800</td>\n",
       "      <td>15</td>\n",
       "      <td>14679.0</td>\n",
       "      <td>12.62</td>\n",
       "      <td>9174.533333</td>\n",
       "      <td>4.037333</td>\n",
       "      <td>2361.0</td>\n",
       "      <td>0.01</td>\n",
       "      <td>credit</td>\n",
       "      <td>...</td>\n",
       "      <td>-0.452434</td>\n",
       "      <td>-2.404763</td>\n",
       "      <td>1.698739</td>\n",
       "      <td>1.624221</td>\n",
       "      <td>1.082326</td>\n",
       "      <td>0.351866</td>\n",
       "      <td>93.0</td>\n",
       "      <td>89.0</td>\n",
       "      <td>63.0</td>\n",
       "      <td>28.0</td>\n",
       "    </tr>\n",
       "    <tr>\n",
       "      <th>41480</th>\n",
       "      <td>122607</td>\n",
       "      <td>585</td>\n",
       "      <td>20</td>\n",
       "      <td>14399.0</td>\n",
       "      <td>10.49</td>\n",
       "      <td>7894.850000</td>\n",
       "      <td>3.110500</td>\n",
       "      <td>811.0</td>\n",
       "      <td>0.36</td>\n",
       "      <td>home</td>\n",
       "      <td>...</td>\n",
       "      <td>0.800638</td>\n",
       "      <td>0.396018</td>\n",
       "      <td>2.280351</td>\n",
       "      <td>2.282081</td>\n",
       "      <td>1.128576</td>\n",
       "      <td>0.656947</td>\n",
       "      <td>132.0</td>\n",
       "      <td>121.0</td>\n",
       "      <td>86.0</td>\n",
       "      <td>34.0</td>\n",
       "    </tr>\n",
       "  </tbody>\n",
       "</table>\n",
       "<p>25 rows × 148 columns</p>\n",
       "</div>"
      ],
      "text/plain": [
       "           income  credit_score  COUNT(loans)  MAX(loans.loan_amount)  \\\n",
       "client_id                                                               \n",
       "42320      229481           563            15                 13887.0   \n",
       "39384      191204           617            19                 14654.0   \n",
       "26945      214516           806            15                 14593.0   \n",
       "41472      152214           638            16                 13657.0   \n",
       "46180       43851           562            20                 14081.0   \n",
       "46109      172677           527            20                 14049.0   \n",
       "32885       58955           642            15                 14162.0   \n",
       "29841       38354           523            18                 14837.0   \n",
       "38537      127183           643            17                 14804.0   \n",
       "35214       95849           696            18                 14767.0   \n",
       "49068      128813           603            18                 13910.0   \n",
       "26326      227920           633            16                 13464.0   \n",
       "26695      174532           680            18                 14865.0   \n",
       "44601      156341           518            20                 14104.0   \n",
       "32726      235705           730            19                 14802.0   \n",
       "25707      211422           621            20                 13913.0   \n",
       "49545      104564           770            20                 14971.0   \n",
       "48177      190632           769            19                 14740.0   \n",
       "32961      230341           714            17                 14784.0   \n",
       "44387      151903           781            15                 14900.0   \n",
       "35089      131176           771            20                 13194.0   \n",
       "46958      225709           644            13                 14942.0   \n",
       "39505      153873           610            20                 14575.0   \n",
       "49624       49036           800            15                 14679.0   \n",
       "41480      122607           585            20                 14399.0   \n",
       "\n",
       "           MAX(loans.rate)  MEAN(loans.loan_amount)  MEAN(loans.rate)  \\\n",
       "client_id                                                               \n",
       "42320                 6.74              7062.066667          2.457333   \n",
       "39384                 9.23              7865.473684          3.538421   \n",
       "26945                 5.65              7125.933333          2.855333   \n",
       "41472                 9.82              7510.812500          3.981250   \n",
       "46180                 9.26              7700.850000          3.502500   \n",
       "46109                 9.48              8951.600000          3.152500   \n",
       "32885                 9.11              9920.400000          2.436000   \n",
       "29841                 6.76              9813.000000          3.445000   \n",
       "38537                 8.01              8986.352941          2.389412   \n",
       "35214                 8.44              7173.555556          3.108333   \n",
       "49068                 6.78              7617.888889          3.095556   \n",
       "26326                 6.73              7270.062500          2.517500   \n",
       "26695                 6.51              7824.722222          2.466111   \n",
       "44601                 9.22              6869.250000          4.151000   \n",
       "32726                 9.10              6633.263158          3.058947   \n",
       "25707                 9.44              7963.950000          3.477000   \n",
       "49545                 6.52             10289.300000          2.684000   \n",
       "48177                10.89              7424.368421          3.938947   \n",
       "32961                 9.14              7882.235294          3.930588   \n",
       "44387                 5.97              7387.733333          2.806667   \n",
       "35089                 7.63              6939.200000          3.513500   \n",
       "46958                 6.17              9378.384615          3.153846   \n",
       "39505                 9.91              7424.050000          3.190500   \n",
       "49624                12.62              9174.533333          4.037333   \n",
       "41480                10.49              7894.850000          3.110500   \n",
       "\n",
       "           MIN(loans.loan_amount)  MIN(loans.rate) MODE(loans.loan_type)  ...  \\\n",
       "client_id                                                                 ...   \n",
       "42320                      1070.0             0.38                  home  ...   \n",
       "39384                      1770.0             0.43                credit  ...   \n",
       "26945                       653.0             0.13                credit  ...   \n",
       "41472                       986.0             0.01                  cash  ...   \n",
       "46180                      1607.0             0.57                 other  ...   \n",
       "46109                       559.0             0.50                credit  ...   \n",
       "32885                      3704.0             0.10                  cash  ...   \n",
       "29841                      2778.0             0.26                  home  ...   \n",
       "38537                      2396.0             0.35                credit  ...   \n",
       "35214                       667.0             0.16                  home  ...   \n",
       "49068                      1447.0             0.02                  cash  ...   \n",
       "26326                      1164.0             0.50                 other  ...   \n",
       "26695                      2389.0             0.22                  home  ...   \n",
       "44601                      1221.0             0.07                  home  ...   \n",
       "32726                       851.0             0.31                 other  ...   \n",
       "25707                      1212.0             0.33                credit  ...   \n",
       "49545                      3851.0             0.05                 other  ...   \n",
       "48177                       659.0             0.52                  cash  ...   \n",
       "32961                      1693.0             0.01                  cash  ...   \n",
       "44387                       765.0             0.03                  cash  ...   \n",
       "35089                       773.0             0.66                  home  ...   \n",
       "46958                      2390.0             0.32                 other  ...   \n",
       "39505                       904.0             0.19                  cash  ...   \n",
       "49624                      2361.0             0.01                credit  ...   \n",
       "41480                       811.0             0.36                  home  ...   \n",
       "\n",
       "          SKEW(loans.NUM_UNIQUE(payments.WEEKDAY(payment_date)))  \\\n",
       "client_id                                                          \n",
       "42320                                                  -0.378644   \n",
       "39384                                                   0.002498   \n",
       "26945                                                   0.726471   \n",
       "41472                                                   0.705987   \n",
       "46180                                                  -0.683319   \n",
       "46109                                                   0.227619   \n",
       "32885                                                   0.100583   \n",
       "29841                                                  -0.411033   \n",
       "38537                                                  -0.070970   \n",
       "35214                                                  -0.404599   \n",
       "49068                                                  -0.159358   \n",
       "26326                                                  -0.185047   \n",
       "26695                                                   0.031196   \n",
       "44601                                                   0.000000   \n",
       "32726                                                   0.118690   \n",
       "25707                                                  -0.027566   \n",
       "49545                                                   0.004098   \n",
       "48177                                                   0.007106   \n",
       "32961                                                   0.634059   \n",
       "44387                                                   0.774548   \n",
       "35089                                                  -0.548443   \n",
       "46958                                                   0.300592   \n",
       "39505                                                   0.432347   \n",
       "49624                                                  -0.452434   \n",
       "41480                                                   0.800638   \n",
       "\n",
       "           SKEW(loans.NUM_UNIQUE(payments.YEAR(payment_date)))  \\\n",
       "client_id                                                        \n",
       "42320                                                 0.547317   \n",
       "39384                                                 1.603463   \n",
       "26945                                                 0.547317   \n",
       "41472                                                -0.895257   \n",
       "46180                                                 0.784528   \n",
       "46109                                                -0.217687   \n",
       "32885                                                 0.433026   \n",
       "29841                                                -0.773082   \n",
       "38537                                                -1.372252   \n",
       "35214                                                 1.610400   \n",
       "49068                                                 1.284769   \n",
       "26326                                                -0.571429   \n",
       "26695                                                 0.229509   \n",
       "44601                                                 0.120331   \n",
       "32726                                                 1.358609   \n",
       "25707                                                 1.016512   \n",
       "49545                                                 1.582845   \n",
       "48177                                                 0.000000   \n",
       "32961                                                 0.591894   \n",
       "44387                                                 1.626027   \n",
       "35089                                                 0.212354   \n",
       "46958                                                 0.571765   \n",
       "39505                                                 1.670245   \n",
       "49624                                                -2.404763   \n",
       "41480                                                 0.396018   \n",
       "\n",
       "           STD(loans.NUM_UNIQUE(payments.DAY(payment_date)))  \\\n",
       "client_id                                                      \n",
       "42320                                               2.225395   \n",
       "39384                                               2.043389   \n",
       "26945                                               1.549193   \n",
       "41472                                               1.360147   \n",
       "46180                                               2.183069   \n",
       "46109                                               1.496487   \n",
       "32885                                               1.684665   \n",
       "29841                                               1.855041   \n",
       "38537                                               1.178858   \n",
       "35214                                               2.915476   \n",
       "49068                                               2.556550   \n",
       "26326                                               1.515201   \n",
       "26695                                               2.092626   \n",
       "44601                                               2.314144   \n",
       "32726                                               2.272387   \n",
       "25707                                               1.663066   \n",
       "49545                                               3.153528   \n",
       "48177                                               2.033348   \n",
       "32961                                               2.342070   \n",
       "44387                                               1.632993   \n",
       "35089                                               2.543826   \n",
       "46958                                               2.142369   \n",
       "39505                                               1.904980   \n",
       "49624                                               1.698739   \n",
       "41480                                               2.280351   \n",
       "\n",
       "           STD(loans.NUM_UNIQUE(payments.MONTH(payment_date)))  \\\n",
       "client_id                                                        \n",
       "42320                                                 1.846490   \n",
       "39384                                                 1.559727   \n",
       "26945                                                 1.889822   \n",
       "41472                                                 1.258306   \n",
       "46180                                                 1.281447   \n",
       "46109                                                 1.490320   \n",
       "32885                                                 2.065591   \n",
       "29841                                                 1.830211   \n",
       "38537                                                 1.212678   \n",
       "35214                                                 1.996729   \n",
       "49068                                                 2.226548   \n",
       "26326                                                 1.691892   \n",
       "26695                                                 2.121320   \n",
       "44601                                                 1.755443   \n",
       "32726                                                 2.060489   \n",
       "25707                                                 1.625455   \n",
       "49545                                                 2.178846   \n",
       "48177                                                 1.997074   \n",
       "32961                                                 2.176073   \n",
       "44387                                                 1.624221   \n",
       "35089                                                 1.700619   \n",
       "46958                                                 2.166174   \n",
       "39505                                                 1.843195   \n",
       "49624                                                 1.624221   \n",
       "41480                                                 2.282081   \n",
       "\n",
       "           STD(loans.NUM_UNIQUE(payments.WEEKDAY(payment_date)))  \\\n",
       "client_id                                                          \n",
       "42320                                                   1.355764   \n",
       "39384                                                   1.182227   \n",
       "26945                                                   1.245946   \n",
       "41472                                                   1.093542   \n",
       "46180                                                   1.095445   \n",
       "46109                                                   1.019546   \n",
       "32885                                                   0.899735   \n",
       "29841                                                   1.109967   \n",
       "38537                                                   1.358524   \n",
       "35214                                                   1.392088   \n",
       "49068                                                   1.150447   \n",
       "26326                                                   1.123610   \n",
       "26695                                                   1.414214   \n",
       "44601                                                   0.945905   \n",
       "32726                                                   1.263523   \n",
       "25707                                                   1.151658   \n",
       "49545                                                   1.538112   \n",
       "48177                                                   0.955134   \n",
       "32961                                                   1.263166   \n",
       "44387                                                   1.146423   \n",
       "35089                                                   1.251315   \n",
       "46958                                                   0.877058   \n",
       "39505                                                   1.234376   \n",
       "49624                                                   1.082326   \n",
       "41480                                                   1.128576   \n",
       "\n",
       "           STD(loans.NUM_UNIQUE(payments.YEAR(payment_date)))  \\\n",
       "client_id                                                       \n",
       "42320                                                0.632456   \n",
       "39384                                                0.945905   \n",
       "26945                                                0.632456   \n",
       "41472                                                0.478714   \n",
       "46180                                                0.606977   \n",
       "46109                                                0.510418   \n",
       "32885                                                0.703732   \n",
       "29841                                                0.485071   \n",
       "38537                                                0.437237   \n",
       "35214                                                1.131833   \n",
       "49068                                                1.003263   \n",
       "26326                                                0.500000   \n",
       "26695                                                0.646762   \n",
       "44601                                                0.615587   \n",
       "32726                                                0.991189   \n",
       "25707                                                0.759155   \n",
       "49545                                                1.268028   \n",
       "48177                                                0.666667   \n",
       "32961                                                0.771744   \n",
       "44387                                                0.910259   \n",
       "35089                                                0.587143   \n",
       "46958                                                0.650444   \n",
       "39505                                                0.753937   \n",
       "49624                                                0.351866   \n",
       "41480                                                0.656947   \n",
       "\n",
       "           SUM(loans.NUM_UNIQUE(payments.DAY(payment_date)))  \\\n",
       "client_id                                                      \n",
       "42320                                                  100.0   \n",
       "39384                                                  129.0   \n",
       "26945                                                   99.0   \n",
       "41472                                                   94.0   \n",
       "46180                                                  133.0   \n",
       "46109                                                  123.0   \n",
       "32885                                                  103.0   \n",
       "29841                                                  129.0   \n",
       "38537                                                  111.0   \n",
       "35214                                                  147.0   \n",
       "49068                                                  140.0   \n",
       "26326                                                  115.0   \n",
       "26695                                                  118.0   \n",
       "44601                                                  135.0   \n",
       "32726                                                  134.0   \n",
       "25707                                                  143.0   \n",
       "49545                                                  161.0   \n",
       "48177                                                  140.0   \n",
       "32961                                                  117.0   \n",
       "44387                                                   95.0   \n",
       "35089                                                  141.0   \n",
       "46958                                                   86.0   \n",
       "39505                                                  131.0   \n",
       "49624                                                   93.0   \n",
       "41480                                                  132.0   \n",
       "\n",
       "           SUM(loans.NUM_UNIQUE(payments.MONTH(payment_date)))  \\\n",
       "client_id                                                        \n",
       "42320                                                     98.0   \n",
       "39384                                                    116.0   \n",
       "26945                                                     90.0   \n",
       "41472                                                     90.0   \n",
       "46180                                                    116.0   \n",
       "46109                                                    114.0   \n",
       "32885                                                     92.0   \n",
       "29841                                                    125.0   \n",
       "38537                                                    107.0   \n",
       "35214                                                    128.0   \n",
       "49068                                                    115.0   \n",
       "26326                                                    111.0   \n",
       "26695                                                    111.0   \n",
       "44601                                                    123.0   \n",
       "32726                                                    121.0   \n",
       "25707                                                    126.0   \n",
       "49545                                                    134.0   \n",
       "48177                                                    131.0   \n",
       "32961                                                    104.0   \n",
       "44387                                                     86.0   \n",
       "35089                                                    131.0   \n",
       "46958                                                     81.0   \n",
       "39505                                                    117.0   \n",
       "49624                                                     89.0   \n",
       "41480                                                    121.0   \n",
       "\n",
       "           SUM(loans.NUM_UNIQUE(payments.WEEKDAY(payment_date)))  \\\n",
       "client_id                                                          \n",
       "42320                                                       68.0   \n",
       "39384                                                       91.0   \n",
       "26945                                                       67.0   \n",
       "41472                                                       71.0   \n",
       "46180                                                       92.0   \n",
       "46109                                                       95.0   \n",
       "32885                                                       70.0   \n",
       "29841                                                       91.0   \n",
       "38537                                                       80.0   \n",
       "35214                                                       91.0   \n",
       "49068                                                       87.0   \n",
       "26326                                                       79.0   \n",
       "26695                                                       78.0   \n",
       "44601                                                       90.0   \n",
       "32726                                                       86.0   \n",
       "25707                                                       96.0   \n",
       "49545                                                      101.0   \n",
       "48177                                                       88.0   \n",
       "32961                                                       73.0   \n",
       "44387                                                       72.0   \n",
       "35089                                                       95.0   \n",
       "46958                                                       59.0   \n",
       "39505                                                       91.0   \n",
       "49624                                                       63.0   \n",
       "41480                                                       86.0   \n",
       "\n",
       "           SUM(loans.NUM_UNIQUE(payments.YEAR(payment_date)))  \n",
       "client_id                                                      \n",
       "42320                                                    24.0  \n",
       "39384                                                    32.0  \n",
       "26945                                                    24.0  \n",
       "41472                                                    27.0  \n",
       "46180                                                    30.0  \n",
       "46109                                                    31.0  \n",
       "32885                                                    26.0  \n",
       "29841                                                    30.0  \n",
       "38537                                                    30.0  \n",
       "35214                                                    34.0  \n",
       "49068                                                    32.0  \n",
       "26326                                                    26.0  \n",
       "26695                                                    32.0  \n",
       "44601                                                    36.0  \n",
       "32726                                                    33.0  \n",
       "25707                                                    31.0  \n",
       "49545                                                    43.0  \n",
       "48177                                                    38.0  \n",
       "32961                                                    29.0  \n",
       "44387                                                    24.0  \n",
       "35089                                                    33.0  \n",
       "46958                                                    21.0  \n",
       "39505                                                    32.0  \n",
       "49624                                                    28.0  \n",
       "41480                                                    34.0  \n",
       "\n",
       "[25 rows x 148 columns]"
      ]
     },
     "execution_count": 160,
     "metadata": {},
     "output_type": "execute_result"
    }
   ],
   "source": [
    "features"
   ]
  },
  {
   "cell_type": "code",
   "execution_count": null,
   "id": "d94618ba",
   "metadata": {},
   "outputs": [],
   "source": [
    "# we can use feature selector from feature tools dfs"
   ]
  },
  {
   "cell_type": "markdown",
   "id": "70bc81ff",
   "metadata": {},
   "source": [
    "## AutoFeat"
   ]
  },
  {
   "cell_type": "code",
   "execution_count": 126,
   "id": "28bcd973",
   "metadata": {},
   "outputs": [],
   "source": [
    "# AutoFeatRegressor\n",
    "# AutoFeatClassifier"
   ]
  },
  {
   "cell_type": "code",
   "execution_count": 8,
   "id": "71ab6754",
   "metadata": {},
   "outputs": [],
   "source": [
    "# !pip install autofeat\n",
    "# !pip install numpy\n",
    "# !pip install numba"
   ]
  },
  {
   "cell_type": "code",
   "execution_count": 23,
   "id": "f926ec22",
   "metadata": {},
   "outputs": [],
   "source": [
    "from autofeat import FeatureSelector\n",
    "import autofeat\n",
    "from sklearn.datasets import load_wine\n",
    "\n",
    "data = load_wine()"
   ]
  },
  {
   "cell_type": "code",
   "execution_count": 24,
   "id": "938b6d99",
   "metadata": {},
   "outputs": [],
   "source": [
    "selector = FeatureSelector(verbose=1)"
   ]
  },
  {
   "cell_type": "code",
   "execution_count": 32,
   "id": "e0dda99f",
   "metadata": {},
   "outputs": [],
   "source": [
    "X = data.data\n",
    "y = data.target"
   ]
  },
  {
   "cell_type": "code",
   "execution_count": 33,
   "id": "31ca41e3",
   "metadata": {},
   "outputs": [],
   "source": [
    "import pandas as pd"
   ]
  },
  {
   "cell_type": "code",
   "execution_count": 34,
   "id": "de191333",
   "metadata": {},
   "outputs": [],
   "source": [
    "X = pd.DataFrame(X,columns=data.feature_names)\n",
    "y = pd.Series(y)"
   ]
  },
  {
   "cell_type": "code",
   "execution_count": 35,
   "id": "ead21101",
   "metadata": {},
   "outputs": [
    {
     "name": "stdout",
     "output_type": "stream",
     "text": [
      "[featsel] Scaling data...done.\n",
      "[featsel] Feature selection run 1/5\n",
      "[featsel] Feature selection run 2/5\n",
      "[featsel] Feature selection run 3/5\n",
      "[featsel] Feature selection run 4/5\n",
      "[featsel] Feature selection run 5/5\n",
      "[featsel] 9 features after 5 feature selection runs\n",
      "[featsel] 9 features after correlation filtering\n",
      "[featsel] 7 features after noise filtering\n"
     ]
    }
   ],
   "source": [
    "newXFeature = selector.fit_transform(X,y)"
   ]
  },
  {
   "cell_type": "code",
   "execution_count": 40,
   "id": "b1cebe28",
   "metadata": {},
   "outputs": [
    {
     "data": {
      "text/html": [
       "<div>\n",
       "<style scoped>\n",
       "    .dataframe tbody tr th:only-of-type {\n",
       "        vertical-align: middle;\n",
       "    }\n",
       "\n",
       "    .dataframe tbody tr th {\n",
       "        vertical-align: top;\n",
       "    }\n",
       "\n",
       "    .dataframe thead th {\n",
       "        text-align: right;\n",
       "    }\n",
       "</style>\n",
       "<table border=\"1\" class=\"dataframe\">\n",
       "  <thead>\n",
       "    <tr style=\"text-align: right;\">\n",
       "      <th></th>\n",
       "      <th>hue</th>\n",
       "      <th>alcohol</th>\n",
       "      <th>proline</th>\n",
       "      <th>flavanoids</th>\n",
       "      <th>color_intensity</th>\n",
       "      <th>alcalinity_of_ash</th>\n",
       "      <th>od280/od315_of_diluted_wines</th>\n",
       "    </tr>\n",
       "  </thead>\n",
       "  <tbody>\n",
       "    <tr>\n",
       "      <th>0</th>\n",
       "      <td>1.04</td>\n",
       "      <td>14.23</td>\n",
       "      <td>1065.0</td>\n",
       "      <td>3.06</td>\n",
       "      <td>5.64</td>\n",
       "      <td>15.6</td>\n",
       "      <td>3.92</td>\n",
       "    </tr>\n",
       "    <tr>\n",
       "      <th>1</th>\n",
       "      <td>1.05</td>\n",
       "      <td>13.20</td>\n",
       "      <td>1050.0</td>\n",
       "      <td>2.76</td>\n",
       "      <td>4.38</td>\n",
       "      <td>11.2</td>\n",
       "      <td>3.40</td>\n",
       "    </tr>\n",
       "    <tr>\n",
       "      <th>2</th>\n",
       "      <td>1.03</td>\n",
       "      <td>13.16</td>\n",
       "      <td>1185.0</td>\n",
       "      <td>3.24</td>\n",
       "      <td>5.68</td>\n",
       "      <td>18.6</td>\n",
       "      <td>3.17</td>\n",
       "    </tr>\n",
       "    <tr>\n",
       "      <th>3</th>\n",
       "      <td>0.86</td>\n",
       "      <td>14.37</td>\n",
       "      <td>1480.0</td>\n",
       "      <td>3.49</td>\n",
       "      <td>7.80</td>\n",
       "      <td>16.8</td>\n",
       "      <td>3.45</td>\n",
       "    </tr>\n",
       "    <tr>\n",
       "      <th>4</th>\n",
       "      <td>1.04</td>\n",
       "      <td>13.24</td>\n",
       "      <td>735.0</td>\n",
       "      <td>2.69</td>\n",
       "      <td>4.32</td>\n",
       "      <td>21.0</td>\n",
       "      <td>2.93</td>\n",
       "    </tr>\n",
       "    <tr>\n",
       "      <th>...</th>\n",
       "      <td>...</td>\n",
       "      <td>...</td>\n",
       "      <td>...</td>\n",
       "      <td>...</td>\n",
       "      <td>...</td>\n",
       "      <td>...</td>\n",
       "      <td>...</td>\n",
       "    </tr>\n",
       "    <tr>\n",
       "      <th>173</th>\n",
       "      <td>0.64</td>\n",
       "      <td>13.71</td>\n",
       "      <td>740.0</td>\n",
       "      <td>0.61</td>\n",
       "      <td>7.70</td>\n",
       "      <td>20.5</td>\n",
       "      <td>1.74</td>\n",
       "    </tr>\n",
       "    <tr>\n",
       "      <th>174</th>\n",
       "      <td>0.70</td>\n",
       "      <td>13.40</td>\n",
       "      <td>750.0</td>\n",
       "      <td>0.75</td>\n",
       "      <td>7.30</td>\n",
       "      <td>23.0</td>\n",
       "      <td>1.56</td>\n",
       "    </tr>\n",
       "    <tr>\n",
       "      <th>175</th>\n",
       "      <td>0.59</td>\n",
       "      <td>13.27</td>\n",
       "      <td>835.0</td>\n",
       "      <td>0.69</td>\n",
       "      <td>10.20</td>\n",
       "      <td>20.0</td>\n",
       "      <td>1.56</td>\n",
       "    </tr>\n",
       "    <tr>\n",
       "      <th>176</th>\n",
       "      <td>0.60</td>\n",
       "      <td>13.17</td>\n",
       "      <td>840.0</td>\n",
       "      <td>0.68</td>\n",
       "      <td>9.30</td>\n",
       "      <td>20.0</td>\n",
       "      <td>1.62</td>\n",
       "    </tr>\n",
       "    <tr>\n",
       "      <th>177</th>\n",
       "      <td>0.61</td>\n",
       "      <td>14.13</td>\n",
       "      <td>560.0</td>\n",
       "      <td>0.76</td>\n",
       "      <td>9.20</td>\n",
       "      <td>24.5</td>\n",
       "      <td>1.60</td>\n",
       "    </tr>\n",
       "  </tbody>\n",
       "</table>\n",
       "<p>178 rows × 7 columns</p>\n",
       "</div>"
      ],
      "text/plain": [
       "      hue  alcohol  proline  flavanoids  color_intensity  alcalinity_of_ash  \\\n",
       "0    1.04    14.23   1065.0        3.06             5.64               15.6   \n",
       "1    1.05    13.20   1050.0        2.76             4.38               11.2   \n",
       "2    1.03    13.16   1185.0        3.24             5.68               18.6   \n",
       "3    0.86    14.37   1480.0        3.49             7.80               16.8   \n",
       "4    1.04    13.24    735.0        2.69             4.32               21.0   \n",
       "..    ...      ...      ...         ...              ...                ...   \n",
       "173  0.64    13.71    740.0        0.61             7.70               20.5   \n",
       "174  0.70    13.40    750.0        0.75             7.30               23.0   \n",
       "175  0.59    13.27    835.0        0.69            10.20               20.0   \n",
       "176  0.60    13.17    840.0        0.68             9.30               20.0   \n",
       "177  0.61    14.13    560.0        0.76             9.20               24.5   \n",
       "\n",
       "     od280/od315_of_diluted_wines  \n",
       "0                            3.92  \n",
       "1                            3.40  \n",
       "2                            3.17  \n",
       "3                            3.45  \n",
       "4                            2.93  \n",
       "..                            ...  \n",
       "173                          1.74  \n",
       "174                          1.56  \n",
       "175                          1.56  \n",
       "176                          1.62  \n",
       "177                          1.60  \n",
       "\n",
       "[178 rows x 7 columns]"
      ]
     },
     "execution_count": 40,
     "metadata": {},
     "output_type": "execute_result"
    }
   ],
   "source": [
    "newXFeature"
   ]
  },
  {
   "cell_type": "code",
   "execution_count": 41,
   "id": "62e20dc8",
   "metadata": {},
   "outputs": [],
   "source": [
    "# AutoFeatModel, AutoFeatRegressor, AutoFeatClassifier"
   ]
  },
  {
   "cell_type": "markdown",
   "id": "73a3673b",
   "metadata": {},
   "source": [
    "## How to Deal with Data Imbalance"
   ]
  },
  {
   "cell_type": "code",
   "execution_count": 2,
   "id": "6c0676a5",
   "metadata": {},
   "outputs": [],
   "source": [
    "# Class imbalance is the situation where the classes in our dataset are not represented equally.\n",
    "# Problems with data imbalance, the algorithm will end classifying the points as the class with higher distribution as the algorithm will memorize."
   ]
  },
  {
   "cell_type": "code",
   "execution_count": 1,
   "id": "cb619df1",
   "metadata": {},
   "outputs": [],
   "source": [
    "import pandas as pd\n",
    "import numpy as np\n",
    "import seaborn as sns\n",
    "import matplotlib as mlt\n",
    "import matplotlib.pyplot as plt\n",
    "%matplotlib inline\n",
    "\n",
    "import warnings\n",
    "warnings.filterwarnings('ignore')"
   ]
  },
  {
   "cell_type": "code",
   "execution_count": 2,
   "id": "3aa76ae3",
   "metadata": {},
   "outputs": [
    {
     "data": {
      "text/html": [
       "<div>\n",
       "<style scoped>\n",
       "    .dataframe tbody tr th:only-of-type {\n",
       "        vertical-align: middle;\n",
       "    }\n",
       "\n",
       "    .dataframe tbody tr th {\n",
       "        vertical-align: top;\n",
       "    }\n",
       "\n",
       "    .dataframe thead th {\n",
       "        text-align: right;\n",
       "    }\n",
       "</style>\n",
       "<table border=\"1\" class=\"dataframe\">\n",
       "  <thead>\n",
       "    <tr style=\"text-align: right;\">\n",
       "      <th></th>\n",
       "      <th>Time</th>\n",
       "      <th>V1</th>\n",
       "      <th>V2</th>\n",
       "      <th>V3</th>\n",
       "      <th>V4</th>\n",
       "      <th>V5</th>\n",
       "      <th>V6</th>\n",
       "      <th>V7</th>\n",
       "      <th>V8</th>\n",
       "      <th>V9</th>\n",
       "      <th>...</th>\n",
       "      <th>V21</th>\n",
       "      <th>V22</th>\n",
       "      <th>V23</th>\n",
       "      <th>V24</th>\n",
       "      <th>V25</th>\n",
       "      <th>V26</th>\n",
       "      <th>V27</th>\n",
       "      <th>V28</th>\n",
       "      <th>Amount</th>\n",
       "      <th>Class</th>\n",
       "    </tr>\n",
       "  </thead>\n",
       "  <tbody>\n",
       "    <tr>\n",
       "      <th>0</th>\n",
       "      <td>0.0</td>\n",
       "      <td>-1.359807</td>\n",
       "      <td>-0.072781</td>\n",
       "      <td>2.536347</td>\n",
       "      <td>1.378155</td>\n",
       "      <td>-0.338321</td>\n",
       "      <td>0.462388</td>\n",
       "      <td>0.239599</td>\n",
       "      <td>0.098698</td>\n",
       "      <td>0.363787</td>\n",
       "      <td>...</td>\n",
       "      <td>-0.018307</td>\n",
       "      <td>0.277838</td>\n",
       "      <td>-0.110474</td>\n",
       "      <td>0.066928</td>\n",
       "      <td>0.128539</td>\n",
       "      <td>-0.189115</td>\n",
       "      <td>0.133558</td>\n",
       "      <td>-0.021053</td>\n",
       "      <td>149.62</td>\n",
       "      <td>0</td>\n",
       "    </tr>\n",
       "    <tr>\n",
       "      <th>1</th>\n",
       "      <td>0.0</td>\n",
       "      <td>1.191857</td>\n",
       "      <td>0.266151</td>\n",
       "      <td>0.166480</td>\n",
       "      <td>0.448154</td>\n",
       "      <td>0.060018</td>\n",
       "      <td>-0.082361</td>\n",
       "      <td>-0.078803</td>\n",
       "      <td>0.085102</td>\n",
       "      <td>-0.255425</td>\n",
       "      <td>...</td>\n",
       "      <td>-0.225775</td>\n",
       "      <td>-0.638672</td>\n",
       "      <td>0.101288</td>\n",
       "      <td>-0.339846</td>\n",
       "      <td>0.167170</td>\n",
       "      <td>0.125895</td>\n",
       "      <td>-0.008983</td>\n",
       "      <td>0.014724</td>\n",
       "      <td>2.69</td>\n",
       "      <td>0</td>\n",
       "    </tr>\n",
       "    <tr>\n",
       "      <th>2</th>\n",
       "      <td>1.0</td>\n",
       "      <td>-1.358354</td>\n",
       "      <td>-1.340163</td>\n",
       "      <td>1.773209</td>\n",
       "      <td>0.379780</td>\n",
       "      <td>-0.503198</td>\n",
       "      <td>1.800499</td>\n",
       "      <td>0.791461</td>\n",
       "      <td>0.247676</td>\n",
       "      <td>-1.514654</td>\n",
       "      <td>...</td>\n",
       "      <td>0.247998</td>\n",
       "      <td>0.771679</td>\n",
       "      <td>0.909412</td>\n",
       "      <td>-0.689281</td>\n",
       "      <td>-0.327642</td>\n",
       "      <td>-0.139097</td>\n",
       "      <td>-0.055353</td>\n",
       "      <td>-0.059752</td>\n",
       "      <td>378.66</td>\n",
       "      <td>0</td>\n",
       "    </tr>\n",
       "    <tr>\n",
       "      <th>3</th>\n",
       "      <td>1.0</td>\n",
       "      <td>-0.966272</td>\n",
       "      <td>-0.185226</td>\n",
       "      <td>1.792993</td>\n",
       "      <td>-0.863291</td>\n",
       "      <td>-0.010309</td>\n",
       "      <td>1.247203</td>\n",
       "      <td>0.237609</td>\n",
       "      <td>0.377436</td>\n",
       "      <td>-1.387024</td>\n",
       "      <td>...</td>\n",
       "      <td>-0.108300</td>\n",
       "      <td>0.005274</td>\n",
       "      <td>-0.190321</td>\n",
       "      <td>-1.175575</td>\n",
       "      <td>0.647376</td>\n",
       "      <td>-0.221929</td>\n",
       "      <td>0.062723</td>\n",
       "      <td>0.061458</td>\n",
       "      <td>123.50</td>\n",
       "      <td>0</td>\n",
       "    </tr>\n",
       "    <tr>\n",
       "      <th>4</th>\n",
       "      <td>2.0</td>\n",
       "      <td>-1.158233</td>\n",
       "      <td>0.877737</td>\n",
       "      <td>1.548718</td>\n",
       "      <td>0.403034</td>\n",
       "      <td>-0.407193</td>\n",
       "      <td>0.095921</td>\n",
       "      <td>0.592941</td>\n",
       "      <td>-0.270533</td>\n",
       "      <td>0.817739</td>\n",
       "      <td>...</td>\n",
       "      <td>-0.009431</td>\n",
       "      <td>0.798278</td>\n",
       "      <td>-0.137458</td>\n",
       "      <td>0.141267</td>\n",
       "      <td>-0.206010</td>\n",
       "      <td>0.502292</td>\n",
       "      <td>0.219422</td>\n",
       "      <td>0.215153</td>\n",
       "      <td>69.99</td>\n",
       "      <td>0</td>\n",
       "    </tr>\n",
       "  </tbody>\n",
       "</table>\n",
       "<p>5 rows × 31 columns</p>\n",
       "</div>"
      ],
      "text/plain": [
       "   Time        V1        V2        V3        V4        V5        V6        V7  \\\n",
       "0   0.0 -1.359807 -0.072781  2.536347  1.378155 -0.338321  0.462388  0.239599   \n",
       "1   0.0  1.191857  0.266151  0.166480  0.448154  0.060018 -0.082361 -0.078803   \n",
       "2   1.0 -1.358354 -1.340163  1.773209  0.379780 -0.503198  1.800499  0.791461   \n",
       "3   1.0 -0.966272 -0.185226  1.792993 -0.863291 -0.010309  1.247203  0.237609   \n",
       "4   2.0 -1.158233  0.877737  1.548718  0.403034 -0.407193  0.095921  0.592941   \n",
       "\n",
       "         V8        V9  ...       V21       V22       V23       V24       V25  \\\n",
       "0  0.098698  0.363787  ... -0.018307  0.277838 -0.110474  0.066928  0.128539   \n",
       "1  0.085102 -0.255425  ... -0.225775 -0.638672  0.101288 -0.339846  0.167170   \n",
       "2  0.247676 -1.514654  ...  0.247998  0.771679  0.909412 -0.689281 -0.327642   \n",
       "3  0.377436 -1.387024  ... -0.108300  0.005274 -0.190321 -1.175575  0.647376   \n",
       "4 -0.270533  0.817739  ... -0.009431  0.798278 -0.137458  0.141267 -0.206010   \n",
       "\n",
       "        V26       V27       V28  Amount  Class  \n",
       "0 -0.189115  0.133558 -0.021053  149.62      0  \n",
       "1  0.125895 -0.008983  0.014724    2.69      0  \n",
       "2 -0.139097 -0.055353 -0.059752  378.66      0  \n",
       "3 -0.221929  0.062723  0.061458  123.50      0  \n",
       "4  0.502292  0.219422  0.215153   69.99      0  \n",
       "\n",
       "[5 rows x 31 columns]"
      ]
     },
     "execution_count": 2,
     "metadata": {},
     "output_type": "execute_result"
    }
   ],
   "source": [
    "df = pd.read_csv('creditcard.csv')\n",
    "df.head()"
   ]
  },
  {
   "cell_type": "code",
   "execution_count": 3,
   "id": "16f2b1b5",
   "metadata": {},
   "outputs": [
    {
     "data": {
      "text/plain": [
       "0    284315\n",
       "1       492\n",
       "Name: Class, dtype: int64"
      ]
     },
     "execution_count": 3,
     "metadata": {},
     "output_type": "execute_result"
    }
   ],
   "source": [
    "df['Class'].value_counts()"
   ]
  },
  {
   "cell_type": "code",
   "execution_count": 4,
   "id": "6d3e727d",
   "metadata": {},
   "outputs": [],
   "source": [
    "# 492 as fraud"
   ]
  },
  {
   "cell_type": "code",
   "execution_count": 5,
   "id": "5c149c74",
   "metadata": {},
   "outputs": [],
   "source": [
    "notfraud = len(df[df['Class']==0])\n",
    "fraud = len(df[df['Class']==1])"
   ]
  },
  {
   "cell_type": "code",
   "execution_count": 6,
   "id": "c6261c88",
   "metadata": {},
   "outputs": [
    {
     "data": {
      "image/png": "[encoded data removed]",
      "text/plain": [
       "<Figure size 720x432 with 1 Axes>"
      ]
     },
     "metadata": {},
     "output_type": "display_data"
    }
   ],
   "source": [
    "labels = 'Fraud','Not Fraud'\n",
    "\n",
    "sizes = [fraud,notfraud]\n",
    "\n",
    "plt.figure(figsize=(10,6))\n",
    "plt.pie(sizes,labels=labels,autopct='%1.1f',shadow=True)\n",
    "plt.show()"
   ]
  },
  {
   "cell_type": "code",
   "execution_count": 7,
   "id": "d1657858",
   "metadata": {},
   "outputs": [
    {
     "name": "stdout",
     "output_type": "stream",
     "text": [
      "492 284315\n"
     ]
    }
   ],
   "source": [
    "print(fraud,notfraud)"
   ]
  },
  {
   "cell_type": "code",
   "execution_count": 8,
   "id": "41fb0b5a",
   "metadata": {},
   "outputs": [
    {
     "data": {
      "text/plain": [
       "Time      False\n",
       "V1        False\n",
       "V2        False\n",
       "V3        False\n",
       "V4        False\n",
       "V5        False\n",
       "V6        False\n",
       "V7        False\n",
       "V8        False\n",
       "V9        False\n",
       "V10       False\n",
       "V11       False\n",
       "V12       False\n",
       "V13       False\n",
       "V14       False\n",
       "V15       False\n",
       "V16       False\n",
       "V17       False\n",
       "V18       False\n",
       "V19       False\n",
       "V20       False\n",
       "V21       False\n",
       "V22       False\n",
       "V23       False\n",
       "V24       False\n",
       "V25       False\n",
       "V26       False\n",
       "V27       False\n",
       "V28       False\n",
       "Amount    False\n",
       "Class     False\n",
       "dtype: bool"
      ]
     },
     "execution_count": 8,
     "metadata": {},
     "output_type": "execute_result"
    }
   ],
   "source": [
    "pd.isnull(df).sum() >0 "
   ]
  },
  {
   "cell_type": "code",
   "execution_count": 9,
   "id": "37478b44",
   "metadata": {},
   "outputs": [],
   "source": [
    "## Dummy Classifier\n",
    "\n",
    "# seperate Features and target\n",
    "y = df['Class']\n",
    "X = df.drop('Class',axis=1)"
   ]
  },
  {
   "cell_type": "code",
   "execution_count": 10,
   "id": "11389408",
   "metadata": {},
   "outputs": [],
   "source": [
    "from sklearn.model_selection import train_test_split\n",
    "from sklearn.dummy import DummyClassifier\n",
    "from sklearn.metrics import accuracy_score,f1_score,confusion_matrix,recall_score"
   ]
  },
  {
   "cell_type": "code",
   "execution_count": 11,
   "id": "4cce3a45",
   "metadata": {},
   "outputs": [
    {
     "data": {
      "text/html": [
       "<style>#sk-container-id-1 {color: black;background-color: white;}#sk-container-id-1 pre{padding: 0;}#sk-container-id-1 div.sk-toggleable {background-color: white;}#sk-container-id-1 label.sk-toggleable__label {cursor: pointer;display: block;width: 100%;margin-bottom: 0;padding: 0.3em;box-sizing: border-box;text-align: center;}#sk-container-id-1 label.sk-toggleable__label-arrow:before {content: \"▸\";float: left;margin-right: 0.25em;color: #696969;}#sk-container-id-1 label.sk-toggleable__label-arrow:hover:before {color: black;}#sk-container-id-1 div.sk-estimator:hover label.sk-toggleable__label-arrow:before {color: black;}#sk-container-id-1 div.sk-toggleable__content {max-height: 0;max-width: 0;overflow: hidden;text-align: left;background-color: #f0f8ff;}#sk-container-id-1 div.sk-toggleable__content pre {margin: 0.2em;color: black;border-radius: 0.25em;background-color: #f0f8ff;}#sk-container-id-1 input.sk-toggleable__control:checked~div.sk-toggleable__content {max-height: 200px;max-width: 100%;overflow: auto;}#sk-container-id-1 input.sk-toggleable__control:checked~label.sk-toggleable__label-arrow:before {content: \"▾\";}#sk-container-id-1 div.sk-estimator input.sk-toggleable__control:checked~label.sk-toggleable__label {background-color: #d4ebff;}#sk-container-id-1 div.sk-label input.sk-toggleable__control:checked~label.sk-toggleable__label {background-color: #d4ebff;}#sk-container-id-1 input.sk-hidden--visually {border: 0;clip: rect(1px 1px 1px 1px);clip: rect(1px, 1px, 1px, 1px);height: 1px;margin: -1px;overflow: hidden;padding: 0;position: absolute;width: 1px;}#sk-container-id-1 div.sk-estimator {font-family: monospace;background-color: #f0f8ff;border: 1px dotted black;border-radius: 0.25em;box-sizing: border-box;margin-bottom: 0.5em;}#sk-container-id-1 div.sk-estimator:hover {background-color: #d4ebff;}#sk-container-id-1 div.sk-parallel-item::after {content: \"\";width: 100%;border-bottom: 1px solid gray;flex-grow: 1;}#sk-container-id-1 div.sk-label:hover label.sk-toggleable__label {background-color: #d4ebff;}#sk-container-id-1 div.sk-serial::before {content: \"\";position: absolute;border-left: 1px solid gray;box-sizing: border-box;top: 0;bottom: 0;left: 50%;z-index: 0;}#sk-container-id-1 div.sk-serial {display: flex;flex-direction: column;align-items: center;background-color: white;padding-right: 0.2em;padding-left: 0.2em;position: relative;}#sk-container-id-1 div.sk-item {position: relative;z-index: 1;}#sk-container-id-1 div.sk-parallel {display: flex;align-items: stretch;justify-content: center;background-color: white;position: relative;}#sk-container-id-1 div.sk-item::before, #sk-container-id-1 div.sk-parallel-item::before {content: \"\";position: absolute;border-left: 1px solid gray;box-sizing: border-box;top: 0;bottom: 0;left: 50%;z-index: -1;}#sk-container-id-1 div.sk-parallel-item {display: flex;flex-direction: column;z-index: 1;position: relative;background-color: white;}#sk-container-id-1 div.sk-parallel-item:first-child::after {align-self: flex-end;width: 50%;}#sk-container-id-1 div.sk-parallel-item:last-child::after {align-self: flex-start;width: 50%;}#sk-container-id-1 div.sk-parallel-item:only-child::after {width: 0;}#sk-container-id-1 div.sk-dashed-wrapped {border: 1px dashed gray;margin: 0 0.4em 0.5em 0.4em;box-sizing: border-box;padding-bottom: 0.4em;background-color: white;}#sk-container-id-1 div.sk-label label {font-family: monospace;font-weight: bold;display: inline-block;line-height: 1.2em;}#sk-container-id-1 div.sk-label-container {text-align: center;}#sk-container-id-1 div.sk-container {/* jupyter's `normalize.less` sets `[hidden] { display: none; }` but bootstrap.min.css set `[hidden] { display: none !important; }` so we also need the `!important` here to be able to override the default hidden behavior on the sphinx rendered scikit-learn.org. See: https://github.com/scikit-learn/scikit-learn/issues/21755 */display: inline-block !important;position: relative;}#sk-container-id-1 div.sk-text-repr-fallback {display: none;}</style><div id=\"sk-container-id-1\" class=\"sk-top-container\"><div class=\"sk-text-repr-fallback\"><pre>DummyClassifier(strategy=&#x27;most_frequent&#x27;)</pre><b>In a Jupyter environment, please rerun this cell to show the HTML representation or trust the notebook. <br />On GitHub, the HTML representation is unable to render, please try loading this page with nbviewer.org.</b></div><div class=\"sk-container\" hidden><div class=\"sk-item\"><div class=\"sk-estimator sk-toggleable\"><input class=\"sk-toggleable__control sk-hidden--visually\" id=\"sk-estimator-id-1\" type=\"checkbox\" checked><label for=\"sk-estimator-id-1\" class=\"sk-toggleable__label sk-toggleable__label-arrow\">DummyClassifier</label><div class=\"sk-toggleable__content\"><pre>DummyClassifier(strategy=&#x27;most_frequent&#x27;)</pre></div></div></div></div></div>"
      ],
      "text/plain": [
       "DummyClassifier(strategy='most_frequent')"
      ]
     },
     "execution_count": 11,
     "metadata": {},
     "output_type": "execute_result"
    }
   ],
   "source": [
    "# split the data into train and test datasets\n",
    "xtrain, xtest, ytrain, ytest = train_test_split(X,y,test_size=0.25,random_state=50)\n",
    "\n",
    "# Dummy Classifier\n",
    "dummyc = DummyClassifier(strategy='most_frequent')\n",
    "\n",
    "# train the model\n",
    "dummyc.fit(xtrain,ytrain)"
   ]
  },
  {
   "cell_type": "code",
   "execution_count": 12,
   "id": "e5194237",
   "metadata": {},
   "outputs": [],
   "source": [
    "# make some predictions\n",
    "\n",
    "dummyPred = dummyc.predict(xtest)"
   ]
  },
  {
   "cell_type": "code",
   "execution_count": 13,
   "id": "1af73370",
   "metadata": {},
   "outputs": [
    {
     "data": {
      "text/plain": [
       "array([0], dtype=int64)"
      ]
     },
     "execution_count": 13,
     "metadata": {},
     "output_type": "execute_result"
    }
   ],
   "source": [
    "np.unique(dummyPred)"
   ]
  },
  {
   "cell_type": "code",
   "execution_count": 14,
   "id": "4e880886",
   "metadata": {},
   "outputs": [
    {
     "data": {
      "text/plain": [
       "0.9984129659279234"
      ]
     },
     "execution_count": 14,
     "metadata": {},
     "output_type": "execute_result"
    }
   ],
   "source": [
    "accuracy_score(ytest,dummyPred)"
   ]
  },
  {
   "cell_type": "code",
   "execution_count": 15,
   "id": "43bd597b",
   "metadata": {},
   "outputs": [
    {
     "data": {
      "text/plain": [
       "0.9989887924496503"
      ]
     },
     "execution_count": 15,
     "metadata": {},
     "output_type": "execute_result"
    }
   ],
   "source": [
    "## logistic Regression\n",
    "\n",
    "from sklearn.linear_model import LogisticRegression\n",
    "\n",
    "lr = LogisticRegression()\n",
    "lr.fit(xtrain,ytrain)\n",
    "lrPred = lr.predict(xtest)\n",
    "\n",
    "accuracy_score(ytest,lrPred)"
   ]
  },
  {
   "cell_type": "code",
   "execution_count": 16,
   "id": "d352a9f3",
   "metadata": {},
   "outputs": [
    {
     "data": {
      "text/plain": [
       "array([0, 1], dtype=int64)"
      ]
     },
     "execution_count": 16,
     "metadata": {},
     "output_type": "execute_result"
    }
   ],
   "source": [
    "np.unique(lrPred)"
   ]
  },
  {
   "cell_type": "code",
   "execution_count": 17,
   "id": "7b556657",
   "metadata": {},
   "outputs": [
    {
     "data": {
      "text/plain": [
       "0.9990917815594205"
      ]
     },
     "execution_count": 17,
     "metadata": {},
     "output_type": "execute_result"
    }
   ],
   "source": [
    "lr.score(xtrain,ytrain)"
   ]
  },
  {
   "cell_type": "code",
   "execution_count": 18,
   "id": "08bb0c9c",
   "metadata": {},
   "outputs": [
    {
     "data": {
      "text/plain": [
       "0.9989887924496503"
      ]
     },
     "execution_count": 18,
     "metadata": {},
     "output_type": "execute_result"
    }
   ],
   "source": [
    "lr.score(xtest,ytest)"
   ]
  },
  {
   "cell_type": "markdown",
   "id": "ca58df15",
   "metadata": {},
   "source": [
    "## Dealing with Data Imbalance"
   ]
  },
  {
   "cell_type": "code",
   "execution_count": 65,
   "id": "5bca1124",
   "metadata": {},
   "outputs": [],
   "source": [
    "# Adding more data\n",
    "# Change our performance metrics --> confusion matrix, Recall, Precision, F1 score\n",
    "# Change the Algorithm\n",
    "# Resampling\n",
    "    # upsampling / Oversampling\n",
    "    # Downsampling / Undersampling"
   ]
  },
  {
   "cell_type": "code",
   "execution_count": 19,
   "id": "159347dd",
   "metadata": {},
   "outputs": [
    {
     "data": {
      "text/html": [
       "<div>\n",
       "<style scoped>\n",
       "    .dataframe tbody tr th:only-of-type {\n",
       "        vertical-align: middle;\n",
       "    }\n",
       "\n",
       "    .dataframe tbody tr th {\n",
       "        vertical-align: top;\n",
       "    }\n",
       "\n",
       "    .dataframe thead th {\n",
       "        text-align: right;\n",
       "    }\n",
       "</style>\n",
       "<table border=\"1\" class=\"dataframe\">\n",
       "  <thead>\n",
       "    <tr style=\"text-align: right;\">\n",
       "      <th></th>\n",
       "      <th>0</th>\n",
       "      <th>1</th>\n",
       "    </tr>\n",
       "  </thead>\n",
       "  <tbody>\n",
       "    <tr>\n",
       "      <th>0</th>\n",
       "      <td>71089</td>\n",
       "      <td>0</td>\n",
       "    </tr>\n",
       "    <tr>\n",
       "      <th>1</th>\n",
       "      <td>113</td>\n",
       "      <td>0</td>\n",
       "    </tr>\n",
       "  </tbody>\n",
       "</table>\n",
       "</div>"
      ],
      "text/plain": [
       "       0  1\n",
       "0  71089  0\n",
       "1    113  0"
      ]
     },
     "execution_count": 19,
     "metadata": {},
     "output_type": "execute_result"
    }
   ],
   "source": [
    "pd.DataFrame(confusion_matrix(ytest,dummyPred))"
   ]
  },
  {
   "cell_type": "code",
   "execution_count": 20,
   "id": "5607e169",
   "metadata": {},
   "outputs": [
    {
     "data": {
      "text/html": [
       "<div>\n",
       "<style scoped>\n",
       "    .dataframe tbody tr th:only-of-type {\n",
       "        vertical-align: middle;\n",
       "    }\n",
       "\n",
       "    .dataframe tbody tr th {\n",
       "        vertical-align: top;\n",
       "    }\n",
       "\n",
       "    .dataframe thead th {\n",
       "        text-align: right;\n",
       "    }\n",
       "</style>\n",
       "<table border=\"1\" class=\"dataframe\">\n",
       "  <thead>\n",
       "    <tr style=\"text-align: right;\">\n",
       "      <th></th>\n",
       "      <th>0</th>\n",
       "      <th>1</th>\n",
       "    </tr>\n",
       "  </thead>\n",
       "  <tbody>\n",
       "    <tr>\n",
       "      <th>0</th>\n",
       "      <td>71050</td>\n",
       "      <td>39</td>\n",
       "    </tr>\n",
       "    <tr>\n",
       "      <th>1</th>\n",
       "      <td>33</td>\n",
       "      <td>80</td>\n",
       "    </tr>\n",
       "  </tbody>\n",
       "</table>\n",
       "</div>"
      ],
      "text/plain": [
       "       0   1\n",
       "0  71050  39\n",
       "1     33  80"
      ]
     },
     "execution_count": 20,
     "metadata": {},
     "output_type": "execute_result"
    }
   ],
   "source": [
    "pd.DataFrame(confusion_matrix(ytest,lrPred))"
   ]
  },
  {
   "cell_type": "code",
   "execution_count": 21,
   "id": "15c43962",
   "metadata": {},
   "outputs": [],
   "source": [
    "from sklearn.metrics import plot_confusion_matrix"
   ]
  },
  {
   "cell_type": "code",
   "execution_count": 22,
   "id": "6330247c",
   "metadata": {},
   "outputs": [
    {
     "data": {
      "text/plain": [
       "<sklearn.metrics._plot.confusion_matrix.ConfusionMatrixDisplay at 0x291a58ece20>"
      ]
     },
     "execution_count": 22,
     "metadata": {},
     "output_type": "execute_result"
    },
    {
     "data": {
      "image/png": "[encoded data removed]",
      "text/plain": [
       "<Figure size 432x288 with 2 Axes>"
      ]
     },
     "metadata": {
      "needs_background": "light"
     },
     "output_type": "display_data"
    }
   ],
   "source": [
    "plot_confusion_matrix(lr,xtest,ytest)"
   ]
  },
  {
   "cell_type": "code",
   "execution_count": 23,
   "id": "58fbe139",
   "metadata": {},
   "outputs": [
    {
     "data": {
      "text/plain": [
       "<sklearn.metrics._plot.confusion_matrix.ConfusionMatrixDisplay at 0x291a5a0b2b0>"
      ]
     },
     "execution_count": 23,
     "metadata": {},
     "output_type": "execute_result"
    },
    {
     "data": {
      "image/png": "[encoded data removed]",
      "text/plain": [
       "<Figure size 432x288 with 2 Axes>"
      ]
     },
     "metadata": {
      "needs_background": "light"
     },
     "output_type": "display_data"
    }
   ],
   "source": [
    "plot_confusion_matrix(dummyc,xtest,ytest)"
   ]
  },
  {
   "cell_type": "code",
   "execution_count": 24,
   "id": "3e51f20c",
   "metadata": {},
   "outputs": [
    {
     "data": {
      "text/plain": [
       "0.0"
      ]
     },
     "execution_count": 24,
     "metadata": {},
     "output_type": "execute_result"
    }
   ],
   "source": [
    "recall_score(ytest,dummyPred)"
   ]
  },
  {
   "cell_type": "code",
   "execution_count": 25,
   "id": "3473689e",
   "metadata": {},
   "outputs": [
    {
     "data": {
      "text/plain": [
       "0.7079646017699115"
      ]
     },
     "execution_count": 25,
     "metadata": {},
     "output_type": "execute_result"
    }
   ],
   "source": [
    "recall_score(ytest,lrPred)"
   ]
  },
  {
   "cell_type": "code",
   "execution_count": 26,
   "id": "30a6e2a2",
   "metadata": {},
   "outputs": [
    {
     "data": {
      "text/plain": [
       "0.0"
      ]
     },
     "execution_count": 26,
     "metadata": {},
     "output_type": "execute_result"
    }
   ],
   "source": [
    "f1_score(ytest,dummyPred)"
   ]
  },
  {
   "cell_type": "code",
   "execution_count": 27,
   "id": "89cdca0c",
   "metadata": {},
   "outputs": [
    {
     "data": {
      "text/plain": [
       "0.6896551724137931"
      ]
     },
     "execution_count": 27,
     "metadata": {},
     "output_type": "execute_result"
    }
   ],
   "source": [
    "f1_score(ytest,lrPred)"
   ]
  },
  {
   "cell_type": "code",
   "execution_count": 28,
   "id": "376c44f5",
   "metadata": {},
   "outputs": [],
   "source": [
    "from sklearn.ensemble import RandomForestClassifier"
   ]
  },
  {
   "cell_type": "code",
   "execution_count": 29,
   "id": "46a5f279",
   "metadata": {},
   "outputs": [
    {
     "data": {
      "text/html": [
       "<style>#sk-container-id-2 {color: black;background-color: white;}#sk-container-id-2 pre{padding: 0;}#sk-container-id-2 div.sk-toggleable {background-color: white;}#sk-container-id-2 label.sk-toggleable__label {cursor: pointer;display: block;width: 100%;margin-bottom: 0;padding: 0.3em;box-sizing: border-box;text-align: center;}#sk-container-id-2 label.sk-toggleable__label-arrow:before {content: \"▸\";float: left;margin-right: 0.25em;color: #696969;}#sk-container-id-2 label.sk-toggleable__label-arrow:hover:before {color: black;}#sk-container-id-2 div.sk-estimator:hover label.sk-toggleable__label-arrow:before {color: black;}#sk-container-id-2 div.sk-toggleable__content {max-height: 0;max-width: 0;overflow: hidden;text-align: left;background-color: #f0f8ff;}#sk-container-id-2 div.sk-toggleable__content pre {margin: 0.2em;color: black;border-radius: 0.25em;background-color: #f0f8ff;}#sk-container-id-2 input.sk-toggleable__control:checked~div.sk-toggleable__content {max-height: 200px;max-width: 100%;overflow: auto;}#sk-container-id-2 input.sk-toggleable__control:checked~label.sk-toggleable__label-arrow:before {content: \"▾\";}#sk-container-id-2 div.sk-estimator input.sk-toggleable__control:checked~label.sk-toggleable__label {background-color: #d4ebff;}#sk-container-id-2 div.sk-label input.sk-toggleable__control:checked~label.sk-toggleable__label {background-color: #d4ebff;}#sk-container-id-2 input.sk-hidden--visually {border: 0;clip: rect(1px 1px 1px 1px);clip: rect(1px, 1px, 1px, 1px);height: 1px;margin: -1px;overflow: hidden;padding: 0;position: absolute;width: 1px;}#sk-container-id-2 div.sk-estimator {font-family: monospace;background-color: #f0f8ff;border: 1px dotted black;border-radius: 0.25em;box-sizing: border-box;margin-bottom: 0.5em;}#sk-container-id-2 div.sk-estimator:hover {background-color: #d4ebff;}#sk-container-id-2 div.sk-parallel-item::after {content: \"\";width: 100%;border-bottom: 1px solid gray;flex-grow: 1;}#sk-container-id-2 div.sk-label:hover label.sk-toggleable__label {background-color: #d4ebff;}#sk-container-id-2 div.sk-serial::before {content: \"\";position: absolute;border-left: 1px solid gray;box-sizing: border-box;top: 0;bottom: 0;left: 50%;z-index: 0;}#sk-container-id-2 div.sk-serial {display: flex;flex-direction: column;align-items: center;background-color: white;padding-right: 0.2em;padding-left: 0.2em;position: relative;}#sk-container-id-2 div.sk-item {position: relative;z-index: 1;}#sk-container-id-2 div.sk-parallel {display: flex;align-items: stretch;justify-content: center;background-color: white;position: relative;}#sk-container-id-2 div.sk-item::before, #sk-container-id-2 div.sk-parallel-item::before {content: \"\";position: absolute;border-left: 1px solid gray;box-sizing: border-box;top: 0;bottom: 0;left: 50%;z-index: -1;}#sk-container-id-2 div.sk-parallel-item {display: flex;flex-direction: column;z-index: 1;position: relative;background-color: white;}#sk-container-id-2 div.sk-parallel-item:first-child::after {align-self: flex-end;width: 50%;}#sk-container-id-2 div.sk-parallel-item:last-child::after {align-self: flex-start;width: 50%;}#sk-container-id-2 div.sk-parallel-item:only-child::after {width: 0;}#sk-container-id-2 div.sk-dashed-wrapped {border: 1px dashed gray;margin: 0 0.4em 0.5em 0.4em;box-sizing: border-box;padding-bottom: 0.4em;background-color: white;}#sk-container-id-2 div.sk-label label {font-family: monospace;font-weight: bold;display: inline-block;line-height: 1.2em;}#sk-container-id-2 div.sk-label-container {text-align: center;}#sk-container-id-2 div.sk-container {/* jupyter's `normalize.less` sets `[hidden] { display: none; }` but bootstrap.min.css set `[hidden] { display: none !important; }` so we also need the `!important` here to be able to override the default hidden behavior on the sphinx rendered scikit-learn.org. See: https://github.com/scikit-learn/scikit-learn/issues/21755 */display: inline-block !important;position: relative;}#sk-container-id-2 div.sk-text-repr-fallback {display: none;}</style><div id=\"sk-container-id-2\" class=\"sk-top-container\"><div class=\"sk-text-repr-fallback\"><pre>RandomForestClassifier()</pre><b>In a Jupyter environment, please rerun this cell to show the HTML representation or trust the notebook. <br />On GitHub, the HTML representation is unable to render, please try loading this page with nbviewer.org.</b></div><div class=\"sk-container\" hidden><div class=\"sk-item\"><div class=\"sk-estimator sk-toggleable\"><input class=\"sk-toggleable__control sk-hidden--visually\" id=\"sk-estimator-id-2\" type=\"checkbox\" checked><label for=\"sk-estimator-id-2\" class=\"sk-toggleable__label sk-toggleable__label-arrow\">RandomForestClassifier</label><div class=\"sk-toggleable__content\"><pre>RandomForestClassifier()</pre></div></div></div></div></div>"
      ],
      "text/plain": [
       "RandomForestClassifier()"
      ]
     },
     "execution_count": 29,
     "metadata": {},
     "output_type": "execute_result"
    }
   ],
   "source": [
    "rf = RandomForestClassifier()\n",
    "\n",
    "rf.fit(xtrain,ytrain)"
   ]
  },
  {
   "cell_type": "code",
   "execution_count": 30,
   "id": "1ef23c0d",
   "metadata": {},
   "outputs": [],
   "source": [
    "rfPred = rf.predict(xtest)"
   ]
  },
  {
   "cell_type": "code",
   "execution_count": 32,
   "id": "2988f595",
   "metadata": {},
   "outputs": [
    {
     "data": {
      "text/plain": [
       "<sklearn.metrics._plot.confusion_matrix.ConfusionMatrixDisplay at 0x291a9331730>"
      ]
     },
     "execution_count": 32,
     "metadata": {},
     "output_type": "execute_result"
    },
    {
     "data": {
      "image/png": "[encoded data removed]",
      "text/plain": [
       "<Figure size 432x288 with 2 Axes>"
      ]
     },
     "metadata": {
      "needs_background": "light"
     },
     "output_type": "display_data"
    }
   ],
   "source": [
    "plot_confusion_matrix(rf,xtest,ytest)"
   ]
  },
  {
   "cell_type": "code",
   "execution_count": 33,
   "id": "d6ea9717",
   "metadata": {},
   "outputs": [
    {
     "data": {
      "text/plain": [
       "<sklearn.metrics._plot.confusion_matrix.ConfusionMatrixDisplay at 0x291a5fb1760>"
      ]
     },
     "execution_count": 33,
     "metadata": {},
     "output_type": "execute_result"
    },
    {
     "data": {
      "image/png": "[encoded data removed]",
      "text/plain": [
       "<Figure size 432x288 with 2 Axes>"
      ]
     },
     "metadata": {
      "needs_background": "light"
     },
     "output_type": "display_data"
    }
   ],
   "source": [
    "plot_confusion_matrix(lr,xtest,ytest)"
   ]
  },
  {
   "cell_type": "code",
   "execution_count": 34,
   "id": "9cc7d95c",
   "metadata": {},
   "outputs": [
    {
     "data": {
      "text/plain": [
       "0.7787610619469026"
      ]
     },
     "execution_count": 34,
     "metadata": {},
     "output_type": "execute_result"
    }
   ],
   "source": [
    "recall_score(ytest,rfPred)"
   ]
  },
  {
   "cell_type": "code",
   "execution_count": 35,
   "id": "2403e483",
   "metadata": {},
   "outputs": [
    {
     "data": {
      "text/plain": [
       "0.8461538461538461"
      ]
     },
     "execution_count": 35,
     "metadata": {},
     "output_type": "execute_result"
    }
   ],
   "source": [
    "f1_score(ytest,rfPred)"
   ]
  },
  {
   "cell_type": "code",
   "execution_count": 36,
   "id": "d39246c0",
   "metadata": {},
   "outputs": [
    {
     "data": {
      "text/plain": [
       "0.7079646017699115"
      ]
     },
     "execution_count": 36,
     "metadata": {},
     "output_type": "execute_result"
    }
   ],
   "source": [
    "recall_score(ytest,lrPred)"
   ]
  },
  {
   "cell_type": "code",
   "execution_count": 37,
   "id": "8169b529",
   "metadata": {},
   "outputs": [
    {
     "data": {
      "text/plain": [
       "0.6896551724137931"
      ]
     },
     "execution_count": 37,
     "metadata": {},
     "output_type": "execute_result"
    }
   ],
   "source": [
    "f1_score(ytest,lrPred)"
   ]
  },
  {
   "cell_type": "markdown",
   "id": "50a8794f",
   "metadata": {},
   "source": [
    "## Upsampling or Oversampling"
   ]
  },
  {
   "cell_type": "code",
   "execution_count": 66,
   "id": "78dd8e0f",
   "metadata": {},
   "outputs": [],
   "source": [
    "# we increase the number of samples in the minority class to match up with the number of samples in the majority class"
   ]
  },
  {
   "cell_type": "code",
   "execution_count": 38,
   "id": "d977d111",
   "metadata": {},
   "outputs": [],
   "source": [
    "# implementation with resample\n",
    "\n",
    "from sklearn.utils import resample"
   ]
  },
  {
   "cell_type": "code",
   "execution_count": 42,
   "id": "998402df",
   "metadata": {},
   "outputs": [],
   "source": [
    "Fraud = df[df['Class'] == 1]\n",
    "NotFraud = df[df['Class'] == 0]"
   ]
  },
  {
   "cell_type": "code",
   "execution_count": 48,
   "id": "ad7c1a84",
   "metadata": {},
   "outputs": [
    {
     "data": {
      "text/plain": [
       "283823"
      ]
     },
     "execution_count": 48,
     "metadata": {},
     "output_type": "execute_result"
    }
   ],
   "source": [
    "NeedToBeSampled = len(NotFraud) - len(Fraud)\n",
    "NeedToBeSampled"
   ]
  },
  {
   "cell_type": "code",
   "execution_count": 50,
   "id": "27460b1b",
   "metadata": {},
   "outputs": [],
   "source": [
    "FraudDataUpsampled = resample(Fraud,replace=True,n_samples=NeedToBeSampled,random_state=1)"
   ]
  },
  {
   "cell_type": "code",
   "execution_count": 56,
   "id": "a241869d",
   "metadata": {},
   "outputs": [],
   "source": [
    "TestFraudDataUpsampled = resample(Fraud,replace=True,n_samples=len(NotFraud),random_state=1)"
   ]
  },
  {
   "cell_type": "code",
   "execution_count": 53,
   "id": "988d1036",
   "metadata": {},
   "outputs": [],
   "source": [
    "Upsampled = pd.concat([df,FraudDataUpsampled])"
   ]
  },
  {
   "cell_type": "code",
   "execution_count": 55,
   "id": "d202d35f",
   "metadata": {},
   "outputs": [
    {
     "data": {
      "text/plain": [
       "0    284315\n",
       "1    284315\n",
       "Name: Class, dtype: int64"
      ]
     },
     "execution_count": 55,
     "metadata": {},
     "output_type": "execute_result"
    }
   ],
   "source": [
    "Upsampled['Class'].value_counts()"
   ]
  },
  {
   "cell_type": "code",
   "execution_count": 57,
   "id": "be9364cc",
   "metadata": {},
   "outputs": [
    {
     "data": {
      "text/plain": [
       "1    284807\n",
       "0    284315\n",
       "Name: Class, dtype: int64"
      ]
     },
     "execution_count": 57,
     "metadata": {},
     "output_type": "execute_result"
    }
   ],
   "source": [
    "TestUpsampled = pd.concat([df,TestFraudDataUpsampled])\n",
    "TestUpsampled['Class'].value_counts()"
   ]
  },
  {
   "cell_type": "code",
   "execution_count": 59,
   "id": "215b49e2",
   "metadata": {},
   "outputs": [],
   "source": [
    "# We can also implement Oversampling using RandomOverSampler"
   ]
  },
  {
   "cell_type": "markdown",
   "id": "5588a880",
   "metadata": {},
   "source": [
    "## RandomOverSampler"
   ]
  },
  {
   "cell_type": "code",
   "execution_count": 61,
   "id": "27030181",
   "metadata": {},
   "outputs": [],
   "source": [
    "# !pip install imbalanced-learn"
   ]
  },
  {
   "cell_type": "code",
   "execution_count": 63,
   "id": "ed08c391",
   "metadata": {},
   "outputs": [],
   "source": [
    "from imblearn.over_sampling import RandomOverSampler\n",
    "from collections import Counter\n",
    "\n",
    "randover = RandomOverSampler(random_state=50)"
   ]
  },
  {
   "cell_type": "code",
   "execution_count": 66,
   "id": "91e4cf56",
   "metadata": {},
   "outputs": [],
   "source": [
    "Xres, yres = randover.fit_resample(X,y)"
   ]
  },
  {
   "cell_type": "code",
   "execution_count": 67,
   "id": "187924ee",
   "metadata": {},
   "outputs": [
    {
     "data": {
      "text/plain": [
       "Counter({0: 284315, 1: 492})"
      ]
     },
     "execution_count": 67,
     "metadata": {},
     "output_type": "execute_result"
    }
   ],
   "source": [
    "Counter(y)"
   ]
  },
  {
   "cell_type": "code",
   "execution_count": 68,
   "id": "9e1b6885",
   "metadata": {},
   "outputs": [
    {
     "data": {
      "text/plain": [
       "Counter({0: 284315, 1: 284315})"
      ]
     },
     "execution_count": 68,
     "metadata": {},
     "output_type": "execute_result"
    }
   ],
   "source": [
    "Counter(yres)"
   ]
  },
  {
   "cell_type": "markdown",
   "id": "c2c7858a",
   "metadata": {},
   "source": [
    "## Logistic Regression on Oversampled Balanced Data"
   ]
  },
  {
   "cell_type": "code",
   "execution_count": 69,
   "id": "89f7d76b",
   "metadata": {},
   "outputs": [],
   "source": [
    "from sklearn.linear_model import LogisticRegression"
   ]
  },
  {
   "cell_type": "code",
   "execution_count": 70,
   "id": "3372541d",
   "metadata": {},
   "outputs": [],
   "source": [
    "lr = LogisticRegression()"
   ]
  },
  {
   "cell_type": "code",
   "execution_count": 72,
   "id": "8a033103",
   "metadata": {},
   "outputs": [],
   "source": [
    "ytrain = Upsampled.Class\n",
    "xtrain = Upsampled.drop('Class',axis = 1)"
   ]
  },
  {
   "cell_type": "code",
   "execution_count": 73,
   "id": "9ee298cd",
   "metadata": {},
   "outputs": [
    {
     "data": {
      "text/html": [
       "<style>#sk-container-id-4 {color: black;background-color: white;}#sk-container-id-4 pre{padding: 0;}#sk-container-id-4 div.sk-toggleable {background-color: white;}#sk-container-id-4 label.sk-toggleable__label {cursor: pointer;display: block;width: 100%;margin-bottom: 0;padding: 0.3em;box-sizing: border-box;text-align: center;}#sk-container-id-4 label.sk-toggleable__label-arrow:before {content: \"▸\";float: left;margin-right: 0.25em;color: #696969;}#sk-container-id-4 label.sk-toggleable__label-arrow:hover:before {color: black;}#sk-container-id-4 div.sk-estimator:hover label.sk-toggleable__label-arrow:before {color: black;}#sk-container-id-4 div.sk-toggleable__content {max-height: 0;max-width: 0;overflow: hidden;text-align: left;background-color: #f0f8ff;}#sk-container-id-4 div.sk-toggleable__content pre {margin: 0.2em;color: black;border-radius: 0.25em;background-color: #f0f8ff;}#sk-container-id-4 input.sk-toggleable__control:checked~div.sk-toggleable__content {max-height: 200px;max-width: 100%;overflow: auto;}#sk-container-id-4 input.sk-toggleable__control:checked~label.sk-toggleable__label-arrow:before {content: \"▾\";}#sk-container-id-4 div.sk-estimator input.sk-toggleable__control:checked~label.sk-toggleable__label {background-color: #d4ebff;}#sk-container-id-4 div.sk-label input.sk-toggleable__control:checked~label.sk-toggleable__label {background-color: #d4ebff;}#sk-container-id-4 input.sk-hidden--visually {border: 0;clip: rect(1px 1px 1px 1px);clip: rect(1px, 1px, 1px, 1px);height: 1px;margin: -1px;overflow: hidden;padding: 0;position: absolute;width: 1px;}#sk-container-id-4 div.sk-estimator {font-family: monospace;background-color: #f0f8ff;border: 1px dotted black;border-radius: 0.25em;box-sizing: border-box;margin-bottom: 0.5em;}#sk-container-id-4 div.sk-estimator:hover {background-color: #d4ebff;}#sk-container-id-4 div.sk-parallel-item::after {content: \"\";width: 100%;border-bottom: 1px solid gray;flex-grow: 1;}#sk-container-id-4 div.sk-label:hover label.sk-toggleable__label {background-color: #d4ebff;}#sk-container-id-4 div.sk-serial::before {content: \"\";position: absolute;border-left: 1px solid gray;box-sizing: border-box;top: 0;bottom: 0;left: 50%;z-index: 0;}#sk-container-id-4 div.sk-serial {display: flex;flex-direction: column;align-items: center;background-color: white;padding-right: 0.2em;padding-left: 0.2em;position: relative;}#sk-container-id-4 div.sk-item {position: relative;z-index: 1;}#sk-container-id-4 div.sk-parallel {display: flex;align-items: stretch;justify-content: center;background-color: white;position: relative;}#sk-container-id-4 div.sk-item::before, #sk-container-id-4 div.sk-parallel-item::before {content: \"\";position: absolute;border-left: 1px solid gray;box-sizing: border-box;top: 0;bottom: 0;left: 50%;z-index: -1;}#sk-container-id-4 div.sk-parallel-item {display: flex;flex-direction: column;z-index: 1;position: relative;background-color: white;}#sk-container-id-4 div.sk-parallel-item:first-child::after {align-self: flex-end;width: 50%;}#sk-container-id-4 div.sk-parallel-item:last-child::after {align-self: flex-start;width: 50%;}#sk-container-id-4 div.sk-parallel-item:only-child::after {width: 0;}#sk-container-id-4 div.sk-dashed-wrapped {border: 1px dashed gray;margin: 0 0.4em 0.5em 0.4em;box-sizing: border-box;padding-bottom: 0.4em;background-color: white;}#sk-container-id-4 div.sk-label label {font-family: monospace;font-weight: bold;display: inline-block;line-height: 1.2em;}#sk-container-id-4 div.sk-label-container {text-align: center;}#sk-container-id-4 div.sk-container {/* jupyter's `normalize.less` sets `[hidden] { display: none; }` but bootstrap.min.css set `[hidden] { display: none !important; }` so we also need the `!important` here to be able to override the default hidden behavior on the sphinx rendered scikit-learn.org. See: https://github.com/scikit-learn/scikit-learn/issues/21755 */display: inline-block !important;position: relative;}#sk-container-id-4 div.sk-text-repr-fallback {display: none;}</style><div id=\"sk-container-id-4\" class=\"sk-top-container\"><div class=\"sk-text-repr-fallback\"><pre>LogisticRegression()</pre><b>In a Jupyter environment, please rerun this cell to show the HTML representation or trust the notebook. <br />On GitHub, the HTML representation is unable to render, please try loading this page with nbviewer.org.</b></div><div class=\"sk-container\" hidden><div class=\"sk-item\"><div class=\"sk-estimator sk-toggleable\"><input class=\"sk-toggleable__control sk-hidden--visually\" id=\"sk-estimator-id-4\" type=\"checkbox\" checked><label for=\"sk-estimator-id-4\" class=\"sk-toggleable__label sk-toggleable__label-arrow\">LogisticRegression</label><div class=\"sk-toggleable__content\"><pre>LogisticRegression()</pre></div></div></div></div></div>"
      ],
      "text/plain": [
       "LogisticRegression()"
      ]
     },
     "execution_count": 73,
     "metadata": {},
     "output_type": "execute_result"
    }
   ],
   "source": [
    "lr.fit(xtrain,ytrain)"
   ]
  },
  {
   "cell_type": "code",
   "execution_count": 74,
   "id": "8efa16eb",
   "metadata": {},
   "outputs": [],
   "source": [
    "UpsampledPred = lr.predict(xtest)"
   ]
  },
  {
   "cell_type": "code",
   "execution_count": 75,
   "id": "b3984a92",
   "metadata": {},
   "outputs": [
    {
     "data": {
      "text/plain": [
       "0.9660121906688014"
      ]
     },
     "execution_count": 75,
     "metadata": {},
     "output_type": "execute_result"
    }
   ],
   "source": [
    "accuracy_score(ytest,UpsampledPred)"
   ]
  },
  {
   "cell_type": "code",
   "execution_count": 76,
   "id": "45d9123c",
   "metadata": {},
   "outputs": [
    {
     "data": {
      "text/plain": [
       "0.9380530973451328"
      ]
     },
     "execution_count": 76,
     "metadata": {},
     "output_type": "execute_result"
    }
   ],
   "source": [
    "recall_score(ytest,UpsampledPred)"
   ]
  },
  {
   "cell_type": "code",
   "execution_count": 77,
   "id": "36cf6490",
   "metadata": {},
   "outputs": [
    {
     "data": {
      "text/plain": [
       "0.08054711246200608"
      ]
     },
     "execution_count": 77,
     "metadata": {},
     "output_type": "execute_result"
    }
   ],
   "source": [
    "f1_score(ytest,UpsampledPred)"
   ]
  },
  {
   "cell_type": "code",
   "execution_count": 80,
   "id": "73596e8a",
   "metadata": {},
   "outputs": [
    {
     "data": {
      "text/plain": [
       "<sklearn.metrics._plot.confusion_matrix.ConfusionMatrixDisplay at 0x291c67141f0>"
      ]
     },
     "execution_count": 80,
     "metadata": {},
     "output_type": "execute_result"
    },
    {
     "data": {
      "image/png": "[encoded data removed]",
      "text/plain": [
       "<Figure size 432x288 with 2 Axes>"
      ]
     },
     "metadata": {
      "needs_background": "light"
     },
     "output_type": "display_data"
    }
   ],
   "source": [
    "plot_confusion_matrix(lr,xtest,ytest)"
   ]
  },
  {
   "cell_type": "markdown",
   "id": "3cca427c",
   "metadata": {},
   "source": [
    "## Downsampling / Undersampling"
   ]
  },
  {
   "cell_type": "code",
   "execution_count": 81,
   "id": "6aeb3f49",
   "metadata": {},
   "outputs": [],
   "source": [
    "# we decrease the number of samples in the majority class to match up with the number of samples in the minority class"
   ]
  },
  {
   "cell_type": "code",
   "execution_count": 82,
   "id": "81b4dc07",
   "metadata": {},
   "outputs": [],
   "source": [
    "Downsampled = resample(NotFraud,replace=True,n_samples=len(Fraud),random_state=1)"
   ]
  },
  {
   "cell_type": "code",
   "execution_count": 84,
   "id": "f1c1a770",
   "metadata": {},
   "outputs": [],
   "source": [
    "Downsampled = pd.concat([Fraud,Downsampled])"
   ]
  },
  {
   "cell_type": "code",
   "execution_count": 85,
   "id": "0d311b68",
   "metadata": {},
   "outputs": [
    {
     "data": {
      "text/plain": [
       "1    492\n",
       "0    492\n",
       "Name: Class, dtype: int64"
      ]
     },
     "execution_count": 85,
     "metadata": {},
     "output_type": "execute_result"
    }
   ],
   "source": [
    "Downsampled.Class.value_counts()"
   ]
  },
  {
   "cell_type": "code",
   "execution_count": 86,
   "id": "d1e6fce1",
   "metadata": {},
   "outputs": [],
   "source": [
    "ytrain = Downsampled.Class\n",
    "xtrain = Downsampled.drop('Class',axis = 1)"
   ]
  },
  {
   "cell_type": "code",
   "execution_count": 87,
   "id": "19f713f3",
   "metadata": {},
   "outputs": [
    {
     "data": {
      "text/html": [
       "<style>#sk-container-id-5 {color: black;background-color: white;}#sk-container-id-5 pre{padding: 0;}#sk-container-id-5 div.sk-toggleable {background-color: white;}#sk-container-id-5 label.sk-toggleable__label {cursor: pointer;display: block;width: 100%;margin-bottom: 0;padding: 0.3em;box-sizing: border-box;text-align: center;}#sk-container-id-5 label.sk-toggleable__label-arrow:before {content: \"▸\";float: left;margin-right: 0.25em;color: #696969;}#sk-container-id-5 label.sk-toggleable__label-arrow:hover:before {color: black;}#sk-container-id-5 div.sk-estimator:hover label.sk-toggleable__label-arrow:before {color: black;}#sk-container-id-5 div.sk-toggleable__content {max-height: 0;max-width: 0;overflow: hidden;text-align: left;background-color: #f0f8ff;}#sk-container-id-5 div.sk-toggleable__content pre {margin: 0.2em;color: black;border-radius: 0.25em;background-color: #f0f8ff;}#sk-container-id-5 input.sk-toggleable__control:checked~div.sk-toggleable__content {max-height: 200px;max-width: 100%;overflow: auto;}#sk-container-id-5 input.sk-toggleable__control:checked~label.sk-toggleable__label-arrow:before {content: \"▾\";}#sk-container-id-5 div.sk-estimator input.sk-toggleable__control:checked~label.sk-toggleable__label {background-color: #d4ebff;}#sk-container-id-5 div.sk-label input.sk-toggleable__control:checked~label.sk-toggleable__label {background-color: #d4ebff;}#sk-container-id-5 input.sk-hidden--visually {border: 0;clip: rect(1px 1px 1px 1px);clip: rect(1px, 1px, 1px, 1px);height: 1px;margin: -1px;overflow: hidden;padding: 0;position: absolute;width: 1px;}#sk-container-id-5 div.sk-estimator {font-family: monospace;background-color: #f0f8ff;border: 1px dotted black;border-radius: 0.25em;box-sizing: border-box;margin-bottom: 0.5em;}#sk-container-id-5 div.sk-estimator:hover {background-color: #d4ebff;}#sk-container-id-5 div.sk-parallel-item::after {content: \"\";width: 100%;border-bottom: 1px solid gray;flex-grow: 1;}#sk-container-id-5 div.sk-label:hover label.sk-toggleable__label {background-color: #d4ebff;}#sk-container-id-5 div.sk-serial::before {content: \"\";position: absolute;border-left: 1px solid gray;box-sizing: border-box;top: 0;bottom: 0;left: 50%;z-index: 0;}#sk-container-id-5 div.sk-serial {display: flex;flex-direction: column;align-items: center;background-color: white;padding-right: 0.2em;padding-left: 0.2em;position: relative;}#sk-container-id-5 div.sk-item {position: relative;z-index: 1;}#sk-container-id-5 div.sk-parallel {display: flex;align-items: stretch;justify-content: center;background-color: white;position: relative;}#sk-container-id-5 div.sk-item::before, #sk-container-id-5 div.sk-parallel-item::before {content: \"\";position: absolute;border-left: 1px solid gray;box-sizing: border-box;top: 0;bottom: 0;left: 50%;z-index: -1;}#sk-container-id-5 div.sk-parallel-item {display: flex;flex-direction: column;z-index: 1;position: relative;background-color: white;}#sk-container-id-5 div.sk-parallel-item:first-child::after {align-self: flex-end;width: 50%;}#sk-container-id-5 div.sk-parallel-item:last-child::after {align-self: flex-start;width: 50%;}#sk-container-id-5 div.sk-parallel-item:only-child::after {width: 0;}#sk-container-id-5 div.sk-dashed-wrapped {border: 1px dashed gray;margin: 0 0.4em 0.5em 0.4em;box-sizing: border-box;padding-bottom: 0.4em;background-color: white;}#sk-container-id-5 div.sk-label label {font-family: monospace;font-weight: bold;display: inline-block;line-height: 1.2em;}#sk-container-id-5 div.sk-label-container {text-align: center;}#sk-container-id-5 div.sk-container {/* jupyter's `normalize.less` sets `[hidden] { display: none; }` but bootstrap.min.css set `[hidden] { display: none !important; }` so we also need the `!important` here to be able to override the default hidden behavior on the sphinx rendered scikit-learn.org. See: https://github.com/scikit-learn/scikit-learn/issues/21755 */display: inline-block !important;position: relative;}#sk-container-id-5 div.sk-text-repr-fallback {display: none;}</style><div id=\"sk-container-id-5\" class=\"sk-top-container\"><div class=\"sk-text-repr-fallback\"><pre>LogisticRegression()</pre><b>In a Jupyter environment, please rerun this cell to show the HTML representation or trust the notebook. <br />On GitHub, the HTML representation is unable to render, please try loading this page with nbviewer.org.</b></div><div class=\"sk-container\" hidden><div class=\"sk-item\"><div class=\"sk-estimator sk-toggleable\"><input class=\"sk-toggleable__control sk-hidden--visually\" id=\"sk-estimator-id-5\" type=\"checkbox\" checked><label for=\"sk-estimator-id-5\" class=\"sk-toggleable__label sk-toggleable__label-arrow\">LogisticRegression</label><div class=\"sk-toggleable__content\"><pre>LogisticRegression()</pre></div></div></div></div></div>"
      ],
      "text/plain": [
       "LogisticRegression()"
      ]
     },
     "execution_count": 87,
     "metadata": {},
     "output_type": "execute_result"
    }
   ],
   "source": [
    "lr.fit(xtrain,ytrain)"
   ]
  },
  {
   "cell_type": "code",
   "execution_count": 88,
   "id": "d8aa0bf4",
   "metadata": {},
   "outputs": [],
   "source": [
    "DownsampledPred = lr.predict(xtest)"
   ]
  },
  {
   "cell_type": "code",
   "execution_count": 89,
   "id": "25911d1c",
   "metadata": {},
   "outputs": [
    {
     "data": {
      "text/plain": [
       "0.9652537850060392"
      ]
     },
     "execution_count": 89,
     "metadata": {},
     "output_type": "execute_result"
    }
   ],
   "source": [
    "accuracy_score(ytest,DownsampledPred)"
   ]
  },
  {
   "cell_type": "code",
   "execution_count": 90,
   "id": "96f9b362",
   "metadata": {},
   "outputs": [
    {
     "data": {
      "text/plain": [
       "<sklearn.metrics._plot.confusion_matrix.ConfusionMatrixDisplay at 0x291c79d2970>"
      ]
     },
     "execution_count": 90,
     "metadata": {},
     "output_type": "execute_result"
    },
    {
     "data": {
      "image/png": "[encoded data removed]",
      "text/plain": [
       "<Figure size 432x288 with 2 Axes>"
      ]
     },
     "metadata": {
      "needs_background": "light"
     },
     "output_type": "display_data"
    }
   ],
   "source": [
    "plot_confusion_matrix(lr,xtest,ytest)"
   ]
  },
  {
   "cell_type": "code",
   "execution_count": 91,
   "id": "cfcf7f87",
   "metadata": {},
   "outputs": [
    {
     "data": {
      "text/plain": [
       "0.9026548672566371"
      ]
     },
     "execution_count": 91,
     "metadata": {},
     "output_type": "execute_result"
    }
   ],
   "source": [
    "recall_score(ytest,DownsampledPred)"
   ]
  },
  {
   "cell_type": "code",
   "execution_count": 92,
   "id": "c24aac63",
   "metadata": {},
   "outputs": [
    {
     "data": {
      "text/plain": [
       "0.0761762509335325"
      ]
     },
     "execution_count": 92,
     "metadata": {},
     "output_type": "execute_result"
    }
   ],
   "source": [
    "f1_score(ytest,DownsampledPred)"
   ]
  },
  {
   "cell_type": "markdown",
   "id": "4a97af7d",
   "metadata": {},
   "source": [
    "## Generate Synthesis Sampling (SMOTE)"
   ]
  },
  {
   "cell_type": "code",
   "execution_count": 95,
   "id": "212d0c25",
   "metadata": {},
   "outputs": [],
   "source": [
    "# SMOTE - Synthesis Minority Oversampling Technique\n",
    "# creates synthetic observations of the minority class\n",
    "# SMOTE uses a nearest neighbors algorithm to generate new and synthetic data"
   ]
  },
  {
   "cell_type": "code",
   "execution_count": 97,
   "id": "012515ae",
   "metadata": {},
   "outputs": [],
   "source": [
    "# !pip install smote"
   ]
  },
  {
   "cell_type": "code",
   "execution_count": 98,
   "id": "2433b108",
   "metadata": {},
   "outputs": [],
   "source": [
    "from imblearn.over_sampling import SMOTE"
   ]
  },
  {
   "cell_type": "code",
   "execution_count": 99,
   "id": "ed75d7fd",
   "metadata": {},
   "outputs": [],
   "source": [
    "y = df['Class']\n",
    "X = df.drop('Class',axis = 1)"
   ]
  },
  {
   "cell_type": "code",
   "execution_count": 100,
   "id": "1b10d7ab",
   "metadata": {},
   "outputs": [],
   "source": [
    "xtrain, xtest, ytrain, ytest = train_test_split(X,y, test_size=0.25, random_state=27)"
   ]
  },
  {
   "cell_type": "code",
   "execution_count": 101,
   "id": "b654b9d1",
   "metadata": {},
   "outputs": [],
   "source": [
    "sm = SMOTE(random_state=27)"
   ]
  },
  {
   "cell_type": "code",
   "execution_count": 102,
   "id": "f1cb9599",
   "metadata": {},
   "outputs": [],
   "source": [
    "xtrain1, ytrain1 = sm.fit_resample(xtrain,ytrain) # upsample"
   ]
  },
  {
   "cell_type": "code",
   "execution_count": 103,
   "id": "8599c801",
   "metadata": {},
   "outputs": [
    {
     "data": {
      "text/plain": [
       "(426490, 30)"
      ]
     },
     "execution_count": 103,
     "metadata": {},
     "output_type": "execute_result"
    }
   ],
   "source": [
    "xtrain1.shape"
   ]
  },
  {
   "cell_type": "code",
   "execution_count": 104,
   "id": "e531443b",
   "metadata": {},
   "outputs": [],
   "source": [
    "smote = LogisticRegression(solver='liblinear').fit(xtrain1,ytrain1)"
   ]
  },
  {
   "cell_type": "code",
   "execution_count": 105,
   "id": "4025b4f0",
   "metadata": {},
   "outputs": [],
   "source": [
    "smotePred = smote.predict(xtest)"
   ]
  },
  {
   "cell_type": "code",
   "execution_count": 106,
   "id": "add0b902",
   "metadata": {},
   "outputs": [
    {
     "data": {
      "text/plain": [
       "0.9858571388444145"
      ]
     },
     "execution_count": 106,
     "metadata": {},
     "output_type": "execute_result"
    }
   ],
   "source": [
    "accuracy_score(ytest,smotePred)"
   ]
  },
  {
   "cell_type": "code",
   "execution_count": 107,
   "id": "bfd790f4",
   "metadata": {},
   "outputs": [
    {
     "data": {
      "text/plain": [
       "array([[70081,   989],\n",
       "       [   18,   114]], dtype=int64)"
      ]
     },
     "execution_count": 107,
     "metadata": {},
     "output_type": "execute_result"
    }
   ],
   "source": [
    "confusion_matrix(ytest,smotePred)"
   ]
  },
  {
   "cell_type": "markdown",
   "id": "729e0f69",
   "metadata": {},
   "source": [
    "## Random Forest on the upsampled data"
   ]
  },
  {
   "cell_type": "code",
   "execution_count": 108,
   "id": "74ebfb4a",
   "metadata": {},
   "outputs": [],
   "source": [
    "from sklearn.ensemble import RandomForestClassifier"
   ]
  },
  {
   "cell_type": "code",
   "execution_count": 109,
   "id": "d7f9b77d",
   "metadata": {},
   "outputs": [],
   "source": [
    "rf = RandomForestClassifier(n_estimators=10).fit(xtrain1,ytrain1)"
   ]
  },
  {
   "cell_type": "code",
   "execution_count": 110,
   "id": "93838f14",
   "metadata": {},
   "outputs": [],
   "source": [
    "rfPred = rf.predict(xtest)"
   ]
  },
  {
   "cell_type": "code",
   "execution_count": 111,
   "id": "190d9971",
   "metadata": {},
   "outputs": [
    {
     "data": {
      "text/plain": [
       "0.9994663071262043"
      ]
     },
     "execution_count": 111,
     "metadata": {},
     "output_type": "execute_result"
    }
   ],
   "source": [
    "accuracy_score(ytest,rfPred)"
   ]
  },
  {
   "cell_type": "code",
   "execution_count": 112,
   "id": "f0f7c329",
   "metadata": {},
   "outputs": [
    {
     "data": {
      "text/plain": [
       "array([[71056,    14],\n",
       "       [   24,   108]], dtype=int64)"
      ]
     },
     "execution_count": 112,
     "metadata": {},
     "output_type": "execute_result"
    }
   ],
   "source": [
    "confusion_matrix(ytest,rfPred)"
   ]
  },
  {
   "cell_type": "markdown",
   "id": "ac0383d2",
   "metadata": {},
   "source": [
    "## How to Deal with Data leakage"
   ]
  },
  {
   "cell_type": "code",
   "execution_count": null,
   "id": "69d5b16e",
   "metadata": {},
   "outputs": [],
   "source": [
    "# Introduction to Data leakage\n",
    "\n",
    "# It happens when you train your algorithm on a dataset that includes information that would not be available at the time of prediction when you apply that model you collect in the future\n",
    "# when the data that we are using to train an ML algorithm has the information the model is trying to predict\n",
    "# some features might not be available during testing \n"
   ]
  },
  {
   "cell_type": "code",
   "execution_count": 161,
   "id": "ab2ffc1f",
   "metadata": {},
   "outputs": [],
   "source": [
    "# How do i end up in data leakage\n",
    "\n",
    "# Duplicates\n",
    "# Leaky predictors - data that will not be available at the time we make predictions.\n",
    "# Pre processing activities"
   ]
  },
  {
   "cell_type": "code",
   "execution_count": 172,
   "id": "e416afc3",
   "metadata": {},
   "outputs": [],
   "source": [
    "df = {'Purchase':['Yes','Yes','No','Yes','No','Yes','Yes'],\n",
    "      'QTY':[2,5,17,4,0,3,7],\n",
    "      'Product':['Milk','Sugar','Biscuit','Chocolate','Coffee','Bread','Egg'],\n",
    "      'Discount':['Yes','No','No','Yes','No','Yes','Yes']}"
   ]
  },
  {
   "cell_type": "code",
   "execution_count": 173,
   "id": "cba6ec18",
   "metadata": {},
   "outputs": [
    {
     "data": {
      "text/html": [
       "<div>\n",
       "<style scoped>\n",
       "    .dataframe tbody tr th:only-of-type {\n",
       "        vertical-align: middle;\n",
       "    }\n",
       "\n",
       "    .dataframe tbody tr th {\n",
       "        vertical-align: top;\n",
       "    }\n",
       "\n",
       "    .dataframe thead th {\n",
       "        text-align: right;\n",
       "    }\n",
       "</style>\n",
       "<table border=\"1\" class=\"dataframe\">\n",
       "  <thead>\n",
       "    <tr style=\"text-align: right;\">\n",
       "      <th></th>\n",
       "      <th>Purchase</th>\n",
       "      <th>QTY</th>\n",
       "      <th>Product</th>\n",
       "      <th>Discount</th>\n",
       "    </tr>\n",
       "  </thead>\n",
       "  <tbody>\n",
       "    <tr>\n",
       "      <th>0</th>\n",
       "      <td>Yes</td>\n",
       "      <td>2</td>\n",
       "      <td>Milk</td>\n",
       "      <td>Yes</td>\n",
       "    </tr>\n",
       "    <tr>\n",
       "      <th>1</th>\n",
       "      <td>Yes</td>\n",
       "      <td>5</td>\n",
       "      <td>Sugar</td>\n",
       "      <td>No</td>\n",
       "    </tr>\n",
       "    <tr>\n",
       "      <th>2</th>\n",
       "      <td>No</td>\n",
       "      <td>17</td>\n",
       "      <td>Biscuit</td>\n",
       "      <td>No</td>\n",
       "    </tr>\n",
       "    <tr>\n",
       "      <th>3</th>\n",
       "      <td>Yes</td>\n",
       "      <td>4</td>\n",
       "      <td>Chocolate</td>\n",
       "      <td>Yes</td>\n",
       "    </tr>\n",
       "    <tr>\n",
       "      <th>4</th>\n",
       "      <td>No</td>\n",
       "      <td>0</td>\n",
       "      <td>Coffee</td>\n",
       "      <td>No</td>\n",
       "    </tr>\n",
       "    <tr>\n",
       "      <th>5</th>\n",
       "      <td>Yes</td>\n",
       "      <td>3</td>\n",
       "      <td>Bread</td>\n",
       "      <td>Yes</td>\n",
       "    </tr>\n",
       "    <tr>\n",
       "      <th>6</th>\n",
       "      <td>Yes</td>\n",
       "      <td>7</td>\n",
       "      <td>Egg</td>\n",
       "      <td>Yes</td>\n",
       "    </tr>\n",
       "  </tbody>\n",
       "</table>\n",
       "</div>"
      ],
      "text/plain": [
       "  Purchase  QTY    Product Discount\n",
       "0      Yes    2       Milk      Yes\n",
       "1      Yes    5      Sugar       No\n",
       "2       No   17    Biscuit       No\n",
       "3      Yes    4  Chocolate      Yes\n",
       "4       No    0     Coffee       No\n",
       "5      Yes    3      Bread      Yes\n",
       "6      Yes    7        Egg      Yes"
      ]
     },
     "execution_count": 173,
     "metadata": {},
     "output_type": "execute_result"
    }
   ],
   "source": [
    "df = pd.DataFrame(df)\n",
    "df"
   ]
  },
  {
   "cell_type": "code",
   "execution_count": 174,
   "id": "f540a3d5",
   "metadata": {},
   "outputs": [],
   "source": [
    "# Leaky predictors\n",
    "\n",
    "# if features not available during testing / prediction, the model will fail"
   ]
  },
  {
   "cell_type": "code",
   "execution_count": 175,
   "id": "d18cdc8d",
   "metadata": {},
   "outputs": [],
   "source": [
    "from sklearn.preprocessing import LabelEncoder"
   ]
  },
  {
   "cell_type": "code",
   "execution_count": 176,
   "id": "2f82901a",
   "metadata": {},
   "outputs": [],
   "source": [
    "le = LabelEncoder()\n",
    "\n",
    "purch = le.fit_transform(df['Purchase'])\n",
    "dst = le.fit_transform(df['Discount'])\n",
    "pdt = le.fit_transform(df['Product'])\n",
    "\n",
    "df['Purchase'] = purch\n",
    "df['Discount'] = dst\n",
    "df['Product'] = pdt"
   ]
  },
  {
   "cell_type": "code",
   "execution_count": 177,
   "id": "35d49ecf",
   "metadata": {},
   "outputs": [
    {
     "data": {
      "text/html": [
       "<div>\n",
       "<style scoped>\n",
       "    .dataframe tbody tr th:only-of-type {\n",
       "        vertical-align: middle;\n",
       "    }\n",
       "\n",
       "    .dataframe tbody tr th {\n",
       "        vertical-align: top;\n",
       "    }\n",
       "\n",
       "    .dataframe thead th {\n",
       "        text-align: right;\n",
       "    }\n",
       "</style>\n",
       "<table border=\"1\" class=\"dataframe\">\n",
       "  <thead>\n",
       "    <tr style=\"text-align: right;\">\n",
       "      <th></th>\n",
       "      <th>Purchase</th>\n",
       "      <th>QTY</th>\n",
       "      <th>Product</th>\n",
       "      <th>Discount</th>\n",
       "    </tr>\n",
       "  </thead>\n",
       "  <tbody>\n",
       "    <tr>\n",
       "      <th>0</th>\n",
       "      <td>1</td>\n",
       "      <td>2</td>\n",
       "      <td>5</td>\n",
       "      <td>1</td>\n",
       "    </tr>\n",
       "    <tr>\n",
       "      <th>1</th>\n",
       "      <td>1</td>\n",
       "      <td>5</td>\n",
       "      <td>6</td>\n",
       "      <td>0</td>\n",
       "    </tr>\n",
       "    <tr>\n",
       "      <th>2</th>\n",
       "      <td>0</td>\n",
       "      <td>17</td>\n",
       "      <td>0</td>\n",
       "      <td>0</td>\n",
       "    </tr>\n",
       "    <tr>\n",
       "      <th>3</th>\n",
       "      <td>1</td>\n",
       "      <td>4</td>\n",
       "      <td>2</td>\n",
       "      <td>1</td>\n",
       "    </tr>\n",
       "    <tr>\n",
       "      <th>4</th>\n",
       "      <td>0</td>\n",
       "      <td>0</td>\n",
       "      <td>3</td>\n",
       "      <td>0</td>\n",
       "    </tr>\n",
       "    <tr>\n",
       "      <th>5</th>\n",
       "      <td>1</td>\n",
       "      <td>3</td>\n",
       "      <td>1</td>\n",
       "      <td>1</td>\n",
       "    </tr>\n",
       "    <tr>\n",
       "      <th>6</th>\n",
       "      <td>1</td>\n",
       "      <td>7</td>\n",
       "      <td>4</td>\n",
       "      <td>1</td>\n",
       "    </tr>\n",
       "  </tbody>\n",
       "</table>\n",
       "</div>"
      ],
      "text/plain": [
       "   Purchase  QTY  Product  Discount\n",
       "0         1    2        5         1\n",
       "1         1    5        6         0\n",
       "2         0   17        0         0\n",
       "3         1    4        2         1\n",
       "4         0    0        3         0\n",
       "5         1    3        1         1\n",
       "6         1    7        4         1"
      ]
     },
     "execution_count": 177,
     "metadata": {},
     "output_type": "execute_result"
    }
   ],
   "source": [
    "df"
   ]
  },
  {
   "cell_type": "code",
   "execution_count": 178,
   "id": "b6f19136",
   "metadata": {},
   "outputs": [
    {
     "data": {
      "text/html": [
       "<div>\n",
       "<style scoped>\n",
       "    .dataframe tbody tr th:only-of-type {\n",
       "        vertical-align: middle;\n",
       "    }\n",
       "\n",
       "    .dataframe tbody tr th {\n",
       "        vertical-align: top;\n",
       "    }\n",
       "\n",
       "    .dataframe thead th {\n",
       "        text-align: right;\n",
       "    }\n",
       "</style>\n",
       "<table border=\"1\" class=\"dataframe\">\n",
       "  <thead>\n",
       "    <tr style=\"text-align: right;\">\n",
       "      <th></th>\n",
       "      <th>Purchase</th>\n",
       "      <th>QTY</th>\n",
       "      <th>Product</th>\n",
       "      <th>Discount</th>\n",
       "    </tr>\n",
       "  </thead>\n",
       "  <tbody>\n",
       "    <tr>\n",
       "      <th>Purchase</th>\n",
       "      <td>1.000000</td>\n",
       "      <td>-0.377135</td>\n",
       "      <td>4.743416e-01</td>\n",
       "      <td>7.302967e-01</td>\n",
       "    </tr>\n",
       "    <tr>\n",
       "      <th>QTY</th>\n",
       "      <td>-0.377135</td>\n",
       "      <td>1.000000</td>\n",
       "      <td>-4.853627e-01</td>\n",
       "      <td>-3.202563e-01</td>\n",
       "    </tr>\n",
       "    <tr>\n",
       "      <th>Product</th>\n",
       "      <td>0.474342</td>\n",
       "      <td>-0.485363</td>\n",
       "      <td>1.000000e+00</td>\n",
       "      <td>-1.602469e-17</td>\n",
       "    </tr>\n",
       "    <tr>\n",
       "      <th>Discount</th>\n",
       "      <td>0.730297</td>\n",
       "      <td>-0.320256</td>\n",
       "      <td>-1.602469e-17</td>\n",
       "      <td>1.000000e+00</td>\n",
       "    </tr>\n",
       "  </tbody>\n",
       "</table>\n",
       "</div>"
      ],
      "text/plain": [
       "          Purchase       QTY       Product      Discount\n",
       "Purchase  1.000000 -0.377135  4.743416e-01  7.302967e-01\n",
       "QTY      -0.377135  1.000000 -4.853627e-01 -3.202563e-01\n",
       "Product   0.474342 -0.485363  1.000000e+00 -1.602469e-17\n",
       "Discount  0.730297 -0.320256 -1.602469e-17  1.000000e+00"
      ]
     },
     "execution_count": 178,
     "metadata": {},
     "output_type": "execute_result"
    }
   ],
   "source": [
    "df.corr()"
   ]
  },
  {
   "cell_type": "code",
   "execution_count": 182,
   "id": "76fbbc93",
   "metadata": {},
   "outputs": [],
   "source": [
    "## Data Preprocessing Approaches\n",
    "\n",
    "# Approach 1 --> Applying Standardization before splitting - Wrong\n",
    "# Approach 2 --> Applying Standardization after splitting - Correct"
   ]
  },
  {
   "cell_type": "code",
   "execution_count": 183,
   "id": "495c58d7",
   "metadata": {},
   "outputs": [],
   "source": [
    "# Split the dataset into training and testing sets\n",
    "# Perform Data Preparation on training set\n",
    "# Fit the model on the training set\n",
    "# Evaluate models on the test/validation sets"
   ]
  },
  {
   "cell_type": "code",
   "execution_count": 201,
   "id": "5a083dce",
   "metadata": {},
   "outputs": [],
   "source": [
    "from sklearn.datasets import make_classification\n",
    "\n",
    "# define dataset\n",
    "X,y = make_classification(n_samples=1000,n_features=10)"
   ]
  },
  {
   "cell_type": "code",
   "execution_count": 202,
   "id": "03b3124a",
   "metadata": {},
   "outputs": [
    {
     "name": "stdout",
     "output_type": "stream",
     "text": [
      "(1000, 10) (1000,)\n"
     ]
    }
   ],
   "source": [
    "print(X.shape,y.shape)"
   ]
  },
  {
   "cell_type": "code",
   "execution_count": 188,
   "id": "08bf75e2",
   "metadata": {},
   "outputs": [],
   "source": [
    "# Approach 1 - Incorrect Method"
   ]
  },
  {
   "cell_type": "code",
   "execution_count": 186,
   "id": "c949ef3f",
   "metadata": {},
   "outputs": [],
   "source": [
    "from sklearn.preprocessing import MinMaxScaler"
   ]
  },
  {
   "cell_type": "code",
   "execution_count": 203,
   "id": "6d74e669",
   "metadata": {},
   "outputs": [],
   "source": [
    "scaler = MinMaxScaler()\n",
    "\n",
    "X = scaler.fit_transform(X)"
   ]
  },
  {
   "cell_type": "code",
   "execution_count": 204,
   "id": "72346fdf",
   "metadata": {},
   "outputs": [],
   "source": [
    "from sklearn.model_selection import train_test_split"
   ]
  },
  {
   "cell_type": "code",
   "execution_count": 205,
   "id": "3c185c57",
   "metadata": {},
   "outputs": [
    {
     "data": {
      "text/html": [
       "<style>#sk-container-id-8 {color: black;background-color: white;}#sk-container-id-8 pre{padding: 0;}#sk-container-id-8 div.sk-toggleable {background-color: white;}#sk-container-id-8 label.sk-toggleable__label {cursor: pointer;display: block;width: 100%;margin-bottom: 0;padding: 0.3em;box-sizing: border-box;text-align: center;}#sk-container-id-8 label.sk-toggleable__label-arrow:before {content: \"▸\";float: left;margin-right: 0.25em;color: #696969;}#sk-container-id-8 label.sk-toggleable__label-arrow:hover:before {color: black;}#sk-container-id-8 div.sk-estimator:hover label.sk-toggleable__label-arrow:before {color: black;}#sk-container-id-8 div.sk-toggleable__content {max-height: 0;max-width: 0;overflow: hidden;text-align: left;background-color: #f0f8ff;}#sk-container-id-8 div.sk-toggleable__content pre {margin: 0.2em;color: black;border-radius: 0.25em;background-color: #f0f8ff;}#sk-container-id-8 input.sk-toggleable__control:checked~div.sk-toggleable__content {max-height: 200px;max-width: 100%;overflow: auto;}#sk-container-id-8 input.sk-toggleable__control:checked~label.sk-toggleable__label-arrow:before {content: \"▾\";}#sk-container-id-8 div.sk-estimator input.sk-toggleable__control:checked~label.sk-toggleable__label {background-color: #d4ebff;}#sk-container-id-8 div.sk-label input.sk-toggleable__control:checked~label.sk-toggleable__label {background-color: #d4ebff;}#sk-container-id-8 input.sk-hidden--visually {border: 0;clip: rect(1px 1px 1px 1px);clip: rect(1px, 1px, 1px, 1px);height: 1px;margin: -1px;overflow: hidden;padding: 0;position: absolute;width: 1px;}#sk-container-id-8 div.sk-estimator {font-family: monospace;background-color: #f0f8ff;border: 1px dotted black;border-radius: 0.25em;box-sizing: border-box;margin-bottom: 0.5em;}#sk-container-id-8 div.sk-estimator:hover {background-color: #d4ebff;}#sk-container-id-8 div.sk-parallel-item::after {content: \"\";width: 100%;border-bottom: 1px solid gray;flex-grow: 1;}#sk-container-id-8 div.sk-label:hover label.sk-toggleable__label {background-color: #d4ebff;}#sk-container-id-8 div.sk-serial::before {content: \"\";position: absolute;border-left: 1px solid gray;box-sizing: border-box;top: 0;bottom: 0;left: 50%;z-index: 0;}#sk-container-id-8 div.sk-serial {display: flex;flex-direction: column;align-items: center;background-color: white;padding-right: 0.2em;padding-left: 0.2em;position: relative;}#sk-container-id-8 div.sk-item {position: relative;z-index: 1;}#sk-container-id-8 div.sk-parallel {display: flex;align-items: stretch;justify-content: center;background-color: white;position: relative;}#sk-container-id-8 div.sk-item::before, #sk-container-id-8 div.sk-parallel-item::before {content: \"\";position: absolute;border-left: 1px solid gray;box-sizing: border-box;top: 0;bottom: 0;left: 50%;z-index: -1;}#sk-container-id-8 div.sk-parallel-item {display: flex;flex-direction: column;z-index: 1;position: relative;background-color: white;}#sk-container-id-8 div.sk-parallel-item:first-child::after {align-self: flex-end;width: 50%;}#sk-container-id-8 div.sk-parallel-item:last-child::after {align-self: flex-start;width: 50%;}#sk-container-id-8 div.sk-parallel-item:only-child::after {width: 0;}#sk-container-id-8 div.sk-dashed-wrapped {border: 1px dashed gray;margin: 0 0.4em 0.5em 0.4em;box-sizing: border-box;padding-bottom: 0.4em;background-color: white;}#sk-container-id-8 div.sk-label label {font-family: monospace;font-weight: bold;display: inline-block;line-height: 1.2em;}#sk-container-id-8 div.sk-label-container {text-align: center;}#sk-container-id-8 div.sk-container {/* jupyter's `normalize.less` sets `[hidden] { display: none; }` but bootstrap.min.css set `[hidden] { display: none !important; }` so we also need the `!important` here to be able to override the default hidden behavior on the sphinx rendered scikit-learn.org. See: https://github.com/scikit-learn/scikit-learn/issues/21755 */display: inline-block !important;position: relative;}#sk-container-id-8 div.sk-text-repr-fallback {display: none;}</style><div id=\"sk-container-id-8\" class=\"sk-top-container\"><div class=\"sk-text-repr-fallback\"><pre>LogisticRegression()</pre><b>In a Jupyter environment, please rerun this cell to show the HTML representation or trust the notebook. <br />On GitHub, the HTML representation is unable to render, please try loading this page with nbviewer.org.</b></div><div class=\"sk-container\" hidden><div class=\"sk-item\"><div class=\"sk-estimator sk-toggleable\"><input class=\"sk-toggleable__control sk-hidden--visually\" id=\"sk-estimator-id-8\" type=\"checkbox\" checked><label for=\"sk-estimator-id-8\" class=\"sk-toggleable__label sk-toggleable__label-arrow\">LogisticRegression</label><div class=\"sk-toggleable__content\"><pre>LogisticRegression()</pre></div></div></div></div></div>"
      ],
      "text/plain": [
       "LogisticRegression()"
      ]
     },
     "execution_count": 205,
     "metadata": {},
     "output_type": "execute_result"
    }
   ],
   "source": [
    "Xtrain, Xtest, Ytrain, Ytest = train_test_split(X,y,test_size=0.2,random_state=50)\n",
    "\n",
    "from sklearn.linear_model import LogisticRegression\n",
    "\n",
    "model = LogisticRegression()\n",
    "\n",
    "model.fit(Xtrain,Ytrain)"
   ]
  },
  {
   "cell_type": "code",
   "execution_count": 206,
   "id": "4d3575dc",
   "metadata": {},
   "outputs": [],
   "source": [
    "from sklearn.metrics import accuracy_score"
   ]
  },
  {
   "cell_type": "code",
   "execution_count": 207,
   "id": "f3316dbe",
   "metadata": {},
   "outputs": [
    {
     "data": {
      "text/plain": [
       "0.955"
      ]
     },
     "execution_count": 207,
     "metadata": {},
     "output_type": "execute_result"
    }
   ],
   "source": [
    "accuracy_score(Ytest,model.predict(Xtest))"
   ]
  },
  {
   "cell_type": "code",
   "execution_count": 208,
   "id": "de8e5248",
   "metadata": {},
   "outputs": [
    {
     "data": {
      "text/plain": [
       "0.9175"
      ]
     },
     "execution_count": 208,
     "metadata": {},
     "output_type": "execute_result"
    }
   ],
   "source": [
    "accuracy_score(Ytrain,model.predict(Xtrain))"
   ]
  },
  {
   "cell_type": "code",
   "execution_count": 193,
   "id": "233a56da",
   "metadata": {},
   "outputs": [],
   "source": [
    "# Approach 1 - Correct Method"
   ]
  },
  {
   "cell_type": "code",
   "execution_count": 194,
   "id": "d0e4428e",
   "metadata": {},
   "outputs": [],
   "source": [
    "# define dataset\n",
    "X,y = make_classification(n_samples=1000,n_features=10)\n",
    "Xtrain, Xtest, Ytrain, Ytest = train_test_split(X,y,test_size=0.2,random_state=50)\n",
    "\n",
    "\n",
    "Xtrain = scaler.fit_transform(Xtrain)"
   ]
  },
  {
   "cell_type": "code",
   "execution_count": 195,
   "id": "e2cbf2d1",
   "metadata": {},
   "outputs": [],
   "source": [
    "Xtest = scaler.transform(Xtest)"
   ]
  },
  {
   "cell_type": "code",
   "execution_count": 196,
   "id": "a4f3943a",
   "metadata": {},
   "outputs": [
    {
     "data": {
      "text/html": [
       "<style>#sk-container-id-7 {color: black;background-color: white;}#sk-container-id-7 pre{padding: 0;}#sk-container-id-7 div.sk-toggleable {background-color: white;}#sk-container-id-7 label.sk-toggleable__label {cursor: pointer;display: block;width: 100%;margin-bottom: 0;padding: 0.3em;box-sizing: border-box;text-align: center;}#sk-container-id-7 label.sk-toggleable__label-arrow:before {content: \"▸\";float: left;margin-right: 0.25em;color: #696969;}#sk-container-id-7 label.sk-toggleable__label-arrow:hover:before {color: black;}#sk-container-id-7 div.sk-estimator:hover label.sk-toggleable__label-arrow:before {color: black;}#sk-container-id-7 div.sk-toggleable__content {max-height: 0;max-width: 0;overflow: hidden;text-align: left;background-color: #f0f8ff;}#sk-container-id-7 div.sk-toggleable__content pre {margin: 0.2em;color: black;border-radius: 0.25em;background-color: #f0f8ff;}#sk-container-id-7 input.sk-toggleable__control:checked~div.sk-toggleable__content {max-height: 200px;max-width: 100%;overflow: auto;}#sk-container-id-7 input.sk-toggleable__control:checked~label.sk-toggleable__label-arrow:before {content: \"▾\";}#sk-container-id-7 div.sk-estimator input.sk-toggleable__control:checked~label.sk-toggleable__label {background-color: #d4ebff;}#sk-container-id-7 div.sk-label input.sk-toggleable__control:checked~label.sk-toggleable__label {background-color: #d4ebff;}#sk-container-id-7 input.sk-hidden--visually {border: 0;clip: rect(1px 1px 1px 1px);clip: rect(1px, 1px, 1px, 1px);height: 1px;margin: -1px;overflow: hidden;padding: 0;position: absolute;width: 1px;}#sk-container-id-7 div.sk-estimator {font-family: monospace;background-color: #f0f8ff;border: 1px dotted black;border-radius: 0.25em;box-sizing: border-box;margin-bottom: 0.5em;}#sk-container-id-7 div.sk-estimator:hover {background-color: #d4ebff;}#sk-container-id-7 div.sk-parallel-item::after {content: \"\";width: 100%;border-bottom: 1px solid gray;flex-grow: 1;}#sk-container-id-7 div.sk-label:hover label.sk-toggleable__label {background-color: #d4ebff;}#sk-container-id-7 div.sk-serial::before {content: \"\";position: absolute;border-left: 1px solid gray;box-sizing: border-box;top: 0;bottom: 0;left: 50%;z-index: 0;}#sk-container-id-7 div.sk-serial {display: flex;flex-direction: column;align-items: center;background-color: white;padding-right: 0.2em;padding-left: 0.2em;position: relative;}#sk-container-id-7 div.sk-item {position: relative;z-index: 1;}#sk-container-id-7 div.sk-parallel {display: flex;align-items: stretch;justify-content: center;background-color: white;position: relative;}#sk-container-id-7 div.sk-item::before, #sk-container-id-7 div.sk-parallel-item::before {content: \"\";position: absolute;border-left: 1px solid gray;box-sizing: border-box;top: 0;bottom: 0;left: 50%;z-index: -1;}#sk-container-id-7 div.sk-parallel-item {display: flex;flex-direction: column;z-index: 1;position: relative;background-color: white;}#sk-container-id-7 div.sk-parallel-item:first-child::after {align-self: flex-end;width: 50%;}#sk-container-id-7 div.sk-parallel-item:last-child::after {align-self: flex-start;width: 50%;}#sk-container-id-7 div.sk-parallel-item:only-child::after {width: 0;}#sk-container-id-7 div.sk-dashed-wrapped {border: 1px dashed gray;margin: 0 0.4em 0.5em 0.4em;box-sizing: border-box;padding-bottom: 0.4em;background-color: white;}#sk-container-id-7 div.sk-label label {font-family: monospace;font-weight: bold;display: inline-block;line-height: 1.2em;}#sk-container-id-7 div.sk-label-container {text-align: center;}#sk-container-id-7 div.sk-container {/* jupyter's `normalize.less` sets `[hidden] { display: none; }` but bootstrap.min.css set `[hidden] { display: none !important; }` so we also need the `!important` here to be able to override the default hidden behavior on the sphinx rendered scikit-learn.org. See: https://github.com/scikit-learn/scikit-learn/issues/21755 */display: inline-block !important;position: relative;}#sk-container-id-7 div.sk-text-repr-fallback {display: none;}</style><div id=\"sk-container-id-7\" class=\"sk-top-container\"><div class=\"sk-text-repr-fallback\"><pre>LogisticRegression()</pre><b>In a Jupyter environment, please rerun this cell to show the HTML representation or trust the notebook. <br />On GitHub, the HTML representation is unable to render, please try loading this page with nbviewer.org.</b></div><div class=\"sk-container\" hidden><div class=\"sk-item\"><div class=\"sk-estimator sk-toggleable\"><input class=\"sk-toggleable__control sk-hidden--visually\" id=\"sk-estimator-id-7\" type=\"checkbox\" checked><label for=\"sk-estimator-id-7\" class=\"sk-toggleable__label sk-toggleable__label-arrow\">LogisticRegression</label><div class=\"sk-toggleable__content\"><pre>LogisticRegression()</pre></div></div></div></div></div>"
      ],
      "text/plain": [
       "LogisticRegression()"
      ]
     },
     "execution_count": 196,
     "metadata": {},
     "output_type": "execute_result"
    }
   ],
   "source": [
    "model.fit(Xtrain,Ytrain)"
   ]
  },
  {
   "cell_type": "code",
   "execution_count": 198,
   "id": "8570e039",
   "metadata": {},
   "outputs": [
    {
     "data": {
      "text/plain": [
       "0.8975"
      ]
     },
     "execution_count": 198,
     "metadata": {},
     "output_type": "execute_result"
    }
   ],
   "source": [
    "model.score(Xtrain,Ytrain)"
   ]
  },
  {
   "cell_type": "code",
   "execution_count": 199,
   "id": "427daca3",
   "metadata": {},
   "outputs": [
    {
     "data": {
      "text/plain": [
       "0.88"
      ]
     },
     "execution_count": 199,
     "metadata": {},
     "output_type": "execute_result"
    }
   ],
   "source": [
    "model.score(Xtest,Ytest)"
   ]
  },
  {
   "cell_type": "code",
   "execution_count": 209,
   "id": "1a49b121",
   "metadata": {},
   "outputs": [],
   "source": [
    "## Data Preprocessing Cross Validation"
   ]
  },
  {
   "cell_type": "code",
   "execution_count": null,
   "id": "3843df11",
   "metadata": {},
   "outputs": [],
   "source": [
    "# Approach 1 - Incorrect way"
   ]
  },
  {
   "cell_type": "code",
   "execution_count": 211,
   "id": "f913f075",
   "metadata": {},
   "outputs": [],
   "source": [
    "X,y = make_classification(n_samples=1000,n_features=10,n_informative=8,n_redundant=2,random_state=20)\n",
    "\n",
    "scaler = MinMaxScaler()\n",
    "X = scaler.fit_transform(X)"
   ]
  },
  {
   "cell_type": "code",
   "execution_count": 212,
   "id": "22472cbb",
   "metadata": {},
   "outputs": [],
   "source": [
    "from sklearn.model_selection import cross_val_score,RepeatedStratifiedKFold\n",
    "\n",
    "# define the evaluation procedure\n",
    "cv = RepeatedStratifiedKFold(n_splits=10,n_repeats=5,random_state=50)\n",
    "\n",
    "# evaluate the model using cross validation\n",
    "scores = cross_val_score(model,X,y,scoring='accuracy',cv=cv,n_jobs=1)"
   ]
  },
  {
   "cell_type": "code",
   "execution_count": 217,
   "id": "38ee2d0a",
   "metadata": {},
   "outputs": [
    {
     "data": {
      "text/plain": [
       "array([0.88, 0.87, 0.87, 0.89, 0.85, 0.9 , 0.91, 0.92, 0.9 , 0.9 , 0.88,\n",
       "       0.88, 0.87, 0.89, 0.91, 0.9 , 0.91, 0.88, 0.82, 0.92, 0.9 , 0.85,\n",
       "       0.94, 0.89, 0.87, 0.86, 0.87, 0.88, 0.89, 0.92, 0.93, 0.87, 0.87,\n",
       "       0.94, 0.91, 0.91, 0.9 , 0.8 , 0.87, 0.88, 0.9 , 0.93, 0.87, 0.84,\n",
       "       0.9 , 0.92, 0.93, 0.85, 0.84, 0.9 ])"
      ]
     },
     "execution_count": 217,
     "metadata": {},
     "output_type": "execute_result"
    }
   ],
   "source": [
    "scores"
   ]
  },
  {
   "cell_type": "code",
   "execution_count": 215,
   "id": "c21abd65",
   "metadata": {},
   "outputs": [
    {
     "data": {
      "text/plain": [
       "88.76"
      ]
     },
     "execution_count": 215,
     "metadata": {},
     "output_type": "execute_result"
    }
   ],
   "source": [
    "np.mean(scores) * 100"
   ]
  },
  {
   "cell_type": "code",
   "execution_count": 218,
   "id": "a4aebb7f",
   "metadata": {},
   "outputs": [],
   "source": [
    "# Approach 2 - Correct way\n",
    "\n",
    "# We use a pipeline"
   ]
  },
  {
   "cell_type": "code",
   "execution_count": 216,
   "id": "372f12f9",
   "metadata": {},
   "outputs": [],
   "source": [
    "X,y = make_classification(n_samples=1000,n_features=10,n_informative=8,n_redundant=2,random_state=20)\n",
    "\n",
    "scaler = MinMaxScaler()"
   ]
  },
  {
   "cell_type": "code",
   "execution_count": 219,
   "id": "1896ac65",
   "metadata": {},
   "outputs": [],
   "source": [
    "from sklearn.pipeline import Pipeline"
   ]
  },
  {
   "cell_type": "code",
   "execution_count": 220,
   "id": "7b010755",
   "metadata": {},
   "outputs": [],
   "source": [
    "steps = list()\n",
    "\n",
    "steps.append(('scaler',MinMaxScaler()))\n",
    "steps.append(('model',LogisticRegression()))\n",
    "pipeline= Pipeline(steps=steps)"
   ]
  },
  {
   "cell_type": "code",
   "execution_count": 221,
   "id": "282e4a66",
   "metadata": {},
   "outputs": [],
   "source": [
    "# define the evaluation procedure\n",
    "cv = RepeatedStratifiedKFold(n_splits=10,n_repeats=5,random_state=50)\n",
    "\n",
    "# evaluate the model using cross validation\n",
    "scores = cross_val_score(pipeline,X,y,scoring='accuracy',cv=cv,n_jobs=1)"
   ]
  },
  {
   "cell_type": "code",
   "execution_count": 222,
   "id": "c3a5be53",
   "metadata": {},
   "outputs": [
    {
     "data": {
      "text/plain": [
       "88.64"
      ]
     },
     "execution_count": 222,
     "metadata": {},
     "output_type": "execute_result"
    }
   ],
   "source": [
    "np.mean(scores) * 100"
   ]
  }
 ],
 "metadata": {
  "kernelspec": {
   "display_name": "Python 3 (ipykernel)",
   "language": "python",
   "name": "python3"
  },
  "language_info": {
   "codemirror_mode": {
    "name": "ipython",
    "version": 3
   },
   "file_extension": ".py",
   "mimetype": "text/x-python",
   "name": "python",
   "nbconvert_exporter": "python",
   "pygments_lexer": "ipython3",
   "version": "3.9.7"
  }
 },
 "nbformat": 4,
 "nbformat_minor": 5
}
