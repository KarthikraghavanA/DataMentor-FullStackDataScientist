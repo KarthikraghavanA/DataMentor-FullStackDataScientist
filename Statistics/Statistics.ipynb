{
 "cells": [
  {
   "cell_type": "code",
   "execution_count": 1,
   "id": "368101b1",
   "metadata": {},
   "outputs": [
    {
     "data": {
      "text/plain": [
       "15.444444444444445"
      ]
     },
     "execution_count": 1,
     "metadata": {},
     "output_type": "execute_result"
    }
   ],
   "source": [
    "data = [16,17,10,13,20,18,13,14,18]\n",
    "\n",
    "import numpy as np\n",
    "\n",
    "np.mean(data)"
   ]
  },
  {
   "cell_type": "code",
   "execution_count": 2,
   "id": "3099aa7d",
   "metadata": {},
   "outputs": [
    {
     "data": {
      "text/plain": [
       "16.0"
      ]
     },
     "execution_count": 2,
     "metadata": {},
     "output_type": "execute_result"
    }
   ],
   "source": [
    "np.median(data)"
   ]
  },
  {
   "cell_type": "code",
   "execution_count": 3,
   "id": "151f134a",
   "metadata": {},
   "outputs": [],
   "source": [
    "new_data = [1,3,6,2,67,100,5,7]"
   ]
  },
  {
   "cell_type": "code",
   "execution_count": 4,
   "id": "76a06fc7",
   "metadata": {},
   "outputs": [
    {
     "data": {
      "text/plain": [
       "23.875"
      ]
     },
     "execution_count": 4,
     "metadata": {},
     "output_type": "execute_result"
    }
   ],
   "source": [
    "np.mean(new_data)"
   ]
  },
  {
   "cell_type": "code",
   "execution_count": 5,
   "id": "a502a4e4",
   "metadata": {},
   "outputs": [
    {
     "data": {
      "text/plain": [
       "5.5"
      ]
     },
     "execution_count": 5,
     "metadata": {},
     "output_type": "execute_result"
    }
   ],
   "source": [
    "np.median(new_data)"
   ]
  },
  {
   "cell_type": "code",
   "execution_count": 10,
   "id": "eec6900d",
   "metadata": {},
   "outputs": [],
   "source": [
    "new_data = [25,27,27,29,25]"
   ]
  },
  {
   "cell_type": "code",
   "execution_count": 11,
   "id": "85152be5",
   "metadata": {},
   "outputs": [
    {
     "data": {
      "text/plain": [
       "26.6"
      ]
     },
     "execution_count": 11,
     "metadata": {},
     "output_type": "execute_result"
    }
   ],
   "source": [
    "np.mean(new_data)"
   ]
  },
  {
   "cell_type": "code",
   "execution_count": 13,
   "id": "a8ce7ce1",
   "metadata": {},
   "outputs": [
    {
     "data": {
      "text/plain": [
       "27.0"
      ]
     },
     "execution_count": 13,
     "metadata": {},
     "output_type": "execute_result"
    }
   ],
   "source": [
    "np.median(new_data)"
   ]
  },
  {
   "cell_type": "code",
   "execution_count": 7,
   "id": "53df81d7",
   "metadata": {},
   "outputs": [],
   "source": [
    "new_data2 = [25,27,27,29,250]"
   ]
  },
  {
   "cell_type": "code",
   "execution_count": 8,
   "id": "03706e13",
   "metadata": {},
   "outputs": [
    {
     "data": {
      "text/plain": [
       "71.6"
      ]
     },
     "execution_count": 8,
     "metadata": {},
     "output_type": "execute_result"
    }
   ],
   "source": [
    "np.mean(new_data2)"
   ]
  },
  {
   "cell_type": "code",
   "execution_count": 9,
   "id": "1695d521",
   "metadata": {},
   "outputs": [
    {
     "data": {
      "text/plain": [
       "27.0"
      ]
     },
     "execution_count": 9,
     "metadata": {},
     "output_type": "execute_result"
    }
   ],
   "source": [
    "np.median(new_data2)"
   ]
  },
  {
   "cell_type": "code",
   "execution_count": 15,
   "id": "d4c82840",
   "metadata": {},
   "outputs": [],
   "source": [
    "# Means is affected by outliers\n",
    "# Median and Mode is not affected by outliers"
   ]
  },
  {
   "cell_type": "code",
   "execution_count": 18,
   "id": "b6aff98d",
   "metadata": {},
   "outputs": [
    {
     "data": {
      "text/plain": [
       "89.20896815903656"
      ]
     },
     "execution_count": 18,
     "metadata": {},
     "output_type": "execute_result"
    }
   ],
   "source": [
    "np.std(new_data2) # Standard Deviation"
   ]
  },
  {
   "cell_type": "code",
   "execution_count": 19,
   "id": "aaa3edd3",
   "metadata": {},
   "outputs": [
    {
     "data": {
      "text/plain": [
       "7958.239999999999"
      ]
     },
     "execution_count": 19,
     "metadata": {},
     "output_type": "execute_result"
    }
   ],
   "source": [
    "np.square(np.std(new_data2)) # Variance"
   ]
  },
  {
   "cell_type": "markdown",
   "id": "d1b88ddc",
   "metadata": {},
   "source": [
    "#### COEFFICIENT OF VARIATION"
   ]
  },
  {
   "cell_type": "code",
   "execution_count": 21,
   "id": "fef062c8",
   "metadata": {},
   "outputs": [
    {
     "data": {
      "text/plain": [
       "0.08035714285714286"
      ]
     },
     "execution_count": 21,
     "metadata": {},
     "output_type": "execute_result"
    }
   ],
   "source": [
    "18/224"
   ]
  },
  {
   "cell_type": "code",
   "execution_count": 22,
   "id": "55f7c276",
   "metadata": {},
   "outputs": [
    {
     "data": {
      "text/plain": [
       "0.06153846153846154"
      ]
     },
     "execution_count": 22,
     "metadata": {},
     "output_type": "execute_result"
    }
   ],
   "source": [
    "12/195"
   ]
  },
  {
   "cell_type": "code",
   "execution_count": 24,
   "id": "01772670",
   "metadata": {},
   "outputs": [],
   "source": [
    "# lower the value, the closer the value"
   ]
  },
  {
   "cell_type": "markdown",
   "id": "1e97c123",
   "metadata": {},
   "source": [
    "#### CENTRAL LIMIT THEORM"
   ]
  },
  {
   "cell_type": "code",
   "execution_count": 26,
   "id": "3fc0183d",
   "metadata": {},
   "outputs": [
    {
     "name": "stdout",
     "output_type": "stream",
     "text": [
      "[6 4 5 1 2 4 6 1 1 2 5 6 5 2 3 5 6 3 5 4 5 3 5 6 3 5 2 2 1 6 2 2 6 2 2 1 5\n",
      " 2 1 1 6 4 3 2 1 4 6 2 2 4 5 1 2 4 5 3 5 1 6 4 2 3 1 5 2 3 3 2 1 2 4 6 5 4\n",
      " 6 2 4 1 1 3 3 2 4 5 3 1 1 2 2 6 4 1 1 6 6 5 6 3 5 4]\n"
     ]
    }
   ],
   "source": [
    "np.random.seed(1)\n",
    "\n",
    "rolls = np.random.randint(1,7,100)\n",
    "print(rolls)"
   ]
  },
  {
   "cell_type": "code",
   "execution_count": 29,
   "id": "93e8855b",
   "metadata": {},
   "outputs": [],
   "source": [
    "import matplotlib as mlt\n",
    "import matplotlib.pyplot as plt\n",
    "%matplotlib inline"
   ]
  },
  {
   "cell_type": "code",
   "execution_count": 30,
   "id": "f03dce24",
   "metadata": {},
   "outputs": [
    {
     "data": {
      "text/plain": [
       "(array([18.,  0., 22.,  0., 13.,  0., 14.,  0., 17., 16.]),\n",
       " array([1. , 1.5, 2. , 2.5, 3. , 3.5, 4. , 4.5, 5. , 5.5, 6. ]),\n",
       " <BarContainer object of 10 artists>)"
      ]
     },
     "execution_count": 30,
     "metadata": {},
     "output_type": "execute_result"
    },
    {
     "data": {
      "image/png": "[encoded data removed]",
      "text/plain": [
       "<Figure size 432x288 with 1 Axes>"
      ]
     },
     "metadata": {
      "needs_background": "light"
     },
     "output_type": "display_data"
    }
   ],
   "source": [
    "plt.hist(rolls)"
   ]
  },
  {
   "cell_type": "code",
   "execution_count": 33,
   "id": "f84c0641",
   "metadata": {},
   "outputs": [
    {
     "data": {
      "text/plain": [
       "(array([  18.,  144.,  573., 1720., 2632., 2694., 1581.,  506.,  118.,\n",
       "          14.]),\n",
       " array([2.88 , 3.006, 3.132, 3.258, 3.384, 3.51 , 3.636, 3.762, 3.888,\n",
       "        4.014, 4.14 ]),\n",
       " <BarContainer object of 10 artists>)"
      ]
     },
     "execution_count": 33,
     "metadata": {},
     "output_type": "execute_result"
    },
    {
     "data": {
      "image/png": "[encoded data removed]",
      "text/plain": [
       "<Figure size 432x288 with 1 Axes>"
      ]
     },
     "metadata": {
      "needs_background": "light"
     },
     "output_type": "display_data"
    }
   ],
   "source": [
    "means = [np.mean(np.random.randint(1,7,100)) for j in range(10000)]\n",
    "\n",
    "plt.hist(means)"
   ]
  },
  {
   "cell_type": "code",
   "execution_count": null,
   "id": "57d5906d",
   "metadata": {},
   "outputs": [],
   "source": []
  }
 ],
 "metadata": {
  "kernelspec": {
   "display_name": "Python 3 (ipykernel)",
   "language": "python",
   "name": "python3"
  },
  "language_info": {
   "codemirror_mode": {
    "name": "ipython",
    "version": 3
   },
   "file_extension": ".py",
   "mimetype": "text/x-python",
   "name": "python",
   "nbconvert_exporter": "python",
   "pygments_lexer": "ipython3",
   "version": "3.9.7"
  }
 },
 "nbformat": 4,
 "nbformat_minor": 5
}
